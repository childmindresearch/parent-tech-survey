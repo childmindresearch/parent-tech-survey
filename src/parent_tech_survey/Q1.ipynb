{
 "cells": [
  {
   "cell_type": "code",
   "execution_count": 44,
   "metadata": {},
   "outputs": [],
   "source": [
    "import pandas as pd\n",
    "from embeddings import get_embedding\n",
    "import json\n",
    "import numpy as np\n",
    "from scipy import spatial\n",
    "from scipy import stats\n",
    "import plotly.graph_objects as go\n",
    "import plotly.express as px\n",
    "import sklearn\n",
    "from sklearn.decomposition import PCA\n",
    "from sklearn.manifold import TSNE"
   ]
  },
  {
   "cell_type": "code",
   "execution_count": 45,
   "metadata": {},
   "outputs": [],
   "source": [
    "df = pd.read_csv('../../data/text_response_embeddings.csv')"
   ]
  },
  {
   "cell_type": "markdown",
   "metadata": {},
   "source": [
    "# Defining Social Media"
   ]
  },
  {
   "cell_type": "markdown",
   "metadata": {},
   "source": [
    "#### Definition presented to parents in survey:\n",
    "\n",
    "“Social media” is a broad term that refers to online platforms and apps that enable users to create profiles, interact with others, and share content, such as information, ideas, images, videos, and personal messages. These platforms allow individuals or groups to build communities, engage in discussions, and connect across different networks. Examples of social media include platforms like Facebook, Instagram, TikTok, Twitter (X), Snapchat, YouTube, and others. These platforms can be used for both personal and professional purposes, with features such as posting, commenting, messaging, and sharing content.\"\n"
   ]
  },
  {
   "cell_type": "code",
   "execution_count": 46,
   "metadata": {},
   "outputs": [
    {
     "name": "stdout",
     "output_type": "stream",
     "text": [
      "'Social media' is a broad term that refers to online platforms and apps that enable users to create profiles, interact with others, and share content, such as information, ideas, images, videos, and personal messages. These platforms allow individuals or groups to build communities, engage in discussions, and connect across different networks. Examples of social media include platforms like Facebook, Instagram, TikTok, Twitter (X), Snapchat, YouTube, and others. These platforms can be used for both personal and professional purposes, with features such as posting, commenting, messaging, and sharing content.\n"
     ]
    }
   ],
   "source": [
    "given_definition = \"'Social media' is a broad term that refers to online platforms and apps that enable users to create profiles, interact with others, and share content, such as information, ideas, images, videos, and personal messages. These platforms allow individuals or groups to build communities, engage in discussions, and connect across different networks. Examples of social media include platforms like Facebook, Instagram, TikTok, Twitter (X), Snapchat, YouTube, and others. These platforms can be used for both personal and professional purposes, with features such as posting, commenting, messaging, and sharing content.\"\n",
    "embedded_definition = get_embedding(given_definition)"
   ]
  },
  {
   "cell_type": "code",
   "execution_count": 47,
   "metadata": {},
   "outputs": [],
   "source": [
    "q1_embeddings = df['q1_embedding'].to_list()\n",
    "q1_embeddings = [json.loads(x) for x in q1_embeddings]"
   ]
  },
  {
   "cell_type": "markdown",
   "metadata": {},
   "source": [
    "### Agreement with definition and each other"
   ]
  },
  {
   "cell_type": "code",
   "execution_count": 48,
   "metadata": {},
   "outputs": [],
   "source": [
    "def get_similarity(embedding1, embedding2):\n",
    "    return 1 - spatial.distance.cosine(embedding1, embedding2)"
   ]
  },
  {
   "cell_type": "code",
   "execution_count": 49,
   "metadata": {},
   "outputs": [],
   "source": [
    "# cos sim to definition\n",
    "df['sim_to_def'] = [get_similarity(x, embedded_definition) for x in q1_embeddings]\n",
    "# mean cos sim to other responses\n",
    "mean_sims = []\n",
    "for x in q1_embeddings:\n",
    "    others = [e for e in q1_embeddings if e != x]\n",
    "    similarities = [get_similarity(x, e) for e in others]\n",
    "    mean_sim = np.mean(similarities)\n",
    "    mean_sims.append(mean_sim)\n",
    "df['mean_sim'] = mean_sims\n"
   ]
  },
  {
   "cell_type": "markdown",
   "metadata": {},
   "source": [
    "#### fig 1"
   ]
  },
  {
   "cell_type": "code",
   "execution_count": 72,
   "metadata": {},
   "outputs": [
    {
     "data": {
      "application/vnd.plotly.v1+json": {
       "config": {
        "plotlyServerURL": "https://plot.ly"
       },
       "data": [
        {
         "hoverinfo": "all",
         "marker": {
          "color": "cornflowerblue",
          "line": {
           "width": 1.5
          },
          "size": 5
         },
         "mode": "markers",
         "text": [
          "I would define social media to be consumption of videos or photos generated and shared by someone else. in addition to sharing and resharing of own and others' content.",
          "I would define social media as applications or websites where people can interact with others. where people can't discuss various topics or share media that they have made themselves",
          "A place for people to share and communicate everyday things",
          "Online access to friends and sharing with others",
          "A platform where one can express their thoughts and about your life with friends and with people you do not know.",
          "Any number of apps or sites that allow people to connect online. Either through personal accounts (i.e. Facebook/Instagram) or through videos and gaming platforms (i.e. TikTok).",
          "A platform people use to connect with friends and popular people they like.",
          "Just using online social networks like X or Reddit.",
          "A PLACE WHERE YOU MEET NEW PERSON AND EDUCATIVE",
          "I would define social media as anything that has a group of people that interact with one another. For example, Facebook, Twitter, Instagram, etc.",
          "Social media is a collection of apps and websites where people and companies create profiles to post content. People add photos, thoughts, videos and memes to share with each other.",
          "online abilities where you can interact with other people or react to videos of other people.",
          "Social networking with friends. Such as facebook and instagram. As well as Youtube.",
          "Any app that you can post on or view other people's posts.",
          "A place to exchange of information, ideas, and personal experiences.",
          "Programs where you can communicate with others. You can also watch videos and learn new subjects and play games.",
          "social media is a platform when there are variating ages to gather online.",
          "I would say that it is a mode of communication that is out in the open and allows people worldwide to discuss, and share information publicly or privately. It is a gateway to express yourself online or to be influenced by others.",
          "Social Media is a collection of online platforms which we use to interact with other people. We have the ability to create or share online content through social media.",
          "Places people go online to connect with friends and family like Facebook, Instagram, TikTok, Pinterest, Reddit, Rumble, YouTube, etc.",
          "Social media are online platforms that enable people to create, share, and interact with content and thus connect people in the network.",
          "It's online platforms that allows users to interact, share content including text.",
          "Social media refers to online platforms and tools that enable users to generate content for mutual sharing and communication with other people. These platforms facilitate users' benefits, allowing real-time communication, images, videos, and diverse multimedia content for communication, collaborative activities, and social networks. Some popular social media platforms include Facebook, Twitter, Instagram, and LinkedIn.",
          "its agood platform where our children gain knowlegde from.it also helps our children to know things that they do not know",
          "Social media can be bad for children because it influences them to think that they should be doing this or that just like the other people online. Social media can rot their brain.",
          "Social Media is an online opportunity to connect with others. It allows you to communicate and share information, pictures, and more.",
          "Social Media is the generic term for online platforms where people share personal photos, statements, etc. Some people enjoy sharing photos with friends and family, some people enjoy sharing photos seeking approval.",
          "Social media refers to online platforms and applications that enable users to create, share, and interact with content, as well as connect with others in virtual communities. These platforms allow users to exchange information, ideas, and media, fostering communication and collaboration across various networks. Examples include Facebook, Twitter, Instagram, and LinkedIn.",
          "Social media refers to the various modes of communication through online platforms.",
          "online forum for people to speak their minds",
          "apps used to connect people around the world",
          "I would define social media as any media that involves people interacting with one another via the internet. Examples included Facebook, Instagram, X, reddit, YouTube, etc.",
          "I would define social media as a tool used to interact with friends,family, and content creators",
          "Social media is a plate form that makes one very visible to the world and the current trend or activities going on worldwide and bringing people on a common platform to chart",
          "online websites like Facebook and Instagram end etc",
          "Social media is any kind of online interaction (whether in a web browser or mobile app) that involves two humans communicating.  It tends to be dynamic, and not fixed, reflecting sequential human interaction.  That may be a broad definition, but I think that even things like comments sections and forums are actually social media, whereas unilaterally and non-dynamic pages aren't really social media.",
          "we use it to see what friends of our child post. it lets our child stay in treding moments. set examples of good and bad post.",
          "apps for people to connect and share memories around the world",
          "social media to me means engaging socially online with others for communication,  resources, news, and entertainment.",
          "A place to connect with friends and family. An online site that shows pics or videos.",
          "social media refers to online platform that enable users to connect, interact and share their contents. people actively create and share content on social media platform.",
          "is a interactive space for information sharing and receiving among people of likely interest",
          "Social media is any app where people are connecting and posting personal things between each other",
          "Are interactive online sites to socialize, get entertained, get educated, share information among other things.",
          "Social media is any platform where people can post photos or text to share with others.",
          "online sites that interact with others",
          "Online platforms where people interact and share content with other people.",
          "Social media is an online platform that allow users to share their thoughts and ideas and connect with others.",
          "Online sites or games where people can socialize / chat",
          "Platforms used to engage and communicate with other people.",
          "Social media are platforms where people get to have a glimpse of other people's lives. It is also a platform where you can express yourself. It can also be a tool to get ideas on different things",
          "Online platforms where people can converse and share topics and ideas with each other.",
          "Social Media is a online platform where many people chat and share opinions and information.",
          "An online platform where people interact and share ideas",
          "interactive platforms where you can message, chat or otherwise interact with others rather than just consume or create content.",
          "anything like tiktok, reddit, Facebook etc. Roblox, fortnight when I allow them to talk to friends. that feature is usually locked down.",
          "a place on the Internet that people socialize. a group setting of friends and people of the same preferences. it's all just too much and fake.",
          "A tool that is used to connect with loved ones, society and what's going on in the world. Can be both a blessing and a curse- if used correctly it is very beneficial, but if used with malicious intent it can be a recipe for disaster.",
          "Social media refers to online platforms and digital tools that enable people to create, share, and engage with content, as well as communicate and interact with others. These platforms facilitate social networking, information exchange, and community building through various formats, including text, images, videos, and live streaming.",
          "Social media are digital platforms that allow people to communicate with one another and share online content. Social media platforms include apps and websites, such as Facebook, Instagram, and LinkedIn.",
          "Social media is any online platform that allows individuals to interact with others either directly (through chatting) or indirectly (through posting).",
          "A online community that is not safe. A place to shop and see recent trends.",
          "Social Media is any platform that allows for consumption of media.  Social Media is also any platform that allows for communication.",
          "A place where you can waste time, entertain yourself or document yourself and learn things, depending on what platform you use ad how you use them. Social Media nowadays is a mix of different things: there are a lot of fake news, but there is also entertaining and ways to unwind by reading news and comments from people from all over the world. It's a place to connect but also a place that will suck you in and make you waste a lot of time if you are not able to manage it well.",
          "it's like a social or online gathering where people meet and have access to a lot information regarding societal, cultural, religion, education and as well as other forms of bad behaviors",
          "Social media includes digital platforms and applications where users can produce and engage with different types of multimedia content. It serves as a space for people to network, share thoughts, and interact with others through services like Snapchat or LinkedIn.",
          "Social media includes apps like instagram where people post about their life. I would also include youtube where people vlog about different things",
          "Online app that lets you communicate with friends and like-minded people to share messages, stories, and photos.",
          "Social media is a way to communicate and or share things with others such as photos, and activities etc. social media has a variety of implementations to keep ones privacy protected.",
          "Facebook, twitter, tiktok",
          "Social media is a digital platform that allows people to create, share, and interact with content and other user.",
          "Social media is interactive apps that feature videos, images, and other content posted by individuals and creators. Viewers and users are able to connect, like, and comment on content.",
          "its a digital platforms and applications that enable users to create, share, and interact with content in real-time.",
          "Social Media refers to any online platform that people use as a means connecting and doing many other things.",
          "A platform that allows others to interact and post content for the viewing of friends and family.",
          "online platforms that enable users to create, share, and consume content",
          "Social media is an online platform for connecting, sharing, and communicating, but also requires responsible use to stay safe.",
          "social media is like a distraction for young ones to focus on the important things",
          "Apps that allow you to be in contact with people you know or follow.",
          "social media is a platform used to talk and share things with other people. it's a way to share media with people you do and do not know.",
          "Social media is a way people communicate with each other online. It is also used commercially and professionally by businesses and individuals to push, advertise, endorse products and services. It is a way to share thoughts, ideas, opinions, and keep up with the latest trends.",
          "Apps or online communication that allows them to communicate with other people outside of friendship or family circles.",
          "Social media is a digital platform that enables users to create, share and interact with content, fostering communications, collaboration, and community engagement worldwide.",
          "Social media refers to online platforms and applications that enable users to create, share, and interact with content in real time. It facilitates communication, networking, and engagement among individuals, communities, and organizations. Examples include platforms like Facebook, Twitter, Instagram, and LinkedIn.",
          "Social media forms of electronic communication through which users create online communities to share information, ideas, personal messages, and other content(as videos).",
          "Its a browsing space where people interact with one another.  Its a browsing space where people find a lot of different informtion",
          "Social Media is an online community where people can go to connect, and bond between similar interests. It is a place where long distance friends and family can stay closely together.",
          "It is a digital platform that allows users to create, share and interact with content ideas with people. It is a platform where users share updates, images, videos and messages and can also be used for communication and business.",
          "Social media refers to digital platforms and applications that enable users to interact with content in real-time.",
          "Social media forms of electronic communication through which users create online communities to share information, ideas, personal messages, and other content.",
          "social media is medium where you interact with family and frends",
          "It's a double-edged sword: great for staying connected but also a huge time-waster if you're not careful.",
          "If  it use for good things its a good platform but it has equal bad things. It depends on what we use.",
          "Social media is your personal stage, newsfeed, and community board all rolled into one.",
          "Social media is the communication tool to connect people with each other for sharing and chatting online. For example Facebook, Instagram, TikTok, and so on where you can upload pictures, videos, and messages",
          "An online platform that allows you to communicate with others.",
          "Social media is actually a good place, you can learn a lot and can also affect you if you mismanage it",
          "Social media can be a good and a bad place depending on how you use it",
          "Social media is a way for people to connect, share, and communicate online. It includes websites and apps where users can post pictures, videos, messages, and news. Popular examples are Facebook, Instagram, Twitter, and TikTok.",
          "Social media is a platform where millions of people are signed up for to post about their lives and keep in touch with friends and family.",
          "Tik Tok, Instagram, Facebook, X, etc. And to some extent, YouTube. Essentially, it is a platform where content creators can post content, and others can like or dislike that content as well as comment on it.",
          "I would define social media as a means to communicate with others.",
          "Anything social in the internet. That can be youtube tiktok or twitter.",
          "I define social media as going online on the internet. It includes browsing websites, watching videos, messaging, and using platforms designed to engage with the video/material.",
          "any app or website that allows you to interact with other people",
          "Social media is basically anything like a website or app that allows you to share posts with others. Images, texts, video, etc. it's a way to be social with others who are much further away from you.",
          "I would define social media as an online platform that allows people to stay connected with one another. It's something people use to find new connections as well.",
          "I would define social media as any app that has social interaction whether it be sites like tiktok, youtube, or roblox. Anything that has interaction with anyone outside of himself.",
          "any source of online interaction with people that shares words, pics, songs, etc.",
          "It's a place to connect, share pictures, videos, thoughts, articles, and talk with friends and family. It's a space to follow celebrities, keep up to date on whats going on with the world, join communities, play games, and shop.",
          "These are aps that let you connect with other people online.",
          "Online apps that allow contact between people through messaging and profile content sharing.",
          "Sites where the main component is sharing pictures/videos and gathering likes. Technically, YouTube would fall under this description but I still do not classify it as social media. Social media would be sites like Twitter, Instagram, Facebook, Reddit.",
          "I would define \"Social Media\" as the following: anything that enables people to communicate with other people online. So anything that enables you to post content online i.e. Youtube, Tiktok, Facebook, etc. Pretty much everything we do online that lets you leave a comment to me is considered \"Socila Media\".",
          "Social Media is any online presence where you can interact with people.",
          "online groups that people enjoy",
          "I think social media is anything that you use to stay connected with people online. Twitter, Facebook, Instagram, Reddit etc.",
          "Social media is an online site or app where people can micro blog and interact with other users. It tends to be addictive unregulated and harmful for adults and children.",
          "Social Media refers to online programs, apps, or websites that allow one to sign up to that service. These are virtual online places where one can communicate with others, even those you may have never met in person. These are places where one can share common interests. Common Social Media apps are Facebook, Instagram, Gaming sight apps, or Twitter/x.",
          "Applications like Instagram and TikTok where people share about their lives online.",
          "A social app where people meet new people",
          "Social media encompasses online platforms and technologies that facilitate the creation and sharing of information, ideas, interests, and other forms of expression through virtual communities and networks.     1  It enables users to connect, communicate, and interact with each other in real-time or asynchronously.",
          "Social media is an online platform where users can express themselves through their post and also share contents and information with different people from all walks of life and also build a community online. Social media makes the world a smaller place",
          "apps like instagram",
          "Platforms where the average person posts things about their personal or professional life. This can include photos, video, or simply be text.",
          "Platforms where people can communicate with eachother",
          "Apps or sites where you connect with others. You can message with them and share stuff.",
          "Social media is any electronic form of communication with others",
          "Social media refers to digital platforms and applications that allow individuals and communities to create, share, and exchange content, such as text, images, and videos, in real-time. These platforms enable communication, networking, and collaboration among users globally. Popular examples include Facebook, Instagram, Twitter, and TikTok.",
          "An online platform that connects friends, family & strangers.",
          "I define it as any online platform where users can post text or media. Often, users can also comment on this content.",
          "Social media encompasses online platforms and applications that facilitate communication, content sharing, and the establishment of virtual communities. These platforms allow users to create and interact with various types of content, including text, images, and videos, fostering engagement and collaboration among users.",
          "Social media are avenues on the internet used for communicating with others. These kinds of media allow users to deliver public and/or private messages. They are usually delivered textually, but audio and video are also prevalent methods.",
          "I think it is connecting to a world on the  internet and socializing with strangers you don't know and being exposed to lots of content, lots of media.",
          "Any online activity that allows my child to consume",
          "Any site that allows interaction from others. Strangers being able to connect. That can mean via video, text, and/or voice.",
          "Online presence and communication. A place where you are seen virtually and you see and are \"friends\" with others.",
          "Online arenas where information and photos can be shared publicly.",
          "Can grow knowledge, can meet new friends",
          "online systems to allow communication between people around the globe.",
          "A category of website that allows a user to place content for public viewing and allows back and forth communication/interaction between content creator and the public.",
          "Sites like Youtube, Facebook etc where one can post updates and commentary",
          "Usually an app that lets users share their ideas or post what they are doing and social networking.",
          "FaceTime interacting via phone call and chatting through gaming      l",
          "online platforms that allow interaction and direct communication with others",
          "Social media are online platforms where users can share their thoughts and opinions through texts and images.",
          "facebook instagram,roblox.anywebsite where you can communicate with others.",
          "I would define Social Media as any platform that lets you communicate with others across the internet. There is some cross over with video games or entertainment platforms that both create entertainment  and access to communication with others.",
          "Social media refers to digital platforms and applications that enable users to create, share, and interact with content. These platforms facilitate communication, networking, and community building through text, images, videos, and other multimedia formats. Examples include Facebook, Instagram, Twitter, LinkedIn, and TikTok.",
          "Places where people who typically know each other in-person, or through some sort of community, gather online.",
          "network of people linked via the internet for communication and town square.",
          "Social Media are apps or websites (such as Instagram, TikTok, X, Facebook) where a large number of individuals post aspects of their daily lives, such as photos and videos.  These individuals can view each other's posts and interact with the posts (posting a reaction or making a comment), and can message each other directly through a chat/messaging function.",
          "Social Media includes apps or websites where users can post pictures, videos or thoughts and engage with other users.",
          "It a platform where we get information and socialized to get entertained",
          "A way of interacted online and socializing virtually. getting to know people and express yourself on platforms. meeting like minde people",
          "Social media consists of apps and/or websites that you connect with people on.",
          "Any platform where you can interact with the public instantly. Examples for me are YouTube, tik tok, instagram, twitter, facebook, Snapchat.",
          "a site to share things with other people.",
          "Platform used for socializing with other users or searching for information that are online.",
          "I would define social media as an online platform which hosts a community where people across the world can engage with one another by sharing content and commenting on the content.",
          "Content created and shared for the sole purpose of others viewing and reacting to it",
          "People looking at others pictures online and chatting so they can keep in touch or stay in the loop with eachother.",
          "I would define social media as any platform where you are interacting with other users, such as Facebook, Instagram, etc.",
          "websites and apps that connect users socially for content sharing",
          "Online spaces used to interact with others.",
          "Social media is any online platform where people can connect with other people. This can be via messages or posts.",
          "apps that connect people in superficial ways online",
          "Online apps that let you engage with other people",
          "Social networks that display content and media designed on your personal algorithm of likes and dislikes and preferences.",
          "Social media is a virtual platform for individuals to share and connect with others. People use posts, links, pictures, etc. to upload and share with people he/she may or may not know. It can be used to entertain, engage, and learn.",
          "Anything online that's interactive like games, YouTube,Facebook, robloxetc",
          "Apps and websites like Facebook where people can post thoughts and pictures",
          "It is a helpful tool for learning and gaining access to information.  However, not everything on social media is good or real.",
          "Social media are platforms where you can interact with other people",
          "Facebook, Instagram, X",
          "I would define social media as something where you can look at others content and interact with it.",
          "Any form of app where posts can be made and interactions with other people can be had",
          "Social Media is a site where people post content about their lives, weird stuff, interesting things. It offers a way for people to communicate.",
          "A place where humans electronically gather to post about their lives and interact with other humans.",
          "Facebook, instagram, TikTok, YouTube",
          "websites that allow for interaction with other humans by posting, commenting, liking, sharing, chatting, etc",
          "Any type of media on a platform online or in physical form where people discuss various topics, personal, professional, entertainment purposes etc.",
          "A platform for people to communicate or share information and have conversations either with an inner circle or the world at large.",
          "A place to connect with other people and family",
          "Social media is something that came about in the early 2000s to mid 2000s. It is a online platform that enables users to be able to connect to other users by simply clicking a few buttons.",
          "I would describe social media as the use and space to share ideas and materials digitally.",
          "I define it as any place that you can communicate inline with other people.",
          "Any app or program that allows you to interact/communicate with other people",
          "I would define it as any type of online space in which users primarily create and post content with the aim of sharing it with others.",
          "Social media refers to online platforms that enable users to create, share, and interact with content like text, images, and videos, allowing people to connect and communicate with others within virtual communities, often through websites and apps like Facebook, Twitter, and Instagram. ",
          "Any interaction online with others, whether it is a message board or immediate is social media.  Sharing comments, ideas and pictures are all parts of it.",
          "Any internet platform designed to interact with other human users.",
          "Social media refers to digital platforms that enable users to create and share content, and to connect with others online.",
          "I'd define social media as any type of online platform where one has a profile and engages via posts and comments.",
          "It is a place where people can interact online with each other and share their lives.",
          "It is a tool that allows us to share information about our day-to-day lives. It has made day-to-day activities easy to do with just a click but it also has its faults since if used the wrong way it can cause harm not just to yourself but to those around you",
          "It is when you communicate online through media.",
          "where people watch or read content. a place where people can socialize over content.",
          "Websites and apps that allow people to interact with each other through text, video, and music/audio.",
          "It is an online website where you post pictures, tell your stories or advertise your business. Also any followers can comment on whatever you post, and it can be good or bad.",
          "anything online that links you with other people where you can share opinions and or chat",
          "I would define social media as an online outlet used for social purposes. This includes watching material other people have made, interacting with others, and making your own content for others to watch.",
          "Anything that let's someone interact with others via the internet",
          "A platform where you can interact with people you know or don't know.  A platform where you can share information and exchange messages.  Facebook, messenger, kids messenger, etc.",
          "Online websites where the community and strangers are on the same sites.",
          "Social media refers to online platforms that enable users to create and share content, connect with others, and build virtual communities. It facilitates communication, information sharing, and the development of social networks through digital tools. These platforms often allow for real-time interaction and user-generated content.",
          "Social media is a way to connect with people all around the world. It is a way of communicating and finding entertainment through people's videos and posts. It is tool for quick access to information of all kinds",
          "Social media is anything related to influencers, videos dealing with making money for the influencer and influencing the perspective of the viewer, as well as chatting with friends and strangers on the internet.",
          "any website/app that people can comment/post on. Youtube, facebook, etc.",
          "Social media is content that people consume on platforms like tiktok, YouTube, Facebook and X. It is comprised of videos, written posts and memes. It is designed to please our brains and many find it addictive.",
          "I define social media as a place online where people can post things for others to see and view the things that others have posted.",
          "Online interaction with other people, games, videos.",
          "Social media refers to online platforms and websites that allow users to create, share, and interact with content, such as text, images, and videos, in a virtual community. These platforms enable people to connect, communicate, and engage with others on a global scale. Popular examples include Facebook, Instagram, Twitter, and LinkedIn.",
          "Social media to me is any way in which you interact with others or they interact with you over the internet.",
          "Social media refers to online platforms and apps where individuals can create, share, and interact with content, such as text, images, videos, and more. It allows people to connect with others, communicate, and participate in virtual communities.",
          "I would define \"social media\" as a platform you can talk with people and look at videos.",
          "Social media would be interacting or viewing other people content and you are able to communicate with them in real time.",
          "I would define social media as platforms used for socializing with friends, family and others.",
          "Social media is the online presence of a person with the ability to \"friend\" other people in their immediate community group or strangers.",
          "I define social media as any platform where my child can interact with others like Tik Tok, Instagram and Facebook",
          "It's a network of people on the internet that talk and share things amongst each other.",
          "apps and websites that have many millions of users who post their own content. users are individuals and companies or organizations.",
          "Platforms that are solely designed to be interactions with others (so not video games where you might talk to other people but it isn't the ONLY purpose of the platform.)",
          "Any platform used for social interaction or engagement with a group of people",
          "Online platforms where you share information about yourself. Communicate with friends and others.  Keep up to date with what is going on either others via posts.",
          "Social Media consists of online sites where people can interact with each other and view posts and images without having to be physically with that person",
          "An online platform that has played several reasons in the life of  many people eg. helped a lot in doing research  Also this platform is used for learning as well as to entertain",
          "Social Media is an app where you can communicate with others, make posts, and comment on things.",
          "Social media is for people to interact with and show others personal likes, dislikes and more. show their skills in certain fields. it can be fun, scary and multiple things at any time.",
          "Social media represents a huge interconnective web of information sharing between individuals around the world whether it be data, video, audio, ideas, etc.",
          "Social Media is a type of community online.  it is a way for people who don't regular have person to person contact to connect and to find old friends and make new ones.  it's also a platform for people to express themselves in many different ways.",
          "To me social media is a place where people share personal information with each other and the internet in general.",
          "Connection to the world",
          "An online platform that fosters communication with other people, either through text, picture or video",
          "I would define social media as a place where like-minded people can connect. There's a lot of great stuff on social media, but there's also inappropriate things that aren't good for young kids. That's why I only let my child use social media if I am present so I can keep them safe and make sure they're having a positive experience.",
          "Its where you watch other peoples vidoes, skits , information all around the world.",
          "Social Media is anything that gives them access to people and the lives they live. It's the ability to communicate with others.",
          "Any place that interactions with other real people can occur including talking or sharing items.",
          "Any media that supports sharing of information from other users.",
          "Social media refers to online platforms and applications that allow users to create, share, and interact with content, as well as connect with others. These platforms enable communication, collaboration, and the exchange of information in real-time. Examples include Facebook, Twitter, Instagram, and LinkedIn.",
          "Any platform that shares content from one person with large groups of people",
          "Social media is any platform where users are free to make their own content and engage in conversation with other users.",
          "sites like facebook, twitter, truth social etc..",
          "Social media is an online platform where people can interact with each other and learn new things. You can see the latest trends and information about certain people and things. It can also be a place of learning bad things or bullying from others. It can be a nice thing but can be twisted very fast.",
          "Its a way for people to connect with others online. There are different ways to communicate including text, pictures and memes",
          "online usage in order to keep up to date with others. its proactive posting.",
          "Social media is a collection of online platforms where people can connect, share content, and interact with others. It includes sites like Facebook, Instagram, and TikTok, where users post updates, photos, and videos. Social media is used for communication, entertainment, and staying informed. Much like a digital playground.",
          "Social media is a form of media where people can connect to other people via online applications such as TikTok and Twitter. It provides instant communication tools that people can converse in real time no matter the distance.",
          "Social media is any platform that allows people to connect with others online and communicate or share with them",
          "Social media is a series of online platforms where you can communicate with others, whether you know them or not. You can also watch media such as videos of these platforms for your learning or entertainment.",
          "apps that keep people interconnected without being physically near each other",
          "Online website where you have a profile and can meet and talk with others.",
          "Social media are online space where people can share information, pictures, videos, and other types of content. They can be addictive and users can obsess over their social media accounts.",
          "Social media is a platform to get to learn, be socialize and have fun",
          "used for good purposes it can be very useful, but for children of a certain age it is completely unnecessary",
          "Internet platforms where people interact and communicate on a global scale",
          "Social media refers to a broad array of digital platforms and applications that facilitate the creation, sharing, and exchange of content such as text, images, and videos, enabling individuals to engage in social interactions and build virtual communities. These platforms, including but not limited to maybe Facebook, Twitter, Instagram, and LinkedIn, allow users to interact, connect, communicate, and participate in online networks, influencing both personal and professional spheres of life. The proliferation of social media has fundamentally transformed the dynamics of communication, information dissemination, and social interaction in this our digital age. social media has come to stay!!!!",
          "Social media has to do with all digital platforms where people can create, type and share media content.",
          "Websites that entertain and want to gain followers",
          "Social media is a platform in which people share posts, content, or ideas to other people. It is a platform in which people can engage or peruse content posted by others.",
          "A way to communicate online that lets people share information, create content, and connect with others.   It's also a platform for interaction and creating friends.",
          "A network/platform where people of like minds meets and discuss online.",
          "These are online platforms that allow interaction with content. Examples are Youtube, Tik tok, Facebook, X, Instagram, and LinkedIn.",
          "anything that allows you to interact with others online that hosts a profile",
          "An online platform for interacting and chatting with people",
          "Social media refers to digital platforms and applications that enable users to create, share, and interact with content in real-time. These platforms facilitate communication, networking, and information exchange across individuals, groups, and organizations. Examples include Facebook, X (formerly Twitter), Instagram, and LinkedIn.",
          "social media is any platform which can be used to share information,media or messages.",
          "a place of information and entertainment that can be both good and bad",
          "Platform that connects group of people",
          "Socially connetion and bonding apps liek fb, x, snapcaht whatsapp etc.",
          "instagram tiktok fb anything online or on the phone that you can connect with others",
          "It's anything that lets you virtually connect with other people.",
          "Social media is socializing with others on the internet.",
          "Sites where someone can have a site and contribute to a discussion. A forum board.",
          "A place where people can share about their lives and interact with other virtually",
          "I define social media a tool to connect with others. It can also be used as a platform for good and bad. I do not believe it is something children should have access to.",
          "apps where you can see other people's posts and potentially interact with them.  You can see comments that others have made on posts",
          "Social Media is the network of websites and apps that allow users to share their thoughts and feelings. Videos and pictures are commonly shared on Social Media. Apps like Facebook and Instagram allow users to interact with people they know and don't know online.",
          "A disgusting hell hole that will only warp and ruin your child's mind. Social Media should only be allowed to be used by adults, (18yrs old) and even then it is a cesspool of trash. It turns people into pathetic losers that spend all their time idolizing a bunch of douche bags. Obviously I highly dislike social media and do not use any form of it myself.",
          "Social networks are a means of communication where people can publish content about anything, for example what they are thinking, the music they like or any other information relevant to the person.",
          "An app or software on which people can interact with each other.  Usually it involves people trying to create a certain impression -- through their interactions and posts --  to their audience or their online connections.",
          "Online platforms on the internet that enable sharing content such as pictures and videos. People are also able to share ideas and dialogue.",
          "Anything that my son is watching on platforms that are sending messages or discussing topics other than his family. Even TV is social media.",
          "any internet based activity where there is the possiblity of interacting with another person or another person's comments",
          "websites and applications that allow users to create their own content and share it with other users.",
          "Social media comprises the websites and apps that are designed to connect people and allow them to express themselves.",
          "Social media refers to online platforms and applications that enable users to create, share, and engage with content while interacting with others. These platforms facilitate communication, networking, and information sharing through various formats such as text, images, videos, and live streams.",
          "A platform where people can interact with people they both know and dont know, create and share content, stay informed and connect globally.",
          "The various apps and platforms intended to connect and engage with others. For our kids this is exclusively for entertainment purposes",
          "Social media connects people to the outside world. It can be a positive experience. It can also be extremely dangerous.",
          "applications where media, whether it be photos, videos, personal statements or advertisements are shared on platforms",
          "social media is a great place to stay connected with long distance family members. it helps build long distance family relationships. and it is a good way to meet like minded people.",
          "Apps and websites that allow you to connect with friends and to post about your life and comment about other people's posts.",
          "Social media is online platforms that let users create, share and interact with content and connect with others.",
          "I would define social media as websites such as facebook and youtube where users share their content with each other. Whether it be, ideas  concepts ,pictures, videos or other media such as gaming.  They interact with it and with each other and sometimes socialize though it, like via online gaming or virtual spaces like meta horizons for example.",
          "Content you or others view or create that has a social aspect to it",
          "Online, scrolling, more-ish.  Includes Facebook, Instagram, TickTock, Reddit, X, Bluesky, etc. Content created by users, platform decides what to show any individual person.",
          "social media is platforms that individuals use to talk to and show friends things.",
          "Any platform where kids or adults can like or leave comments so everyone can see. Online community that posts pictures or updates for the world to see/read.",
          "Any websites that have the purpose of interacting with others online. Some may be less about interaction with others and more about interaction with content that people put on the website.",
          "most of times social media help in learning lit of thinks",
          "Another life that is digital from the world",
          "Social media is an online platform that allow user to create, interact and share content with each other.",
          "A space where many people gather on the Internet to exchange information, form relationships, and interact",
          "I would define social media as any app that allows conversation with known and/or unknown people online, such as Substack, Facebook, Discord, etc.",
          "Social media just as it is a a technological concern that people joining to share different ideas in the name of knowledge, fun or entertainment, creating content for money and also to market businesses",
          "social media encompasses online platforms that enable users to create, share, and exchange information, ideas, and content within virtual communities and networks.",
          "Social media is a tool to be used for easy educational,social and intellectual improvement  for once bitterness' and to better the society.  social media is an open space with a lot of information that needs to be controlled hence it turns to time waster.  social media is also a tool to making money via the online space",
          "I would define it as an interconnected system of virtual interaction that can be accessed across digital devices from anywhere in the world. It is not restricted by geography and it is accessed via the internet.",
          "Social media is a platform used for communication between people we know and we don't. It can also be used to send pictures, video and be current about what is going on in the world. Social media make News to travel faster worldwide, it provide easy access to a lot of things, it enhances learning, it can help people with depression. Social media can be harmful at the same time helpful. People needs to be careful and caution about the kind of information they passes online.",
          "Social Media consists of various platforms that allow users to watch videos, read content, make comments, etc. One can be both a creator and user. It's supposed to connect people, but I feel it's more of a place where people compete to see who has more likes and/or followers as it is a popularity contest.",
          "Any sort of online platform that enables interaction between two people.",
          "Applications that allow you access to different people across the globe",
          "Social Media is like using technology to communicate or share information.",
          "Social media is an online space or platform that permits people to have access to stuffs and people on the internet, it allows people to connect and share content with others and also build communities.",
          "websites or apps that allow you to connect to other people",
          "I would define it as online platforms or applications that allow people to create and exchange contents ,ideas and information. It also allows people to stay in touch with one another.",
          "Social media is a medium for information both positive and negative. It is a place to socialize and make friends, one can also advertise his products and services there. It is also a place for education and research",
          "Social media are interactive computer mediated technologies that facilitate the creation and sharing information, ideas, career interests, and other forms of expression via virtual communities and networks.",
          "Digital access to other people via the internet. It would include being in contact with friends as well as access to people they don't know in real life.",
          "Online communications with others.",
          "Social media is the democratic publishing of images and ideas.  Anyone can post anything with minimal policing, if any.  Used by some to keep in touch, it has become mostly a platform to sell things.",
          "Social Media is connection to everyone in the outside world, via the internet.",
          "It can be troubling with the lanuage and things that are on social media.  Social Media is website used to share information, view videos etc.",
          "Virtual platforms oriented towards sharing information or social communication. Generally revolving around a list of contacts that allow you to make contact with one another.",
          "Social Media, I would say is the means of communication in the year of 2025. Almost all relationships, no matter what type, require engagement with social media.",
          "Any platform where you can interact with strangers.  Social media is a toxic environment for children to be exposed to but feel left out if they do not post.",
          "Social Media is an outlet in which you are able to interact with others online and share information with others.",
          "A way to view and communicate with other people.",
          "Social Media to me is communicating with other people using modern day apps that simplify the ability to share your activities and thoughts in real time with others.",
          "Social media are apps on a device that connects to the world at large. We don't let our child have any social media apps. We believe them to be dangerous weapons, and not worth it.",
          "A place/App online to interact, visit, share with others.",
          "Social media is a social network site where people are connected with each other.",
          "I would define social media as a online place where you can share moments of your life with your online friends.",
          "Social media to me is different avenues available to keep up with friends and the world. Also a good way to loose time if not used correctly.",
          "Anything online that involves contact with otehrs.",
          "Social media is a way for people to connect and share information online. It includes websites and apps like Facebook, Instagram, and Twitter, where users can post pictures, videos, and messages to interact with friends, family, and others. It's a place where people can also follow their favorite celebrities, brands, and stay updated on news and trends.",
          "I would define social media as as interconnected hub world where many people across the world can connect with each other from the comfort of your home",
          "Online platform that provides communication and/or entertainment options.",
          "Social media to me is TikTok, Snapchat, Facebook, instagram, Reddit, etc, etc.",
          "a platform that you and your peers are a part. a place to share about yourself for all to see",
          "I define social media as platforms that allow people to socialize with others on the internet or create/post content that can be viewed by others on the internet.",
          "Social media refers to online platforms or tools that allow users to create, share, and interact with content, information, or other users in a virtual environment. These platforms facilitate social networking, communication, and community-building, and can include websites, applications, or services like Facebook, Twitter, Instagram, and YouTube.",
          "Social media is a platform where users can interact, meet others with similar interests, and update one another on their life events.",
          "I define social media as online communication with other people.",
          "on-line instrgram type accounts where you can communicate with friends and check out what is happening such as current events",
          "Social media shows how the society interact with one another through the internet",
          "Using twitter, TikTok,facebook, insta etc. using online sites to socialize",
          "Any online platform that involves being able to share and connect with others (excluding chat services).  Being able to post and read what others are posting, including online blogs.",
          "Social media is large communication and entertainment source. It can used also for getting information and news.",
          "Digital spaces called social media applications give users instant capabilities to create post and exchange content among themselves. People use the platform as a communication tool while building social networks and engaging with multimedia content including text and images and video. The most recognizable social media platforms comprise Facebook together with Instagram along with Twitter while LinkedIn and TikTok complete the list.",
          "Any type of online site where information, visual or literary, can be seen or information can be shared with others (usually via apps)",
          "various platforms for people to use for networking and connecting with friends and family.",
          "Social media is a form of entertainment be it blog posts, pictures, or videos, in any capacity, made by fellow civilians as opposed to a network entity.",
          "Online platforms with a primary purpose of connecting with other humans (and bots) via text, video, or images.",
          "online platforms to socialize with strangers. chatting and sharing your views with others.",
          "Social media is a great tool and it also can be very destructive without proper supervision and controls. I like social media for the good and bad that it provides because I try to use the good and bad for teaching moments with my child.",
          "good for gathering information",
          "Social media is different outlets where you can connect with others. That can include pictures, videos and writing. There is different social media outlets.",
          "Different platforms like Instagram, TikTok, Facebook, some gaming interactions.",
          "platforms (websites and apps) that allow users to post content (text, photos or videos) publicly or privately.",
          "Social media consists of all the communication apps available online. Social media is anything anyone uses to share information",
          "Social media is basically sharing stories, photos and details of your life online with an audience. I think social media is out of hand and a terrible source of information.",
          "Social media include any online apps or online programs that allow people to share and communicate media (e.g., pictures, videos) or thoughts (i.e., opinions) of any kind.",
          "Social media are platforms on the internet that lets you build your internet presence and be in connection with others around the world, whether you know them in real life or not. There are all types of content on social media. Social media can be used for good and used for very bad.",
          "Social media is where people can interact with other people online.  Some of those people they know in real life and some they do not.",
          "Interacting with people online. I would consider games played online social media \"light.\"",
          "Instagram, Facebook or Snapchat and TikTok. I feel it is not appropriate for teenagers. Social media can brainwash children and should be monitored.",
          "They are organizational structures dedicated to entertaining and informing a global community.",
          "Social media refers to online platforms and applications that enable users to create, share, and interact with content in real time. These platforms facilitate communication, networking, and engagement through text, images, videos, and other media formats. Examples include Facebook, Twitter, Instagram, and TikTok, which connect individuals, businesses, and communities globally.",
          "Social media is a place where you can stay connected with friends and family. It helps when you have family you don't see often and helps you stay in touch with friends you don't see much.",
          "social media in compasses any platform that involves any interaction between you and other people. social media can be a good thing as long as there is moderation in children",
          "It interacting and use of social platform for education or for entertainment purpose",
          "Social Media is socializing through internet. It has an advantage and disadvantages in people's lives.",
          "Toxic, online place where kids can go to convince themselves of things they probally shouldn't know about. I time suck for all who participate and cant regulate themselves. social media is named as a lie as it infers greater social conncection but in reality seems to take us away from actually being with our peers and our families.",
          "Platforms where you can communicate online with people you know and with strangers.",
          "Social media is channel to connect with a lot of my friends and contacts to adapt to posting, and growing as friends on Facebook and Instagram sharing pictures and stories",
          "anything that can be seen or watched that people can see and discuss things. it could be videos on youtube or instragram seeing pictures but it could also be discussion forums such as reddit.",
          "A global network used to interact with friends and family .Also  a means of sharing information with others.I think that is how i personally describe Social Media.",
          "its a great influence to our children both positively and negatively",
          "Social media is where you communicate with friends and family on apps or websites",
          "Typically an application where people meet online.",
          "Using the phone, computer to contact friends and relatives. Playing games with other children. Using media to shop.",
          "a dark place that has negatively effected the world . We explore together to eliminate the wonder and feeling of need tom discover .essentially a hub for peoiple to connect and act",
          "mindless showing off",
          "in her case she's on private roblox and minecraft games with her friends. sometimes on youtube too",
          "media that is relative to people one knows",
          "A variety of platforms where people can socialize and view content from different people. Sometimes the content is posted by strangers and sometimes by people you know. Some platforms are easier to stay within your private circle than others.",
          "Online platforms where people share things, post, and chat. Lots of angst, arguing, bickering and fighting. Also, some news.",
          "Apps on the internet that allow interaction between the user and other people. Apps that allow commenting after videos or reels. Web browser pages that allow exchanging emails, messages, views, etc with other internet users.",
          "I would define social media as a platform that provides a way for people to share content, and connect digitally.",
          "a gathering of unpredictable sites filled with gossip and misinformation that anyone can access at anytime.",
          "Its a place where you learn more about what's going on in other places and people lives.",
          "A website or app where people share news, lives, photos and videos.",
          "apps used for online communication",
          "I would define it as a cancerous entity that drains the souls of humanity.",
          "Social media are technologies that allow people to build communities and network amongst themselves. Usually they have large user bases that interact with each other.",
          "A site with people trying to impress other people.",
          "Social media are Online platforms where you interact with other people.",
          "Social media is the sharing and receipt of information or experiences on the internet",
          "Digital apps and websites where people can communicate and share media. Some examples are Facebook, Instagram, Roblox, Fortnite and others. Social media are really popular ways of communicating these days.",
          "Social media are site lie snapchat instagram tiktok and others where people can socialize with each other. Sites like Fortnight roblox and Minecraft are similar to Social Media because they have chat rooms but a parent can disable the chat.  For my eldest child I allow some use of social media unsupervised.",
          "Apps that allow you to post text, or images of yourself to a broader community of followers.",
          "Social Media is anything online that connects one person to another. It can be a social media website or even an online game.",
          "Social media is a place for the public to share opinions. It's an online space for people to try and get attention.",
          "Any online medium where they is the opportunity to interaction with others in a text, visual, or verbal format that closely resembles an interaction that could happen in person.  This could be applications like Facebook, Tik Tok, Instagram, but also could be a chat interface for some online multi-player games (ex: World of Warcraft).  All of these mediums allow a user to interact in complex dialogue with other users that can be construed as a form of communication that can resembles face to face interactions.",
          "Any website or app that allows someone to connect with other people to share status, photos, other media.    Sites like Instagram, Facebook, X,",
          "Apps like tick tock or facebook. watching videos on youtube or other platforms like youtube.",
          "Entertaining at times but also some negativity",
          "Using Apps and websites to view content and interact with creators, friends and others in the online community",
          "Social media is a platform that people use on a fairly regularly basis to communicate and share ideas with their social circle. Some people choose to open their social media up outside of their social circles and engage with the general public.",
          "Anything online where interaction with others is possible",
          "I would define it as a website or app that you can communicateand share stories and life.",
          "Social media is primarily a false sense of reality, everyone shows their very best and most glamorous parts of their life, most people give off a false version of themselves. Social media has some positive aspects but its primarily negative",
          "A form of online exchanges and information typically shared by individual users with the world or with one another.",
          "Online platforms used to talk to others and share information about yourself, like Facebook or Snapchat",
          "Social media is any kind of media that connects people to others.",
          "Websites and apps that are designed to communicate with other people.",
          "social media is how people interact nowadays. Online presence has a huge impact on day to day agendas.",
          "Social media is a combination of platforms like websites, apps, etc, that allow people to interact by sharing ideas and information through text, videos, images...",
          "Social media allows people to express their interest. It reaches many people to share interests. It can be a good and bad influence.",
          "Social Media is an app or website that allows the user to interact with other people. Those people might be local or could be on the other side of the world.",
          "Social Media is an online platform to interact with others virtually.  It's socializing, but over the internet. It's a way to share things that you are interested in and wind down to relax.",
          "I would define social media as apps in which my childs peers are also on. These would be apps where my child can interact with others.",
          "Apps like Facebook, Instagram, and Twitter where the child is communicating with and sharing pictures with other people.",
          "Any internet based platform that allows someone to interact with other people, and may include posting photos, text-based communication, emojis, etc.",
          "websites to keep people and information connected",
          "I would define Social Media as a means to keep in touch with people you don't see often. I also think it's a way for people to express their views and their likes or dislikes. It's also a useful tool to communicate with others.",
          "Social media is an interactive platform that allows communication. It can be used in connecting with friends and family. It has advantages and disadvantages.",
          "communicate with other pepole, such as facebook, wechat",
          "A platform to communicate and interact with friends as well as the rest of the world as well as a source of entertainment.",
          "social media, I think is a platform originally meant for educating, sensitizing, spreading News and connecting people.",
          "Anything like Facebook or Instagram. Snapchat or the like.",
          "Social media would involve a profile and some access to messaging or communicating with friends and others. I would consider Instagram, facebook, Snapchat and even YouTube a little like social media.",
          "social media is \"media\" (e.g. videos) that you can comment and share for social reasons.",
          "Most anything online that is interacting with content that others put out in a community based platform. Examples include Facebook, Reddit, TikTok, Instagram. Games like Roblox might or might not be social media.",
          "Social media refers to digital platforms and applications that enable users to create, share, and interact with content in real time. It facilitates communication, networking, and community building across various formats, including text, images, videos, and live streaming. Examples include Facebook, Instagram, LinkedIn, and TikTok.",
          "An app or website that connects peer to peer.",
          "Social media is the use of apps to bring the reality of our lives to the digital world. Sometimes this reality becomes distorted or downright untruthful.",
          "I would define social media as apps and websites that allow people to communicate with each other.",
          "social media is a way for people to interact with each other without having to be present. its also a way for people to tell people what going on in their lives. its also a way t connect with people you normally wouldnt",
          "I define Social Media as any platform that you can socialize with other people and interact with them.",
          "websites or apps that people use to connect and share",
          "Social media is a digital space where people can stay in touch, share ideas, and keep up with what's happening in the world.",
          "Social media refers to digital platforms and applications that enable users to create, share, and interact with content in real time. These platforms facilitate communication, networking, and community-building through various formats, including text, images, videos, and live streams. Examples include Facebook, Instagram, Twitter, TikTok, and LinkedIn.",
          "An online platform to keep u with friends and family",
          "As a platform where different people from all over the world get to interact , socialize, have fun, learn new things from all over the world",
          "Internet-based communication applications that involve social interactions. They can include personal accounts and professional accounts.",
          "Any sort of app where someone could view content and potentially interact with others. This content could be videos, or pictures, or posts. The keyword is social here, in my opinion.",
          "Social media is a social platform.",
          "A platform where people view/post messages, images, and videos. It also allows users to learn from others and teach as well about different things.",
          "I would define it as any of the social media, like twitter, FB, etc.",
          "I would define Social Media as a way to connect to people all over the world.",
          "any type of communication platform through the internet, like apps (instagram, tik tok) websites (facebook, reddit, discord) or gaming plattforms, like twitch, etc.",
          "Social media to me is sites like YouTube, Facebook, Instagram, etc. My son doesn't have a Facebook or Instagram account, but does watch YouTube and also plays XBox with his friends online over the internet.",
          "Any app that allows sharing between people. If you have friends and can share anything on it, it's social media.",
          "generally user generated content focused on the user, typically in the scroll or app format.",
          "Online platforms used for social networking.",
          "online platforms or apps that enable communication and networking",
          "Anything that is online that you can view media and communicate with other people on.",
          "Devices, apps and platforms that allow someone to engage with people that they do not know across a broad range of topics.   It can include taking, posting and viewing videos, chatting, joining social groups or just scrolling through content. It can be used for educational and personal reasons.",
          "I would define social media as a platform to engage socially with other individuals.",
          "Apps that can be used to socialize.",
          "Facebook, TikTok, anything app wise on a smart device.",
          "I define social media as something that she can share videos and talk to people.",
          "A way to connect people remotely tgrough an app",
          "Social media is a group of platforms where people can stay in touch, post information, and read/learn information from each other.",
          "Social media is the online version of hanging out, sharing, and staying connected.",
          "Social media are the digital platforms that enable us to create, share, and interact with content online.",
          "Online platform that allows the public to post any photo, message or content that they choose to share with the world.",
          "Social media is an online world where people can \"friend\" others and stay caught up with their lives. Sometimes it can be a good tool, and others it can be full of negativity; however, it is never appropriate for children.",
          "Being open on the internet with pictures while friending and interacting with strangers. Being able to message and be friends by others they do not know.",
          "This study is taking way longer than a single minute.    Online forms of being social in the internet 2.0 and 3.0 eras that can typically be viewed by and interacted with by complete strangers.",
          "any online or digital platform where you communicate with others in any way",
          "Online websites/apps that you can talk and interact to other people and share parts of your life.",
          "a way to interact with others",
          "Online platforms where individuals engage with each other such as Facebook, Instagram and Tik Tok.",
          "A way to view media socially and online",
          "Social media is where people can share their experiences online with friends, family and old coworkers and old military friends. There are a bunch of companies but the major ones are Facebook, instagram, Tik tok. I don't consider linked in social media, but a lot of people do. I consider it more a job posting board.",
          "Any platform that allows for someone to create posts (either text, image, or video) with the goal of sharing with others. Also, any platform that allows for chatting and messaging either through direct messages or chat boards.",
          "Social media to me if any kind of networking where you have access to other people in online profile",
          "A platform where users can share thoughts, posts, ideas, pictures and media with other people.",
          "Most of the garbage online. A place to chat and share. Meta, facebook, Pinterest, Insta, etc.",
          "an online community where people get together and share their opinions and pictures. place where is not always positive.",
          "for one it can be bad for the kid if she is on to long. two bad things can be learned. it doesnt teach the kid nothing.",
          "A place where you can connect to the world and what is going on around us.  Keeping up with friend and family and consuming content put out.",
          "Social media is a place online where you share the best moments of your life. You also connect with others.",
          "social media is made up website, apps and others that allow users to share information",
          "Social media is a place where you can connect with others, see their posts and talk to people",
          "A platform that allows for users to post text, images or videos which can be followed by other users who can view and comment on those posts.",
          "Social media is a way to connect online digitally with friends and family. A way to express yourself and meet like minded people.",
          "Social media refers to online platforms that enable people to create, share, and intereract with content and connect with others. social media is a powerful tool for communication, it also play a role in shaping public opinion",
          "its an interactive technology place for receiving and sharing ideas",
          "Social media is various online platforms and applications that enable users to create, share, and interact with content, as well as connect with others in virtual communities. These platforms facilitate communication, networking, entertainment, and the sharing of information through text, images, videos, and other digital media.",
          "An online platform where people can take place in any form of social interaction with family, friends, or strangers.",
          "Social Media is any access to others in a free space online. Social Media is an online tool that allows communication between two or more people.",
          "A platform where you can easily communicate or share information with people not in your household",
          "I define it as facebook, instagram, Youtube etc. There are apps or websites that you use to interact with others online.",
          "Social media is an online platform where you can access other people's profile and see what they are doing. We can post what is in our mind and thoughts as well. It is a place to be social but not in real world.",
          "Apps and websites to communicate with other people",
          "Websites/apps that allow someone to interact with other people, including people that are strangers, by posting images, videos or text.",
          "Social media consists of online platforms that allow users to share content, interact with others, and engage in virtual communities. These platforms enable communication through posts, messages, videos, and live streams, often fostering global connections. Examples include YouTube, Snapchat, Reddit, and WhatsAp",
          "Well, social media is a software or app that allows people to connect and interact",
          "It is the sharing of content you or someone else created. It all allows you to express yourself.",
          "websites and apps that you can create or network between people",
          "Apps that allow people to connect with others that are far away, and allows for effortless communication and monitoring of how those other people are doing in their lives based on what they share.",
          "Online interfaces that allow people to communicate with one other, sharing messages, photos, etc.",
          "I would define it as things where they interact with others directly or in a forum, such as facebook, Snapchat, YouTube, Instagram.",
          "Media that is interactive and pushes content to you base on an algorithm",
          "Social Media to me is a huge distraction and actually divides people.  I do not allow ANY social media in my family.",
          "I would define social media as a place that people go to either meet new people. Or they keep up with their friends and family there.",
          "Social media is websites and applications that allow people to connect or share information.",
          "Social media is a platform where people connect, share content, and interact online. Examples include Facebook, Instagram, and Twitter.",
          "any website or application that allows people to communicate in any form, even as simple as just sending emojis.",
          "On-line apps that allow quick or instantaneous access to online materials like photos, videos, games, chats, and other posts and advertisements.  They are a sort of online community, but  with misinformation, stupid/dangerous challenges, porn, and predators.",
          "Any app or website that allows people to talk to one other and be social",
          "Social media consists of websites & apps that allow our kids to share information whether it be through texts,photos,or videos. It is social media with platforms such as Facebook, instagram, or twitter which is popular among kids.so to sum it up is a firm of electronic communication.",
          "Social media is using the different apps available, such as tictok, facebook, youtube, instagram.",
          "Social media is a place where you can connect with people, friends and family. It can be a wonderful place if used correctly",
          "A online forum that brings together people from different backgrounds to one place.",
          "An application or website that connects you to peers.",
          "Any app or site with a large amount of users that can interact with one another.",
          "Social media is defined by me as the sites like YouTube, Facebook, Twitter, Instagram, and dnsapchat. The kids are all connected to one another all the time.",
          "Social Media is a forum where people have access to eachother and communicate. Social Media can be unsafe and misleading.",
          "Any online platforms and tools that allow for people to communicate. This includes the obvious modern platforms like Facebook, BlueSky, and reddit, as well as older tools such as USENET (although USENET has not been used much for social communication for nearly 30 years).",
          "Social media refers to digital platforms and applications that enable users to create, share, and interact with content in real time",
          "An online platform where people can engage with friends, either known in person, or not, and advertising.",
          "Social media refers to online platforms and applications that enable users to create, share, and interact with content in real-time.",
          "The various platforms that allow different people in different locations to communicate and share content with one another",
          "Social media is a digital platform that allows users to create, share, and engage with content while connecting with others online.",
          "Social media is basically online platforms where people share stuff, chat, and connect with others. It includes apps like Instagram, TikTok, and Facebook, where you can post, comment, and stay updated. It's a big part of how people communicate and keep up with trends.",
          "platforms that allow personal interactions or information sharing with groups of people who are either strangers or not personal contacts",
          "Social Media is the better way to know more about the world when it is used wisely in a right way. When it is used in a wrong way, the child's entire life will be get ruined. so, as a parents we must be aware of how our child is using the social media in a good way.",
          "Social media is an online space where people typically interact with each other and share ideas. It include apps and websites that let users post updates, videos and messages to connect with others.",
          "Various online platforms that allow people to communicate and share information. This information can be shared via text, videos, or photos. At its best, social media allows people to stay connected, increases collaboration, and enhances communication opportunities. At its worst, social media can spread negative content and has the potential to be harmful.",
          "the is a platform where we comunicate with people we know physically or meet online ,it is also a platform where know whats is going on like new, watch movies etc",
          "Social media is an online source for people to socialize.  It keeps people constantly connected through apps like Facebook, Snapchat and Instagram.",
          "Social media are online platforms where people go to give or receive information about different topics",
          "social media is an online platform which people interact with the world. here, people can make friends and interact through sharing posts, liking and calling. you can engage with friends and strangers without actually meeting them.",
          "Social media to me represents conversations, opinions, news, entertainment etc posted on an internet platform vs. on the TV or in person. Youtube, Twitter, Tik Tok, reddit and even news media site are what I consider to be social media, particularly if there is a forum attached for people or bots to leave a message or post a picture.",
          "Social media is like a buzzing café where people gather to share stories, celebrate moments, and voice their thoughts. It can feel like a warm hug from an old friend or a crowded room where everyone talks at once. It connects, entertains, and sometimes overwhelms us, but at its core, it's about bringing people together.",
          "Social media is a place online where people can create, share, and talk about content, as well as connect with others in communities. These platforms help people communicate and engage using different formats like text, pictures, videos, and live chats.",
          "social media is a digital platforms where people can create , interact and share content. They can share messages and comment on people videos or post. You can also get ideas on recipes and other infomation.",
          "Social media refers to online platforms and applications that enable users to create, share, and interact with content in real-time. It facilitates communication, and engagement through text, images, videos, and other digital media. Popular examples include Facebook, Instagram, Twitter, and TikTok.",
          "Social networks are mass media that have become a very important part of our daily lives. Knowing how to use them is fundamental because all kinds of information and content can be found on social media. It is very important to know how to protect your privacy and that of your acquaintances when using them.",
          "Any online platform/website that is used socially and the platforms include the abiltity to share media.",
          "This is an internet enabled platform where people form networks to exchange information, ideas, news or stories.",
          "Online platforms that allow people to socially connect and interact through posts, messages, and images. Provides online interaction and information.",
          "An app that lets you interact with other users of the app. This interaction can be liking posts, commenting, and via private messaging.",
          "Online platforms and applications that let users create, share, and interact with content as well as network with others are referred to as social media",
          "I would define Social Media as an online platform where people interact with many other people.  You can come across all kinds of posts from people you know and don't know.  Social Media is like an online community.",
          "Social media requires discipline and for a child you need to always give guidance and make sure he or she visits specific sites that are beneficial to her education until they are of age. For me i give myself an hour for doing a thing on social media and i  make sure i only use that specific time",
          "Social Media are sites like Facebook,  twitter and you tube.    People use them to see new things and stay in touch with eachother.",
          "Apps and websites where you connect with friends and public personas.",
          "Social media is a platform where people can create and then share their own content, communicate with others. People use it for entertainment, learning, and staying connected. Some people create, while others simply follow and engage with it.",
          "Websites or applications used to communicate with others online.  This includes sharing experiences, opinions, photos, and videos.",
          "a place on the internet where people soci",
          "Social Media is an online platforms where users can share information, connect with others, and interact with communities through various forms of content like text, photos, and videos, allowing them to build relationships and engage with topics of interest, all accessible through websites and applications.",
          "A platform where you can share photos, videos, and opinions with others.",
          "social media is a place where you can interact with others. you can send videos, pictures, and have personal or public chats.",
          "Social media can be define as an online platforms and applications that enable users to create, share, and engage with content, as well as connect and interact with others in real time. These platforms facilitate communication, networking, entertainment, and information sharing through various formats such as text, images, videos, and live streams.",
          "Social Media is something we do not let our daughter access.  Her phone is only for communication with family and friends and listening to music.",
          "It's a channel which we can communicate and connect with others.",
          "Social media is a website or app that allows open communication between people on your friends list.",
          "a place where people share there life's to each other",
          "Social media is a platform or tool that allows users to communicate, share and interact with content and information",
          "I would define social media as online sites or apps that are used on a platform to bring strangers and non-strangers together. Algorithms are used to show content based on preferences and how the app designs it.",
          "Social media are internet platforms that allow individuals to connect and engage on diverse topics enhancing communication and increasing opportunities for the population. The digital space that comes with the same makes individuals develop interpersonal relationships and focus on trending issues.",
          "Apps like Youtube, instagram, Tiktok.",
          "Great place to fellowship, to get to know people, to inspire each other.  Very interesting dynamic we live in these days.  We just need to very careful about the predators and teach our kids to be safe.",
          "SOCIAL MEDIA TO ME FEELS LIKE THE WHO'S WHO OF THE ONLINE COMMUNITY. IT MEASURES POPULARITY, SETS TRENDS, STANDARDS AND HAS REWRITTEN THE WAY PEOPLE IDENTIFY WITH THEMSELVES AND WITH OTHERS. SOCIAL MEDIA HAS THE ABILITY TO DO VERY GOOD AND LIKE ALL PARADOXES IT HAS THE POTENTIAL TO DO GREAT HARM, THIS HAS BEEN PROVEN OVER AND OVER AGAIN.",
          "Social Media to me are apps that peers and others communicate on. For instance Snapchat, tiktok and Instagram  etc.",
          "online platforms that everyone can participate in.  A place where people can post their life events for the entire world to see",
          "I would define social media as apps or websites that people use to communicate with others as a form of entertainment",
          "I define social media as a way for people of all ages to socialize nationally and internationally.  I define social media as a way of communicating with each other, but I also see social media as a way for people to lie about who they are or how they truly feel about their own lives. I define social media as an online way of life for people to hide behind a screen.",
          "Social media is a place where people can stay connected with friends and family. It can also be a negative as some post their whole lives making others feel left out, especially with teenagers. It can also be a place where people go and ask others for advice.",
          "I consider social media to be an app used to interact with each other. A place you can have conversations or post info about yourself.",
          "Any online forum that allows sharing of ideas and content amongst its users.  Any site where users benefit from having increased subscribers or likes for their activity/posts",
          "A place where individuals virtually connect. It enhances communication and self promotion. It can cause stress when overused.",
          "Social media has a big effect on kids now in day. They're always comparing themselves to what other kids have and how big their house is",
          "It is a way to socialize with others online. This includes text-based and video-based platforms.",
          "platforms that people share content on, including x, youtube, tiktok, etc",
          "Social Media is an online platform where people share photos and videos and communicate directly and indirectly with others.",
          "apps and websites that allow users to post their own content and see content from others online. they also can communicate with others right publicly or via private messages.",
          "I would say this is any online activity where they are able to interact with others. Or it can also just mean that they are exposed to others online and have an online presence of their own.",
          "An online site that involves seeing other's \"profiles\" and posts/comments, as well as having the ability to reply, comment and communicate with them.  The \"others\" could be anyone from a family member to a friend, to a complete stranger or organization.",
          "Social media is any online platform.These platforms allow my daughter and her peers to connect by chat, or by gaming online. Also platforms like YouTube are used to self-educate her about a variety of interesting topics.",
          "Social Media is website and application that allow users to communicate and share information with one another.",
          "any online platform used for people to connect with each other and conversate",
          "websites that allow you to post pictures and videos of your life.",
          "Social media is recreational but often a great learning tool.",
          "Social media is a platform or website where people can create, share, and interact with content, like photos, videos, and messages. It helps people stay connected, share ideas, and follow news or trends. Examples include Facebook, Instagram, and Twitter.",
          "Any form of contact/connection with acquaintances and strangers digitally or electronically",
          "A place where you can communicate with other people about various topics on different platforms.   A place to make creative content to share with others.",
          "Instagramm, til toc, youtube, message boards",
          "social media is a way to communicate online using websites and apps.",
          "i think that it is a platform that allow people to share, create and interacts with other people on the platform. it also a source of entertainment for many of us. in some way release stress as well",
          "Social media refers to digital platforms and applications that enable users to create, share, and engage with content in real-time. These platforms facilitate communication, networking, and community building through various formats such as text, images, videos, and live interactions. Examples include Facebook, X (formerly Twitter), Instagram, and LinkedIn.",
          "social media is a virtual world where people interact",
          "I would define social media as a way for people to connect.   On some social media that means reconnecting with old friends,  on some that means reaching out to make new friends or connections.  As in real life, some of these connections are healthy and some are not.",
          "I define social media as anything that allows content uploads from individuals and allows comments/viewing from others.",
          "Social applications where people connect/socialize, earn money, and act ridiculous.",
          "Social media are programs online that connect people via posts, videos, music, etc. They include Reddit, Instagram, TikTok, Facebook, Twitter, and others. Social media, because they are online and mostly anonymous can be helpful in accessing lots of different viewpoints, experiences, etc. but can be problematic because people sometimes act poorly and people are not always aware and experienced in using critical thinking to use them.",
          "Instagram, Facebook, Tiktok, Youtube",
          "Applications that people can use to connect with friends online.  Also used to share interesting content with their friends and family",
          "Social media is a platform where you can post about your life, whether it is video or photos, and others can do the same. You can decide who sees your items, choosing either public or personal, on some platforms.",
          "I think of social media as the modes of entertainment that surround the world we live in.  From the apps and live videos that we watch throughout the week, to the constant being inundated with messages and alerts to the various areas in our lives that we allow on a regular basis, it is what keeps us involved.",
          "Any app where you can communicate with other people.",
          "A platform where the public or groups of private individuals share entertaining content for others to engage in outside of private messaging and group messaging. The other members of the social groups can often see who is connected with whom.",
          "Using apps such as tictok, X, etc. Interacting with friends on devices, and using smart phone to track friends activity.",
          "Online platforms or apps where people can communicate and interact with each other in various ways, either through text information, photos, videos or a mix of all of those.",
          "Social Media is a downfall for our society. The lasting impacts on our youth mental health will be studied for decades.",
          "A pox on humanity. An out of control virus that is irreparably harming generations of children.",
          "Any online platform where someone has the ability to post and interact with other platform users.",
          "Social media is any cellphone app or website that promotes their product via social interaction such as games or personal pages to share with friends, family, or the general public.",
          "Social media to me refers to the various apps or websites that people commonly use to communicate with each other and share information about themselves.",
          "Online content that is curated and distributed by society",
          "A platform in which people can communicate with each other, view other peoples profiles and share stuff.",
          "Apps like snap chat and instagram",
          "Social media is a way for kids nowadays to stay in touch with and communicate with their friends. It is a necessary evil.",
          "Social media are digital platforms that allow individuals and companies to advertise (share) directly to an individual or groups of individuals.",
          "define is a platform is where we all go to meet new people,keeps us updated about whats happening around us,inshort it the best thing that has ever happened to mankind but also the worst thig that has ever happened to mankind",
          "Social media refers to online platforms and applications that enable users to create, share, and interact with content, as well as connect with others in real-time. These platforms facilitate communication, networking, and community building across various formats, including text, images, video, and live streaming. Examples include Facebook, X (formerly Twitter), Instagram, LinkedIn, and TikTok.",
          "Social media is a way for people to interact and communicate. I often see my child's activities because I can access his social media from his devices when he's not home.",
          "Social media refers to digital platforms and applications that enable users to create, share and exchange content, as well as to interact with one another in virtual communities.",
          "Programs/apps that allow people to share ideas and information",
          "A platform where a multitude of person display a version of their lives they want others to see.",
          "I fond social media toxic, addictive and a time waste.  We are all so obsessed is sad.",
          "Social media is any digital communication technology that involves mass communication beyond what simple messaging allows.",
          "I would define Social Media as apps that connect people to others through posts which are updated often.  The posts can contain pictures or words.  The ability to comment on a post is a defining feature of social media.",
          "Website or app where you can interact with friends and family",
          "Any sort of platform where one can comment and see what friends are doing",
          "Social media are online platforms that allow consumers to share information and consume information shared by others.",
          "Online space with life connections such as friends and family. Like a public  or private journal.  Facebook, Twitter are examples.",
          "Any online platform that has engagement with others. Social media are platforms like instagram, tik tok, Facebook",
          "Social media is an online platform where people connect, share, and interact through posts, photos, videos, and messages. For teenagers, it's a space for socializing, learning, and self-expression, but it also comes with risks like exposure to inappropriate content, cyberbullying, and pressure to fit in. As a parent, it's important to guide our teens on using social media responsibly while maintaining open communication and setting healthy boundaries.",
          "Any type of electronic interactive media that permits the interaction between people.",
          "Online platform used for engaging with other people either through written text, photos, or videos.",
          "internet entertainment",
          "Media that encourages postings and sharing from a personal perspective. Tracks behavior via algorithms and feeds information. Eg tiktok, Facebook, instagram, x etc.",
          "social media is part of the internet that has to do with social interactions between internet users.",
          "Platform for online entertainment and networking.",
          "An online space when strangers and friends post images or text.",
          "Social Media is a broad term associated with various applications and websites used for communication, social engagement, content sharing, and gaming.",
          "mostly a waste of time I just can't stand all the drama but as far as for friends and family it can be important to stay in touch and to know what's going on",
          "It's overrated, controls kids too much, alot of negativity!! I plan on getting her out of house and off phone soon! ENOUGH is enough",
          "An online social network where people can engage digitally with other people and companies and interest groups.",
          "social media is different sites and apps that allows people to communicate with each other, as well as share content.",
          "Any online communication platforms where people can post photos or comments.",
          "I think social media includes all the phone apps that allow communication or posts. Too many to enumerate.",
          "As a parent, social media can be seen as a digital platform where people, including kids and teens, connect, share, and communicate through text, images, and videos. It's a space for creativity and interaction but also requires guidance to navigate its opportunities and challenges responsibly. For families, it can be a tool for connection or a concern depending on its use.",
          "tick-tock, instagram, facebook, linkedin, reddit, that's what I can think of for now",
          "I would define social media by using snapchat, tiktok, instagram, and twitter. These platforms allow for communication and expression of self and is helpful to meet people.",
          "Any app or website that allows users to post personal pictures, stories, updates. etc.  The public may have the ability to interact with the posts. Likes and Friends and Thumbs Up are inportant.",
          "Social media poses risks to children's mental health, as exposure to curated images can lead to feelings of inadequacy and low self-esteem. Cyberbullying and negative online interactions may further increase anxiety and depression. Parents need to monitor social media use and foster open conversations about online experiences to mitigate these harms.",
          "A distraction from beneficial things. Gossip, leading to resentment.. potential damage relationships",
          "Online platforms where people and businesses share media (content), respond and react to one another's shared posted media, and communicate with one another.",
          "Easily accessible 24/7 online platforms where one can socialize, meet new people, learn, showcase content and receive entertainment.",
          "Platforms that let one put out videos or photos, that the public can see.",
          "online platforms used to socialize. also to study content they find of interest.",
          "Apps/websites designed for connections to others where anything can be posted/said.",
          "Apps to read or post content on the internet.",
          "Social media connects you to others in many ways.  Instagram, snapchat, facebook, are typical ways. However, they will even use Pintrest, youtube, running apps, to connect.",
          "any platform that allows you to connect with people",
          "Social media is generally internet communities where users can connect with friends and strangers, share news, opinions, photos, videos, and look at what other users have posted and shared.",
          "Apps or website that allow people to share about their lives or interact with friends.",
          "Websites and applications that allow you to interact with others. You can share ideas, likes, hates with people from all over the world. Allows you to engage with communities of people that have same interests as well.",
          "It is connecting with others via an electronic device.",
          "any online form used to communicate with others",
          "social media  is any online communications.  it is a way for people  especially distant family  and friends to interact  when they're apart. this allows closeness in long distance relationship",
          "Access to an outside world without limits",
          "An internet platform which main purpose is to enable communication with peers.",
          "Anything that allows my child to interact with others. Snapchat. Instagram. Texting",
          "online platforms with users who make choices to connect to one another sharing different aspects of their lives",
          "Being online and sharing whatever is on your mind or what you're doing, or watching videos. Almost anything online now is social media. aside from gaming",
          "a place where my child can be creative and express themselves and also find communities with the same interest and hobbies like them but keep up with and update family with what is going on in their lives",
          "Online entertainment and ways that people communicate",
          "Any type of online format where you can engage with others. A platform that contains posts, videos, etc., that can be interacted with and viewed by others.",
          "Twitter, tiktok, facebook, pinterest, instagram, snapchat",
          "I define social media as websites and apps people post videos, pictures and life updates of themselves?",
          "Online social apps/websites like Reddit or Tumblr",
          "Social media can be good or bad, It can help with problems and questions about different things. It can alos be bad because everything you can think of is on there.",
          "Apps that promote propaganda in various topics with people commenting/posting about personal stuff",
          "Any online platform that allows people to communicate.  It encompasses a wide variety of platforms, including social networking sites, video-sharing platforms, and professional networking sites. The content shared can range from text, photos, and videos to live streams and interactive posts.",
          "Crap and brain rot",
          "Media where people can go to connect online with other people, through posts, messages, or videos.",
          "YouTube, tik tok instagram",
          "Junk, mostly. And I say that as an avid user of several platforms. Seriously, it is any app or site that allows an agglomeration of people to communicate in some way and share information (and be propagandized and advertised to).",
          "Online pages with communication between users.",
          "Media that is online and it has news or other types of online information but through individual influencers.",
          "I define social media as a way to manipulate the people that use it. I think people cant think for theirselves these days with out the use of social media.",
          "ONline forums for sharing engaging in shared interests and ideas.",
          "It refers to online platform or tools that allows users to create, share, and interact with content or information. The platform enables users to connect, communicate and collaborate with others globally, facilitating the exchange of ideas, experiences, and information.",
          "a platform able to connect with friends and family you dint see often",
          "Social Media includes many platforms that can be used to make connections, keep in contact with friends and family, and showcase talents or express ideas and share knowledge.",
          "Social media is a bunch of online platforms where people can share stuff like photos, videos, and messages with friends and followers. It's a way to stay connected, see what's happening in the world, and interact with others. Examples include apps like Instagram, Snapchat, and TikTok.",
          "It can be a great learning tool. It can also cause a lot of problems.",
          "I would define social media as any media with a social aspect such as the ability to post and share things with others.",
          "These are applicatons - mostly on cell phones - that facilitate communication by way of text or images among friends and strangers.  This can be information sharing or just simple conversation.",
          "It is a place to have fun, share your life, have discussions, find out about the world and each other.",
          "The various platforms that allow people to interact, engage and publish content comprise the social media.",
          "Social media are platforms that people use to \"connect.\" Social media is all fake, and basically poison.",
          "social media is any information provided by sources other than news outlets. can be a single person or an entity",
          "Social media refers to the means of interactions among people in which they create, share, and/or exchange information and ideas in virtual communities and networks. The Office of Communications and Marketing manages the main Facebook, Twitter, Instagram, LinkedIn and YouTube accounts.",
          "I would define it as online communication where people post about their lives.",
          "Any media that is controlled by the users.  I count youtube, snapchat, instagram, facebook, discord, etc.  My child has access to all of these but we constantly discuss what goes on on the apps.",
          "sites that you are able to talk to other people including family friends and even people you dont know on an app or web site",
          "commonly used online platforms which allow for people to interact with each other in various ways such as live chat, messaging, and in comment sections",
          "Social media refers to digital platforms and applications that enable users to create, share, and interact with content in real time. These platforms facilitate communication, networking, and community-building through text, images, videos, and other multimedia formats. Examples include Facebook, Instagram, Twitter, LinkedIn, and TikTok",
          "Sites where ppl can communicate/socialize in real time. Sites where you can post pics, share links, send private messages. A place that can be bad for self esteem as ppl compete for likes, retweets, and followers",
          "this means any website where there are other people sharing things about themselves. it also means any website or app with open communication with others. I also think this means uploading videos and pictures of yourself on a website. anyplace that teens get together and share aspects of their lives and make friends.",
          "I define social media as a connection to friends and family.",
          "I define social media as having access to apps like Facebook, Instagram, SnapChat and TikTok. My son also looks at Youtube a lot.",
          "social media is a platform where people connects with loved ones and also a place where people share ideas and innovatioons . it also enhance the rate at which people broadens their scope in the acquisition of knowledge as there arwe platforms to learn and unlearn from",
          "It is a medium through which individuals interact with the world and get information through communication.",
          "social media are apps where users are allowed to create share and post social contents for entertainments, and information purposes",
          "Social media refers to online platforms and applications that allow individuals to create, share, and interact with content, as well as connect with others through digital communication and networking.",
          "It is an online platform for social interactions and entertainment purposes.",
          "ALLOWING ON APPS SUCH AS FACEBOOK, SNAPCHAT AND INSTAGRAM.",
          "Any type of social website/app such as facebook, discord, snapchat, X (Twitter), instagram,",
          "Connecting via internet or phone with people you know. Watching what other people are sharing via a website.",
          "Facebook, TikTok, all the dating apps, twitter (X), Intagram, WhatsApp, etc.",
          "applications that allow users to create, share, and interact with content, such as text, images, videos, and links. These platforms facilitate communication and social networking, enabling individuals and organizations to connect, collaborate, and engage with a wide audience. Examples include Facebook, Instagram, Twitter, and LinkedIn",
          "Social media enhances communication between current relationships and making new ones. If used properly, you can also gain knowledge about new topics, and even have new experiences. But, it can also manifest crimes, such as identity theft, so it's always important to be aware of what my child's involvement, and at the same time, keep communication open to talk to both us. It's a blessing that we never had any issues on social media over the years, and he's usually very open with us.",
          "Platforms where you interact with others online.",
          "Social media platforms such as Facebook, Twitter, YouTube, etc., that allow people to freely communicate and exchange information and content.",
          "its an online gathering place where people can connect, share ideas and communicate with each other.",
          "Apps used to connect with friends.",
          "social media are websites programs that allow people to communicates and share opinions among themselves",
          "exploring the world through social media",
          "i think social media can be great if only monitored by parents for minors",
          "Anything that they can have conversations in real-time with others",
          "A platform where people in society share their opinions, beliefs, and ordinary everyday happenings.",
          "educating platform",
          "Social media are apps that allow people to interact with other individuals online.",
          "Instagram, Facebook, Snapchar, YouTube, etc.",
          "Online interactions with other peers or influencers.",
          "I define social media as a place people can show their creativity or share their thoughts",
          "Social media refers to digital platforms and tools that allow individuals and organizations to create, share, and interact with content in real time. These platforms enable users to connect, communicate, and build online communities, often through text, images, videos, and other multimedia formats. Social media has become a key aspect of personal expression, business marketing, and global communication.",
          "A tool to interact with people and find out whats happening around the world",
          "communicating with people online, seeing what othes are doing in their lives and talking to them and stayiong in touch with others on the internet",
          "apps online like facebook, Instagram, and snapchat",
          "Social media is a way for people to stay connected with friends and family and share content that's important to you. It's also an outlet to find information on topics that interest you.",
          "forms of electronic communication with other people or entities.",
          "Social media is a method to things about others and ideas online.",
          "An app or platform that allows for the exchange of information and communication among those using the platform.",
          "Part of the internet. people usually follow each other, Collab on videos, make video on life experience",
          "Social media refers to online platforms or tools that allow users to create, share, and interact with content, information, or other users in a virtual environment.",
          "Social media refers to online platforms and applications that enable users to create, share, and engage with content, as well as connect with others in virtual communities. These platforms allow for communication, interaction, and the exchange of information through text, images, videos, and other multimedia. Examples include Facebook, Instagram, X, Snapchat, Thread andd LinkedIn.",
          "Is a medium of communication on the internet where people can communicate with each other using text, photos and videos",
          "A digital hangout where my kids get together and play games with their friends. it is also a different means of communication and entertainment with short videos about any subject you can think of.",
          "it is a space that can be accessed with internet and contains almost everything that can be thought of",
          "Social media refers to digital platforms and applications that enable users to create, share, and engage with content in real time. These platforms, such as Facebook, Instagram, Twitter, and LinkedIn, facilitate communication, networking, and community building among individuals and organizations worldwide. Social media plays a crucial role in information dissemination, brand promotion, and social interactions, shaping modern digital culture and engagement.",
          "this refers to the online community where people engage through various applications designed to enable interactions between people wirelessly either through virtual calls,video calls,instant messaging etc",
          "A place to keep in touch with friends and family, to be entertained, to learn about new topics, to get news, to goof off with friends. I think it can be good and bad depending on how the algorithm is for each individual.",
          "Social media refers to online platforms that allow users to create and share content, connect with others, and build communities. These platforms foster communication, collaboration, and information sharing, influencing how we interact and engage with the world.",
          "I would define social media as anything with online social interactions, which can be something like Facebook, X, Snapchat, TikTok, or watching and commenting on Youtube videos.",
          "a online forum.to post videos and interact with strangers.",
          "an app or website where you use to socialize",
          "Social media refers to an interractive  online platforms and applications that allow users to create, share, and interact with content, as well as connect with others. It includes websites and apps like Facebook, Twitter, Instagram, and LinkedIn, enabling communication, entertainment, and networking on a global scale.",
          "Social media is a digital platform enabling user interaction, content sharing, data exchange, and network analysis.",
          "social media is a communication platform and also a content sharing platfrom.",
          "Social Media includes a wide assortment of websites and apps. Social Media can be apps like facebook where you can be friends with people you know in real life and follow their life updates but it can also be apps like Reddit which are usually anonymous discussion forums.",
          "Social media is an echo chamber for kids and adults to post things hoping to get attention. They care very much about how many likes and comments their posts get, which is the modern version of social popularity.",
          "Social media is online platforms where people share photos, videos, and messages to connect with others. It's a space for communication, entertainment, and staying updated, but it also requires careful monitoring for kids to ensure safety and balance.",
          "Social media encompasses online platforms that allow users to connect, communicate, and share content in real time. Examples include Facebook, Instagram, Twitter, and TikTok",
          "Social media is any platform that allows for people to communicate thoughts, ideas, or anything really.  It's usually a group setting, where their friends can join, and they can also meet people online even if never in reality.",
          "Any online platform used for social engagement",
          "Social media can be defined as activities on the internet such as making friends (social) on the internet platform.",
          "Social media is basically online platforms that enable people to communicate and interact with one another in the digital world. They can create communities where they share messages, photos, videos and other relevant information.",
          "Social media are platforms that allow communication between people and groups.",
          "Social media is any site or app that has a \"social\" purpose, such as Instagram, Be Real, Locket, Facebook, etc.",
          "educating platform",
          "Social media consists of online tools and sites that let people interact by producing and distributing information instantly. These platforms allow for communication, building connections, and sharing various types of content like text, pictures, and videos, as seen on sites like Facebook, Instagram, Twitter, and TikTok",
          "Facebook",
          "any site that has peer to peer socializing",
          "going on facebook,x,or any other social media apps.",
          "services that allow you to connect with other people. usually open to anyone on the internet. sometimes orchestrated by the service's algorithms.",
          "Social media are websites or applications that people share content, information, images for socializing. It can be Facebook, Instagram, SnapChat, Youtube that the kids generally will use.",
          "Apps like facebook , X, Meta etc.",
          "social media refers to online platforms and applications that enable users to connect, interact, and share information with each other through the creation and distribution of content like text, photos, videos, and more , facilitating communication and community building across the internet",
          "Online apps and sites that connect people in various ways and for various reasons:  texting apps,  workout apps, photo sharing, friendship, influence and entertainment, and much more",
          "As a parent, I would define \"Social Media\" as digital platforms where people, including children and teenagers, can connect and communicate with friends, family, and like-minded individuals through sharing posts, photos, videos, and messages. These platforms, such as Facebook, Instagram, and Twitter, have become an integral part of our daily lives, shaping how we interact and stay informed. Social media can be a powerful tool for staying connected but also requires mindful use to ensure a positive and safe experience for our children.",
          "Social media is has both good and bad sides. It can be beneficial and educational. And it can also have a negative impact on a child's self esteem as well as giving them a false sense of reality.",
          "Various on line platforms that allow for vague social connections to occur through a variety of communication devices.",
          "I define social media as entertainment.  Social media effects different people in different ways.  It may be hard for some to differentiate reality from true life based on posts.",
          "Social media use involves using platforms like Facebook, Instagram, and X to share information and ideas, and to interact with others.",
          "Social media refers to digital platforms and tools that allow users to create, share, and interact with content in virtual communities and networks. These platforms enable users to connect, communicate, and engage with others by posting text, images, videos, and other media. Some of the most popular social media platforms include Facebook, Instagram, and Tik Tok.",
          "Online platforms that enable users to create and share content and interact with each other.",
          "An online connection to information about people, places, and things.",
          "controlling and evil",
          "Online connections. Use of apps to communicate with friends. Online sources of news",
          "Watching influencers, funny videos, getting contact with people like you, get in contact with friends/ family. Play video games with other people, join groups and talk to like people about things you like are are interested in like them.",
          "Somewhere to go and see what everyone is doing in their lives and to keep up to date on family and friends",
          "Social Media is websites and apps that allow people from across the world to communicate with each other. Communication happens in both public and private sppaces.",
          "i think it is something that has started to destroy us...it is not necessary for any reason other than to compare cut down and spread lies...it is beyond us as humans to use it wisely",
          "Its an online platform that helps you keep in touch with friends and family",
          "Discussion forums where people can post thoughts, memes, etc. Or chat.",
          "Being able to access Instagram, Tik Tok, Snapchat, Facebook, movies, videos,",
          "Social media would be any online social hub in which a person can interact with their friends and family. It can also be a source of entertainment when reading and watching some content.",
          "Apps where anyone can post almost whatever they want to in terms of comments, thoughts, videos, and/or share what other people have posted. Social media is a communal space so there is a wide range of topics, attitudes, and beliefs being shared.",
          "Social Media is the use of the internet to browse, and interact with people that you may or may not know. Social media has little restrictions and is not heavily monitored.",
          "Any app or website where people can see each other, connect with each other and communicate. Can include communities and groups as well as images, videos, content.",
          "It's a place where you can make friends, see what others are doing, and learn new things",
          "TikTok, Twitter, Facebook, Instagram, Reddit, Omegle, etc. Anywhere where you can interact with others online that can be people you know or people you have never met.",
          "group communications allowed and enhanced by web technology",
          "An outlet to stay in touch with old friends, new friends. Allows you the freedom to speak what's on your mind and post pictures, video's etc.",
          "Online sites where people share posts about their life, interests, family and more. It is a good way to see lots of fun stuff, like puppies.",
          "Digital places where people can share what they like and see what other people share whether it is through messages, pictures, videos, memes or any other form of communication.",
          "Online platforms that foster interaction and engagement with other people, typically with text, pictures, and videos.",
          "Applications like Facebook, Instagram, and TikTok that allow people to converse online, not in real-time.",
          "Social media is an open information. Just any kind of information, events, news, trends, etc. Social media is the kind of information that you can get practically online.",
          "Media that is used by society. It can be used to gather information. It can be used to keep up with friends.",
          "social media is a tool for keeping track of friends and loved ones. it started that way at least. i'm not so sure I like it much anymore. there are far too many opportunities for kids too be bullied, lose their self esteem and possibly be even physically hurt do to an interaction. there is a lot of negativity on there.",
          "online apps including tik-tok, instagram, snapchat, etc. It could maybe be extended to include video game chatrooms.",
          "Apps or websites that let people interact with people. Examples would be Facebook, Twitter, Instagram, etc.",
          "Applications on smartphones and laptops that allow people to communicate with pother people without actually being in the same place. A place to share ideas, opinions and interests with other likeminded people.",
          "A website where people communicate with each other and have access to world news and media",
          "Social media to me means apps that you can connect with other people. You can also watch videos & learn new things. You can also watch & listen to other peoples views on current events.",
          "This form of media aims to connect individuals from various cultures and locations across the globe.  This media allows said individuals to communicate and share information without being in the same room or nearby.",
          "Social media is where people go online to share their thoughts, photos, and videos, and stay connected with friends, family, and communities",
          "I believe in this day and age it is a necessary evil. We need it to stay connected but we have to stay vigilant and watch out for predator's. Educate yourself (and your children) on the toxicity that is social media.",
          "Social media are platforms people go on when they want to socialize and meet new people, or catch up",
          "online platforms that used for communication, and sharing of data like photos, videos and comments.",
          "Social Media can be both: good and bad, depending on how it's used. In now days we are so addictive we almost can not survive without SM. i am happy and same time not happy that we have it. Happy that I can find anything I want, not happy because I see so much tragedies, bad news and it makes me depressed.",
          "Content created by peers and influencers to express some sort of pop culture expressions or opinions about life.",
          "Social Media is online content from various applications that connect people to information created by people and companies. The content contains company advertisements, news, and personal stories posted online to different platforms.",
          "Online interaction with others.",
          "Tic tok  Instagram  Snap chat",
          "Social media are apps or websites that connect the user with the greater society and friends.",
          "Online platforms where you connect with others, and can message others directly, but also post more broadly to your community of selected friends or the public at large.",
          "anything my child can connect with other individuals on, so instagram, Facebook twitter, YouTube, Tik Tok, reddit, forums, etc.",
          "Ways to create content, keep in touch with people, and learn about things that are happening",
          "communication with the outside world where you would have never seen before. Ability to keep up with the latest trends with just click of a few buttons",
          "I would define it as a way to digitally communicate and engage with people and groups.",
          "A platform that allows posts, and grading of pictures or events with a thumbs up or down",
          "a platform for communication and sharing of common themes",
          "Social media is a digital space where people connect, share content, and engage in conversations across various platforms. It serves as a tool for communication, networking, and marketing., shaping the way individuals and businesses interact with the world. While it offers opportunities for connection and exposure, it also comes with challenges like misinformation, privacy concerns, and the impact of constant online engagement.",
          "A place where people can connect over shared ideas and interests. However, it has been watered down with fake profiles and dishonesty.",
          "any web site they can chat with friends on.",
          "Social media is a way for people to communicate with others. It can also be a learning tool if you are on a social media platform and learn about something that someone may have posted. When I think about social media and how many hours a day people spend on it, I often wish that social media never existed. I think the world was better off without it. People actually used the landline telephone to contact a friend or family member. They also weren't afraid to communicate face to face unlike so many people are today.",
          "I think it has negative influences. I think kids shouldn't spend so much time on social media. I think it takes away real life human interaction a lot of times.",
          "I'm 50-50 on this some social media is good. It helps them create dialogue and interaction with each other and that's just the way it is because of the new technology that we have these days for our youth. So it's good for them to get acquainted and to get involved in communicating with each other, and I think that it sets a good stage for the rest of their future. Now having said that do I wish it was this way no, I do not. I'm from the time where you worked every day with your hands you got up you went to work and these days it's not like that anymore. But I'm not going to deny my child a good future just because I don't like something.",
          "The ability to share personalized content and memories to the world. The ability to see other people you may know or that are famous, content and memories as well.",
          "Social media is a platform where you can learn, and meet people on",
          "online site for viewing",
          "social media is very addictive. Sometimes people are cruel to other people on Social media. But there is also alot of good with Social media because you can keep up with friends and family.",
          "Phone apps such as TikTok, Snapchat, Instagram, Facebook and X",
          "Social Media includes various platforms where individuals can interact through various means of communication.",
          "A place where people from all over the world meet to interact or keep each other updated on what's going on in their lives and where people are kept up to date with different happenings worldwide.",
          "I would define it as a website where people can join and create accounts to form a connection they may not have in person.",
          "A platform where they can connect with others online and can share content about themselves.",
          "Social media is online interaction and platforms that exposes my child to any kind of life experiences thru a social network they can interact with,",
          "apps or sites on which people connect with others via posts, photos, and comments. may connect with people they know in real life or strangers, often with similar interests.",
          "Social media is comprised of websites and apps that allow for electronic interfacing between individuals and audiences.",
          "Social media are online platforms designed to virtually connect people and share experiences.",
          "Social media is away for people to connect through shared interests. It provides a means of communication and exploration.",
          "Engaging various websites either through computer or apps on a smartphone/tablet for the purpose of connecting with others in a social environment.  The most commonly used apps would be;  youtube, facebook, snapchat, instagram, tiktok.",
          "Apps that you can share things about yourself and read things about others and connect. Apps where you can develop and maintain long distance friendships",
          "Social media are those web based or app based programs used to connect with friends and family, other organizations, celebrities, and topics of interest.",
          "Web sites where a community of people talk to each other through words or videos.",
          "Social Media is a way that people can connect and communicate with each other virtually. There is no need to meet up in person when you can meet up with friends on social media. It is a way for people to be entertained when they are bored.",
          "a place online where people from all over can interact and communicate",
          "application where anyone can write anything",
          "Applications where you interact with other people based on a variety of interests or commonalities",
          "a online forum that lets you engage with other people.",
          "platforms on your phone and computer that are for socializing with family and friends.",
          "Any of the online platforms where you can interact with other people and directly or indirectly communicate.",
          "A platform where you can talk with or work with different people throughout the community and gain access to and or learn new information",
          "Any app or website where you have a username and a list of contacts that you communicate with through the app or website",
          "Social media is any online platform where information and ideas are freely shared between users",
          "Social media is online platforms like Facebook and Twitter. Members share and create content to share with others.",
          "A place on the internet where you keep up with friends, family, loved ones, and co-workers. Sometimes look for relationships/ love.",
          "Anything posted by another person.  Examples include SnapChat, Facebook TikTok, Lemon8",
          "Social Media is the usage of app such as Snapchat, Instagram, FB, and Tik Tok. These apps allow people to socialize and have a glimpse into others' lives. It is also a means of communicating with \"friends.\"",
          "An ever growing cesspool of soft porn, political theater and distractions from reality.",
          "Social media are the different platforms now a days available yo keep in touch with friends and others .they can be access via cell phone, or computers",
          "Social media includes engaging with people in online platforms. Engagement ranges from viewing content, commenting/liking/saving/sharing content, and posting/creating content. While it's \"social\" it is not constrained to just people who you know in real life but can be ANYONE.",
          "Social Media is a lot of different things. It is a big online meeting place. It is a place where thoughts and ideas can be shared. People can share products and teach others things. Social media can be a not so positive place as well. There are people who will prey on others or bully others.",
          "Social Media is a great opportunity to help children grow, only if it is used in the right way. This can be a great advancement to children that have special needs,only if it is used responsible.  This is an opportunity to let some children feel like they are involved in things that other children are able to do, makes children feel accepted and this is great.",
          "technology that allows you to stay in touch with friends and family. it allows you to communicate and share what is going on in your life, and she what is going on in others.",
          "Facebook, instagram, X.  All are social media apps.",
          "Commercial websites that allow users to connect with other users (that they may or may not know in real life) and share images, text updates, and other information with each other. These can also be online communities of like-minded individuals who may not know each other in real life.",
          "Apps that are used to communicate in some way to other people through viewing, liking other people's content.",
          "Social Media is application  such as: Instagram, Facebook, and  Snapchat",
          "Any kind of application or platform where people can share photos, ideas, etc. and has messaging capabilities or comment features.",
          "Media platform where others can provide content and interact.",
          "Media that is meant to socially connect with other users on an online platform.",
          "I would define social media as places online that encourage and promote and allow people to leave comments or engage with what someone else has to say. This would include places where people can comment on something, as well as places that allow people to contact each other directly or interact with someone's posting directly online.",
          "Apps such as SnapChat, Tiktok, IG, YouTube, facebook and Twitter",
          "Social media is Facebook, snap, Instagram, etc.",
          "social media is any online social platform",
          "I would define social media as a fantasy land.",
          "Social media is very addictive and a bad influence for the younger generation.  It can be predatory.  It should be primarily used for business purposes.",
          "Media that allows other people into your lives via the internet",
          "Social media are apps such as instagram, facebook, tiktok where you follow content creators.",
          "Accessing any of the apps that include: Facebook, Instagram, Snapchat, Twitter, and I'm sure there are more platforms I am unaware of. It's a platform to communicate with others, sharing info, and viewing news and other interests.",
          "Facebook, tic tock snapchat. things for people to share thier life online",
          "Any type of site that connects the user to other users. Sites that either have you observe others or communicate with others and share photos and information.",
          "being online interacting with others whether words pictures or calls",
          "Platform for people to interact. Many families, people and groups.",
          "Media that is peer based",
          "Sites where personal activities, accomplishments and events are posted and available for others to view.",
          "a place to connect socially",
          "It can be good sometimes when you are chatting with family and friends. It can be bad sometimes because of bad content being put out there that is not good.",
          "Social media, from my perspective, would be defined by anything being media content (usually online) that is meant to be shared with people that you socialize with, or even do not regularly socialize with.",
          "Something that was meant to connect us, but has only driven a wedge further and further into society.  It was a great idea till politics got involved.",
          "Facebook, Instagram, Tik-Tok, Snap chat.  Any media or app that involves communication with other individuals.",
          "Social media is a platform that allows for interaction with others.  It can include people you know. It can also include people you do not know.",
          "Social media refers to interactive technologies that enable the creation, sharing, and exchange of information, ideas, and interests among virtual communities and networks.",
          "social media is being able to interact with other people in an online platform. whether it be through text messaging video call phone calls it is also a place to post kind of like a daily journal or just random things that are happening to you pictures also stories or videos.",
          "People posting mostly only highlights of their lives which gives a very biased perception of their lives to others which may lead to others feeling less than.",
          "Social media is online individual and group visibility with commentary.",
          "social media is a platform to connect with people you know and have known throughout your life. You can also meet new people here.",
          "Social media would be a method of communicating through apps and websites. Snap, instagram, facebook, tiktok, etc...  So websites and apps that are mostly used for social engagment.",
          "Social media is online platforms where people connect, share content, and interact in real time. Facebook, Instagram, and TikTok, where people post photos, videos, and messages. Basically, it's how people stay in touch, express themselves, and keep up with what's happening.",
          "Online app or website that allows for interaction and data sharing.",
          "It's a way for kids to communicate with one another.  It also keeps them up on what they're doing and when they're doing it and with whom they're spending time.",
          "it's where people connect and talk online. that could be by messaging,video, or voice. anywhere online from Facebook, Twitter, reddit, YouTube.",
          "A way to connect with other people online. A form of online entertainment or news.",
          "Apps of websites that keep people in touch with others, advertise something or someone, a platform to tell about ones self, to keep photos or timelines of certain things.",
          "I would define it as access to modern online entertainment, libraries, and communication through the internet.",
          "A platform to communicate with other people.",
          "Social media is a place that has the audience and the influence both negatively and positively, dependent on how it is used",
          "Any app or website that allows you to communicate with others socially or professionally.",
          "I don't like it at all. I think it can be a brag board for some people and can make other people feel bad as though they have less or are doing less.  It can let people know all the activities they are doing and you or your kids aren't included - resulting in your kids feeling left out or that their life is less interesting. I honestly see more negatives than positives.  Everyone is on their phones all of the time. No one talks to each other.  No one calls anyone. Text or not talk at all. It's a quieter world",
          "I define social media as any application that allows online interaction between people, such as facebook, instagram, snapchat, etc.",
          "A platform where you can interact with friends online.",
          "Instagram, Facebook, Discord, Snapchat, TikTok, Youtube",
          "It can be a good thing and bad thing. There are some educational and informative things on there. But there are also things on there you don't want your children to see.",
          "websites and apps where people are social and communicate with one another",
          "Social media refers to digital platforms and websites that allow individuals to create, share, and exchange content, ideas, and information with others in virtual communities. These platforms enable users to interact with one another through posts, comments, messages, and multimedia like photos and videos. Popular examples include Facebook, Instagram, Twitter, LinkedIn, and TikTok.",
          "Anything that allows the user to post something online where others can see it.",
          "Online environments that people utilize that expand your social interactions with others, virtually.",
          "Media that is primarily delivered by non-official media sources.  Mainly people posting and interacting with other people.  There are companies who are legit news sources that operate on social media platforms.",
          "tick tock messenger Facebook social apps like that I let them use but I do monitor it regularly",
          "Any type of app that allows communication or connecting with other people.  This could be communicating directly or posting about activities.",
          "It is a hinderance. A thorn in the side of society, yet has become a necessary evil.",
          "An online environment where you can go to interact with other people, businesses, celebrities, and family and friends. You can use it to share pictures and videos and also type stories and news as well to let others know what is going on in the world around you. You can also use it to shop and sell things and entertain yourselves and learn too",
          "It's a way to connect with friends and family",
          "social media betrays what people want you to know! it gives the image that everyone is living a wonderful life, but behind the scenes it's very different. social media is fake and has kept us from visiting our friends and family because we see a post we feel we are connected. social media is damaging to our mental health.",
          "Social Media is anything online that a person wants to look up or find information on anything",
          "Social media is access to more information than possibly needed for people.  It has changed the direction of the world.",
          "Social media is a digital platform that allows people to create and share content with others. Its purpose is to facilitate communication through text, videos, photos or images, and live, real-time videos.",
          "Online networking",
          "Social media is a place we learn and get to see some people who have different kinds of lifestyles,",
          "It's a online platform  that allows people to  communicate with family and friends and to share opinions and ideas. To receive and share information through online networks and communities.",
          "a learning venue able to research interesting items , relaxation listening to music and watching videos, ability to socialize with people from all over the world",
          "Social media refers to online platforms and applications that enable users to create, share, and engage with content while interacting with others. These platforms facilitate communication, networking, and community building through various formats such as text, images, videos, and live streams. Examples include Facebook, Instagram, Twitter, and TikTok.",
          "Any platform where someone is interacting with others they may or may not know.",
          "Social media allows one to connect with family and friends. It also is entertaining and can be educational depending on one's interests",
          "an online platform of a massive amount of information most of which is not even accurate",
          "websites like tiktok and instagram",
          "Social Media is any online platform. It is comprised of YouTube, Instagram, TikTok, Twitter, Facebook, and any other site where you can talk to people. Basically to me Social Media is the internet.",
          "A terrible invention. It is the downfall of human civilization.",
          "Social media is a way for people to interact with others whether for promoting jobs, getting to know people, people getting to know you, promoting themselves. to sell or purchase items, it is a form of being you whether it's the real you or not.",
          "i would define social media as an open forum for everyone in the world to connect and share thoughts feelings and communication to everyone who wishes to listen.",
          "Sites that are focused on social interactions.  For our family this would NOT include youtube because we all watch longform content on there, for my son its mostly gardening and history.  Reddit falls in the middle, my son is mostly on native plant redit and gardening redit.",
          "social media is an addictive application that is designed to keep people scrolling endlessly. social media can also be used to keep in touch with family and friends and keep updated on each other's lives.",
          "Electronic websites that allow people to interact with one another, play games, and connect with one another.",
          "facebook and instagram and snapchat",
          "To me social media mean any type of platform like facebook or ticktok snap chat where they meet and chat with friends or just scroll for videos to watch or search for how to do thngs like on utube.",
          "Social media is any online platform where people can engage with others. Whether this is with posts, pictures or live videos, it's all social media.",
          "An online platform for interacting with others. Where one can socialize with others via many different ways that they choose.",
          "I way to interact with more people over any distance",
          "I would define social media as somewhat positive, but also somewhat negative. It is good for my quiet son to interact with friends, but it also leads to comparisons and feelings of missing out.",
          "It is instant messaging system, like twitter, facebook.",
          "apps that allow them to see other people and vice-versa",
          "It is a way to connect and interact with other people with technology.",
          "Having friendships online instead of in person.",
          "Social media can be a great experience to keep in touch with family friends, Social media can be detrimental to sell esteem. Social media can be dangerous.",
          "Social media encompasses various platforms. The platforms enable people to connect online to share ideas, meet, and discover new trends and products. Social media can be a great tool for keeping people connected when using appropriately.",
          "Social media has its positives and negatives. If it it used right it can be helpful.",
          "I enjoy social media but I think it has consumed many lives.",
          "It is the use of apps and websites that you post photos and other posts. You can look at others posts and interact with them",
          "Media accounts that show personal posts of people. It can range from life experiences, to products, to opinions.  It is a camera into other people's lives. It is also a comparison trap. It can be used for good and friendly communication, but also used for hate. It is a two-edge sword.",
          "I would explain social media as any online platform where you can contact and interact with other people virtually.",
          "Usually Facebook, but later expanded to Discord, Line, Instagram, Snapchat as well as others.  He was very responsible at first, so we eased off a bit.  He slowely took advantage and destroyed any trust we had in his behaviour.",
          "Online sharing of knowledge and opinions is the useful part. I also understand fun and meme culture we are in so also this.  Overall the shared opinions and or information true or not online.",
          "Social media refers to digital platforms and applications that allow users to create, share, and interact with content and each other in real-time. It enables communication, networking, and the exchange of ideas, images, videos, and other forms of media. Examples include platforms like Facebook, Instagram, X (formerly Twitter), and LinkedIn.",
          "it is a means of communications and making new friends .",
          "It is a site where you get to socialize and learn new things about the world, get entertained and communicate effectively with other people across the globe",
          "Various digital platforms that allow people with access to communicate and share their lives and ideas.",
          "any online or non online place that people get news or information from that is not fact checked and not a reconized media..",
          "Social media refers to online platforms and applications that enable users to create, share, and interact with content in real time. These platforms facilitate communication, networking, and community building through text, images, videos, and other media. Examples include Facebook, Instagram, X (formerly Twitter), TikTok, and LinkedIn.",
          "Social media refers to online platforms that enable users to create and share content, connect with others, and build virtual communities. These platforms facilitate communication through various forms of media, including text, images, and videos!",
          "Social media is where people connect, share, and interact online through posts, photos, videos, and messages. It's a way to stay in touch, express yourself, and keep up with what's happening in the world. Popular platforms include Facebook, Instagram, TikTok, and Twitter.        Social media is where people connect, share, and interact online through posts, photos, videos, and messages. It's a way to stay in touch, express yourself, and keep up with what's happening in the world. Popular platforms include Facebook, Instagram, TikTok, and Twitter.        Social media is where people connect, share, and interact online through posts, photos, videos, and messages. It's a way to stay in touch, express yourself, and keep up with what's happening in the world. Popular platforms include Facebook, Instagram, TikTok, and Twitter.",
          "Social media are digital platforms that allow users to create profiles, share content, interact and communicate with other people or online communities. They facilitate connection, exchange of information and participation in social, professional or entertainment activities.",
          "Apps that have videos and ways to communicate with each other.  Online platforms for being social.",
          "Digital technology that facilities the social connection between it's users, either through one sided forms of media like movies and television or peer to peer forms like SMS.",
          "To me, social media is a technological space in which people can interact and do almost anything they want, granted they have access. It is a space that facilitates the creation and sharing of content amongst peers or strangers via communities and networks.",
          "It is good to have if used in the right way. It is an essential part of life. Communication has decreased since technology had evolved.",
          "Different applications or websites that people can share posts , make posts or like or dislike post from others. They can follow other people and others can follow them, therefor eit is a social site.",
          "Social media is one of the many modern ways people communicate. It has become extremely prevalent with younger people.",
          "It is apps like snapchat, instagram, etc where they can post and comment on others posts.",
          "social media is any app or online platform used to share creative content and/or personal insights or opinions.",
          "My definition of social media includes applications such as Instagram, TikTok, X (Twitter), Facebook, Redditt, etc.",
          "Social media is about a way to communicate online with other people.",
          "Social media refers to online platforms or tools that allow users to create, share, and interact with content, information, or other users in a virtual environment. These platforms enable users to connect, communicate, and collaborate with others globally, facilitating the exchange of ideas, experiences, and information.",
          "I think of Facebook, TikTok, Instagram, and whatever else the kids use these days. I think now just about everything is encompassed like YouTube, SnapChat, stuff like that.",
          "Any of the apps, facebook, instagram, tik tok snap chat etc. basically anything on a phone",
          "Social media is where friends can connect and share similar interests. A person can also communicate with friends and find out what they are doing. One can also use social media to post thing about their activities to share with friends and family so that they can share the experience."
         ],
         "type": "scatter",
         "x": {
          "bdata": "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",
          "dtype": "f8"
         },
         "y": {
          "bdata": "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",
          "dtype": "f8"
         }
        }
       ],
       "layout": {
        "annotations": [
         {
          "bgcolor": "rgba(255, 255, 255, 0.8)",
          "font": {
           "color": "black",
           "size": 12
          },
          "showarrow": false,
          "text": "Spearman correlation: 0.87 (p-value: 6.39e-312)<br>Pearson correlation: 0.87 (p-value: 4.30e-311)",
          "x": 0.5,
          "xref": "paper",
          "y": 0.1,
          "yref": "paper"
         },
         {
          "font": {
           "color": "orangered",
           "size": 10
          },
          "showarrow": false,
          "text": "Similarity score to <br>definition < 0.25",
          "x": 0.25,
          "xanchor": "right",
          "xref": "x",
          "y": 0.5,
          "yanchor": "middle",
          "yref": "y domain"
         }
        ],
        "height": 700,
        "shapes": [
         {
          "line": {
           "color": "orangered",
           "dash": "dash",
           "width": 2
          },
          "opacity": 0.5,
          "type": "line",
          "x0": 0.25,
          "x1": 0.25,
          "xref": "x",
          "y0": 0,
          "y1": 1,
          "yref": "y domain"
         }
        ],
        "showlegend": false,
        "template": {
         "data": {
          "bar": [
           {
            "error_x": {
             "color": "#2a3f5f"
            },
            "error_y": {
             "color": "#2a3f5f"
            },
            "marker": {
             "line": {
              "color": "#E5ECF6",
              "width": 0.5
             },
             "pattern": {
              "fillmode": "overlay",
              "size": 10,
              "solidity": 0.2
             }
            },
            "type": "bar"
           }
          ],
          "barpolar": [
           {
            "marker": {
             "line": {
              "color": "#E5ECF6",
              "width": 0.5
             },
             "pattern": {
              "fillmode": "overlay",
              "size": 10,
              "solidity": 0.2
             }
            },
            "type": "barpolar"
           }
          ],
          "carpet": [
           {
            "aaxis": {
             "endlinecolor": "#2a3f5f",
             "gridcolor": "white",
             "linecolor": "white",
             "minorgridcolor": "white",
             "startlinecolor": "#2a3f5f"
            },
            "baxis": {
             "endlinecolor": "#2a3f5f",
             "gridcolor": "white",
             "linecolor": "white",
             "minorgridcolor": "white",
             "startlinecolor": "#2a3f5f"
            },
            "type": "carpet"
           }
          ],
          "choropleth": [
           {
            "colorbar": {
             "outlinewidth": 0,
             "ticks": ""
            },
            "type": "choropleth"
           }
          ],
          "contour": [
           {
            "colorbar": {
             "outlinewidth": 0,
             "ticks": ""
            },
            "colorscale": [
             [
              0,
              "#0d0887"
             ],
             [
              0.1111111111111111,
              "#46039f"
             ],
             [
              0.2222222222222222,
              "#7201a8"
             ],
             [
              0.3333333333333333,
              "#9c179e"
             ],
             [
              0.4444444444444444,
              "#bd3786"
             ],
             [
              0.5555555555555556,
              "#d8576b"
             ],
             [
              0.6666666666666666,
              "#ed7953"
             ],
             [
              0.7777777777777778,
              "#fb9f3a"
             ],
             [
              0.8888888888888888,
              "#fdca26"
             ],
             [
              1,
              "#f0f921"
             ]
            ],
            "type": "contour"
           }
          ],
          "contourcarpet": [
           {
            "colorbar": {
             "outlinewidth": 0,
             "ticks": ""
            },
            "type": "contourcarpet"
           }
          ],
          "heatmap": [
           {
            "colorbar": {
             "outlinewidth": 0,
             "ticks": ""
            },
            "colorscale": [
             [
              0,
              "#0d0887"
             ],
             [
              0.1111111111111111,
              "#46039f"
             ],
             [
              0.2222222222222222,
              "#7201a8"
             ],
             [
              0.3333333333333333,
              "#9c179e"
             ],
             [
              0.4444444444444444,
              "#bd3786"
             ],
             [
              0.5555555555555556,
              "#d8576b"
             ],
             [
              0.6666666666666666,
              "#ed7953"
             ],
             [
              0.7777777777777778,
              "#fb9f3a"
             ],
             [
              0.8888888888888888,
              "#fdca26"
             ],
             [
              1,
              "#f0f921"
             ]
            ],
            "type": "heatmap"
           }
          ],
          "histogram": [
           {
            "marker": {
             "pattern": {
              "fillmode": "overlay",
              "size": 10,
              "solidity": 0.2
             }
            },
            "type": "histogram"
           }
          ],
          "histogram2d": [
           {
            "colorbar": {
             "outlinewidth": 0,
             "ticks": ""
            },
            "colorscale": [
             [
              0,
              "#0d0887"
             ],
             [
              0.1111111111111111,
              "#46039f"
             ],
             [
              0.2222222222222222,
              "#7201a8"
             ],
             [
              0.3333333333333333,
              "#9c179e"
             ],
             [
              0.4444444444444444,
              "#bd3786"
             ],
             [
              0.5555555555555556,
              "#d8576b"
             ],
             [
              0.6666666666666666,
              "#ed7953"
             ],
             [
              0.7777777777777778,
              "#fb9f3a"
             ],
             [
              0.8888888888888888,
              "#fdca26"
             ],
             [
              1,
              "#f0f921"
             ]
            ],
            "type": "histogram2d"
           }
          ],
          "histogram2dcontour": [
           {
            "colorbar": {
             "outlinewidth": 0,
             "ticks": ""
            },
            "colorscale": [
             [
              0,
              "#0d0887"
             ],
             [
              0.1111111111111111,
              "#46039f"
             ],
             [
              0.2222222222222222,
              "#7201a8"
             ],
             [
              0.3333333333333333,
              "#9c179e"
             ],
             [
              0.4444444444444444,
              "#bd3786"
             ],
             [
              0.5555555555555556,
              "#d8576b"
             ],
             [
              0.6666666666666666,
              "#ed7953"
             ],
             [
              0.7777777777777778,
              "#fb9f3a"
             ],
             [
              0.8888888888888888,
              "#fdca26"
             ],
             [
              1,
              "#f0f921"
             ]
            ],
            "type": "histogram2dcontour"
           }
          ],
          "mesh3d": [
           {
            "colorbar": {
             "outlinewidth": 0,
             "ticks": ""
            },
            "type": "mesh3d"
           }
          ],
          "parcoords": [
           {
            "line": {
             "colorbar": {
              "outlinewidth": 0,
              "ticks": ""
             }
            },
            "type": "parcoords"
           }
          ],
          "pie": [
           {
            "automargin": true,
            "type": "pie"
           }
          ],
          "scatter": [
           {
            "fillpattern": {
             "fillmode": "overlay",
             "size": 10,
             "solidity": 0.2
            },
            "type": "scatter"
           }
          ],
          "scatter3d": [
           {
            "line": {
             "colorbar": {
              "outlinewidth": 0,
              "ticks": ""
             }
            },
            "marker": {
             "colorbar": {
              "outlinewidth": 0,
              "ticks": ""
             }
            },
            "type": "scatter3d"
           }
          ],
          "scattercarpet": [
           {
            "marker": {
             "colorbar": {
              "outlinewidth": 0,
              "ticks": ""
             }
            },
            "type": "scattercarpet"
           }
          ],
          "scattergeo": [
           {
            "marker": {
             "colorbar": {
              "outlinewidth": 0,
              "ticks": ""
             }
            },
            "type": "scattergeo"
           }
          ],
          "scattergl": [
           {
            "marker": {
             "colorbar": {
              "outlinewidth": 0,
              "ticks": ""
             }
            },
            "type": "scattergl"
           }
          ],
          "scattermap": [
           {
            "marker": {
             "colorbar": {
              "outlinewidth": 0,
              "ticks": ""
             }
            },
            "type": "scattermap"
           }
          ],
          "scattermapbox": [
           {
            "marker": {
             "colorbar": {
              "outlinewidth": 0,
              "ticks": ""
             }
            },
            "type": "scattermapbox"
           }
          ],
          "scatterpolar": [
           {
            "marker": {
             "colorbar": {
              "outlinewidth": 0,
              "ticks": ""
             }
            },
            "type": "scatterpolar"
           }
          ],
          "scatterpolargl": [
           {
            "marker": {
             "colorbar": {
              "outlinewidth": 0,
              "ticks": ""
             }
            },
            "type": "scatterpolargl"
           }
          ],
          "scatterternary": [
           {
            "marker": {
             "colorbar": {
              "outlinewidth": 0,
              "ticks": ""
             }
            },
            "type": "scatterternary"
           }
          ],
          "surface": [
           {
            "colorbar": {
             "outlinewidth": 0,
             "ticks": ""
            },
            "colorscale": [
             [
              0,
              "#0d0887"
             ],
             [
              0.1111111111111111,
              "#46039f"
             ],
             [
              0.2222222222222222,
              "#7201a8"
             ],
             [
              0.3333333333333333,
              "#9c179e"
             ],
             [
              0.4444444444444444,
              "#bd3786"
             ],
             [
              0.5555555555555556,
              "#d8576b"
             ],
             [
              0.6666666666666666,
              "#ed7953"
             ],
             [
              0.7777777777777778,
              "#fb9f3a"
             ],
             [
              0.8888888888888888,
              "#fdca26"
             ],
             [
              1,
              "#f0f921"
             ]
            ],
            "type": "surface"
           }
          ],
          "table": [
           {
            "cells": {
             "fill": {
              "color": "#EBF0F8"
             },
             "line": {
              "color": "white"
             }
            },
            "header": {
             "fill": {
              "color": "#C8D4E3"
             },
             "line": {
              "color": "white"
             }
            },
            "type": "table"
           }
          ]
         },
         "layout": {
          "annotationdefaults": {
           "arrowcolor": "#2a3f5f",
           "arrowhead": 0,
           "arrowwidth": 1
          },
          "autotypenumbers": "strict",
          "coloraxis": {
           "colorbar": {
            "outlinewidth": 0,
            "ticks": ""
           }
          },
          "colorscale": {
           "diverging": [
            [
             0,
             "#8e0152"
            ],
            [
             0.1,
             "#c51b7d"
            ],
            [
             0.2,
             "#de77ae"
            ],
            [
             0.3,
             "#f1b6da"
            ],
            [
             0.4,
             "#fde0ef"
            ],
            [
             0.5,
             "#f7f7f7"
            ],
            [
             0.6,
             "#e6f5d0"
            ],
            [
             0.7,
             "#b8e186"
            ],
            [
             0.8,
             "#7fbc41"
            ],
            [
             0.9,
             "#4d9221"
            ],
            [
             1,
             "#276419"
            ]
           ],
           "sequential": [
            [
             0,
             "#0d0887"
            ],
            [
             0.1111111111111111,
             "#46039f"
            ],
            [
             0.2222222222222222,
             "#7201a8"
            ],
            [
             0.3333333333333333,
             "#9c179e"
            ],
            [
             0.4444444444444444,
             "#bd3786"
            ],
            [
             0.5555555555555556,
             "#d8576b"
            ],
            [
             0.6666666666666666,
             "#ed7953"
            ],
            [
             0.7777777777777778,
             "#fb9f3a"
            ],
            [
             0.8888888888888888,
             "#fdca26"
            ],
            [
             1,
             "#f0f921"
            ]
           ],
           "sequentialminus": [
            [
             0,
             "#0d0887"
            ],
            [
             0.1111111111111111,
             "#46039f"
            ],
            [
             0.2222222222222222,
             "#7201a8"
            ],
            [
             0.3333333333333333,
             "#9c179e"
            ],
            [
             0.4444444444444444,
             "#bd3786"
            ],
            [
             0.5555555555555556,
             "#d8576b"
            ],
            [
             0.6666666666666666,
             "#ed7953"
            ],
            [
             0.7777777777777778,
             "#fb9f3a"
            ],
            [
             0.8888888888888888,
             "#fdca26"
            ],
            [
             1,
             "#f0f921"
            ]
           ]
          },
          "colorway": [
           "#636efa",
           "#EF553B",
           "#00cc96",
           "#ab63fa",
           "#FFA15A",
           "#19d3f3",
           "#FF6692",
           "#B6E880",
           "#FF97FF",
           "#FECB52"
          ],
          "font": {
           "color": "#2a3f5f"
          },
          "geo": {
           "bgcolor": "white",
           "lakecolor": "white",
           "landcolor": "#E5ECF6",
           "showlakes": true,
           "showland": true,
           "subunitcolor": "white"
          },
          "hoverlabel": {
           "align": "left"
          },
          "hovermode": "closest",
          "mapbox": {
           "style": "light"
          },
          "paper_bgcolor": "white",
          "plot_bgcolor": "#E5ECF6",
          "polar": {
           "angularaxis": {
            "gridcolor": "white",
            "linecolor": "white",
            "ticks": ""
           },
           "bgcolor": "#E5ECF6",
           "radialaxis": {
            "gridcolor": "white",
            "linecolor": "white",
            "ticks": ""
           }
          },
          "scene": {
           "xaxis": {
            "backgroundcolor": "#E5ECF6",
            "gridcolor": "white",
            "gridwidth": 2,
            "linecolor": "white",
            "showbackground": true,
            "ticks": "",
            "zerolinecolor": "white"
           },
           "yaxis": {
            "backgroundcolor": "#E5ECF6",
            "gridcolor": "white",
            "gridwidth": 2,
            "linecolor": "white",
            "showbackground": true,
            "ticks": "",
            "zerolinecolor": "white"
           },
           "zaxis": {
            "backgroundcolor": "#E5ECF6",
            "gridcolor": "white",
            "gridwidth": 2,
            "linecolor": "white",
            "showbackground": true,
            "ticks": "",
            "zerolinecolor": "white"
           }
          },
          "shapedefaults": {
           "line": {
            "color": "#2a3f5f"
           }
          },
          "ternary": {
           "aaxis": {
            "gridcolor": "white",
            "linecolor": "white",
            "ticks": ""
           },
           "baxis": {
            "gridcolor": "white",
            "linecolor": "white",
            "ticks": ""
           },
           "bgcolor": "#E5ECF6",
           "caxis": {
            "gridcolor": "white",
            "linecolor": "white",
            "ticks": ""
           }
          },
          "title": {
           "x": 0.05
          },
          "xaxis": {
           "automargin": true,
           "gridcolor": "white",
           "linecolor": "white",
           "ticks": "",
           "title": {
            "standoff": 15
           },
           "zerolinecolor": "white",
           "zerolinewidth": 2
          },
          "yaxis": {
           "automargin": true,
           "gridcolor": "white",
           "linecolor": "white",
           "ticks": "",
           "title": {
            "standoff": 15
           },
           "zerolinecolor": "white",
           "zerolinewidth": 2
          }
         }
        },
        "title": {
         "text": "Cosine Similarity to Definition vs. Mean Cosine Similarity to Other Responses"
        },
        "width": 800,
        "xaxis": {
         "range": [
          0,
          1
         ],
         "title": {
          "text": "Similarity to Given Definition"
         }
        },
        "yaxis": {
         "range": [
          0,
          1
         ],
         "title": {
          "text": "Mean Similarity to Others"
         }
        }
       }
      }
     },
     "metadata": {},
     "output_type": "display_data"
    }
   ],
   "source": [
    "fig = go.Figure()\n",
    "fig.add_trace(go.Scatter(\n",
    "    x=df['sim_to_def'],\n",
    "    y=df['mean_sim'],\n",
    "    mode='markers',\n",
    "    text=df['sm_def'],\n",
    "    hoverinfo='all',\n",
    "    marker=dict(\n",
    "        size=5,\n",
    "        color='cornflowerblue',\n",
    "        line=dict(width=1.5)\n",
    "    ),\n",
    "))\n",
    "\n",
    "fig.update_layout(\n",
    "    title='Cosine Similarity to Definition vs. Mean Cosine Similarity to Other Responses',\n",
    "    xaxis_title='Similarity to Given Definition',\n",
    "    yaxis_title='Mean Similarity to Others',\n",
    "    showlegend=False,\n",
    "    width=800,\n",
    "    height=700,\n",
    "    xaxis=dict(range=[0, 1]),\n",
    "    yaxis=dict(range=[0, 1]),\n",
    ")\n",
    "# spearman correlation\n",
    "s_s, s_p = stats.spearmanr(df['sim_to_def'], df['mean_sim'], alternative='greater')\n",
    "# pearson correlation\n",
    "p_s, p_p = stats.pearsonr(df['sim_to_def'], df['mean_sim'], alternative='greater')\n",
    "\n",
    "fig.add_annotation(\n",
    "    xref='paper',\n",
    "    yref='paper',\n",
    "    x=0.5,\n",
    "    y=0.1,\n",
    "    text=f'Spearman correlation: {s_s:.2f} (p-value: {s_p:.2e})<br>Pearson correlation: {p_s:.2f} (p-value: {p_p:.2e})',\n",
    "    showarrow=False,\n",
    "    font=dict(size=12, color='black'),\n",
    "    bgcolor='rgba(255, 255, 255, 0.8)',\n",
    ")\n",
    "\n",
    "fig.add_vline(\n",
    "    x=0.25,\n",
    "    line_width=2,\n",
    "    line_dash='dash',\n",
    "    opacity=0.5,\n",
    "    annotation_text='Similarity score to <br>definition < 0.25',\n",
    "    annotation_position=\"left\",\n",
    "              annotation=dict(font_size=10, font_color ='orangered'),\n",
    "              line_color='orangered')\n",
    "\n",
    "\n",
    "fig.write_image('../../figures/similarity_to_def_vs_mean_similarity.png')\n",
    "fig.write_html('../../figures/similarity_to_def_vs_mean_similarity.html')\n",
    "\n",
    "fig.show()"
   ]
  },
  {
   "cell_type": "code",
   "execution_count": null,
   "metadata": {},
   "outputs": [],
   "source": []
  },
  {
   "cell_type": "markdown",
   "metadata": {},
   "source": [
    "### Parent Social Media Use"
   ]
  },
  {
   "cell_type": "code",
   "execution_count": 51,
   "metadata": {},
   "outputs": [],
   "source": [
    "# add data about which platforms are used by the parent\n",
    "sm_use = ['q2_25___1', 'q2_25___2', 'q2_25___3', 'q2_25___4', 'q2_25___5', 'q2_25___6', 'q2_25___7', 'q2_25___8', 'q2_25___9', 'q2_25___10', 'q2_25___11', 'q2_25___12', 'q2_25___13', 'q2_25___14', 'q2_25___15', 'q2_25___16', 'q2_25___17', 'q2_25___18']\n",
    "platforms_df = pd.read_csv('../../data/PPTOB_Data_03.21.csv')[['record_id'] + sm_use + ['q2_25___19']]\n",
    "\n",
    "platforms_df['n_platforms'] = platforms_df[sm_use].sum(axis=1)\n",
    "\n",
    "# merge with the main df\n",
    "df = df.merge(platforms_df, on='record_id', how='left')"
   ]
  },
  {
   "cell_type": "markdown",
   "metadata": {},
   "source": [
    "#### social media data dictionary\n",
    "<b>Use:</b> <br/>\n",
    "q2_25___1 - q2_25___19 <br/>\n",
    "\"Please indicate which platform(s) YOU have an account on or use.\"<br/>\n",
    "1, Discord | 2, Facebook or Facebook Messenger | 3, Instagram | 4, iMessage / SMS Text Messaging | 5, Messenger Kids | 6, Pinterest | 7, Reddit | 8, Roblox | 9, Signal | 10, Snapchat | 11, Telegram | 12, TikTok | 13, Tumblr | 14, Twitch | 15, Twitter | 16, WhatsApp | 17, YouTube | 18, Other | 19, I do not have a social media account or use social media.\n",
    "\n",
    "<b>Ratings:</b> <br/>\n",
    "1, IS Social Media | 2, Is NOT Social Media | 3, Unfamiliar With Platform\n",
    "\n",
    "\n",
    "<b>Social Media Labels: </b> <br/>\n",
    "Ranking of if each platform is “social media:<br/>\n",
    "(Tied) Twitter, Tiktok, Snapchat, Reddit, Linkedin, Tumblr, Twitch, Pinterest, BeReal, Facebook, Instagram  (14 points)<br/>\n",
    "Youtube (13 points)<br/>\n",
    "Discord (12 points)<br/>\n",
    "Roblox, Video Games (11 points)<br/>\n",
    "Telegram (8 points)<br/>\n",
    "Whatsapp, Messenger Kids, Zoom, Signal, Online Shopping Sites (7 points)"
   ]
  },
  {
   "cell_type": "code",
   "execution_count": 52,
   "metadata": {},
   "outputs": [],
   "source": [
    "# rename columns on social media ratings - parents indicated whether or not they believe each is a form of social media\n",
    "platforms = ['bereal',\n",
    "       'discord', 'fb', 'text', 'instagram', 'linkedin', 'messenger_kids',\n",
    "       'shopping', 'pinterest', 'reddit', 'roblox', 'signal', 'snapchat',\n",
    "       'telegram', 'tiktok', 'tumblr', 'twitch', 'games', 'whatsapp',\n",
    "       'twitter', 'youtube', 'zoom']\n",
    "for sm in platforms:\n",
    "    df.rename(\n",
    "        columns={\n",
    "            sm: f'{sm}_rating'\n",
    "        },\n",
    "        inplace=True\n",
    "    )\n",
    "sm_ratings = [x + '_rating' for x in platforms]\n",
    "\n",
    "# rename columns on social media usage - parents indicated whether or not they use each platform\n",
    "df.rename(columns={\n",
    "    'q2_25___1' :'discord_use',\n",
    "    'q2_25___2' : 'fb_use',\n",
    "    'q2_25___3' : 'instagram_use',\n",
    "    'q2_25___4' : 'text_use',\n",
    "    'q2_25___5' : 'messenger_kids_use',\n",
    "    'q2_25___6' : 'pinterest_use',\n",
    "    'q2_25___7' : 'reddit_use',\n",
    "    'q2_25___8' : 'roblox_use',\n",
    "    'q2_25___9' : 'signal_use',\n",
    "    'q2_25___10' : 'snapchat_use',\n",
    "    'q2_25___11' : 'telegram_use',\n",
    "    'q2_25___12' : 'tiktok_use',\n",
    "    'q2_25___13' : 'tumblr_use',\n",
    "    'q2_25___14' : 'twitch_use',\n",
    "    'q2_25___15' : 'twitter_use',\n",
    "    'q2_25___16' : 'whatsapp_use',\n",
    "    'q2_25___17' : 'youtube_use',\n",
    "    'q2_25___18' : 'other_use',\n",
    "    'q2_25___19' : 'none',\n",
    "},inplace=True,\n",
    ")\n"
   ]
  },
  {
   "cell_type": "code",
   "execution_count": 53,
   "metadata": {},
   "outputs": [],
   "source": [
    "# social media categorization to use for scoring parents' responses\n",
    "sm_rankings = {\n",
    "    'twitter': 14,\n",
    "    'tiktok': 14,\n",
    "    'snapchat': 14,\n",
    "    'reddit': 14,\n",
    "    'linkedin': 14,\n",
    "    'tumblr': 14,\n",
    "    'twitch': 14,\n",
    "    'pinterest': 14,\n",
    "    'bereal': 14,\n",
    "    'fb': 14,\n",
    "    'instagram': 14,\n",
    "    'youtube': 13,\n",
    "    'discord': 12,\n",
    "    'roblox': 11,\n",
    "    'games': 11,\n",
    "    'telegram': 11,\n",
    "    'whatsapp': 7,\n",
    "    'messenger_kids': 7,\n",
    "    'zoom': 7,\n",
    "    'signal': 7,\n",
    "    'shopping': 7,\n",
    "    'text': 3\n",
    "}"
   ]
  },
  {
   "cell_type": "code",
   "execution_count": 54,
   "metadata": {},
   "outputs": [
    {
     "name": "stdout",
     "output_type": "stream",
     "text": [
      "threshold:7\n",
      "accuracy:0.633\n",
      "-----------------------------\n",
      "threshold:11\n",
      "accuracy:0.666\n",
      "-----------------------------\n",
      "threshold:12\n",
      "accuracy:0.668\n",
      "-----------------------------\n",
      "threshold:13\n",
      "accuracy:0.643\n",
      "-----------------------------\n",
      "threshold:14\n",
      "accuracy:0.616\n",
      "-----------------------------\n"
     ]
    }
   ],
   "source": [
    "# accuracy of parent's ratings:\n",
    "def get_accuracy(df:pd.DataFrame, score_threshold:int):\n",
    "    for p in platforms:\n",
    "        platform_rating = df[f'{p}_rating']\n",
    "        platform_ranking = sm_rankings[p]\n",
    "        if platform_ranking >= score_threshold:\n",
    "            df[f'{p}_accuracy'] = np.where(platform_rating == 1, 1, 0)\n",
    "        if platform_ranking < score_threshold:\n",
    "            df[f'{p}_accuracy'] = np.where(platform_rating == 2, 1, 0)\n",
    "    # total accuracy for parent\n",
    "    df['total_accuracy'] = df[[f'{p}_accuracy' for p in platforms]].sum(axis=1)/22\n",
    "\n",
    "for t in [7, 11, 12, 13, 14]:\n",
    "    print('threshold:' + str(t))\n",
    "    get_accuracy(df, t)\n",
    "    print('accuracy:' + str(round(np.mean(df['total_accuracy']),3)))\n",
    "    print('-----------------------------')\n"
   ]
  },
  {
   "cell_type": "code",
   "execution_count": 55,
   "metadata": {},
   "outputs": [],
   "source": [
    "# set final values for accuracy\n",
    "get_accuracy(df, 11)"
   ]
  },
  {
   "cell_type": "markdown",
   "metadata": {},
   "source": [
    "#### fig 2"
   ]
  },
  {
   "cell_type": "code",
   "execution_count": 56,
   "metadata": {},
   "outputs": [
    {
     "data": {
      "application/vnd.plotly.v1+json": {
       "config": {
        "plotlyServerURL": "https://plot.ly"
       },
       "data": [
        {
         "alignmentgroup": "True",
         "boxpoints": "all",
         "hovertemplate": "n_platforms=%{x}<br>sim_to_def=%{y}<extra></extra>",
         "legendgroup": "",
         "marker": {
          "color": "rgba(50, 100, 255, 1)",
          "line": {
           "width": 2
          }
         },
         "name": "",
         "notched": false,
         "offsetgroup": "",
         "orientation": "v",
         "showlegend": false,
         "type": "box",
         "x": {
          "bdata": "CwsEBQQHDAQJAgUICQcJDQQMBw4JBA4GCggGBwwHEQULBAcFBgQFBwoEBwcJBggJBQkNCwUIBAYCCgUHCAQKDQkFBwUDAgYIDQsKDAkPEAcCDgUFBgkMCgsFBQQEBQoFBwMGBgUMCAgMDgYIDgkDBgsIBAAJCwgDBAkIBgQIDgkFBgQDBAwECAQEAAUECAUABQUIDAQIAwsFCQUIBgUICwcHBAQFCQECBwcFCwIICQYMCQYFCwMDBgUHCgoHCgcMBQkFCgYJBgQHBgQHBAoGBAYHBwYFBgoJCAUEAwcHCAYHBQIHCAkJCAQHBgcHAwQJAwQDAwcJDw4HBAgGCAYGBQUHBgYIBwkHCAYKAwoFAgYFBggGCAQGBQsFCQMEAwgGCgcIBwEIBwEGBQsEAwkFBAcLCwkLDAQECgwLBwoHDwYCAwgDBwcGDwIFAgQHCAsLBgUFAggKDAULCAsFBwcGAgoICgUIBAQHAgoHCgkGAwUHDggGBAMGBQwGCAcGBwUEAgYEBAYFCAUECgMIBQoJBwcJBAMGCwcCCwUMBAcEBAUCCAYKBQYCCgcHAwoLAQcGAwoEBQQIBQMMCgEFBwYJAwgLBwULBwUHBgoIDQkGCQgGBgoFCgIKCwQGCAgECQkLAggBDQQJCQUNBQYHBwgGBQQIBQcIBQUGBgUHCQgACAUIDgUGCgkJBQgJCQULCQYJBgIRAgkGBQoHBAQIDQwGCgsLBAQGBgsABAYFBAQKCQUFAgcIBAkBCwoFCwkLBwMJBgkEBQgJBg0GBgcHDAcHBAQHBQUGBQYIBgMGAwcIAwsJAwcDBAgHBAIGAAYIBwcKCAQICgkFCAUGCAgFBggHAQcFBwoLCg0CBQgICAUCBQkJDggFBQcEBwcJBwYDBQYIBQgJBggGBQwECAMJCAMDCgcEBQMHAgYGCAYEAwMFAwMJBQwGBgcIBgQFCwgLBQgKAAIFAwMDCQcJAQMEAgIKAgQJCgkHBwkFBQMIBQkDCQgPDwUJCAMDBwkIBgYGBQQDBgMBBAQFBQQCAgUECQQLBwIGBQgEAgkFAwgKAgUBAwoFBQkLBwYGCAUHBwQKCwUCCAgJAwoMAAYFCAgMAgkKBwQGAwMHCAcGCAYFCQIBBQkCBAYJBwMKBwsIBgUGDAQGBwYFBgQEBggGBAYGAwYHAQcICQcJAwIIBgsEBAMCAgcGBQYEAQUGAwERCAYDEA4DBAgHDwIHBAcIBQELBAQCBgMIBQcDBwEHAgoIAQcCCgkGBAYIAwIHBgcECAIDAgkGBgQIBQUIBQMJBgQFBQIDCQgOBwoNAQgHBAkIBgUFBwkLAwcGCAYGBgEG",
          "dtype": "i1"
         },
         "x0": " ",
         "xaxis": "x",
         "y": {
          "bdata": "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",
          "dtype": "f8"
         },
         "y0": " ",
         "yaxis": "y"
        }
       ],
       "layout": {
        "annotations": [
         {
          "bgcolor": "rgba(255, 255, 255, 0.8)",
          "font": {
           "color": "black",
           "size": 12
          },
          "showarrow": false,
          "text": "Spearman correlation: 0.17 (p-value: 0.00)<br>Pearson correlation: 0.16 (p-value: 0.00)",
          "x": 0.98,
          "xref": "paper",
          "y": 0.1,
          "yref": "paper"
         }
        ],
        "boxmode": "group",
        "height": 600,
        "legend": {
         "orientation": "h",
         "tracegroupgap": 0,
         "x": 0.85,
         "yanchor": "bottom"
        },
        "showlegend": true,
        "template": {
         "data": {
          "bar": [
           {
            "error_x": {
             "color": "#2a3f5f"
            },
            "error_y": {
             "color": "#2a3f5f"
            },
            "marker": {
             "line": {
              "color": "#E5ECF6",
              "width": 0.5
             },
             "pattern": {
              "fillmode": "overlay",
              "size": 10,
              "solidity": 0.2
             }
            },
            "type": "bar"
           }
          ],
          "barpolar": [
           {
            "marker": {
             "line": {
              "color": "#E5ECF6",
              "width": 0.5
             },
             "pattern": {
              "fillmode": "overlay",
              "size": 10,
              "solidity": 0.2
             }
            },
            "type": "barpolar"
           }
          ],
          "carpet": [
           {
            "aaxis": {
             "endlinecolor": "#2a3f5f",
             "gridcolor": "white",
             "linecolor": "white",
             "minorgridcolor": "white",
             "startlinecolor": "#2a3f5f"
            },
            "baxis": {
             "endlinecolor": "#2a3f5f",
             "gridcolor": "white",
             "linecolor": "white",
             "minorgridcolor": "white",
             "startlinecolor": "#2a3f5f"
            },
            "type": "carpet"
           }
          ],
          "choropleth": [
           {
            "colorbar": {
             "outlinewidth": 0,
             "ticks": ""
            },
            "type": "choropleth"
           }
          ],
          "contour": [
           {
            "colorbar": {
             "outlinewidth": 0,
             "ticks": ""
            },
            "colorscale": [
             [
              0,
              "#0d0887"
             ],
             [
              0.1111111111111111,
              "#46039f"
             ],
             [
              0.2222222222222222,
              "#7201a8"
             ],
             [
              0.3333333333333333,
              "#9c179e"
             ],
             [
              0.4444444444444444,
              "#bd3786"
             ],
             [
              0.5555555555555556,
              "#d8576b"
             ],
             [
              0.6666666666666666,
              "#ed7953"
             ],
             [
              0.7777777777777778,
              "#fb9f3a"
             ],
             [
              0.8888888888888888,
              "#fdca26"
             ],
             [
              1,
              "#f0f921"
             ]
            ],
            "type": "contour"
           }
          ],
          "contourcarpet": [
           {
            "colorbar": {
             "outlinewidth": 0,
             "ticks": ""
            },
            "type": "contourcarpet"
           }
          ],
          "heatmap": [
           {
            "colorbar": {
             "outlinewidth": 0,
             "ticks": ""
            },
            "colorscale": [
             [
              0,
              "#0d0887"
             ],
             [
              0.1111111111111111,
              "#46039f"
             ],
             [
              0.2222222222222222,
              "#7201a8"
             ],
             [
              0.3333333333333333,
              "#9c179e"
             ],
             [
              0.4444444444444444,
              "#bd3786"
             ],
             [
              0.5555555555555556,
              "#d8576b"
             ],
             [
              0.6666666666666666,
              "#ed7953"
             ],
             [
              0.7777777777777778,
              "#fb9f3a"
             ],
             [
              0.8888888888888888,
              "#fdca26"
             ],
             [
              1,
              "#f0f921"
             ]
            ],
            "type": "heatmap"
           }
          ],
          "histogram": [
           {
            "marker": {
             "pattern": {
              "fillmode": "overlay",
              "size": 10,
              "solidity": 0.2
             }
            },
            "type": "histogram"
           }
          ],
          "histogram2d": [
           {
            "colorbar": {
             "outlinewidth": 0,
             "ticks": ""
            },
            "colorscale": [
             [
              0,
              "#0d0887"
             ],
             [
              0.1111111111111111,
              "#46039f"
             ],
             [
              0.2222222222222222,
              "#7201a8"
             ],
             [
              0.3333333333333333,
              "#9c179e"
             ],
             [
              0.4444444444444444,
              "#bd3786"
             ],
             [
              0.5555555555555556,
              "#d8576b"
             ],
             [
              0.6666666666666666,
              "#ed7953"
             ],
             [
              0.7777777777777778,
              "#fb9f3a"
             ],
             [
              0.8888888888888888,
              "#fdca26"
             ],
             [
              1,
              "#f0f921"
             ]
            ],
            "type": "histogram2d"
           }
          ],
          "histogram2dcontour": [
           {
            "colorbar": {
             "outlinewidth": 0,
             "ticks": ""
            },
            "colorscale": [
             [
              0,
              "#0d0887"
             ],
             [
              0.1111111111111111,
              "#46039f"
             ],
             [
              0.2222222222222222,
              "#7201a8"
             ],
             [
              0.3333333333333333,
              "#9c179e"
             ],
             [
              0.4444444444444444,
              "#bd3786"
             ],
             [
              0.5555555555555556,
              "#d8576b"
             ],
             [
              0.6666666666666666,
              "#ed7953"
             ],
             [
              0.7777777777777778,
              "#fb9f3a"
             ],
             [
              0.8888888888888888,
              "#fdca26"
             ],
             [
              1,
              "#f0f921"
             ]
            ],
            "type": "histogram2dcontour"
           }
          ],
          "mesh3d": [
           {
            "colorbar": {
             "outlinewidth": 0,
             "ticks": ""
            },
            "type": "mesh3d"
           }
          ],
          "parcoords": [
           {
            "line": {
             "colorbar": {
              "outlinewidth": 0,
              "ticks": ""
             }
            },
            "type": "parcoords"
           }
          ],
          "pie": [
           {
            "automargin": true,
            "type": "pie"
           }
          ],
          "scatter": [
           {
            "fillpattern": {
             "fillmode": "overlay",
             "size": 10,
             "solidity": 0.2
            },
            "type": "scatter"
           }
          ],
          "scatter3d": [
           {
            "line": {
             "colorbar": {
              "outlinewidth": 0,
              "ticks": ""
             }
            },
            "marker": {
             "colorbar": {
              "outlinewidth": 0,
              "ticks": ""
             }
            },
            "type": "scatter3d"
           }
          ],
          "scattercarpet": [
           {
            "marker": {
             "colorbar": {
              "outlinewidth": 0,
              "ticks": ""
             }
            },
            "type": "scattercarpet"
           }
          ],
          "scattergeo": [
           {
            "marker": {
             "colorbar": {
              "outlinewidth": 0,
              "ticks": ""
             }
            },
            "type": "scattergeo"
           }
          ],
          "scattergl": [
           {
            "marker": {
             "colorbar": {
              "outlinewidth": 0,
              "ticks": ""
             }
            },
            "type": "scattergl"
           }
          ],
          "scattermap": [
           {
            "marker": {
             "colorbar": {
              "outlinewidth": 0,
              "ticks": ""
             }
            },
            "type": "scattermap"
           }
          ],
          "scattermapbox": [
           {
            "marker": {
             "colorbar": {
              "outlinewidth": 0,
              "ticks": ""
             }
            },
            "type": "scattermapbox"
           }
          ],
          "scatterpolar": [
           {
            "marker": {
             "colorbar": {
              "outlinewidth": 0,
              "ticks": ""
             }
            },
            "type": "scatterpolar"
           }
          ],
          "scatterpolargl": [
           {
            "marker": {
             "colorbar": {
              "outlinewidth": 0,
              "ticks": ""
             }
            },
            "type": "scatterpolargl"
           }
          ],
          "scatterternary": [
           {
            "marker": {
             "colorbar": {
              "outlinewidth": 0,
              "ticks": ""
             }
            },
            "type": "scatterternary"
           }
          ],
          "surface": [
           {
            "colorbar": {
             "outlinewidth": 0,
             "ticks": ""
            },
            "colorscale": [
             [
              0,
              "#0d0887"
             ],
             [
              0.1111111111111111,
              "#46039f"
             ],
             [
              0.2222222222222222,
              "#7201a8"
             ],
             [
              0.3333333333333333,
              "#9c179e"
             ],
             [
              0.4444444444444444,
              "#bd3786"
             ],
             [
              0.5555555555555556,
              "#d8576b"
             ],
             [
              0.6666666666666666,
              "#ed7953"
             ],
             [
              0.7777777777777778,
              "#fb9f3a"
             ],
             [
              0.8888888888888888,
              "#fdca26"
             ],
             [
              1,
              "#f0f921"
             ]
            ],
            "type": "surface"
           }
          ],
          "table": [
           {
            "cells": {
             "fill": {
              "color": "#EBF0F8"
             },
             "line": {
              "color": "white"
             }
            },
            "header": {
             "fill": {
              "color": "#C8D4E3"
             },
             "line": {
              "color": "white"
             }
            },
            "type": "table"
           }
          ]
         },
         "layout": {
          "annotationdefaults": {
           "arrowcolor": "#2a3f5f",
           "arrowhead": 0,
           "arrowwidth": 1
          },
          "autotypenumbers": "strict",
          "coloraxis": {
           "colorbar": {
            "outlinewidth": 0,
            "ticks": ""
           }
          },
          "colorscale": {
           "diverging": [
            [
             0,
             "#8e0152"
            ],
            [
             0.1,
             "#c51b7d"
            ],
            [
             0.2,
             "#de77ae"
            ],
            [
             0.3,
             "#f1b6da"
            ],
            [
             0.4,
             "#fde0ef"
            ],
            [
             0.5,
             "#f7f7f7"
            ],
            [
             0.6,
             "#e6f5d0"
            ],
            [
             0.7,
             "#b8e186"
            ],
            [
             0.8,
             "#7fbc41"
            ],
            [
             0.9,
             "#4d9221"
            ],
            [
             1,
             "#276419"
            ]
           ],
           "sequential": [
            [
             0,
             "#0d0887"
            ],
            [
             0.1111111111111111,
             "#46039f"
            ],
            [
             0.2222222222222222,
             "#7201a8"
            ],
            [
             0.3333333333333333,
             "#9c179e"
            ],
            [
             0.4444444444444444,
             "#bd3786"
            ],
            [
             0.5555555555555556,
             "#d8576b"
            ],
            [
             0.6666666666666666,
             "#ed7953"
            ],
            [
             0.7777777777777778,
             "#fb9f3a"
            ],
            [
             0.8888888888888888,
             "#fdca26"
            ],
            [
             1,
             "#f0f921"
            ]
           ],
           "sequentialminus": [
            [
             0,
             "#0d0887"
            ],
            [
             0.1111111111111111,
             "#46039f"
            ],
            [
             0.2222222222222222,
             "#7201a8"
            ],
            [
             0.3333333333333333,
             "#9c179e"
            ],
            [
             0.4444444444444444,
             "#bd3786"
            ],
            [
             0.5555555555555556,
             "#d8576b"
            ],
            [
             0.6666666666666666,
             "#ed7953"
            ],
            [
             0.7777777777777778,
             "#fb9f3a"
            ],
            [
             0.8888888888888888,
             "#fdca26"
            ],
            [
             1,
             "#f0f921"
            ]
           ]
          },
          "colorway": [
           "#636efa",
           "#EF553B",
           "#00cc96",
           "#ab63fa",
           "#FFA15A",
           "#19d3f3",
           "#FF6692",
           "#B6E880",
           "#FF97FF",
           "#FECB52"
          ],
          "font": {
           "color": "#2a3f5f"
          },
          "geo": {
           "bgcolor": "white",
           "lakecolor": "white",
           "landcolor": "#E5ECF6",
           "showlakes": true,
           "showland": true,
           "subunitcolor": "white"
          },
          "hoverlabel": {
           "align": "left"
          },
          "hovermode": "closest",
          "mapbox": {
           "style": "light"
          },
          "paper_bgcolor": "white",
          "plot_bgcolor": "#E5ECF6",
          "polar": {
           "angularaxis": {
            "gridcolor": "white",
            "linecolor": "white",
            "ticks": ""
           },
           "bgcolor": "#E5ECF6",
           "radialaxis": {
            "gridcolor": "white",
            "linecolor": "white",
            "ticks": ""
           }
          },
          "scene": {
           "xaxis": {
            "backgroundcolor": "#E5ECF6",
            "gridcolor": "white",
            "gridwidth": 2,
            "linecolor": "white",
            "showbackground": true,
            "ticks": "",
            "zerolinecolor": "white"
           },
           "yaxis": {
            "backgroundcolor": "#E5ECF6",
            "gridcolor": "white",
            "gridwidth": 2,
            "linecolor": "white",
            "showbackground": true,
            "ticks": "",
            "zerolinecolor": "white"
           },
           "zaxis": {
            "backgroundcolor": "#E5ECF6",
            "gridcolor": "white",
            "gridwidth": 2,
            "linecolor": "white",
            "showbackground": true,
            "ticks": "",
            "zerolinecolor": "white"
           }
          },
          "shapedefaults": {
           "line": {
            "color": "#2a3f5f"
           }
          },
          "ternary": {
           "aaxis": {
            "gridcolor": "white",
            "linecolor": "white",
            "ticks": ""
           },
           "baxis": {
            "gridcolor": "white",
            "linecolor": "white",
            "ticks": ""
           },
           "bgcolor": "#E5ECF6",
           "caxis": {
            "gridcolor": "white",
            "linecolor": "white",
            "ticks": ""
           }
          },
          "title": {
           "x": 0.05
          },
          "xaxis": {
           "automargin": true,
           "gridcolor": "white",
           "linecolor": "white",
           "ticks": "",
           "title": {
            "standoff": 15
           },
           "zerolinecolor": "white",
           "zerolinewidth": 2
          },
          "yaxis": {
           "automargin": true,
           "gridcolor": "white",
           "linecolor": "white",
           "ticks": "",
           "title": {
            "standoff": 15
           },
           "zerolinecolor": "white",
           "zerolinewidth": 2
          }
         }
        },
        "title": {
         "text": "Cosine Similarity of Response to Given Definition by Number of Platforms Used"
        },
        "width": 1000,
        "xaxis": {
         "anchor": "y",
         "domain": [
          0,
          1
         ],
         "title": {
          "text": "Number of Platforms Used"
         }
        },
        "yaxis": {
         "anchor": "x",
         "domain": [
          0,
          1
         ],
         "title": {
          "text": "Similarity"
         }
        }
       }
      }
     },
     "metadata": {},
     "output_type": "display_data"
    }
   ],
   "source": [
    "fig = px.box(\n",
    "    df,\n",
    "    x='n_platforms',\n",
    "    y='sim_to_def',\n",
    "    title='Cosine Similarity of Response to Given Definition by Number of Platforms Used',\n",
    "    points='all'\n",
    ")\n",
    "\n",
    "fig.update_traces(\n",
    "    # jitter=.7,\n",
    "    marker=dict(\n",
    "        color='rgba(50, 100, 255, 1)',\n",
    "        line=dict(width=2)))\n",
    "\n",
    "fig.update_layout(\n",
    "    showlegend=False,\n",
    ")\n",
    "\n",
    "# add regression line\n",
    "X = df.n_platforms.values.reshape(-1, 1)\n",
    "\n",
    "model = sklearn.linear_model.LinearRegression()\n",
    "model.fit(X, df.sim_to_def)\n",
    "\n",
    "x_range = np.linspace(X.min(), X.max())\n",
    "y_range = model.predict(x_range.reshape(-1, 1))\n",
    "\n",
    "# fig.add_trace(go.Scatter(\n",
    "#     x=x_range,\n",
    "#     y=y_range,\n",
    "#     name='Regression Fit',\n",
    "#     marker=dict(\n",
    "#         color='rgb(116, 77, 145)',\n",
    "#     ),\n",
    "\n",
    "# ),\n",
    "# )\n",
    "\n",
    "\n",
    "# spearman correlation\n",
    "s_s, s_p = stats.spearmanr(df['n_platforms'], df['sim_to_def'], alternative='greater')\n",
    "# pearson correlation\n",
    "p_s, p_p = stats.pearsonr(df['n_platforms'], df['sim_to_def'], alternative='greater')\n",
    "\n",
    "fig.add_annotation(\n",
    "    xref='paper',\n",
    "    yref='paper',\n",
    "    x=0.98,\n",
    "    y=0.1,\n",
    "    text=f'Spearman correlation: {s_s:.2f} (p-value: {s_p:.2f})<br>Pearson correlation: {p_s:.2f} (p-value: {p_p:.2f})',\n",
    "    showarrow=False,\n",
    "    font=dict(size=12, color='black'),\n",
    "    bgcolor='rgba(255, 255, 255, 0.8)',\n",
    ")\n",
    "\n",
    "fig.update_layout(\n",
    "    xaxis_title='Number of Platforms Used',\n",
    "    yaxis_title='Similarity',\n",
    "    width=1000,\n",
    "    height=600,\n",
    "    showlegend=True, \n",
    "    legend =dict(\n",
    "        orientation=\"h\",\n",
    "        yanchor=\"bottom\",\n",
    "        x=.85\n",
    "        )\n",
    "    )\n",
    "\n",
    "fig.write_image('../../figures/similarity_to_def_vs_platforms_used.png')\n",
    "\n",
    "fig.show()"
   ]
  },
  {
   "cell_type": "markdown",
   "metadata": {},
   "source": [
    "#### with buckets of social media use"
   ]
  },
  {
   "cell_type": "code",
   "execution_count": null,
   "metadata": {},
   "outputs": [
    {
     "data": {
      "application/vnd.plotly.v1+json": {
       "config": {
        "plotlyServerURL": "https://plot.ly"
       },
       "data": [
        {
         "boxpoints": "all",
         "marker": {
          "color": "rgba(50, 100, 255, 1)",
          "line": {
           "width": 1
          }
         },
         "showlegend": false,
         "type": "box",
         "x": [
          "10-12",
          "10-12",
          "4-6",
          "4-6",
          "4-6",
          "7-9",
          "10-12",
          "4-6",
          "7-9",
          "1-3",
          "4-6",
          "7-9",
          "7-9",
          "7-9",
          "7-9",
          "13+",
          "4-6",
          "10-12",
          "7-9",
          "13+",
          "7-9",
          "4-6",
          "13+",
          "4-6",
          "10-12",
          "7-9",
          "4-6",
          "7-9",
          "10-12",
          "7-9",
          "13+",
          "4-6",
          "10-12",
          "4-6",
          "7-9",
          "4-6",
          "4-6",
          "4-6",
          "4-6",
          "7-9",
          "10-12",
          "4-6",
          "7-9",
          "7-9",
          "7-9",
          "4-6",
          "7-9",
          "7-9",
          "4-6",
          "7-9",
          "13+",
          "10-12",
          "4-6",
          "7-9",
          "4-6",
          "4-6",
          "1-3",
          "10-12",
          "4-6",
          "7-9",
          "7-9",
          "4-6",
          "10-12",
          "13+",
          "7-9",
          "4-6",
          "7-9",
          "4-6",
          "1-3",
          "1-3",
          "4-6",
          "7-9",
          "13+",
          "10-12",
          "10-12",
          "10-12",
          "7-9",
          "13+",
          "13+",
          "7-9",
          "1-3",
          "13+",
          "4-6",
          "4-6",
          "4-6",
          "7-9",
          "10-12",
          "10-12",
          "10-12",
          "4-6",
          "4-6",
          "4-6",
          "4-6",
          "4-6",
          "10-12",
          "4-6",
          "7-9",
          "1-3",
          "4-6",
          "4-6",
          "4-6",
          "10-12",
          "7-9",
          "7-9",
          "10-12",
          "13+",
          "4-6",
          "7-9",
          "13+",
          "7-9",
          "1-3",
          "4-6",
          "10-12",
          "7-9",
          "4-6",
          "None",
          "7-9",
          "10-12",
          "7-9",
          "1-3",
          "4-6",
          "7-9",
          "7-9",
          "4-6",
          "4-6",
          "7-9",
          "13+",
          "7-9",
          "4-6",
          "4-6",
          "4-6",
          "1-3",
          "4-6",
          "10-12",
          "4-6",
          "7-9",
          "4-6",
          "4-6",
          "None",
          "4-6",
          "4-6",
          "7-9",
          "4-6",
          "None",
          "4-6",
          "4-6",
          "7-9",
          "10-12",
          "4-6",
          "7-9",
          "1-3",
          "10-12",
          "4-6",
          "7-9",
          "4-6",
          "7-9",
          "4-6",
          "4-6",
          "7-9",
          "10-12",
          "7-9",
          "7-9",
          "4-6",
          "4-6",
          "4-6",
          "7-9",
          "1-3",
          "1-3",
          "7-9",
          "7-9",
          "4-6",
          "10-12",
          "1-3",
          "7-9",
          "7-9",
          "4-6",
          "10-12",
          "7-9",
          "4-6",
          "4-6",
          "10-12",
          "1-3",
          "1-3",
          "4-6",
          "4-6",
          "7-9",
          "10-12",
          "10-12",
          "7-9",
          "10-12",
          "7-9",
          "10-12",
          "4-6",
          "7-9",
          "4-6",
          "10-12",
          "4-6",
          "7-9",
          "4-6",
          "4-6",
          "7-9",
          "4-6",
          "4-6",
          "7-9",
          "4-6",
          "10-12",
          "4-6",
          "4-6",
          "4-6",
          "7-9",
          "7-9",
          "4-6",
          "4-6",
          "4-6",
          "10-12",
          "7-9",
          "7-9",
          "4-6",
          "4-6",
          "1-3",
          "7-9",
          "7-9",
          "7-9",
          "4-6",
          "7-9",
          "4-6",
          "1-3",
          "7-9",
          "7-9",
          "7-9",
          "7-9",
          "7-9",
          "4-6",
          "7-9",
          "4-6",
          "7-9",
          "7-9",
          "1-3",
          "4-6",
          "7-9",
          "1-3",
          "4-6",
          "1-3",
          "1-3",
          "7-9",
          "7-9",
          "13+",
          "13+",
          "7-9",
          "4-6",
          "7-9",
          "4-6",
          "7-9",
          "4-6",
          "4-6",
          "4-6",
          "4-6",
          "7-9",
          "4-6",
          "4-6",
          "7-9",
          "7-9",
          "7-9",
          "7-9",
          "7-9",
          "4-6",
          "10-12",
          "1-3",
          "10-12",
          "4-6",
          "1-3",
          "4-6",
          "4-6",
          "4-6",
          "7-9",
          "4-6",
          "7-9",
          "4-6",
          "4-6",
          "4-6",
          "10-12",
          "4-6",
          "7-9",
          "1-3",
          "4-6",
          "1-3",
          "7-9",
          "4-6",
          "10-12",
          "7-9",
          "7-9",
          "7-9",
          "1-3",
          "7-9",
          "7-9",
          "1-3",
          "4-6",
          "4-6",
          "10-12",
          "4-6",
          "1-3",
          "7-9",
          "4-6",
          "4-6",
          "7-9",
          "10-12",
          "10-12",
          "7-9",
          "10-12",
          "10-12",
          "4-6",
          "4-6",
          "10-12",
          "10-12",
          "10-12",
          "7-9",
          "10-12",
          "7-9",
          "13+",
          "4-6",
          "1-3",
          "1-3",
          "7-9",
          "1-3",
          "7-9",
          "7-9",
          "4-6",
          "13+",
          "1-3",
          "4-6",
          "1-3",
          "4-6",
          "7-9",
          "7-9",
          "10-12",
          "10-12",
          "4-6",
          "4-6",
          "4-6",
          "1-3",
          "7-9",
          "10-12",
          "10-12",
          "4-6",
          "10-12",
          "7-9",
          "10-12",
          "4-6",
          "7-9",
          "7-9",
          "4-6",
          "1-3",
          "10-12",
          "7-9",
          "10-12",
          "4-6",
          "7-9",
          "4-6",
          "4-6",
          "7-9",
          "1-3",
          "10-12",
          "7-9",
          "10-12",
          "7-9",
          "4-6",
          "1-3",
          "4-6",
          "7-9",
          "13+",
          "7-9",
          "4-6",
          "4-6",
          "1-3",
          "4-6",
          "4-6",
          "10-12",
          "4-6",
          "7-9",
          "7-9",
          "4-6",
          "7-9",
          "4-6",
          "4-6",
          "1-3",
          "4-6",
          "4-6",
          "4-6",
          "4-6",
          "4-6",
          "7-9",
          "4-6",
          "4-6",
          "10-12",
          "1-3",
          "7-9",
          "4-6",
          "10-12",
          "7-9",
          "7-9",
          "7-9",
          "7-9",
          "4-6",
          "1-3",
          "4-6",
          "10-12",
          "7-9",
          "1-3",
          "10-12",
          "4-6",
          "10-12",
          "4-6",
          "7-9",
          "4-6",
          "4-6",
          "4-6",
          "1-3",
          "7-9",
          "4-6",
          "10-12",
          "4-6",
          "4-6",
          "1-3",
          "10-12",
          "7-9",
          "7-9",
          "1-3",
          "10-12",
          "10-12",
          "1-3",
          "7-9",
          "4-6",
          "1-3",
          "10-12",
          "4-6",
          "4-6",
          "4-6",
          "7-9",
          "4-6",
          "1-3",
          "10-12",
          "10-12",
          "1-3",
          "4-6",
          "7-9",
          "4-6",
          "7-9",
          "1-3",
          "7-9",
          "10-12",
          "7-9",
          "4-6",
          "10-12",
          "7-9",
          "4-6",
          "7-9",
          "4-6",
          "10-12",
          "7-9",
          "13+",
          "7-9",
          "4-6",
          "7-9",
          "7-9",
          "4-6",
          "4-6",
          "10-12",
          "4-6",
          "10-12",
          "1-3",
          "10-12",
          "10-12",
          "4-6",
          "4-6",
          "7-9",
          "7-9",
          "4-6",
          "7-9",
          "7-9",
          "10-12",
          "1-3",
          "7-9",
          "1-3",
          "13+",
          "4-6",
          "7-9",
          "7-9",
          "4-6",
          "13+",
          "4-6",
          "4-6",
          "7-9",
          "7-9",
          "7-9",
          "4-6",
          "4-6",
          "4-6",
          "7-9",
          "4-6",
          "7-9",
          "7-9",
          "4-6",
          "4-6",
          "4-6",
          "4-6",
          "4-6",
          "7-9",
          "7-9",
          "7-9",
          "None",
          "7-9",
          "4-6",
          "7-9",
          "13+",
          "4-6",
          "4-6",
          "10-12",
          "7-9",
          "7-9",
          "4-6",
          "7-9",
          "7-9",
          "7-9",
          "4-6",
          "10-12",
          "7-9",
          "4-6",
          "7-9",
          "4-6",
          "1-3",
          "13+",
          "1-3",
          "7-9",
          "4-6",
          "4-6",
          "10-12",
          "7-9",
          "4-6",
          "4-6",
          "7-9",
          "13+",
          "10-12",
          "4-6",
          "10-12",
          "10-12",
          "10-12",
          "4-6",
          "4-6",
          "4-6",
          "4-6",
          "10-12",
          "None",
          "4-6",
          "4-6",
          "4-6",
          "4-6",
          "4-6",
          "10-12",
          "7-9",
          "4-6",
          "4-6",
          "1-3",
          "7-9",
          "7-9",
          "4-6",
          "7-9",
          "1-3",
          "10-12",
          "10-12",
          "4-6",
          "10-12",
          "7-9",
          "10-12",
          "7-9",
          "1-3",
          "7-9",
          "4-6",
          "7-9",
          "4-6",
          "4-6",
          "7-9",
          "7-9",
          "4-6",
          "13+",
          "4-6",
          "4-6",
          "7-9",
          "7-9",
          "10-12",
          "7-9",
          "7-9",
          "4-6",
          "4-6",
          "7-9",
          "4-6",
          "4-6",
          "4-6",
          "4-6",
          "4-6",
          "7-9",
          "4-6",
          "1-3",
          "4-6",
          "1-3",
          "7-9",
          "7-9",
          "1-3",
          "10-12",
          "7-9",
          "1-3",
          "7-9",
          "1-3",
          "4-6",
          "7-9",
          "7-9",
          "4-6",
          "1-3",
          "4-6",
          "None",
          "4-6",
          "7-9",
          "7-9",
          "7-9",
          "10-12",
          "7-9",
          "4-6",
          "7-9",
          "10-12",
          "7-9",
          "4-6",
          "7-9",
          "4-6",
          "4-6",
          "7-9",
          "7-9",
          "4-6",
          "4-6",
          "7-9",
          "7-9",
          "1-3",
          "7-9",
          "4-6",
          "7-9",
          "10-12",
          "10-12",
          "10-12",
          "13+",
          "1-3",
          "4-6",
          "7-9",
          "7-9",
          "7-9",
          "4-6",
          "1-3",
          "4-6",
          "7-9",
          "7-9",
          "13+",
          "7-9",
          "4-6",
          "4-6",
          "7-9",
          "4-6",
          "7-9",
          "7-9",
          "7-9",
          "7-9",
          "4-6",
          "1-3",
          "4-6",
          "4-6",
          "7-9",
          "4-6",
          "7-9",
          "7-9",
          "4-6",
          "7-9",
          "4-6",
          "4-6",
          "10-12",
          "4-6",
          "7-9",
          "1-3",
          "7-9",
          "7-9",
          "1-3",
          "1-3",
          "10-12",
          "7-9",
          "4-6",
          "4-6",
          "1-3",
          "7-9",
          "1-3",
          "4-6",
          "4-6",
          "7-9",
          "4-6",
          "4-6",
          "1-3",
          "1-3",
          "4-6",
          "1-3",
          "1-3",
          "7-9",
          "4-6",
          "10-12",
          "4-6",
          "4-6",
          "7-9",
          "7-9",
          "4-6",
          "4-6",
          "4-6",
          "10-12",
          "7-9",
          "10-12",
          "4-6",
          "7-9",
          "10-12",
          "None",
          "1-3",
          "4-6",
          "1-3",
          "1-3",
          "1-3",
          "7-9",
          "7-9",
          "7-9",
          "1-3",
          "1-3",
          "4-6",
          "1-3",
          "1-3",
          "10-12",
          "1-3",
          "4-6",
          "7-9",
          "10-12",
          "7-9",
          "7-9",
          "7-9",
          "7-9",
          "4-6",
          "4-6",
          "1-3",
          "7-9",
          "4-6",
          "7-9",
          "1-3",
          "7-9",
          "7-9",
          "13+",
          "13+",
          "4-6",
          "7-9",
          "7-9",
          "1-3",
          "1-3",
          "7-9",
          "7-9",
          "7-9",
          "4-6",
          "4-6",
          "4-6",
          "4-6",
          "4-6",
          "1-3",
          "4-6",
          "1-3",
          "1-3",
          "4-6",
          "4-6",
          "4-6",
          "4-6",
          "4-6",
          "1-3",
          "1-3",
          "4-6",
          "4-6",
          "7-9",
          "4-6",
          "10-12",
          "7-9",
          "1-3",
          "4-6",
          "4-6",
          "7-9",
          "4-6",
          "1-3",
          "7-9",
          "4-6",
          "1-3",
          "7-9",
          "10-12",
          "1-3",
          "4-6",
          "1-3",
          "1-3",
          "10-12",
          "4-6",
          "4-6",
          "7-9",
          "10-12",
          "7-9",
          "4-6",
          "4-6",
          "7-9",
          "4-6",
          "7-9",
          "7-9",
          "4-6",
          "10-12",
          "10-12",
          "4-6",
          "1-3",
          "7-9",
          "7-9",
          "7-9",
          "1-3",
          "10-12",
          "10-12",
          "None",
          "4-6",
          "4-6",
          "7-9",
          "7-9",
          "10-12",
          "1-3",
          "7-9",
          "10-12",
          "7-9",
          "4-6",
          "4-6",
          "1-3",
          "1-3",
          "7-9",
          "7-9",
          "7-9",
          "4-6",
          "7-9",
          "4-6",
          "4-6",
          "7-9",
          "1-3",
          "1-3",
          "4-6",
          "7-9",
          "1-3",
          "4-6",
          "4-6",
          "7-9",
          "7-9",
          "1-3",
          "10-12",
          "7-9",
          "10-12",
          "7-9",
          "4-6",
          "4-6",
          "4-6",
          "10-12",
          "4-6",
          "4-6",
          "7-9",
          "4-6",
          "4-6",
          "4-6",
          "4-6",
          "4-6",
          "4-6",
          "7-9",
          "4-6",
          "4-6",
          "4-6",
          "4-6",
          "1-3",
          "4-6",
          "7-9",
          "1-3",
          "7-9",
          "7-9",
          "7-9",
          "7-9",
          "7-9",
          "1-3",
          "1-3",
          "7-9",
          "4-6",
          "10-12",
          "4-6",
          "4-6",
          "1-3",
          "1-3",
          "1-3",
          "7-9",
          "4-6",
          "4-6",
          "4-6",
          "4-6",
          "1-3",
          "4-6",
          "4-6",
          "1-3",
          "1-3",
          "13+",
          "7-9",
          "4-6",
          "1-3",
          "13+",
          "13+",
          "1-3",
          "4-6",
          "7-9",
          "7-9",
          "13+",
          "1-3",
          "7-9",
          "4-6",
          "7-9",
          "7-9",
          "4-6",
          "1-3",
          "10-12",
          "4-6",
          "4-6",
          "1-3",
          "4-6",
          "1-3",
          "7-9",
          "4-6",
          "7-9",
          "1-3",
          "7-9",
          "1-3",
          "7-9",
          "1-3",
          "10-12",
          "7-9",
          "1-3",
          "7-9",
          "1-3",
          "10-12",
          "7-9",
          "4-6",
          "4-6",
          "4-6",
          "7-9",
          "1-3",
          "1-3",
          "7-9",
          "4-6",
          "7-9",
          "4-6",
          "7-9",
          "1-3",
          "1-3",
          "1-3",
          "7-9",
          "4-6",
          "4-6",
          "4-6",
          "7-9",
          "4-6",
          "4-6",
          "7-9",
          "4-6",
          "1-3",
          "7-9",
          "4-6",
          "4-6",
          "4-6",
          "4-6",
          "1-3",
          "1-3",
          "7-9",
          "7-9",
          "13+",
          "7-9",
          "10-12",
          "13+",
          "1-3",
          "7-9",
          "7-9",
          "4-6",
          "7-9",
          "7-9",
          "4-6",
          "4-6",
          "4-6",
          "7-9",
          "7-9",
          "10-12",
          "1-3",
          "7-9",
          "4-6",
          "7-9",
          "4-6",
          "4-6",
          "4-6",
          "1-3",
          "4-6"
         ],
         "y": {
          "bdata": "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",
          "dtype": "f8"
         }
        }
       ],
       "layout": {
        "height": 600,
        "legend": {
         "orientation": "h",
         "x": 0.85,
         "yanchor": "bottom"
        },
        "showlegend": true,
        "template": {
         "data": {
          "bar": [
           {
            "error_x": {
             "color": "#2a3f5f"
            },
            "error_y": {
             "color": "#2a3f5f"
            },
            "marker": {
             "line": {
              "color": "#E5ECF6",
              "width": 0.5
             },
             "pattern": {
              "fillmode": "overlay",
              "size": 10,
              "solidity": 0.2
             }
            },
            "type": "bar"
           }
          ],
          "barpolar": [
           {
            "marker": {
             "line": {
              "color": "#E5ECF6",
              "width": 0.5
             },
             "pattern": {
              "fillmode": "overlay",
              "size": 10,
              "solidity": 0.2
             }
            },
            "type": "barpolar"
           }
          ],
          "carpet": [
           {
            "aaxis": {
             "endlinecolor": "#2a3f5f",
             "gridcolor": "white",
             "linecolor": "white",
             "minorgridcolor": "white",
             "startlinecolor": "#2a3f5f"
            },
            "baxis": {
             "endlinecolor": "#2a3f5f",
             "gridcolor": "white",
             "linecolor": "white",
             "minorgridcolor": "white",
             "startlinecolor": "#2a3f5f"
            },
            "type": "carpet"
           }
          ],
          "choropleth": [
           {
            "colorbar": {
             "outlinewidth": 0,
             "ticks": ""
            },
            "type": "choropleth"
           }
          ],
          "contour": [
           {
            "colorbar": {
             "outlinewidth": 0,
             "ticks": ""
            },
            "colorscale": [
             [
              0,
              "#0d0887"
             ],
             [
              0.1111111111111111,
              "#46039f"
             ],
             [
              0.2222222222222222,
              "#7201a8"
             ],
             [
              0.3333333333333333,
              "#9c179e"
             ],
             [
              0.4444444444444444,
              "#bd3786"
             ],
             [
              0.5555555555555556,
              "#d8576b"
             ],
             [
              0.6666666666666666,
              "#ed7953"
             ],
             [
              0.7777777777777778,
              "#fb9f3a"
             ],
             [
              0.8888888888888888,
              "#fdca26"
             ],
             [
              1,
              "#f0f921"
             ]
            ],
            "type": "contour"
           }
          ],
          "contourcarpet": [
           {
            "colorbar": {
             "outlinewidth": 0,
             "ticks": ""
            },
            "type": "contourcarpet"
           }
          ],
          "heatmap": [
           {
            "colorbar": {
             "outlinewidth": 0,
             "ticks": ""
            },
            "colorscale": [
             [
              0,
              "#0d0887"
             ],
             [
              0.1111111111111111,
              "#46039f"
             ],
             [
              0.2222222222222222,
              "#7201a8"
             ],
             [
              0.3333333333333333,
              "#9c179e"
             ],
             [
              0.4444444444444444,
              "#bd3786"
             ],
             [
              0.5555555555555556,
              "#d8576b"
             ],
             [
              0.6666666666666666,
              "#ed7953"
             ],
             [
              0.7777777777777778,
              "#fb9f3a"
             ],
             [
              0.8888888888888888,
              "#fdca26"
             ],
             [
              1,
              "#f0f921"
             ]
            ],
            "type": "heatmap"
           }
          ],
          "histogram": [
           {
            "marker": {
             "pattern": {
              "fillmode": "overlay",
              "size": 10,
              "solidity": 0.2
             }
            },
            "type": "histogram"
           }
          ],
          "histogram2d": [
           {
            "colorbar": {
             "outlinewidth": 0,
             "ticks": ""
            },
            "colorscale": [
             [
              0,
              "#0d0887"
             ],
             [
              0.1111111111111111,
              "#46039f"
             ],
             [
              0.2222222222222222,
              "#7201a8"
             ],
             [
              0.3333333333333333,
              "#9c179e"
             ],
             [
              0.4444444444444444,
              "#bd3786"
             ],
             [
              0.5555555555555556,
              "#d8576b"
             ],
             [
              0.6666666666666666,
              "#ed7953"
             ],
             [
              0.7777777777777778,
              "#fb9f3a"
             ],
             [
              0.8888888888888888,
              "#fdca26"
             ],
             [
              1,
              "#f0f921"
             ]
            ],
            "type": "histogram2d"
           }
          ],
          "histogram2dcontour": [
           {
            "colorbar": {
             "outlinewidth": 0,
             "ticks": ""
            },
            "colorscale": [
             [
              0,
              "#0d0887"
             ],
             [
              0.1111111111111111,
              "#46039f"
             ],
             [
              0.2222222222222222,
              "#7201a8"
             ],
             [
              0.3333333333333333,
              "#9c179e"
             ],
             [
              0.4444444444444444,
              "#bd3786"
             ],
             [
              0.5555555555555556,
              "#d8576b"
             ],
             [
              0.6666666666666666,
              "#ed7953"
             ],
             [
              0.7777777777777778,
              "#fb9f3a"
             ],
             [
              0.8888888888888888,
              "#fdca26"
             ],
             [
              1,
              "#f0f921"
             ]
            ],
            "type": "histogram2dcontour"
           }
          ],
          "mesh3d": [
           {
            "colorbar": {
             "outlinewidth": 0,
             "ticks": ""
            },
            "type": "mesh3d"
           }
          ],
          "parcoords": [
           {
            "line": {
             "colorbar": {
              "outlinewidth": 0,
              "ticks": ""
             }
            },
            "type": "parcoords"
           }
          ],
          "pie": [
           {
            "automargin": true,
            "type": "pie"
           }
          ],
          "scatter": [
           {
            "fillpattern": {
             "fillmode": "overlay",
             "size": 10,
             "solidity": 0.2
            },
            "type": "scatter"
           }
          ],
          "scatter3d": [
           {
            "line": {
             "colorbar": {
              "outlinewidth": 0,
              "ticks": ""
             }
            },
            "marker": {
             "colorbar": {
              "outlinewidth": 0,
              "ticks": ""
             }
            },
            "type": "scatter3d"
           }
          ],
          "scattercarpet": [
           {
            "marker": {
             "colorbar": {
              "outlinewidth": 0,
              "ticks": ""
             }
            },
            "type": "scattercarpet"
           }
          ],
          "scattergeo": [
           {
            "marker": {
             "colorbar": {
              "outlinewidth": 0,
              "ticks": ""
             }
            },
            "type": "scattergeo"
           }
          ],
          "scattergl": [
           {
            "marker": {
             "colorbar": {
              "outlinewidth": 0,
              "ticks": ""
             }
            },
            "type": "scattergl"
           }
          ],
          "scattermap": [
           {
            "marker": {
             "colorbar": {
              "outlinewidth": 0,
              "ticks": ""
             }
            },
            "type": "scattermap"
           }
          ],
          "scattermapbox": [
           {
            "marker": {
             "colorbar": {
              "outlinewidth": 0,
              "ticks": ""
             }
            },
            "type": "scattermapbox"
           }
          ],
          "scatterpolar": [
           {
            "marker": {
             "colorbar": {
              "outlinewidth": 0,
              "ticks": ""
             }
            },
            "type": "scatterpolar"
           }
          ],
          "scatterpolargl": [
           {
            "marker": {
             "colorbar": {
              "outlinewidth": 0,
              "ticks": ""
             }
            },
            "type": "scatterpolargl"
           }
          ],
          "scatterternary": [
           {
            "marker": {
             "colorbar": {
              "outlinewidth": 0,
              "ticks": ""
             }
            },
            "type": "scatterternary"
           }
          ],
          "surface": [
           {
            "colorbar": {
             "outlinewidth": 0,
             "ticks": ""
            },
            "colorscale": [
             [
              0,
              "#0d0887"
             ],
             [
              0.1111111111111111,
              "#46039f"
             ],
             [
              0.2222222222222222,
              "#7201a8"
             ],
             [
              0.3333333333333333,
              "#9c179e"
             ],
             [
              0.4444444444444444,
              "#bd3786"
             ],
             [
              0.5555555555555556,
              "#d8576b"
             ],
             [
              0.6666666666666666,
              "#ed7953"
             ],
             [
              0.7777777777777778,
              "#fb9f3a"
             ],
             [
              0.8888888888888888,
              "#fdca26"
             ],
             [
              1,
              "#f0f921"
             ]
            ],
            "type": "surface"
           }
          ],
          "table": [
           {
            "cells": {
             "fill": {
              "color": "#EBF0F8"
             },
             "line": {
              "color": "white"
             }
            },
            "header": {
             "fill": {
              "color": "#C8D4E3"
             },
             "line": {
              "color": "white"
             }
            },
            "type": "table"
           }
          ]
         },
         "layout": {
          "annotationdefaults": {
           "arrowcolor": "#2a3f5f",
           "arrowhead": 0,
           "arrowwidth": 1
          },
          "autotypenumbers": "strict",
          "coloraxis": {
           "colorbar": {
            "outlinewidth": 0,
            "ticks": ""
           }
          },
          "colorscale": {
           "diverging": [
            [
             0,
             "#8e0152"
            ],
            [
             0.1,
             "#c51b7d"
            ],
            [
             0.2,
             "#de77ae"
            ],
            [
             0.3,
             "#f1b6da"
            ],
            [
             0.4,
             "#fde0ef"
            ],
            [
             0.5,
             "#f7f7f7"
            ],
            [
             0.6,
             "#e6f5d0"
            ],
            [
             0.7,
             "#b8e186"
            ],
            [
             0.8,
             "#7fbc41"
            ],
            [
             0.9,
             "#4d9221"
            ],
            [
             1,
             "#276419"
            ]
           ],
           "sequential": [
            [
             0,
             "#0d0887"
            ],
            [
             0.1111111111111111,
             "#46039f"
            ],
            [
             0.2222222222222222,
             "#7201a8"
            ],
            [
             0.3333333333333333,
             "#9c179e"
            ],
            [
             0.4444444444444444,
             "#bd3786"
            ],
            [
             0.5555555555555556,
             "#d8576b"
            ],
            [
             0.6666666666666666,
             "#ed7953"
            ],
            [
             0.7777777777777778,
             "#fb9f3a"
            ],
            [
             0.8888888888888888,
             "#fdca26"
            ],
            [
             1,
             "#f0f921"
            ]
           ],
           "sequentialminus": [
            [
             0,
             "#0d0887"
            ],
            [
             0.1111111111111111,
             "#46039f"
            ],
            [
             0.2222222222222222,
             "#7201a8"
            ],
            [
             0.3333333333333333,
             "#9c179e"
            ],
            [
             0.4444444444444444,
             "#bd3786"
            ],
            [
             0.5555555555555556,
             "#d8576b"
            ],
            [
             0.6666666666666666,
             "#ed7953"
            ],
            [
             0.7777777777777778,
             "#fb9f3a"
            ],
            [
             0.8888888888888888,
             "#fdca26"
            ],
            [
             1,
             "#f0f921"
            ]
           ]
          },
          "colorway": [
           "#636efa",
           "#EF553B",
           "#00cc96",
           "#ab63fa",
           "#FFA15A",
           "#19d3f3",
           "#FF6692",
           "#B6E880",
           "#FF97FF",
           "#FECB52"
          ],
          "font": {
           "color": "#2a3f5f"
          },
          "geo": {
           "bgcolor": "white",
           "lakecolor": "white",
           "landcolor": "#E5ECF6",
           "showlakes": true,
           "showland": true,
           "subunitcolor": "white"
          },
          "hoverlabel": {
           "align": "left"
          },
          "hovermode": "closest",
          "mapbox": {
           "style": "light"
          },
          "paper_bgcolor": "white",
          "plot_bgcolor": "#E5ECF6",
          "polar": {
           "angularaxis": {
            "gridcolor": "white",
            "linecolor": "white",
            "ticks": ""
           },
           "bgcolor": "#E5ECF6",
           "radialaxis": {
            "gridcolor": "white",
            "linecolor": "white",
            "ticks": ""
           }
          },
          "scene": {
           "xaxis": {
            "backgroundcolor": "#E5ECF6",
            "gridcolor": "white",
            "gridwidth": 2,
            "linecolor": "white",
            "showbackground": true,
            "ticks": "",
            "zerolinecolor": "white"
           },
           "yaxis": {
            "backgroundcolor": "#E5ECF6",
            "gridcolor": "white",
            "gridwidth": 2,
            "linecolor": "white",
            "showbackground": true,
            "ticks": "",
            "zerolinecolor": "white"
           },
           "zaxis": {
            "backgroundcolor": "#E5ECF6",
            "gridcolor": "white",
            "gridwidth": 2,
            "linecolor": "white",
            "showbackground": true,
            "ticks": "",
            "zerolinecolor": "white"
           }
          },
          "shapedefaults": {
           "line": {
            "color": "#2a3f5f"
           }
          },
          "ternary": {
           "aaxis": {
            "gridcolor": "white",
            "linecolor": "white",
            "ticks": ""
           },
           "baxis": {
            "gridcolor": "white",
            "linecolor": "white",
            "ticks": ""
           },
           "bgcolor": "#E5ECF6",
           "caxis": {
            "gridcolor": "white",
            "linecolor": "white",
            "ticks": ""
           }
          },
          "title": {
           "x": 0.05
          },
          "xaxis": {
           "automargin": true,
           "gridcolor": "white",
           "linecolor": "white",
           "ticks": "",
           "title": {
            "standoff": 15
           },
           "zerolinecolor": "white",
           "zerolinewidth": 2
          },
          "yaxis": {
           "automargin": true,
           "gridcolor": "white",
           "linecolor": "white",
           "ticks": "",
           "title": {
            "standoff": 15
           },
           "zerolinecolor": "white",
           "zerolinewidth": 2
          }
         }
        },
        "title": {
         "text": "Cosine Similarity of Response to Given Definition by Number of Platforms Used"
        },
        "width": 1000,
        "xaxis": {
         "categoryarray": [
          "None",
          "1-3",
          "4-6",
          "7-9",
          "10-12",
          "13+"
         ],
         "categoryorder": "array",
         "title": {
          "text": "Social Media Platforms Used"
         },
         "type": "category"
        },
        "yaxis": {
         "title": {
          "text": "Cosine Similarity"
         }
        }
       }
      }
     },
     "metadata": {},
     "output_type": "display_data"
    },
    {
     "name": "stdout",
     "output_type": "stream",
     "text": [
      "KruskalResult(statistic=np.float64(3.862899492383576), pvalue=np.float64(0.5693192592370716))\n"
     ]
    }
   ],
   "source": [
    "df['sm_use_level'] = df['n_platforms'].apply(lambda x: 'None' if x < 1 else '1-3' if 0<x<4 else '4-6' if 3 < x <= 6 else '7-9' if 6<x<10 else '10-12' if 9<x<13 else '13+' if x>12 else 0)\n",
    "\n",
    "fig = go.Figure()\n",
    "\n",
    "fig.add_trace(go.Box(\n",
    "    x=df['sm_use_level'],\n",
    "    y=df['sim_to_def'],\n",
    "    boxpoints='all',\n",
    "    showlegend=False,\n",
    "))\n",
    "\n",
    "fig.update_layout(\n",
    "    xaxis_title='Social Media Platforms Used',\n",
    "    yaxis_title='Cosine Similarity',\n",
    "    width=1000,\n",
    "    height=600,\n",
    "    showlegend=True, \n",
    "    legend =dict(\n",
    "        orientation=\"h\",\n",
    "        yanchor=\"bottom\",\n",
    "        x=.85\n",
    "        ),\n",
    "    title='Cosine Similarity of Response to Given Definition by Number of Platforms Used',\n",
    "    )\n",
    "fig.update_xaxes(type= 'category', categoryorder = 'array', categoryarray= ['None', '1-3', '4-6', '7-9', '10-12', '13+'])\n",
    "\n",
    "fig.update_traces(\n",
    "    # jitter=.7,\n",
    "    marker=dict(\n",
    "        color='rgba(50, 100, 255, 1)',\n",
    "        line=dict(width=1)))\n",
    "\n",
    "fig.write_image('../../figures/bucketed_similarity_to_def_vs_platforms_used.png')\n",
    "\n",
    "fig.show()\n",
    "\n",
    "print(stats.kruskal(\n",
    "    df[(df['sm_use_level'] == 'None')]['sim_to_def'],\n",
    "    df[(df['sm_use_level'] == '1-3')]['sim_to_def'],\n",
    "    df[(df['sm_use_level'] == '4-6')]['sim_to_def'],\n",
    "    df[(df['sm_use_level'] == '7-9')]['sim_to_def'],\n",
    "    df[(df['sm_use_level'] == '10-12')]['sim_to_def'],\n",
    "    df[(df['sm_use_level'] == '13+')]['sim_to_def']\n",
    "))"
   ]
  },
  {
   "cell_type": "code",
   "execution_count": 83,
   "metadata": {},
   "outputs": [
    {
     "data": {
      "application/vnd.plotly.v1+json": {
       "config": {
        "plotlyServerURL": "https://plot.ly"
       },
       "data": [
        {
         "boxpoints": "all",
         "marker": {
          "color": "rgba(50, 100, 255, 1)",
          "line": {
           "width": 1
          }
         },
         "showlegend": false,
         "type": "box",
         "x": [
          "10-12",
          "10-12",
          "4-6",
          "4-6",
          "4-6",
          "7-9",
          "10-12",
          "4-6",
          "7-9",
          "1-3",
          "4-6",
          "7-9",
          "7-9",
          "7-9",
          "7-9",
          "13+",
          "4-6",
          "10-12",
          "7-9",
          "13+",
          "7-9",
          "4-6",
          "13+",
          "4-6",
          "10-12",
          "7-9",
          "4-6",
          "7-9",
          "10-12",
          "7-9",
          "13+",
          "4-6",
          "10-12",
          "4-6",
          "7-9",
          "4-6",
          "4-6",
          "4-6",
          "4-6",
          "7-9",
          "10-12",
          "4-6",
          "7-9",
          "7-9",
          "7-9",
          "4-6",
          "7-9",
          "7-9",
          "4-6",
          "7-9",
          "13+",
          "10-12",
          "4-6",
          "7-9",
          "4-6",
          "4-6",
          "1-3",
          "10-12",
          "4-6",
          "7-9",
          "7-9",
          "4-6",
          "10-12",
          "13+",
          "7-9",
          "4-6",
          "7-9",
          "4-6",
          "1-3",
          "1-3",
          "4-6",
          "7-9",
          "13+",
          "10-12",
          "10-12",
          "10-12",
          "7-9",
          "13+",
          "13+",
          "7-9",
          "1-3",
          "13+",
          "4-6",
          "4-6",
          "4-6",
          "7-9",
          "10-12",
          "10-12",
          "10-12",
          "4-6",
          "4-6",
          "4-6",
          "4-6",
          "4-6",
          "10-12",
          "4-6",
          "7-9",
          "1-3",
          "4-6",
          "4-6",
          "4-6",
          "10-12",
          "7-9",
          "7-9",
          "10-12",
          "13+",
          "4-6",
          "7-9",
          "13+",
          "7-9",
          "1-3",
          "4-6",
          "10-12",
          "7-9",
          "4-6",
          "None",
          "7-9",
          "10-12",
          "7-9",
          "1-3",
          "4-6",
          "7-9",
          "7-9",
          "4-6",
          "4-6",
          "7-9",
          "13+",
          "7-9",
          "4-6",
          "4-6",
          "4-6",
          "1-3",
          "4-6",
          "10-12",
          "4-6",
          "7-9",
          "4-6",
          "4-6",
          "None",
          "4-6",
          "4-6",
          "7-9",
          "4-6",
          "None",
          "4-6",
          "4-6",
          "7-9",
          "10-12",
          "4-6",
          "7-9",
          "1-3",
          "10-12",
          "4-6",
          "7-9",
          "4-6",
          "7-9",
          "4-6",
          "4-6",
          "7-9",
          "10-12",
          "7-9",
          "7-9",
          "4-6",
          "4-6",
          "4-6",
          "7-9",
          "1-3",
          "1-3",
          "7-9",
          "7-9",
          "4-6",
          "10-12",
          "1-3",
          "7-9",
          "7-9",
          "4-6",
          "10-12",
          "7-9",
          "4-6",
          "4-6",
          "10-12",
          "1-3",
          "1-3",
          "4-6",
          "4-6",
          "7-9",
          "10-12",
          "10-12",
          "7-9",
          "10-12",
          "7-9",
          "10-12",
          "4-6",
          "7-9",
          "4-6",
          "10-12",
          "4-6",
          "7-9",
          "4-6",
          "4-6",
          "7-9",
          "4-6",
          "4-6",
          "7-9",
          "4-6",
          "10-12",
          "4-6",
          "4-6",
          "4-6",
          "7-9",
          "7-9",
          "4-6",
          "4-6",
          "4-6",
          "10-12",
          "7-9",
          "7-9",
          "4-6",
          "4-6",
          "1-3",
          "7-9",
          "7-9",
          "7-9",
          "4-6",
          "7-9",
          "4-6",
          "1-3",
          "7-9",
          "7-9",
          "7-9",
          "7-9",
          "7-9",
          "4-6",
          "7-9",
          "4-6",
          "7-9",
          "7-9",
          "1-3",
          "4-6",
          "7-9",
          "1-3",
          "4-6",
          "1-3",
          "1-3",
          "7-9",
          "7-9",
          "13+",
          "13+",
          "7-9",
          "4-6",
          "7-9",
          "4-6",
          "7-9",
          "4-6",
          "4-6",
          "4-6",
          "4-6",
          "7-9",
          "4-6",
          "4-6",
          "7-9",
          "7-9",
          "7-9",
          "7-9",
          "7-9",
          "4-6",
          "10-12",
          "1-3",
          "10-12",
          "4-6",
          "1-3",
          "4-6",
          "4-6",
          "4-6",
          "7-9",
          "4-6",
          "7-9",
          "4-6",
          "4-6",
          "4-6",
          "10-12",
          "4-6",
          "7-9",
          "1-3",
          "4-6",
          "1-3",
          "7-9",
          "4-6",
          "10-12",
          "7-9",
          "7-9",
          "7-9",
          "1-3",
          "7-9",
          "7-9",
          "1-3",
          "4-6",
          "4-6",
          "10-12",
          "4-6",
          "1-3",
          "7-9",
          "4-6",
          "4-6",
          "7-9",
          "10-12",
          "10-12",
          "7-9",
          "10-12",
          "10-12",
          "4-6",
          "4-6",
          "10-12",
          "10-12",
          "10-12",
          "7-9",
          "10-12",
          "7-9",
          "13+",
          "4-6",
          "1-3",
          "1-3",
          "7-9",
          "1-3",
          "7-9",
          "7-9",
          "4-6",
          "13+",
          "1-3",
          "4-6",
          "1-3",
          "4-6",
          "7-9",
          "7-9",
          "10-12",
          "10-12",
          "4-6",
          "4-6",
          "4-6",
          "1-3",
          "7-9",
          "10-12",
          "10-12",
          "4-6",
          "10-12",
          "7-9",
          "10-12",
          "4-6",
          "7-9",
          "7-9",
          "4-6",
          "1-3",
          "10-12",
          "7-9",
          "10-12",
          "4-6",
          "7-9",
          "4-6",
          "4-6",
          "7-9",
          "1-3",
          "10-12",
          "7-9",
          "10-12",
          "7-9",
          "4-6",
          "1-3",
          "4-6",
          "7-9",
          "13+",
          "7-9",
          "4-6",
          "4-6",
          "1-3",
          "4-6",
          "4-6",
          "10-12",
          "4-6",
          "7-9",
          "7-9",
          "4-6",
          "7-9",
          "4-6",
          "4-6",
          "1-3",
          "4-6",
          "4-6",
          "4-6",
          "4-6",
          "4-6",
          "7-9",
          "4-6",
          "4-6",
          "10-12",
          "1-3",
          "7-9",
          "4-6",
          "10-12",
          "7-9",
          "7-9",
          "7-9",
          "7-9",
          "4-6",
          "1-3",
          "4-6",
          "10-12",
          "7-9",
          "1-3",
          "10-12",
          "4-6",
          "10-12",
          "4-6",
          "7-9",
          "4-6",
          "4-6",
          "4-6",
          "1-3",
          "7-9",
          "4-6",
          "10-12",
          "4-6",
          "4-6",
          "1-3",
          "10-12",
          "7-9",
          "7-9",
          "1-3",
          "10-12",
          "10-12",
          "1-3",
          "7-9",
          "4-6",
          "1-3",
          "10-12",
          "4-6",
          "4-6",
          "4-6",
          "7-9",
          "4-6",
          "1-3",
          "10-12",
          "10-12",
          "1-3",
          "4-6",
          "7-9",
          "4-6",
          "7-9",
          "1-3",
          "7-9",
          "10-12",
          "7-9",
          "4-6",
          "10-12",
          "7-9",
          "4-6",
          "7-9",
          "4-6",
          "10-12",
          "7-9",
          "13+",
          "7-9",
          "4-6",
          "7-9",
          "7-9",
          "4-6",
          "4-6",
          "10-12",
          "4-6",
          "10-12",
          "1-3",
          "10-12",
          "10-12",
          "4-6",
          "4-6",
          "7-9",
          "7-9",
          "4-6",
          "7-9",
          "7-9",
          "10-12",
          "1-3",
          "7-9",
          "1-3",
          "13+",
          "4-6",
          "7-9",
          "7-9",
          "4-6",
          "13+",
          "4-6",
          "4-6",
          "7-9",
          "7-9",
          "7-9",
          "4-6",
          "4-6",
          "4-6",
          "7-9",
          "4-6",
          "7-9",
          "7-9",
          "4-6",
          "4-6",
          "4-6",
          "4-6",
          "4-6",
          "7-9",
          "7-9",
          "7-9",
          "None",
          "7-9",
          "4-6",
          "7-9",
          "13+",
          "4-6",
          "4-6",
          "10-12",
          "7-9",
          "7-9",
          "4-6",
          "7-9",
          "7-9",
          "7-9",
          "4-6",
          "10-12",
          "7-9",
          "4-6",
          "7-9",
          "4-6",
          "1-3",
          "13+",
          "1-3",
          "7-9",
          "4-6",
          "4-6",
          "10-12",
          "7-9",
          "4-6",
          "4-6",
          "7-9",
          "13+",
          "10-12",
          "10-12",
          "10-12",
          "10-12",
          "4-6",
          "4-6",
          "4-6",
          "4-6",
          "10-12",
          "None",
          "4-6",
          "4-6",
          "4-6",
          "4-6",
          "4-6",
          "10-12",
          "7-9",
          "4-6",
          "4-6",
          "1-3",
          "7-9",
          "7-9",
          "4-6",
          "7-9",
          "1-3",
          "10-12",
          "10-12",
          "4-6",
          "10-12",
          "7-9",
          "10-12",
          "7-9",
          "1-3",
          "7-9",
          "4-6",
          "7-9",
          "4-6",
          "4-6",
          "7-9",
          "7-9",
          "4-6",
          "13+",
          "4-6",
          "4-6",
          "7-9",
          "7-9",
          "10-12",
          "7-9",
          "7-9",
          "4-6",
          "4-6",
          "7-9",
          "4-6",
          "4-6",
          "4-6",
          "4-6",
          "4-6",
          "7-9",
          "4-6",
          "1-3",
          "4-6",
          "1-3",
          "7-9",
          "7-9",
          "1-3",
          "10-12",
          "7-9",
          "1-3",
          "7-9",
          "1-3",
          "4-6",
          "7-9",
          "7-9",
          "4-6",
          "1-3",
          "4-6",
          "None",
          "4-6",
          "7-9",
          "7-9",
          "7-9",
          "10-12",
          "7-9",
          "4-6",
          "7-9",
          "10-12",
          "7-9",
          "4-6",
          "7-9",
          "4-6",
          "4-6",
          "7-9",
          "7-9",
          "4-6",
          "4-6",
          "7-9",
          "7-9",
          "1-3",
          "7-9",
          "4-6",
          "7-9",
          "10-12",
          "10-12",
          "10-12",
          "13+",
          "1-3",
          "4-6",
          "7-9",
          "7-9",
          "7-9",
          "4-6",
          "1-3",
          "4-6",
          "7-9",
          "7-9",
          "13+",
          "7-9",
          "4-6",
          "4-6",
          "7-9",
          "4-6",
          "7-9",
          "7-9",
          "7-9",
          "7-9",
          "4-6",
          "1-3",
          "4-6",
          "4-6",
          "7-9",
          "4-6",
          "7-9",
          "7-9",
          "4-6",
          "7-9",
          "4-6",
          "4-6",
          "10-12",
          "4-6",
          "7-9",
          "1-3",
          "7-9",
          "7-9",
          "1-3",
          "1-3",
          "10-12",
          "7-9",
          "4-6",
          "4-6",
          "1-3",
          "7-9",
          "1-3",
          "4-6",
          "4-6",
          "7-9",
          "4-6",
          "4-6",
          "1-3",
          "1-3",
          "4-6",
          "1-3",
          "1-3",
          "7-9",
          "4-6",
          "10-12",
          "4-6",
          "4-6",
          "7-9",
          "7-9",
          "4-6",
          "4-6",
          "4-6",
          "10-12",
          "7-9",
          "10-12",
          "4-6",
          "7-9",
          "10-12",
          "None",
          "1-3",
          "4-6",
          "1-3",
          "1-3",
          "1-3",
          "7-9",
          "7-9",
          "7-9",
          "1-3",
          "1-3",
          "4-6",
          "1-3",
          "1-3",
          "10-12",
          "1-3",
          "4-6",
          "7-9",
          "10-12",
          "7-9",
          "7-9",
          "7-9",
          "7-9",
          "4-6",
          "4-6",
          "1-3",
          "7-9",
          "4-6",
          "7-9",
          "1-3",
          "7-9",
          "7-9",
          "13+",
          "13+",
          "4-6",
          "7-9",
          "7-9",
          "1-3",
          "1-3",
          "7-9",
          "7-9",
          "7-9",
          "4-6",
          "4-6",
          "4-6",
          "4-6",
          "4-6",
          "1-3",
          "4-6",
          "1-3",
          "1-3",
          "4-6",
          "4-6",
          "4-6",
          "4-6",
          "4-6",
          "1-3",
          "1-3",
          "4-6",
          "4-6",
          "7-9",
          "4-6",
          "10-12",
          "7-9",
          "1-3",
          "4-6",
          "4-6",
          "7-9",
          "4-6",
          "1-3",
          "7-9",
          "4-6",
          "1-3",
          "7-9",
          "10-12",
          "1-3",
          "4-6",
          "1-3",
          "1-3",
          "10-12",
          "4-6",
          "4-6",
          "7-9",
          "10-12",
          "7-9",
          "4-6",
          "4-6",
          "7-9",
          "4-6",
          "7-9",
          "7-9",
          "4-6",
          "10-12",
          "10-12",
          "4-6",
          "1-3",
          "7-9",
          "7-9",
          "7-9",
          "1-3",
          "10-12",
          "10-12",
          "None",
          "4-6",
          "4-6",
          "7-9",
          "7-9",
          "10-12",
          "1-3",
          "7-9",
          "10-12",
          "7-9",
          "4-6",
          "4-6",
          "1-3",
          "1-3",
          "7-9",
          "7-9",
          "7-9",
          "4-6",
          "7-9",
          "4-6",
          "4-6",
          "7-9",
          "1-3",
          "1-3",
          "4-6",
          "7-9",
          "1-3",
          "4-6",
          "4-6",
          "7-9",
          "7-9",
          "1-3",
          "10-12",
          "7-9",
          "10-12",
          "7-9",
          "4-6",
          "4-6",
          "4-6",
          "10-12",
          "4-6",
          "4-6",
          "7-9",
          "4-6",
          "4-6",
          "4-6",
          "4-6",
          "4-6",
          "4-6",
          "7-9",
          "4-6",
          "4-6",
          "4-6",
          "4-6",
          "1-3",
          "4-6",
          "7-9",
          "1-3",
          "7-9",
          "7-9",
          "7-9",
          "7-9",
          "7-9",
          "1-3",
          "1-3",
          "7-9",
          "4-6",
          "10-12",
          "4-6",
          "4-6",
          "1-3",
          "1-3",
          "1-3",
          "7-9",
          "4-6",
          "4-6",
          "4-6",
          "4-6",
          "1-3",
          "4-6",
          "4-6",
          "1-3",
          "1-3",
          "13+",
          "7-9",
          "4-6",
          "1-3",
          "13+",
          "13+",
          "1-3",
          "4-6",
          "7-9",
          "7-9",
          "13+",
          "1-3",
          "7-9",
          "4-6",
          "7-9",
          "7-9",
          "4-6",
          "1-3",
          "10-12",
          "4-6",
          "4-6",
          "1-3",
          "4-6",
          "1-3",
          "7-9",
          "4-6",
          "7-9",
          "1-3",
          "7-9",
          "1-3",
          "7-9",
          "1-3",
          "10-12",
          "7-9",
          "1-3",
          "7-9",
          "1-3",
          "10-12",
          "7-9",
          "4-6",
          "4-6",
          "7-9",
          "1-3",
          "1-3",
          "7-9",
          "4-6",
          "7-9",
          "4-6",
          "7-9",
          "1-3",
          "1-3",
          "1-3",
          "7-9",
          "4-6",
          "4-6",
          "4-6",
          "7-9",
          "4-6",
          "4-6",
          "7-9",
          "4-6",
          "1-3",
          "7-9",
          "4-6",
          "4-6",
          "4-6",
          "4-6",
          "1-3",
          "1-3",
          "7-9",
          "7-9",
          "13+",
          "7-9",
          "10-12",
          "13+",
          "1-3",
          "7-9",
          "7-9",
          "4-6",
          "7-9",
          "7-9",
          "4-6",
          "4-6",
          "4-6",
          "7-9",
          "7-9",
          "10-12",
          "1-3",
          "7-9",
          "4-6",
          "7-9",
          "4-6",
          "4-6",
          "4-6",
          "1-3",
          "4-6"
         ],
         "y": {
          "bdata": "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",
          "dtype": "f8"
         }
        }
       ],
       "layout": {
        "template": {
         "data": {
          "bar": [
           {
            "error_x": {
             "color": "#2a3f5f"
            },
            "error_y": {
             "color": "#2a3f5f"
            },
            "marker": {
             "line": {
              "color": "#E5ECF6",
              "width": 0.5
             },
             "pattern": {
              "fillmode": "overlay",
              "size": 10,
              "solidity": 0.2
             }
            },
            "type": "bar"
           }
          ],
          "barpolar": [
           {
            "marker": {
             "line": {
              "color": "#E5ECF6",
              "width": 0.5
             },
             "pattern": {
              "fillmode": "overlay",
              "size": 10,
              "solidity": 0.2
             }
            },
            "type": "barpolar"
           }
          ],
          "carpet": [
           {
            "aaxis": {
             "endlinecolor": "#2a3f5f",
             "gridcolor": "white",
             "linecolor": "white",
             "minorgridcolor": "white",
             "startlinecolor": "#2a3f5f"
            },
            "baxis": {
             "endlinecolor": "#2a3f5f",
             "gridcolor": "white",
             "linecolor": "white",
             "minorgridcolor": "white",
             "startlinecolor": "#2a3f5f"
            },
            "type": "carpet"
           }
          ],
          "choropleth": [
           {
            "colorbar": {
             "outlinewidth": 0,
             "ticks": ""
            },
            "type": "choropleth"
           }
          ],
          "contour": [
           {
            "colorbar": {
             "outlinewidth": 0,
             "ticks": ""
            },
            "colorscale": [
             [
              0,
              "#0d0887"
             ],
             [
              0.1111111111111111,
              "#46039f"
             ],
             [
              0.2222222222222222,
              "#7201a8"
             ],
             [
              0.3333333333333333,
              "#9c179e"
             ],
             [
              0.4444444444444444,
              "#bd3786"
             ],
             [
              0.5555555555555556,
              "#d8576b"
             ],
             [
              0.6666666666666666,
              "#ed7953"
             ],
             [
              0.7777777777777778,
              "#fb9f3a"
             ],
             [
              0.8888888888888888,
              "#fdca26"
             ],
             [
              1,
              "#f0f921"
             ]
            ],
            "type": "contour"
           }
          ],
          "contourcarpet": [
           {
            "colorbar": {
             "outlinewidth": 0,
             "ticks": ""
            },
            "type": "contourcarpet"
           }
          ],
          "heatmap": [
           {
            "colorbar": {
             "outlinewidth": 0,
             "ticks": ""
            },
            "colorscale": [
             [
              0,
              "#0d0887"
             ],
             [
              0.1111111111111111,
              "#46039f"
             ],
             [
              0.2222222222222222,
              "#7201a8"
             ],
             [
              0.3333333333333333,
              "#9c179e"
             ],
             [
              0.4444444444444444,
              "#bd3786"
             ],
             [
              0.5555555555555556,
              "#d8576b"
             ],
             [
              0.6666666666666666,
              "#ed7953"
             ],
             [
              0.7777777777777778,
              "#fb9f3a"
             ],
             [
              0.8888888888888888,
              "#fdca26"
             ],
             [
              1,
              "#f0f921"
             ]
            ],
            "type": "heatmap"
           }
          ],
          "histogram": [
           {
            "marker": {
             "pattern": {
              "fillmode": "overlay",
              "size": 10,
              "solidity": 0.2
             }
            },
            "type": "histogram"
           }
          ],
          "histogram2d": [
           {
            "colorbar": {
             "outlinewidth": 0,
             "ticks": ""
            },
            "colorscale": [
             [
              0,
              "#0d0887"
             ],
             [
              0.1111111111111111,
              "#46039f"
             ],
             [
              0.2222222222222222,
              "#7201a8"
             ],
             [
              0.3333333333333333,
              "#9c179e"
             ],
             [
              0.4444444444444444,
              "#bd3786"
             ],
             [
              0.5555555555555556,
              "#d8576b"
             ],
             [
              0.6666666666666666,
              "#ed7953"
             ],
             [
              0.7777777777777778,
              "#fb9f3a"
             ],
             [
              0.8888888888888888,
              "#fdca26"
             ],
             [
              1,
              "#f0f921"
             ]
            ],
            "type": "histogram2d"
           }
          ],
          "histogram2dcontour": [
           {
            "colorbar": {
             "outlinewidth": 0,
             "ticks": ""
            },
            "colorscale": [
             [
              0,
              "#0d0887"
             ],
             [
              0.1111111111111111,
              "#46039f"
             ],
             [
              0.2222222222222222,
              "#7201a8"
             ],
             [
              0.3333333333333333,
              "#9c179e"
             ],
             [
              0.4444444444444444,
              "#bd3786"
             ],
             [
              0.5555555555555556,
              "#d8576b"
             ],
             [
              0.6666666666666666,
              "#ed7953"
             ],
             [
              0.7777777777777778,
              "#fb9f3a"
             ],
             [
              0.8888888888888888,
              "#fdca26"
             ],
             [
              1,
              "#f0f921"
             ]
            ],
            "type": "histogram2dcontour"
           }
          ],
          "mesh3d": [
           {
            "colorbar": {
             "outlinewidth": 0,
             "ticks": ""
            },
            "type": "mesh3d"
           }
          ],
          "parcoords": [
           {
            "line": {
             "colorbar": {
              "outlinewidth": 0,
              "ticks": ""
             }
            },
            "type": "parcoords"
           }
          ],
          "pie": [
           {
            "automargin": true,
            "type": "pie"
           }
          ],
          "scatter": [
           {
            "fillpattern": {
             "fillmode": "overlay",
             "size": 10,
             "solidity": 0.2
            },
            "type": "scatter"
           }
          ],
          "scatter3d": [
           {
            "line": {
             "colorbar": {
              "outlinewidth": 0,
              "ticks": ""
             }
            },
            "marker": {
             "colorbar": {
              "outlinewidth": 0,
              "ticks": ""
             }
            },
            "type": "scatter3d"
           }
          ],
          "scattercarpet": [
           {
            "marker": {
             "colorbar": {
              "outlinewidth": 0,
              "ticks": ""
             }
            },
            "type": "scattercarpet"
           }
          ],
          "scattergeo": [
           {
            "marker": {
             "colorbar": {
              "outlinewidth": 0,
              "ticks": ""
             }
            },
            "type": "scattergeo"
           }
          ],
          "scattergl": [
           {
            "marker": {
             "colorbar": {
              "outlinewidth": 0,
              "ticks": ""
             }
            },
            "type": "scattergl"
           }
          ],
          "scattermap": [
           {
            "marker": {
             "colorbar": {
              "outlinewidth": 0,
              "ticks": ""
             }
            },
            "type": "scattermap"
           }
          ],
          "scattermapbox": [
           {
            "marker": {
             "colorbar": {
              "outlinewidth": 0,
              "ticks": ""
             }
            },
            "type": "scattermapbox"
           }
          ],
          "scatterpolar": [
           {
            "marker": {
             "colorbar": {
              "outlinewidth": 0,
              "ticks": ""
             }
            },
            "type": "scatterpolar"
           }
          ],
          "scatterpolargl": [
           {
            "marker": {
             "colorbar": {
              "outlinewidth": 0,
              "ticks": ""
             }
            },
            "type": "scatterpolargl"
           }
          ],
          "scatterternary": [
           {
            "marker": {
             "colorbar": {
              "outlinewidth": 0,
              "ticks": ""
             }
            },
            "type": "scatterternary"
           }
          ],
          "surface": [
           {
            "colorbar": {
             "outlinewidth": 0,
             "ticks": ""
            },
            "colorscale": [
             [
              0,
              "#0d0887"
             ],
             [
              0.1111111111111111,
              "#46039f"
             ],
             [
              0.2222222222222222,
              "#7201a8"
             ],
             [
              0.3333333333333333,
              "#9c179e"
             ],
             [
              0.4444444444444444,
              "#bd3786"
             ],
             [
              0.5555555555555556,
              "#d8576b"
             ],
             [
              0.6666666666666666,
              "#ed7953"
             ],
             [
              0.7777777777777778,
              "#fb9f3a"
             ],
             [
              0.8888888888888888,
              "#fdca26"
             ],
             [
              1,
              "#f0f921"
             ]
            ],
            "type": "surface"
           }
          ],
          "table": [
           {
            "cells": {
             "fill": {
              "color": "#EBF0F8"
             },
             "line": {
              "color": "white"
             }
            },
            "header": {
             "fill": {
              "color": "#C8D4E3"
             },
             "line": {
              "color": "white"
             }
            },
            "type": "table"
           }
          ]
         },
         "layout": {
          "annotationdefaults": {
           "arrowcolor": "#2a3f5f",
           "arrowhead": 0,
           "arrowwidth": 1
          },
          "autotypenumbers": "strict",
          "coloraxis": {
           "colorbar": {
            "outlinewidth": 0,
            "ticks": ""
           }
          },
          "colorscale": {
           "diverging": [
            [
             0,
             "#8e0152"
            ],
            [
             0.1,
             "#c51b7d"
            ],
            [
             0.2,
             "#de77ae"
            ],
            [
             0.3,
             "#f1b6da"
            ],
            [
             0.4,
             "#fde0ef"
            ],
            [
             0.5,
             "#f7f7f7"
            ],
            [
             0.6,
             "#e6f5d0"
            ],
            [
             0.7,
             "#b8e186"
            ],
            [
             0.8,
             "#7fbc41"
            ],
            [
             0.9,
             "#4d9221"
            ],
            [
             1,
             "#276419"
            ]
           ],
           "sequential": [
            [
             0,
             "#0d0887"
            ],
            [
             0.1111111111111111,
             "#46039f"
            ],
            [
             0.2222222222222222,
             "#7201a8"
            ],
            [
             0.3333333333333333,
             "#9c179e"
            ],
            [
             0.4444444444444444,
             "#bd3786"
            ],
            [
             0.5555555555555556,
             "#d8576b"
            ],
            [
             0.6666666666666666,
             "#ed7953"
            ],
            [
             0.7777777777777778,
             "#fb9f3a"
            ],
            [
             0.8888888888888888,
             "#fdca26"
            ],
            [
             1,
             "#f0f921"
            ]
           ],
           "sequentialminus": [
            [
             0,
             "#0d0887"
            ],
            [
             0.1111111111111111,
             "#46039f"
            ],
            [
             0.2222222222222222,
             "#7201a8"
            ],
            [
             0.3333333333333333,
             "#9c179e"
            ],
            [
             0.4444444444444444,
             "#bd3786"
            ],
            [
             0.5555555555555556,
             "#d8576b"
            ],
            [
             0.6666666666666666,
             "#ed7953"
            ],
            [
             0.7777777777777778,
             "#fb9f3a"
            ],
            [
             0.8888888888888888,
             "#fdca26"
            ],
            [
             1,
             "#f0f921"
            ]
           ]
          },
          "colorway": [
           "#636efa",
           "#EF553B",
           "#00cc96",
           "#ab63fa",
           "#FFA15A",
           "#19d3f3",
           "#FF6692",
           "#B6E880",
           "#FF97FF",
           "#FECB52"
          ],
          "font": {
           "color": "#2a3f5f"
          },
          "geo": {
           "bgcolor": "white",
           "lakecolor": "white",
           "landcolor": "#E5ECF6",
           "showlakes": true,
           "showland": true,
           "subunitcolor": "white"
          },
          "hoverlabel": {
           "align": "left"
          },
          "hovermode": "closest",
          "mapbox": {
           "style": "light"
          },
          "paper_bgcolor": "white",
          "plot_bgcolor": "#E5ECF6",
          "polar": {
           "angularaxis": {
            "gridcolor": "white",
            "linecolor": "white",
            "ticks": ""
           },
           "bgcolor": "#E5ECF6",
           "radialaxis": {
            "gridcolor": "white",
            "linecolor": "white",
            "ticks": ""
           }
          },
          "scene": {
           "xaxis": {
            "backgroundcolor": "#E5ECF6",
            "gridcolor": "white",
            "gridwidth": 2,
            "linecolor": "white",
            "showbackground": true,
            "ticks": "",
            "zerolinecolor": "white"
           },
           "yaxis": {
            "backgroundcolor": "#E5ECF6",
            "gridcolor": "white",
            "gridwidth": 2,
            "linecolor": "white",
            "showbackground": true,
            "ticks": "",
            "zerolinecolor": "white"
           },
           "zaxis": {
            "backgroundcolor": "#E5ECF6",
            "gridcolor": "white",
            "gridwidth": 2,
            "linecolor": "white",
            "showbackground": true,
            "ticks": "",
            "zerolinecolor": "white"
           }
          },
          "shapedefaults": {
           "line": {
            "color": "#2a3f5f"
           }
          },
          "ternary": {
           "aaxis": {
            "gridcolor": "white",
            "linecolor": "white",
            "ticks": ""
           },
           "baxis": {
            "gridcolor": "white",
            "linecolor": "white",
            "ticks": ""
           },
           "bgcolor": "#E5ECF6",
           "caxis": {
            "gridcolor": "white",
            "linecolor": "white",
            "ticks": ""
           }
          },
          "title": {
           "x": 0.05
          },
          "xaxis": {
           "automargin": true,
           "gridcolor": "white",
           "linecolor": "white",
           "ticks": "",
           "title": {
            "standoff": 15
           },
           "zerolinecolor": "white",
           "zerolinewidth": 2
          },
          "yaxis": {
           "automargin": true,
           "gridcolor": "white",
           "linecolor": "white",
           "ticks": "",
           "title": {
            "standoff": 15
           },
           "zerolinecolor": "white",
           "zerolinewidth": 2
          }
         }
        },
        "xaxis": {
         "categoryarray": [
          "None",
          "1-3",
          "4-6",
          "7-9",
          "10-12",
          "13+"
         ],
         "categoryorder": "array",
         "type": "category"
        }
       }
      }
     },
     "metadata": {},
     "output_type": "display_data"
    }
   ],
   "source": [
    "\n",
    "fig = go.Figure()\n",
    "\n",
    "fig.add_trace(go.Box(\n",
    "    x=df[df['total_accuracy']>0.25]['sm_use_level'],\n",
    "    y=df[df['total_accuracy']>0.25]['total_accuracy'],\n",
    "    boxpoints='all',\n",
    "    showlegend=False,\n",
    "))\n",
    "\n",
    "\n",
    "fig.update_xaxes(type= 'category', categoryorder = 'array', categoryarray= ['None', '1-3', '4-6', '7-9', '10-12', '13+'])\n",
    "\n",
    "fig.update_traces(\n",
    "    # jitter=.7,\n",
    "    marker=dict(\n",
    "        color='rgba(50, 100, 255, 1)',\n",
    "        line=dict(width=1)))"
   ]
  },
  {
   "cell_type": "code",
   "execution_count": 86,
   "metadata": {},
   "outputs": [
    {
     "name": "stdout",
     "output_type": "stream",
     "text": [
      "KruskalResult(statistic=np.float64(29.70467511580446), pvalue=np.float64(1.685973627884288e-05))\n"
     ]
    }
   ],
   "source": [
    "print(stats.kruskal(\n",
    "    df[(df['sm_use_level'] == 'None') & (df['total_accuracy']>0.4)]['total_accuracy'],\n",
    "    df[(df['sm_use_level'] == '1-3') & (df['total_accuracy']>0.4)]['total_accuracy'],\n",
    "    df[(df['sm_use_level'] == '4-6') & (df['total_accuracy']>0.4)]['total_accuracy'],\n",
    "    df[(df['sm_use_level'] == '7-9') & (df['total_accuracy']>0.4)]['total_accuracy'],\n",
    "    df[(df['sm_use_level'] == '10-12') & (df['total_accuracy']>0.4)]['total_accuracy'],\n",
    "    df[(df['sm_use_level'] == '13+') & (df['total_accuracy']>0.4)]['total_accuracy']\n",
    "))"
   ]
  },
  {
   "cell_type": "markdown",
   "metadata": {},
   "source": [
    "### fig 3"
   ]
  },
  {
   "cell_type": "code",
   "execution_count": 58,
   "metadata": {},
   "outputs": [
    {
     "data": {
      "application/vnd.plotly.v1+json": {
       "config": {
        "plotlyServerURL": "https://plot.ly"
       },
       "data": [
        {
         "marker": {
          "color": "rgba(0, 0, 120, 0.8)",
          "line": {
           "color": "rgb(8,48,107)",
           "width": 1.5
          }
         },
         "name": "Used by Parent",
         "orientation": "h",
         "type": "bar",
         "x": [
          0.8111888111888111,
          0.9892344497607656,
          0.2549019607843137,
          0.9934296977660972,
          0.675,
          0.7222222222222222,
          0.9309734513274336,
          0.5428571428571428,
          0.47761194029850745,
          0.9818181818181818,
          0.8423236514522822,
          0.9878542510121457,
          0.9672131147540983,
          0.875,
          0.6826196473551638,
          0.9956521739130435,
          0.7924757281553398
         ],
         "y": [
          "discord",
          "fb",
          "text",
          "instagram",
          "messenger_kids",
          "pinterest",
          "reddit",
          "roblox",
          "signal",
          "snapchat",
          "telegram",
          "tiktok",
          "tumblr",
          "twitch",
          "whatsapp",
          "twitter",
          "youtube"
         ]
        },
        {
         "marker": {
          "color": "rgba(130, 168, 186, 0.8)",
          "line": {
           "color": "rgb(8,48,107)",
           "width": 1.5
          }
         },
         "name": "Not Used",
         "orientation": "h",
         "type": "bar",
         "x": [
          0.6480446927374302,
          0.963855421686747,
          0.3219954648526077,
          0.995850622406639,
          0.4760914760914761,
          0.6629213483146067,
          0.8009153318077803,
          0.41094420600858367,
          0.15828877005347594,
          0.9434523809523809,
          0.4336399474375821,
          0.9862204724409449,
          0.6992561105207227,
          0.6910755148741419,
          0.5537190082644629,
          0.981549815498155,
          0.7808988764044944
         ],
         "y": [
          "discord",
          "fb",
          "text",
          "instagram",
          "messenger_kids",
          "pinterest",
          "reddit",
          "roblox",
          "signal",
          "snapchat",
          "telegram",
          "tiktok",
          "tumblr",
          "twitch",
          "whatsapp",
          "twitter",
          "youtube"
         ]
        }
       ],
       "layout": {
        "barmode": "group",
        "height": 800,
        "legend": {
         "orientation": "h",
         "x": 0.6,
         "y": -0.08
        },
        "template": {
         "data": {
          "bar": [
           {
            "error_x": {
             "color": "#2a3f5f"
            },
            "error_y": {
             "color": "#2a3f5f"
            },
            "marker": {
             "line": {
              "color": "#E5ECF6",
              "width": 0.5
             },
             "pattern": {
              "fillmode": "overlay",
              "size": 10,
              "solidity": 0.2
             }
            },
            "type": "bar"
           }
          ],
          "barpolar": [
           {
            "marker": {
             "line": {
              "color": "#E5ECF6",
              "width": 0.5
             },
             "pattern": {
              "fillmode": "overlay",
              "size": 10,
              "solidity": 0.2
             }
            },
            "type": "barpolar"
           }
          ],
          "carpet": [
           {
            "aaxis": {
             "endlinecolor": "#2a3f5f",
             "gridcolor": "white",
             "linecolor": "white",
             "minorgridcolor": "white",
             "startlinecolor": "#2a3f5f"
            },
            "baxis": {
             "endlinecolor": "#2a3f5f",
             "gridcolor": "white",
             "linecolor": "white",
             "minorgridcolor": "white",
             "startlinecolor": "#2a3f5f"
            },
            "type": "carpet"
           }
          ],
          "choropleth": [
           {
            "colorbar": {
             "outlinewidth": 0,
             "ticks": ""
            },
            "type": "choropleth"
           }
          ],
          "contour": [
           {
            "colorbar": {
             "outlinewidth": 0,
             "ticks": ""
            },
            "colorscale": [
             [
              0,
              "#0d0887"
             ],
             [
              0.1111111111111111,
              "#46039f"
             ],
             [
              0.2222222222222222,
              "#7201a8"
             ],
             [
              0.3333333333333333,
              "#9c179e"
             ],
             [
              0.4444444444444444,
              "#bd3786"
             ],
             [
              0.5555555555555556,
              "#d8576b"
             ],
             [
              0.6666666666666666,
              "#ed7953"
             ],
             [
              0.7777777777777778,
              "#fb9f3a"
             ],
             [
              0.8888888888888888,
              "#fdca26"
             ],
             [
              1,
              "#f0f921"
             ]
            ],
            "type": "contour"
           }
          ],
          "contourcarpet": [
           {
            "colorbar": {
             "outlinewidth": 0,
             "ticks": ""
            },
            "type": "contourcarpet"
           }
          ],
          "heatmap": [
           {
            "colorbar": {
             "outlinewidth": 0,
             "ticks": ""
            },
            "colorscale": [
             [
              0,
              "#0d0887"
             ],
             [
              0.1111111111111111,
              "#46039f"
             ],
             [
              0.2222222222222222,
              "#7201a8"
             ],
             [
              0.3333333333333333,
              "#9c179e"
             ],
             [
              0.4444444444444444,
              "#bd3786"
             ],
             [
              0.5555555555555556,
              "#d8576b"
             ],
             [
              0.6666666666666666,
              "#ed7953"
             ],
             [
              0.7777777777777778,
              "#fb9f3a"
             ],
             [
              0.8888888888888888,
              "#fdca26"
             ],
             [
              1,
              "#f0f921"
             ]
            ],
            "type": "heatmap"
           }
          ],
          "histogram": [
           {
            "marker": {
             "pattern": {
              "fillmode": "overlay",
              "size": 10,
              "solidity": 0.2
             }
            },
            "type": "histogram"
           }
          ],
          "histogram2d": [
           {
            "colorbar": {
             "outlinewidth": 0,
             "ticks": ""
            },
            "colorscale": [
             [
              0,
              "#0d0887"
             ],
             [
              0.1111111111111111,
              "#46039f"
             ],
             [
              0.2222222222222222,
              "#7201a8"
             ],
             [
              0.3333333333333333,
              "#9c179e"
             ],
             [
              0.4444444444444444,
              "#bd3786"
             ],
             [
              0.5555555555555556,
              "#d8576b"
             ],
             [
              0.6666666666666666,
              "#ed7953"
             ],
             [
              0.7777777777777778,
              "#fb9f3a"
             ],
             [
              0.8888888888888888,
              "#fdca26"
             ],
             [
              1,
              "#f0f921"
             ]
            ],
            "type": "histogram2d"
           }
          ],
          "histogram2dcontour": [
           {
            "colorbar": {
             "outlinewidth": 0,
             "ticks": ""
            },
            "colorscale": [
             [
              0,
              "#0d0887"
             ],
             [
              0.1111111111111111,
              "#46039f"
             ],
             [
              0.2222222222222222,
              "#7201a8"
             ],
             [
              0.3333333333333333,
              "#9c179e"
             ],
             [
              0.4444444444444444,
              "#bd3786"
             ],
             [
              0.5555555555555556,
              "#d8576b"
             ],
             [
              0.6666666666666666,
              "#ed7953"
             ],
             [
              0.7777777777777778,
              "#fb9f3a"
             ],
             [
              0.8888888888888888,
              "#fdca26"
             ],
             [
              1,
              "#f0f921"
             ]
            ],
            "type": "histogram2dcontour"
           }
          ],
          "mesh3d": [
           {
            "colorbar": {
             "outlinewidth": 0,
             "ticks": ""
            },
            "type": "mesh3d"
           }
          ],
          "parcoords": [
           {
            "line": {
             "colorbar": {
              "outlinewidth": 0,
              "ticks": ""
             }
            },
            "type": "parcoords"
           }
          ],
          "pie": [
           {
            "automargin": true,
            "type": "pie"
           }
          ],
          "scatter": [
           {
            "fillpattern": {
             "fillmode": "overlay",
             "size": 10,
             "solidity": 0.2
            },
            "type": "scatter"
           }
          ],
          "scatter3d": [
           {
            "line": {
             "colorbar": {
              "outlinewidth": 0,
              "ticks": ""
             }
            },
            "marker": {
             "colorbar": {
              "outlinewidth": 0,
              "ticks": ""
             }
            },
            "type": "scatter3d"
           }
          ],
          "scattercarpet": [
           {
            "marker": {
             "colorbar": {
              "outlinewidth": 0,
              "ticks": ""
             }
            },
            "type": "scattercarpet"
           }
          ],
          "scattergeo": [
           {
            "marker": {
             "colorbar": {
              "outlinewidth": 0,
              "ticks": ""
             }
            },
            "type": "scattergeo"
           }
          ],
          "scattergl": [
           {
            "marker": {
             "colorbar": {
              "outlinewidth": 0,
              "ticks": ""
             }
            },
            "type": "scattergl"
           }
          ],
          "scattermap": [
           {
            "marker": {
             "colorbar": {
              "outlinewidth": 0,
              "ticks": ""
             }
            },
            "type": "scattermap"
           }
          ],
          "scattermapbox": [
           {
            "marker": {
             "colorbar": {
              "outlinewidth": 0,
              "ticks": ""
             }
            },
            "type": "scattermapbox"
           }
          ],
          "scatterpolar": [
           {
            "marker": {
             "colorbar": {
              "outlinewidth": 0,
              "ticks": ""
             }
            },
            "type": "scatterpolar"
           }
          ],
          "scatterpolargl": [
           {
            "marker": {
             "colorbar": {
              "outlinewidth": 0,
              "ticks": ""
             }
            },
            "type": "scatterpolargl"
           }
          ],
          "scatterternary": [
           {
            "marker": {
             "colorbar": {
              "outlinewidth": 0,
              "ticks": ""
             }
            },
            "type": "scatterternary"
           }
          ],
          "surface": [
           {
            "colorbar": {
             "outlinewidth": 0,
             "ticks": ""
            },
            "colorscale": [
             [
              0,
              "#0d0887"
             ],
             [
              0.1111111111111111,
              "#46039f"
             ],
             [
              0.2222222222222222,
              "#7201a8"
             ],
             [
              0.3333333333333333,
              "#9c179e"
             ],
             [
              0.4444444444444444,
              "#bd3786"
             ],
             [
              0.5555555555555556,
              "#d8576b"
             ],
             [
              0.6666666666666666,
              "#ed7953"
             ],
             [
              0.7777777777777778,
              "#fb9f3a"
             ],
             [
              0.8888888888888888,
              "#fdca26"
             ],
             [
              1,
              "#f0f921"
             ]
            ],
            "type": "surface"
           }
          ],
          "table": [
           {
            "cells": {
             "fill": {
              "color": "#EBF0F8"
             },
             "line": {
              "color": "white"
             }
            },
            "header": {
             "fill": {
              "color": "#C8D4E3"
             },
             "line": {
              "color": "white"
             }
            },
            "type": "table"
           }
          ]
         },
         "layout": {
          "annotationdefaults": {
           "arrowcolor": "#2a3f5f",
           "arrowhead": 0,
           "arrowwidth": 1
          },
          "autotypenumbers": "strict",
          "coloraxis": {
           "colorbar": {
            "outlinewidth": 0,
            "ticks": ""
           }
          },
          "colorscale": {
           "diverging": [
            [
             0,
             "#8e0152"
            ],
            [
             0.1,
             "#c51b7d"
            ],
            [
             0.2,
             "#de77ae"
            ],
            [
             0.3,
             "#f1b6da"
            ],
            [
             0.4,
             "#fde0ef"
            ],
            [
             0.5,
             "#f7f7f7"
            ],
            [
             0.6,
             "#e6f5d0"
            ],
            [
             0.7,
             "#b8e186"
            ],
            [
             0.8,
             "#7fbc41"
            ],
            [
             0.9,
             "#4d9221"
            ],
            [
             1,
             "#276419"
            ]
           ],
           "sequential": [
            [
             0,
             "#0d0887"
            ],
            [
             0.1111111111111111,
             "#46039f"
            ],
            [
             0.2222222222222222,
             "#7201a8"
            ],
            [
             0.3333333333333333,
             "#9c179e"
            ],
            [
             0.4444444444444444,
             "#bd3786"
            ],
            [
             0.5555555555555556,
             "#d8576b"
            ],
            [
             0.6666666666666666,
             "#ed7953"
            ],
            [
             0.7777777777777778,
             "#fb9f3a"
            ],
            [
             0.8888888888888888,
             "#fdca26"
            ],
            [
             1,
             "#f0f921"
            ]
           ],
           "sequentialminus": [
            [
             0,
             "#0d0887"
            ],
            [
             0.1111111111111111,
             "#46039f"
            ],
            [
             0.2222222222222222,
             "#7201a8"
            ],
            [
             0.3333333333333333,
             "#9c179e"
            ],
            [
             0.4444444444444444,
             "#bd3786"
            ],
            [
             0.5555555555555556,
             "#d8576b"
            ],
            [
             0.6666666666666666,
             "#ed7953"
            ],
            [
             0.7777777777777778,
             "#fb9f3a"
            ],
            [
             0.8888888888888888,
             "#fdca26"
            ],
            [
             1,
             "#f0f921"
            ]
           ]
          },
          "colorway": [
           "#636efa",
           "#EF553B",
           "#00cc96",
           "#ab63fa",
           "#FFA15A",
           "#19d3f3",
           "#FF6692",
           "#B6E880",
           "#FF97FF",
           "#FECB52"
          ],
          "font": {
           "color": "#2a3f5f"
          },
          "geo": {
           "bgcolor": "white",
           "lakecolor": "white",
           "landcolor": "#E5ECF6",
           "showlakes": true,
           "showland": true,
           "subunitcolor": "white"
          },
          "hoverlabel": {
           "align": "left"
          },
          "hovermode": "closest",
          "mapbox": {
           "style": "light"
          },
          "paper_bgcolor": "white",
          "plot_bgcolor": "#E5ECF6",
          "polar": {
           "angularaxis": {
            "gridcolor": "white",
            "linecolor": "white",
            "ticks": ""
           },
           "bgcolor": "#E5ECF6",
           "radialaxis": {
            "gridcolor": "white",
            "linecolor": "white",
            "ticks": ""
           }
          },
          "scene": {
           "xaxis": {
            "backgroundcolor": "#E5ECF6",
            "gridcolor": "white",
            "gridwidth": 2,
            "linecolor": "white",
            "showbackground": true,
            "ticks": "",
            "zerolinecolor": "white"
           },
           "yaxis": {
            "backgroundcolor": "#E5ECF6",
            "gridcolor": "white",
            "gridwidth": 2,
            "linecolor": "white",
            "showbackground": true,
            "ticks": "",
            "zerolinecolor": "white"
           },
           "zaxis": {
            "backgroundcolor": "#E5ECF6",
            "gridcolor": "white",
            "gridwidth": 2,
            "linecolor": "white",
            "showbackground": true,
            "ticks": "",
            "zerolinecolor": "white"
           }
          },
          "shapedefaults": {
           "line": {
            "color": "#2a3f5f"
           }
          },
          "ternary": {
           "aaxis": {
            "gridcolor": "white",
            "linecolor": "white",
            "ticks": ""
           },
           "baxis": {
            "gridcolor": "white",
            "linecolor": "white",
            "ticks": ""
           },
           "bgcolor": "#E5ECF6",
           "caxis": {
            "gridcolor": "white",
            "linecolor": "white",
            "ticks": ""
           }
          },
          "title": {
           "x": 0.05
          },
          "xaxis": {
           "automargin": true,
           "gridcolor": "white",
           "linecolor": "white",
           "ticks": "",
           "title": {
            "standoff": 15
           },
           "zerolinecolor": "white",
           "zerolinewidth": 2
          },
          "yaxis": {
           "automargin": true,
           "gridcolor": "white",
           "linecolor": "white",
           "ticks": "",
           "title": {
            "standoff": 15
           },
           "zerolinecolor": "white",
           "zerolinewidth": 2
          }
         }
        },
        "title": {
         "text": "Percentage of Parents Who Rated Each Platform as Social Media by Personal Usage"
        },
        "width": 800,
        "xaxis": {
         "range": [
          0,
          1
         ],
         "title": {
          "text": "Parents Who Rated as Social Media"
         }
        },
        "yaxis": {
         "title": {
          "text": "Platform"
         }
        }
       }
      }
     },
     "metadata": {},
     "output_type": "display_data"
    }
   ],
   "source": [
    "fig = go.Figure()\n",
    "plot_platforms = [p for p in platforms if p + '_use' in df.columns and p + '_accuracy' in df.columns]\n",
    "accs_used = []\n",
    "accs_not_used = []\n",
    "pct_rated_social_media_used = []\n",
    "pct_rated_social_media_not_used = []\n",
    "for p in plot_platforms:\n",
    "    acc_used = df.query(f'{p}_use == 1')[f'{p}_accuracy'].mean()\n",
    "    accs_used.append(acc_used)\n",
    "    acc_not_used = df.query(f'{p}_use == 0')[f'{p}_accuracy'].mean()\n",
    "    accs_not_used.append(acc_not_used)\n",
    "\n",
    "    n = df.query(f'{p}_use == 1 and {p}_rating == 1').shape[0]/df.query(f'{p}_use == 1').shape[0]\n",
    "    pct_rated_social_media_used.append(n)\n",
    "    n = df.query(f'{p}_use == 0 and {p}_rating == 1').shape[0]/df.query(f'{p}_use == 0').shape[0]\n",
    "    pct_rated_social_media_not_used.append(n)\n",
    "\n",
    "fig.add_trace(go.Bar(\n",
    "    y=plot_platforms,\n",
    "    x=pct_rated_social_media_used,\n",
    "    orientation='h',\n",
    "    name='Used by Parent',\n",
    "    marker_color='rgba(0, 0, 120, 0.8)',\n",
    "))\n",
    "\n",
    "\n",
    "fig.add_trace(go.Bar(\n",
    "    y=plot_platforms,\n",
    "    x=pct_rated_social_media_not_used,\n",
    "    orientation='h',\n",
    "    name='Not Used',\n",
    "    marker_color='rgba(130, 168, 186, 0.8)',\n",
    "))\n",
    "fig.update_layout(\n",
    "    barmode='group',\n",
    "    width=800,\n",
    "    height=800,\n",
    "    title='Percentage of Parents Who Rated Each Platform as Social Media by Personal Usage',\n",
    "    xaxis_title='Parents Who Rated as Social Media',\n",
    "    yaxis_title='Platform',\n",
    "    xaxis=dict(\n",
    "        range=[0, 1],\n",
    "    ),\n",
    "    legend=dict(\n",
    "        orientation=\"h\",\n",
    "        x=0.6,\n",
    "        y=-0.08,\n",
    "    ),\n",
    ")\n",
    "\n",
    "fig.update_traces(\n",
    "    marker_line_color='rgb(8,48,107)',\n",
    "    marker_line_width=1.5,\n",
    ")\n",
    "\n",
    "fig.write_image('../../figures/platform_rating_by_use.png')\n",
    "\n",
    "fig.show()"
   ]
  },
  {
   "cell_type": "markdown",
   "metadata": {},
   "source": [
    "### fig 4"
   ]
  },
  {
   "cell_type": "code",
   "execution_count": 76,
   "metadata": {},
   "outputs": [
    {
     "data": {
      "application/vnd.plotly.v1+json": {
       "config": {
        "plotlyServerURL": "https://plot.ly"
       },
       "data": [
        {
         "alignmentgroup": "True",
         "boxpoints": "all",
         "fillcolor": "rgba(255,255,255,0)",
         "hoveron": "points",
         "hovertemplate": "total_accuracy=%{x}<br>sim_to_def=%{y}<extra></extra>",
         "legendgroup": "",
         "line": {
          "color": "rgba(255,255,255,0)"
         },
         "marker": {
          "color": "cornflowerblue",
          "line": {
           "width": 2
          }
         },
         "name": "",
         "offsetgroup": "",
         "orientation": "v",
         "pointpos": 0,
         "showlegend": false,
         "type": "box",
         "x": {
          "bdata": "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",
          "dtype": "f8"
         },
         "x0": " ",
         "xaxis": "x",
         "y": {
          "bdata": "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",
          "dtype": "f8"
         },
         "y0": " ",
         "yaxis": "y"
        },
        {
         "marker": {
          "color": "rgb(116, 77, 145)"
         },
         "name": "Regression Fit",
         "type": "scatter",
         "x": {
          "bdata": "RhdddNFFxz8djBuyKyzJP/MA2u+FEss/ynWYLeD4zD+h6lZrOt/OP7yvilTKYtA/J+ppc/dV0T+SJEmSJEnSP/5eKLFRPNM/aZkH0H4v1D/U0+buqyLVP0AOxg3ZFdY/q0ilLAYJ1z8Wg4RLM/zXP4K9Y2pg79g/7fdCiY3i2T9YMiKoutXaP8RsAcfnyNs/L6fg5RS83D+b4b8EQq/dPwYcnyNvot4/cVZ+QpyV3z9uyK6wZETgP6RlHkD7veA/2gKOz5E34T8QoP1eKLHhP0U9be6+KuI/etrcfVWk4j+wd0wN7B3jP+YUvJyCl+M/HLIrLBkR5D9ST5u7r4rkP4fsCktGBOU/vIl62tx95T/yJuppc/flPyjEWfkJceY/XmHJiKDq5j+U/jgYN2TnP8qbqKfN3ec//jgYN2RX6D801ofG+tDoP2pz91WRSuk/oBBn5SfE6T/WrdZ0vj3qPwxLRgRVt+o/QOi1k+sw6z92hSUjgqrrP6wilbIYJOw/4r8EQq+d7D8XXXTRRRftPw==",
          "dtype": "f8"
         },
         "y": {
          "bdata": "ANuAvd1M4T++kZL901DhP3xIpD3KVOE/O/+1fcBY4T/5tce9tlzhP7ds2f2sYOE/diPrPaNk4T802vx9mWjhP/KQDr6PbOE/sUcg/oVw4T9v/jE+fHThPy21Q35yeOE/7GtVvmh84T+qImf+XoDhP2jZeD5VhOE/J5CKfkuI4T/lRpy+QYzhP6P9rf43kOE/YrS/Pi6U4T8ga9F+JJjhP94h474anOE/nNj0/hCg4T9bjwY/B6ThPxlGGH/9p+E/2Pwpv/Or4T+Wszv/6a/hP1RqTT/gs+E/EiFff9a34T/R13C/zLvhP4+Ogv/Cv+E/TkWUP7nD4T8M/KV/r8fhP8qyt7+ly+E/iGnJ/5vP4T9HINs/ktPhPwXX7H+I1+E/xI3+v37b4T+CRBAAdd/hP0D7IUBr4+E//rEzgGHn4T+9aEXAV+vhP3sfVwBO7+E/OdZoQETz4T/4jHqAOvfhP7ZDjMAw++E/dPqdACf/4T8zsa9AHQPiP/FnwYATB+I/rx7TwAkL4j9u1eQAAA/iPw==",
          "dtype": "f8"
         }
        }
       ],
       "layout": {
        "annotations": [
         {
          "bgcolor": "rgba(255, 255, 255, 0.8)",
          "font": {
           "color": "black",
           "size": 12
          },
          "showarrow": false,
          "text": "Spearman correlation: 0.02 (p-value: 0.46)<br>Pearson correlation: 0.03 (p-value: 0.40)",
          "x": 0.04,
          "xref": "paper",
          "y": 0.1,
          "yref": "paper"
         }
        ],
        "boxmode": "group",
        "height": 600,
        "legend": {
         "orientation": "h",
         "tracegroupgap": 0,
         "x": 0.85,
         "yanchor": "bottom"
        },
        "margin": {
         "t": 60
        },
        "template": {
         "data": {
          "bar": [
           {
            "error_x": {
             "color": "#2a3f5f"
            },
            "error_y": {
             "color": "#2a3f5f"
            },
            "marker": {
             "line": {
              "color": "#E5ECF6",
              "width": 0.5
             },
             "pattern": {
              "fillmode": "overlay",
              "size": 10,
              "solidity": 0.2
             }
            },
            "type": "bar"
           }
          ],
          "barpolar": [
           {
            "marker": {
             "line": {
              "color": "#E5ECF6",
              "width": 0.5
             },
             "pattern": {
              "fillmode": "overlay",
              "size": 10,
              "solidity": 0.2
             }
            },
            "type": "barpolar"
           }
          ],
          "carpet": [
           {
            "aaxis": {
             "endlinecolor": "#2a3f5f",
             "gridcolor": "white",
             "linecolor": "white",
             "minorgridcolor": "white",
             "startlinecolor": "#2a3f5f"
            },
            "baxis": {
             "endlinecolor": "#2a3f5f",
             "gridcolor": "white",
             "linecolor": "white",
             "minorgridcolor": "white",
             "startlinecolor": "#2a3f5f"
            },
            "type": "carpet"
           }
          ],
          "choropleth": [
           {
            "colorbar": {
             "outlinewidth": 0,
             "ticks": ""
            },
            "type": "choropleth"
           }
          ],
          "contour": [
           {
            "colorbar": {
             "outlinewidth": 0,
             "ticks": ""
            },
            "colorscale": [
             [
              0,
              "#0d0887"
             ],
             [
              0.1111111111111111,
              "#46039f"
             ],
             [
              0.2222222222222222,
              "#7201a8"
             ],
             [
              0.3333333333333333,
              "#9c179e"
             ],
             [
              0.4444444444444444,
              "#bd3786"
             ],
             [
              0.5555555555555556,
              "#d8576b"
             ],
             [
              0.6666666666666666,
              "#ed7953"
             ],
             [
              0.7777777777777778,
              "#fb9f3a"
             ],
             [
              0.8888888888888888,
              "#fdca26"
             ],
             [
              1,
              "#f0f921"
             ]
            ],
            "type": "contour"
           }
          ],
          "contourcarpet": [
           {
            "colorbar": {
             "outlinewidth": 0,
             "ticks": ""
            },
            "type": "contourcarpet"
           }
          ],
          "heatmap": [
           {
            "colorbar": {
             "outlinewidth": 0,
             "ticks": ""
            },
            "colorscale": [
             [
              0,
              "#0d0887"
             ],
             [
              0.1111111111111111,
              "#46039f"
             ],
             [
              0.2222222222222222,
              "#7201a8"
             ],
             [
              0.3333333333333333,
              "#9c179e"
             ],
             [
              0.4444444444444444,
              "#bd3786"
             ],
             [
              0.5555555555555556,
              "#d8576b"
             ],
             [
              0.6666666666666666,
              "#ed7953"
             ],
             [
              0.7777777777777778,
              "#fb9f3a"
             ],
             [
              0.8888888888888888,
              "#fdca26"
             ],
             [
              1,
              "#f0f921"
             ]
            ],
            "type": "heatmap"
           }
          ],
          "histogram": [
           {
            "marker": {
             "pattern": {
              "fillmode": "overlay",
              "size": 10,
              "solidity": 0.2
             }
            },
            "type": "histogram"
           }
          ],
          "histogram2d": [
           {
            "colorbar": {
             "outlinewidth": 0,
             "ticks": ""
            },
            "colorscale": [
             [
              0,
              "#0d0887"
             ],
             [
              0.1111111111111111,
              "#46039f"
             ],
             [
              0.2222222222222222,
              "#7201a8"
             ],
             [
              0.3333333333333333,
              "#9c179e"
             ],
             [
              0.4444444444444444,
              "#bd3786"
             ],
             [
              0.5555555555555556,
              "#d8576b"
             ],
             [
              0.6666666666666666,
              "#ed7953"
             ],
             [
              0.7777777777777778,
              "#fb9f3a"
             ],
             [
              0.8888888888888888,
              "#fdca26"
             ],
             [
              1,
              "#f0f921"
             ]
            ],
            "type": "histogram2d"
           }
          ],
          "histogram2dcontour": [
           {
            "colorbar": {
             "outlinewidth": 0,
             "ticks": ""
            },
            "colorscale": [
             [
              0,
              "#0d0887"
             ],
             [
              0.1111111111111111,
              "#46039f"
             ],
             [
              0.2222222222222222,
              "#7201a8"
             ],
             [
              0.3333333333333333,
              "#9c179e"
             ],
             [
              0.4444444444444444,
              "#bd3786"
             ],
             [
              0.5555555555555556,
              "#d8576b"
             ],
             [
              0.6666666666666666,
              "#ed7953"
             ],
             [
              0.7777777777777778,
              "#fb9f3a"
             ],
             [
              0.8888888888888888,
              "#fdca26"
             ],
             [
              1,
              "#f0f921"
             ]
            ],
            "type": "histogram2dcontour"
           }
          ],
          "mesh3d": [
           {
            "colorbar": {
             "outlinewidth": 0,
             "ticks": ""
            },
            "type": "mesh3d"
           }
          ],
          "parcoords": [
           {
            "line": {
             "colorbar": {
              "outlinewidth": 0,
              "ticks": ""
             }
            },
            "type": "parcoords"
           }
          ],
          "pie": [
           {
            "automargin": true,
            "type": "pie"
           }
          ],
          "scatter": [
           {
            "fillpattern": {
             "fillmode": "overlay",
             "size": 10,
             "solidity": 0.2
            },
            "type": "scatter"
           }
          ],
          "scatter3d": [
           {
            "line": {
             "colorbar": {
              "outlinewidth": 0,
              "ticks": ""
             }
            },
            "marker": {
             "colorbar": {
              "outlinewidth": 0,
              "ticks": ""
             }
            },
            "type": "scatter3d"
           }
          ],
          "scattercarpet": [
           {
            "marker": {
             "colorbar": {
              "outlinewidth": 0,
              "ticks": ""
             }
            },
            "type": "scattercarpet"
           }
          ],
          "scattergeo": [
           {
            "marker": {
             "colorbar": {
              "outlinewidth": 0,
              "ticks": ""
             }
            },
            "type": "scattergeo"
           }
          ],
          "scattergl": [
           {
            "marker": {
             "colorbar": {
              "outlinewidth": 0,
              "ticks": ""
             }
            },
            "type": "scattergl"
           }
          ],
          "scattermap": [
           {
            "marker": {
             "colorbar": {
              "outlinewidth": 0,
              "ticks": ""
             }
            },
            "type": "scattermap"
           }
          ],
          "scattermapbox": [
           {
            "marker": {
             "colorbar": {
              "outlinewidth": 0,
              "ticks": ""
             }
            },
            "type": "scattermapbox"
           }
          ],
          "scatterpolar": [
           {
            "marker": {
             "colorbar": {
              "outlinewidth": 0,
              "ticks": ""
             }
            },
            "type": "scatterpolar"
           }
          ],
          "scatterpolargl": [
           {
            "marker": {
             "colorbar": {
              "outlinewidth": 0,
              "ticks": ""
             }
            },
            "type": "scatterpolargl"
           }
          ],
          "scatterternary": [
           {
            "marker": {
             "colorbar": {
              "outlinewidth": 0,
              "ticks": ""
             }
            },
            "type": "scatterternary"
           }
          ],
          "surface": [
           {
            "colorbar": {
             "outlinewidth": 0,
             "ticks": ""
            },
            "colorscale": [
             [
              0,
              "#0d0887"
             ],
             [
              0.1111111111111111,
              "#46039f"
             ],
             [
              0.2222222222222222,
              "#7201a8"
             ],
             [
              0.3333333333333333,
              "#9c179e"
             ],
             [
              0.4444444444444444,
              "#bd3786"
             ],
             [
              0.5555555555555556,
              "#d8576b"
             ],
             [
              0.6666666666666666,
              "#ed7953"
             ],
             [
              0.7777777777777778,
              "#fb9f3a"
             ],
             [
              0.8888888888888888,
              "#fdca26"
             ],
             [
              1,
              "#f0f921"
             ]
            ],
            "type": "surface"
           }
          ],
          "table": [
           {
            "cells": {
             "fill": {
              "color": "#EBF0F8"
             },
             "line": {
              "color": "white"
             }
            },
            "header": {
             "fill": {
              "color": "#C8D4E3"
             },
             "line": {
              "color": "white"
             }
            },
            "type": "table"
           }
          ]
         },
         "layout": {
          "annotationdefaults": {
           "arrowcolor": "#2a3f5f",
           "arrowhead": 0,
           "arrowwidth": 1
          },
          "autotypenumbers": "strict",
          "coloraxis": {
           "colorbar": {
            "outlinewidth": 0,
            "ticks": ""
           }
          },
          "colorscale": {
           "diverging": [
            [
             0,
             "#8e0152"
            ],
            [
             0.1,
             "#c51b7d"
            ],
            [
             0.2,
             "#de77ae"
            ],
            [
             0.3,
             "#f1b6da"
            ],
            [
             0.4,
             "#fde0ef"
            ],
            [
             0.5,
             "#f7f7f7"
            ],
            [
             0.6,
             "#e6f5d0"
            ],
            [
             0.7,
             "#b8e186"
            ],
            [
             0.8,
             "#7fbc41"
            ],
            [
             0.9,
             "#4d9221"
            ],
            [
             1,
             "#276419"
            ]
           ],
           "sequential": [
            [
             0,
             "#0d0887"
            ],
            [
             0.1111111111111111,
             "#46039f"
            ],
            [
             0.2222222222222222,
             "#7201a8"
            ],
            [
             0.3333333333333333,
             "#9c179e"
            ],
            [
             0.4444444444444444,
             "#bd3786"
            ],
            [
             0.5555555555555556,
             "#d8576b"
            ],
            [
             0.6666666666666666,
             "#ed7953"
            ],
            [
             0.7777777777777778,
             "#fb9f3a"
            ],
            [
             0.8888888888888888,
             "#fdca26"
            ],
            [
             1,
             "#f0f921"
            ]
           ],
           "sequentialminus": [
            [
             0,
             "#0d0887"
            ],
            [
             0.1111111111111111,
             "#46039f"
            ],
            [
             0.2222222222222222,
             "#7201a8"
            ],
            [
             0.3333333333333333,
             "#9c179e"
            ],
            [
             0.4444444444444444,
             "#bd3786"
            ],
            [
             0.5555555555555556,
             "#d8576b"
            ],
            [
             0.6666666666666666,
             "#ed7953"
            ],
            [
             0.7777777777777778,
             "#fb9f3a"
            ],
            [
             0.8888888888888888,
             "#fdca26"
            ],
            [
             1,
             "#f0f921"
            ]
           ]
          },
          "colorway": [
           "#636efa",
           "#EF553B",
           "#00cc96",
           "#ab63fa",
           "#FFA15A",
           "#19d3f3",
           "#FF6692",
           "#B6E880",
           "#FF97FF",
           "#FECB52"
          ],
          "font": {
           "color": "#2a3f5f"
          },
          "geo": {
           "bgcolor": "white",
           "lakecolor": "white",
           "landcolor": "#E5ECF6",
           "showlakes": true,
           "showland": true,
           "subunitcolor": "white"
          },
          "hoverlabel": {
           "align": "left"
          },
          "hovermode": "closest",
          "mapbox": {
           "style": "light"
          },
          "paper_bgcolor": "white",
          "plot_bgcolor": "#E5ECF6",
          "polar": {
           "angularaxis": {
            "gridcolor": "white",
            "linecolor": "white",
            "ticks": ""
           },
           "bgcolor": "#E5ECF6",
           "radialaxis": {
            "gridcolor": "white",
            "linecolor": "white",
            "ticks": ""
           }
          },
          "scene": {
           "xaxis": {
            "backgroundcolor": "#E5ECF6",
            "gridcolor": "white",
            "gridwidth": 2,
            "linecolor": "white",
            "showbackground": true,
            "ticks": "",
            "zerolinecolor": "white"
           },
           "yaxis": {
            "backgroundcolor": "#E5ECF6",
            "gridcolor": "white",
            "gridwidth": 2,
            "linecolor": "white",
            "showbackground": true,
            "ticks": "",
            "zerolinecolor": "white"
           },
           "zaxis": {
            "backgroundcolor": "#E5ECF6",
            "gridcolor": "white",
            "gridwidth": 2,
            "linecolor": "white",
            "showbackground": true,
            "ticks": "",
            "zerolinecolor": "white"
           }
          },
          "shapedefaults": {
           "line": {
            "color": "#2a3f5f"
           }
          },
          "ternary": {
           "aaxis": {
            "gridcolor": "white",
            "linecolor": "white",
            "ticks": ""
           },
           "baxis": {
            "gridcolor": "white",
            "linecolor": "white",
            "ticks": ""
           },
           "bgcolor": "#E5ECF6",
           "caxis": {
            "gridcolor": "white",
            "linecolor": "white",
            "ticks": ""
           }
          },
          "title": {
           "x": 0.05
          },
          "xaxis": {
           "automargin": true,
           "gridcolor": "white",
           "linecolor": "white",
           "ticks": "",
           "title": {
            "standoff": 15
           },
           "zerolinecolor": "white",
           "zerolinewidth": 2
          },
          "yaxis": {
           "automargin": true,
           "gridcolor": "white",
           "linecolor": "white",
           "ticks": "",
           "title": {
            "standoff": 15
           },
           "zerolinecolor": "white",
           "zerolinewidth": 2
          }
         }
        },
        "title": {
         "text": "Accuracy of Social Media Identification vs. Cosine Similarity of Text Response to Definition"
        },
        "width": 1000,
        "xaxis": {
         "anchor": "y",
         "domain": [
          0,
          1
         ],
         "title": {
          "text": "Accuracy of Social Media Identification"
         }
        },
        "yaxis": {
         "anchor": "x",
         "domain": [
          0,
          1
         ],
         "title": {
          "text": "Similarity"
         }
        }
       }
      }
     },
     "metadata": {},
     "output_type": "display_data"
    }
   ],
   "source": [
    "# fig = go.Figure()\n",
    "# fig.add_trace(go.Scatter(\n",
    "#     x = df['total_accuracy'],\n",
    "#     y = df['sim_to_def'],\n",
    "#     mode='markers',\n",
    "#     marker=dict(\n",
    "#         size=10,\n",
    "#         color='rgba(0, 0, 255, 0.5)',\n",
    "#         line=dict(width=2)\n",
    "#     ),\n",
    "#     showlegend=False,\n",
    "# ))\n",
    "\n",
    "fig = px.strip(\n",
    "    df,\n",
    "    x = 'total_accuracy',\n",
    "    y = 'sim_to_def',  \n",
    ")\n",
    "\n",
    "fig.update_traces(\n",
    "    # jitter=.7,\n",
    "    marker=dict(\n",
    "        color='cornflowerblue',\n",
    "        line=dict(width=2)))\n",
    "\n",
    "# add regression line\n",
    "X = df.total_accuracy.values.reshape(-1, 1)\n",
    "\n",
    "model = sklearn.linear_model.LinearRegression()\n",
    "model.fit(X, df.sim_to_def)\n",
    "\n",
    "x_range = np.linspace(X.min(), X.max())\n",
    "y_range = model.predict(x_range.reshape(-1, 1))\n",
    "\n",
    "# spearman correlation\n",
    "s_s, s_p = stats.spearmanr(df['total_accuracy'], df['sim_to_def'])\n",
    "# pearson correlation\n",
    "p_s, p_p = stats.pearsonr(df['total_accuracy'], df['sim_to_def'])\n",
    "\n",
    "fig.add_annotation(\n",
    "    xref='paper',\n",
    "    yref='paper',\n",
    "    x=0.04,\n",
    "    y=0.1,\n",
    "    text=f'Spearman correlation: {s_s:.2f} (p-value: {s_p:.2f})<br>Pearson correlation: {p_s:.2f} (p-value: {p_p:.2f})',\n",
    "    showarrow=False,\n",
    "    font=dict(size=12, color='black'),\n",
    "    bgcolor='rgba(255, 255, 255, 0.8)',\n",
    ")\n",
    "\n",
    "fig.add_trace(go.Scatter(\n",
    "    x=x_range,\n",
    "    y=y_range,\n",
    "    name='Regression Fit',\n",
    "    marker=dict(\n",
    "        color='rgb(116, 77, 145)',\n",
    "    ),\n",
    "    \n",
    "\n",
    "),\n",
    ")\n",
    "\n",
    "fig.update_layout(\n",
    "    xaxis_title='Accuracy of Social Media Identification',\n",
    "    yaxis_title='Similarity',\n",
    "    width=1000,\n",
    "    height=600,\n",
    "    legend =dict(\n",
    "        orientation=\"h\",\n",
    "        yanchor=\"bottom\",\n",
    "        x=.85\n",
    "        ),\n",
    "    title = 'Accuracy of Social Media Identification vs. Cosine Similarity of Text Response to Definition',\n",
    "    )\n",
    "\n",
    "fig.write_image('../../figures/accuracy_similarity.png')\n",
    "\n",
    "fig.show()"
   ]
  },
  {
   "cell_type": "code",
   "execution_count": 80,
   "metadata": {},
   "outputs": [
    {
     "data": {
      "application/vnd.plotly.v1+json": {
       "config": {
        "plotlyServerURL": "https://plot.ly"
       },
       "data": [
        {
         "alignmentgroup": "True",
         "boxpoints": "all",
         "fillcolor": "rgba(255,255,255,0)",
         "hoveron": "points",
         "hovertemplate": "sim_to_def=%{x}<br>total_accuracy=%{y}<extra></extra>",
         "legendgroup": "",
         "line": {
          "color": "rgba(255,255,255,0)"
         },
         "marker": {
          "color": "cornflowerblue",
          "line": {
           "width": 2
          }
         },
         "name": "",
         "offsetgroup": "",
         "orientation": "v",
         "pointpos": 0,
         "showlegend": false,
         "type": "box",
         "x": {
          "bdata": "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",
          "dtype": "f8"
         },
         "x0": " ",
         "xaxis": "x",
         "y": {
          "bdata": "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",
          "dtype": "f8"
         },
         "y0": " ",
         "yaxis": "y"
        },
        {
         "marker": {
          "color": "rgb(116, 77, 145)"
         },
         "name": "Regression Fit",
         "type": "scatter",
         "x": {
          "bdata": "gJHJcEZsqj+MR3kwNnuxP1nGjShJwLU/JkWiIFwFuj/yw7YYb0q+P1+hZQjBR8E/xuBvhEpqwz8sIHoA1IzFP5JfhHxdr8c/+J6O+ObRyT9e3ph0cPTLP8Udo/D5Fs4/lq5WtsEc0D9Izlt0Bi7RP/ztYDJLP9I/rw1m8I9Q0z9iLWuu1GHUPxVNcGwZc9U/yGx1Kl6E1j97jHroopXXPy6sf6bnptg/4suEZCy42T+V64kiccnaP0gLj+C12ts/+yqUnvrr3D+uSplcP/3dP2FqnhqEDt8/CsVRbOQP4D/kVFTLhpjgP77kViopIeE/l3RZicup4T9wBFzobTLiP0qUXkcQu+I/JCRhprJD4z/9s2MFVczjP9dDZmT3VOQ/sNNow5nd5D+KY2siPGblP2PzbYHe7uU/PYNw4IB35j8WE3M/IwDnP/CidZ7FiOc/yjJ4/WcR6D+jwnpcCproP31SfbusIuk/VuJ/Gk+r6T8wcoJ58TPqPwkChdiTvOo/45GHNzZF6z+8IYqW2M3rPw==",
          "dtype": "f8"
         },
         "y": {
          "bdata": "9YdfYKf35D+1dXcHmvrkP3Zjj66M/eQ/NlGnVX8A5T/3Pr/8cQPlP7gs16NkBuU/eBrvSlcJ5T85CAfySQzlP/n1Hpk8D+U/uuM2QC8S5T970U7nIRXlPzu/Zo4UGOU//Kx+NQcb5T+8mpbc+R3lP32IroPsIOU/PnbGKt8j5T/+Y97R0SblP79R9njEKeU/fz8OILcs5T9ALSbHqS/lPwEbPm6cMuU/wQhWFY815T+C9m28gTjlP0LkhWN0O+U/A9KdCmc+5T/Ev7WxWUHlP4StzVhMROU/RZvl/z5H5T8Fif2mMUrlP8Z2FU4kTeU/h2Qt9RZQ5T9HUkWcCVPlPwhAXUP8VeU/yC116u5Y5T+JG42R4VvlP0oJpTjUXuU/Cve838Zh5T/L5NSGuWTlP4zS7C2sZ+U/TMAE1Z5q5T8Nrhx8kW3lP82bNCOEcOU/jolMynZz5T9Pd2RxaXblPw9lfBhceeU/0FKUv0585T+QQKxmQX/lP1EuxA00guU/EhzctCaF5T/SCfRbGYjlPw==",
          "dtype": "f8"
         }
        }
       ],
       "layout": {
        "annotations": [
         {
          "bgcolor": "rgba(255, 255, 255, 0.8)",
          "font": {
           "color": "black",
           "size": 12
          },
          "showarrow": false,
          "text": "Spearman correlation: 0.02 (p-value: 0.46)<br>Pearson correlation: 0.03 (p-value: 0.40)",
          "x": 0.04,
          "xref": "paper",
          "y": 0.1,
          "yref": "paper"
         }
        ],
        "boxmode": "group",
        "legend": {
         "tracegroupgap": 0
        },
        "margin": {
         "t": 60
        },
        "template": {
         "data": {
          "bar": [
           {
            "error_x": {
             "color": "#2a3f5f"
            },
            "error_y": {
             "color": "#2a3f5f"
            },
            "marker": {
             "line": {
              "color": "#E5ECF6",
              "width": 0.5
             },
             "pattern": {
              "fillmode": "overlay",
              "size": 10,
              "solidity": 0.2
             }
            },
            "type": "bar"
           }
          ],
          "barpolar": [
           {
            "marker": {
             "line": {
              "color": "#E5ECF6",
              "width": 0.5
             },
             "pattern": {
              "fillmode": "overlay",
              "size": 10,
              "solidity": 0.2
             }
            },
            "type": "barpolar"
           }
          ],
          "carpet": [
           {
            "aaxis": {
             "endlinecolor": "#2a3f5f",
             "gridcolor": "white",
             "linecolor": "white",
             "minorgridcolor": "white",
             "startlinecolor": "#2a3f5f"
            },
            "baxis": {
             "endlinecolor": "#2a3f5f",
             "gridcolor": "white",
             "linecolor": "white",
             "minorgridcolor": "white",
             "startlinecolor": "#2a3f5f"
            },
            "type": "carpet"
           }
          ],
          "choropleth": [
           {
            "colorbar": {
             "outlinewidth": 0,
             "ticks": ""
            },
            "type": "choropleth"
           }
          ],
          "contour": [
           {
            "colorbar": {
             "outlinewidth": 0,
             "ticks": ""
            },
            "colorscale": [
             [
              0,
              "#0d0887"
             ],
             [
              0.1111111111111111,
              "#46039f"
             ],
             [
              0.2222222222222222,
              "#7201a8"
             ],
             [
              0.3333333333333333,
              "#9c179e"
             ],
             [
              0.4444444444444444,
              "#bd3786"
             ],
             [
              0.5555555555555556,
              "#d8576b"
             ],
             [
              0.6666666666666666,
              "#ed7953"
             ],
             [
              0.7777777777777778,
              "#fb9f3a"
             ],
             [
              0.8888888888888888,
              "#fdca26"
             ],
             [
              1,
              "#f0f921"
             ]
            ],
            "type": "contour"
           }
          ],
          "contourcarpet": [
           {
            "colorbar": {
             "outlinewidth": 0,
             "ticks": ""
            },
            "type": "contourcarpet"
           }
          ],
          "heatmap": [
           {
            "colorbar": {
             "outlinewidth": 0,
             "ticks": ""
            },
            "colorscale": [
             [
              0,
              "#0d0887"
             ],
             [
              0.1111111111111111,
              "#46039f"
             ],
             [
              0.2222222222222222,
              "#7201a8"
             ],
             [
              0.3333333333333333,
              "#9c179e"
             ],
             [
              0.4444444444444444,
              "#bd3786"
             ],
             [
              0.5555555555555556,
              "#d8576b"
             ],
             [
              0.6666666666666666,
              "#ed7953"
             ],
             [
              0.7777777777777778,
              "#fb9f3a"
             ],
             [
              0.8888888888888888,
              "#fdca26"
             ],
             [
              1,
              "#f0f921"
             ]
            ],
            "type": "heatmap"
           }
          ],
          "histogram": [
           {
            "marker": {
             "pattern": {
              "fillmode": "overlay",
              "size": 10,
              "solidity": 0.2
             }
            },
            "type": "histogram"
           }
          ],
          "histogram2d": [
           {
            "colorbar": {
             "outlinewidth": 0,
             "ticks": ""
            },
            "colorscale": [
             [
              0,
              "#0d0887"
             ],
             [
              0.1111111111111111,
              "#46039f"
             ],
             [
              0.2222222222222222,
              "#7201a8"
             ],
             [
              0.3333333333333333,
              "#9c179e"
             ],
             [
              0.4444444444444444,
              "#bd3786"
             ],
             [
              0.5555555555555556,
              "#d8576b"
             ],
             [
              0.6666666666666666,
              "#ed7953"
             ],
             [
              0.7777777777777778,
              "#fb9f3a"
             ],
             [
              0.8888888888888888,
              "#fdca26"
             ],
             [
              1,
              "#f0f921"
             ]
            ],
            "type": "histogram2d"
           }
          ],
          "histogram2dcontour": [
           {
            "colorbar": {
             "outlinewidth": 0,
             "ticks": ""
            },
            "colorscale": [
             [
              0,
              "#0d0887"
             ],
             [
              0.1111111111111111,
              "#46039f"
             ],
             [
              0.2222222222222222,
              "#7201a8"
             ],
             [
              0.3333333333333333,
              "#9c179e"
             ],
             [
              0.4444444444444444,
              "#bd3786"
             ],
             [
              0.5555555555555556,
              "#d8576b"
             ],
             [
              0.6666666666666666,
              "#ed7953"
             ],
             [
              0.7777777777777778,
              "#fb9f3a"
             ],
             [
              0.8888888888888888,
              "#fdca26"
             ],
             [
              1,
              "#f0f921"
             ]
            ],
            "type": "histogram2dcontour"
           }
          ],
          "mesh3d": [
           {
            "colorbar": {
             "outlinewidth": 0,
             "ticks": ""
            },
            "type": "mesh3d"
           }
          ],
          "parcoords": [
           {
            "line": {
             "colorbar": {
              "outlinewidth": 0,
              "ticks": ""
             }
            },
            "type": "parcoords"
           }
          ],
          "pie": [
           {
            "automargin": true,
            "type": "pie"
           }
          ],
          "scatter": [
           {
            "fillpattern": {
             "fillmode": "overlay",
             "size": 10,
             "solidity": 0.2
            },
            "type": "scatter"
           }
          ],
          "scatter3d": [
           {
            "line": {
             "colorbar": {
              "outlinewidth": 0,
              "ticks": ""
             }
            },
            "marker": {
             "colorbar": {
              "outlinewidth": 0,
              "ticks": ""
             }
            },
            "type": "scatter3d"
           }
          ],
          "scattercarpet": [
           {
            "marker": {
             "colorbar": {
              "outlinewidth": 0,
              "ticks": ""
             }
            },
            "type": "scattercarpet"
           }
          ],
          "scattergeo": [
           {
            "marker": {
             "colorbar": {
              "outlinewidth": 0,
              "ticks": ""
             }
            },
            "type": "scattergeo"
           }
          ],
          "scattergl": [
           {
            "marker": {
             "colorbar": {
              "outlinewidth": 0,
              "ticks": ""
             }
            },
            "type": "scattergl"
           }
          ],
          "scattermap": [
           {
            "marker": {
             "colorbar": {
              "outlinewidth": 0,
              "ticks": ""
             }
            },
            "type": "scattermap"
           }
          ],
          "scattermapbox": [
           {
            "marker": {
             "colorbar": {
              "outlinewidth": 0,
              "ticks": ""
             }
            },
            "type": "scattermapbox"
           }
          ],
          "scatterpolar": [
           {
            "marker": {
             "colorbar": {
              "outlinewidth": 0,
              "ticks": ""
             }
            },
            "type": "scatterpolar"
           }
          ],
          "scatterpolargl": [
           {
            "marker": {
             "colorbar": {
              "outlinewidth": 0,
              "ticks": ""
             }
            },
            "type": "scatterpolargl"
           }
          ],
          "scatterternary": [
           {
            "marker": {
             "colorbar": {
              "outlinewidth": 0,
              "ticks": ""
             }
            },
            "type": "scatterternary"
           }
          ],
          "surface": [
           {
            "colorbar": {
             "outlinewidth": 0,
             "ticks": ""
            },
            "colorscale": [
             [
              0,
              "#0d0887"
             ],
             [
              0.1111111111111111,
              "#46039f"
             ],
             [
              0.2222222222222222,
              "#7201a8"
             ],
             [
              0.3333333333333333,
              "#9c179e"
             ],
             [
              0.4444444444444444,
              "#bd3786"
             ],
             [
              0.5555555555555556,
              "#d8576b"
             ],
             [
              0.6666666666666666,
              "#ed7953"
             ],
             [
              0.7777777777777778,
              "#fb9f3a"
             ],
             [
              0.8888888888888888,
              "#fdca26"
             ],
             [
              1,
              "#f0f921"
             ]
            ],
            "type": "surface"
           }
          ],
          "table": [
           {
            "cells": {
             "fill": {
              "color": "#EBF0F8"
             },
             "line": {
              "color": "white"
             }
            },
            "header": {
             "fill": {
              "color": "#C8D4E3"
             },
             "line": {
              "color": "white"
             }
            },
            "type": "table"
           }
          ]
         },
         "layout": {
          "annotationdefaults": {
           "arrowcolor": "#2a3f5f",
           "arrowhead": 0,
           "arrowwidth": 1
          },
          "autotypenumbers": "strict",
          "coloraxis": {
           "colorbar": {
            "outlinewidth": 0,
            "ticks": ""
           }
          },
          "colorscale": {
           "diverging": [
            [
             0,
             "#8e0152"
            ],
            [
             0.1,
             "#c51b7d"
            ],
            [
             0.2,
             "#de77ae"
            ],
            [
             0.3,
             "#f1b6da"
            ],
            [
             0.4,
             "#fde0ef"
            ],
            [
             0.5,
             "#f7f7f7"
            ],
            [
             0.6,
             "#e6f5d0"
            ],
            [
             0.7,
             "#b8e186"
            ],
            [
             0.8,
             "#7fbc41"
            ],
            [
             0.9,
             "#4d9221"
            ],
            [
             1,
             "#276419"
            ]
           ],
           "sequential": [
            [
             0,
             "#0d0887"
            ],
            [
             0.1111111111111111,
             "#46039f"
            ],
            [
             0.2222222222222222,
             "#7201a8"
            ],
            [
             0.3333333333333333,
             "#9c179e"
            ],
            [
             0.4444444444444444,
             "#bd3786"
            ],
            [
             0.5555555555555556,
             "#d8576b"
            ],
            [
             0.6666666666666666,
             "#ed7953"
            ],
            [
             0.7777777777777778,
             "#fb9f3a"
            ],
            [
             0.8888888888888888,
             "#fdca26"
            ],
            [
             1,
             "#f0f921"
            ]
           ],
           "sequentialminus": [
            [
             0,
             "#0d0887"
            ],
            [
             0.1111111111111111,
             "#46039f"
            ],
            [
             0.2222222222222222,
             "#7201a8"
            ],
            [
             0.3333333333333333,
             "#9c179e"
            ],
            [
             0.4444444444444444,
             "#bd3786"
            ],
            [
             0.5555555555555556,
             "#d8576b"
            ],
            [
             0.6666666666666666,
             "#ed7953"
            ],
            [
             0.7777777777777778,
             "#fb9f3a"
            ],
            [
             0.8888888888888888,
             "#fdca26"
            ],
            [
             1,
             "#f0f921"
            ]
           ]
          },
          "colorway": [
           "#636efa",
           "#EF553B",
           "#00cc96",
           "#ab63fa",
           "#FFA15A",
           "#19d3f3",
           "#FF6692",
           "#B6E880",
           "#FF97FF",
           "#FECB52"
          ],
          "font": {
           "color": "#2a3f5f"
          },
          "geo": {
           "bgcolor": "white",
           "lakecolor": "white",
           "landcolor": "#E5ECF6",
           "showlakes": true,
           "showland": true,
           "subunitcolor": "white"
          },
          "hoverlabel": {
           "align": "left"
          },
          "hovermode": "closest",
          "mapbox": {
           "style": "light"
          },
          "paper_bgcolor": "white",
          "plot_bgcolor": "#E5ECF6",
          "polar": {
           "angularaxis": {
            "gridcolor": "white",
            "linecolor": "white",
            "ticks": ""
           },
           "bgcolor": "#E5ECF6",
           "radialaxis": {
            "gridcolor": "white",
            "linecolor": "white",
            "ticks": ""
           }
          },
          "scene": {
           "xaxis": {
            "backgroundcolor": "#E5ECF6",
            "gridcolor": "white",
            "gridwidth": 2,
            "linecolor": "white",
            "showbackground": true,
            "ticks": "",
            "zerolinecolor": "white"
           },
           "yaxis": {
            "backgroundcolor": "#E5ECF6",
            "gridcolor": "white",
            "gridwidth": 2,
            "linecolor": "white",
            "showbackground": true,
            "ticks": "",
            "zerolinecolor": "white"
           },
           "zaxis": {
            "backgroundcolor": "#E5ECF6",
            "gridcolor": "white",
            "gridwidth": 2,
            "linecolor": "white",
            "showbackground": true,
            "ticks": "",
            "zerolinecolor": "white"
           }
          },
          "shapedefaults": {
           "line": {
            "color": "#2a3f5f"
           }
          },
          "ternary": {
           "aaxis": {
            "gridcolor": "white",
            "linecolor": "white",
            "ticks": ""
           },
           "baxis": {
            "gridcolor": "white",
            "linecolor": "white",
            "ticks": ""
           },
           "bgcolor": "#E5ECF6",
           "caxis": {
            "gridcolor": "white",
            "linecolor": "white",
            "ticks": ""
           }
          },
          "title": {
           "x": 0.05
          },
          "xaxis": {
           "automargin": true,
           "gridcolor": "white",
           "linecolor": "white",
           "ticks": "",
           "title": {
            "standoff": 15
           },
           "zerolinecolor": "white",
           "zerolinewidth": 2
          },
          "yaxis": {
           "automargin": true,
           "gridcolor": "white",
           "linecolor": "white",
           "ticks": "",
           "title": {
            "standoff": 15
           },
           "zerolinecolor": "white",
           "zerolinewidth": 2
          }
         }
        },
        "xaxis": {
         "anchor": "y",
         "domain": [
          0,
          1
         ],
         "title": {
          "text": "sim_to_def"
         }
        },
        "yaxis": {
         "anchor": "x",
         "domain": [
          0,
          1
         ],
         "title": {
          "text": "total_accuracy"
         }
        }
       }
      }
     },
     "metadata": {},
     "output_type": "display_data"
    }
   ],
   "source": [
    "fig = px.strip(\n",
    "    df,\n",
    "    y = 'total_accuracy',\n",
    "    x = 'sim_to_def',  \n",
    ")\n",
    "\n",
    "fig.update_traces(\n",
    "    # jitter=.7,\n",
    "    marker=dict(\n",
    "        color='cornflowerblue',\n",
    "        line=dict(width=2)))\n",
    "\n",
    "# add regression line\n",
    "X = df.sim_to_def.values.reshape(-1, 1)\n",
    "\n",
    "model = sklearn.linear_model.LinearRegression()\n",
    "model.fit(X, df.total_accuracy)\n",
    "\n",
    "x_range = np.linspace(X.min(), X.max())\n",
    "y_range = model.predict(x_range.reshape(-1, 1))\n",
    "\n",
    "# spearman correlation\n",
    "s_s, s_p = stats.spearmanr(df['sim_to_def'], df['total_accuracy'])\n",
    "# pearson correlation\n",
    "p_s, p_p = stats.pearsonr(df['sim_to_def'], df['total_accuracy'])\n",
    "\n",
    "fig.add_annotation(\n",
    "    xref='paper',\n",
    "    yref='paper',\n",
    "    x=0.04,\n",
    "    y=0.1,\n",
    "    text=f'Spearman correlation: {s_s:.2f} (p-value: {s_p:.2f})<br>Pearson correlation: {p_s:.2f} (p-value: {p_p:.2f})',\n",
    "    showarrow=False,\n",
    "    font=dict(size=12, color='black'),\n",
    "    bgcolor='rgba(255, 255, 255, 0.8)',\n",
    ")\n",
    "\n",
    "fig.add_trace(go.Scatter(\n",
    "    x=x_range,\n",
    "    y=y_range,\n",
    "    name='Regression Fit',\n",
    "    marker=dict(\n",
    "        color='rgb(116, 77, 145)',\n",
    "    ),\n",
    "    \n",
    "\n",
    "),\n",
    ")\n",
    "\n",
    "# fig.update_layout(\n",
    "#     xaxis_title='Accuracy of Social Media Identification',\n",
    "#     yaxis_title='Similarity',\n",
    "#     width=1000,\n",
    "#     height=600,\n",
    "#     legend =dict(\n",
    "#         orientation=\"h\",\n",
    "#         yanchor=\"bottom\",\n",
    "#         x=.85\n",
    "#         ),\n",
    "#     title = 'Accuracy of Social Media Identification vs. Cosine Similarity of Text Response to Definition',\n",
    "#     )\n",
    "\n",
    "fig.write_image('../../figures/accuracy_similarity.png')\n",
    "\n",
    "fig.show()"
   ]
  },
  {
   "cell_type": "markdown",
   "metadata": {},
   "source": [
    "## Dimensionality Reduction"
   ]
  },
  {
   "cell_type": "markdown",
   "metadata": {},
   "source": [
    "### t-SNE"
   ]
  },
  {
   "cell_type": "code",
   "execution_count": null,
   "metadata": {},
   "outputs": [
    {
     "data": {
      "application/vnd.plotly.v1+json": {
       "config": {
        "plotlyServerURL": "https://plot.ly"
       },
       "data": [
        {
         "hoverinfo": "all",
         "marker": {
          "color": "cornflowerblue",
          "line": {
           "width": 2
          },
          "size": 5
         },
         "mode": "markers",
         "text": [
          "I would define social media to be consumption of videos or photos generated and shared by someone else. in addition to sharing and resharing of own and others' content.",
          "I would define social media as applications or websites where people can interact with others. where people can't discuss various topics or share media that they have made themselves",
          "A place for people to share and communicate everyday things",
          "Online access to friends and sharing with others",
          "A platform where one can express their thoughts and about your life with friends and with people you do not know.",
          "Any number of apps or sites that allow people to connect online. Either through personal accounts (i.e. Facebook/Instagram) or through videos and gaming platforms (i.e. TikTok).",
          "A platform people use to connect with friends and popular people they like.",
          "Just using online social networks like X or Reddit.",
          "A PLACE WHERE YOU MEET NEW PERSON AND EDUCATIVE",
          "I would define social media as anything that has a group of people that interact with one another. For example, Facebook, Twitter, Instagram, etc.",
          "Social media is a collection of apps and websites where people and companies create profiles to post content. People add photos, thoughts, videos and memes to share with each other.",
          "online abilities where you can interact with other people or react to videos of other people.",
          "Social networking with friends. Such as facebook and instagram. As well as Youtube.",
          "Any app that you can post on or view other people's posts.",
          "A place to exchange of information, ideas, and personal experiences.",
          "Programs where you can communicate with others. You can also watch videos and learn new subjects and play games.",
          "social media is a platform when there are variating ages to gather online.",
          "I would say that it is a mode of communication that is out in the open and allows people worldwide to discuss, and share information publicly or privately. It is a gateway to express yourself online or to be influenced by others.",
          "Social Media is a collection of online platforms which we use to interact with other people. We have the ability to create or share online content through social media.",
          "Places people go online to connect with friends and family like Facebook, Instagram, TikTok, Pinterest, Reddit, Rumble, YouTube, etc.",
          "Social media are online platforms that enable people to create, share, and interact with content and thus connect people in the network.",
          "It's online platforms that allows users to interact, share content including text.",
          "Social media refers to online platforms and tools that enable users to generate content for mutual sharing and communication with other people. These platforms facilitate users' benefits, allowing real-time communication, images, videos, and diverse multimedia content for communication, collaborative activities, and social networks. Some popular social media platforms include Facebook, Twitter, Instagram, and LinkedIn.",
          "its agood platform where our children gain knowlegde from.it also helps our children to know things that they do not know",
          "Social media can be bad for children because it influences them to think that they should be doing this or that just like the other people online. Social media can rot their brain.",
          "Social Media is an online opportunity to connect with others. It allows you to communicate and share information, pictures, and more.",
          "Social Media is the generic term for online platforms where people share personal photos, statements, etc. Some people enjoy sharing photos with friends and family, some people enjoy sharing photos seeking approval.",
          "Social media refers to online platforms and applications that enable users to create, share, and interact with content, as well as connect with others in virtual communities. These platforms allow users to exchange information, ideas, and media, fostering communication and collaboration across various networks. Examples include Facebook, Twitter, Instagram, and LinkedIn.",
          "Social media refers to the various modes of communication through online platforms.",
          "online forum for people to speak their minds",
          "apps used to connect people around the world",
          "I would define social media as any media that involves people interacting with one another via the internet. Examples included Facebook, Instagram, X, reddit, YouTube, etc.",
          "I would define social media as a tool used to interact with friends,family, and content creators",
          "Social media is a plate form that makes one very visible to the world and the current trend or activities going on worldwide and bringing people on a common platform to chart",
          "online websites like Facebook and Instagram end etc",
          "Social media is any kind of online interaction (whether in a web browser or mobile app) that involves two humans communicating.  It tends to be dynamic, and not fixed, reflecting sequential human interaction.  That may be a broad definition, but I think that even things like comments sections and forums are actually social media, whereas unilaterally and non-dynamic pages aren't really social media.",
          "we use it to see what friends of our child post. it lets our child stay in treding moments. set examples of good and bad post.",
          "apps for people to connect and share memories around the world",
          "social media to me means engaging socially online with others for communication,  resources, news, and entertainment.",
          "A place to connect with friends and family. An online site that shows pics or videos.",
          "social media refers to online platform that enable users to connect, interact and share their contents. people actively create and share content on social media platform.",
          "is a interactive space for information sharing and receiving among people of likely interest",
          "Social media is any app where people are connecting and posting personal things between each other",
          "Are interactive online sites to socialize, get entertained, get educated, share information among other things.",
          "Social media is any platform where people can post photos or text to share with others.",
          "online sites that interact with others",
          "Online platforms where people interact and share content with other people.",
          "Social media is an online platform that allow users to share their thoughts and ideas and connect with others.",
          "Online sites or games where people can socialize / chat",
          "Platforms used to engage and communicate with other people.",
          "Social media are platforms where people get to have a glimpse of other people's lives. It is also a platform where you can express yourself. It can also be a tool to get ideas on different things",
          "Online platforms where people can converse and share topics and ideas with each other.",
          "Social Media is a online platform where many people chat and share opinions and information.",
          "An online platform where people interact and share ideas",
          "interactive platforms where you can message, chat or otherwise interact with others rather than just consume or create content.",
          "anything like tiktok, reddit, Facebook etc. Roblox, fortnight when I allow them to talk to friends. that feature is usually locked down.",
          "a place on the Internet that people socialize. a group setting of friends and people of the same preferences. it's all just too much and fake.",
          "A tool that is used to connect with loved ones, society and what's going on in the world. Can be both a blessing and a curse- if used correctly it is very beneficial, but if used with malicious intent it can be a recipe for disaster.",
          "Social media refers to online platforms and digital tools that enable people to create, share, and engage with content, as well as communicate and interact with others. These platforms facilitate social networking, information exchange, and community building through various formats, including text, images, videos, and live streaming.",
          "Social media are digital platforms that allow people to communicate with one another and share online content. Social media platforms include apps and websites, such as Facebook, Instagram, and LinkedIn.",
          "Social media is any online platform that allows individuals to interact with others either directly (through chatting) or indirectly (through posting).",
          "A online community that is not safe. A place to shop and see recent trends.",
          "Social Media is any platform that allows for consumption of media.  Social Media is also any platform that allows for communication.",
          "A place where you can waste time, entertain yourself or document yourself and learn things, depending on what platform you use ad how you use them. Social Media nowadays is a mix of different things: there are a lot of fake news, but there is also entertaining and ways to unwind by reading news and comments from people from all over the world. It's a place to connect but also a place that will suck you in and make you waste a lot of time if you are not able to manage it well.",
          "it's like a social or online gathering where people meet and have access to a lot information regarding societal, cultural, religion, education and as well as other forms of bad behaviors",
          "Social media includes digital platforms and applications where users can produce and engage with different types of multimedia content. It serves as a space for people to network, share thoughts, and interact with others through services like Snapchat or LinkedIn.",
          "Social media includes apps like instagram where people post about their life. I would also include youtube where people vlog about different things",
          "Online app that lets you communicate with friends and like-minded people to share messages, stories, and photos.",
          "Social media is a way to communicate and or share things with others such as photos, and activities etc. social media has a variety of implementations to keep ones privacy protected.",
          "Facebook, twitter, tiktok",
          "Social media is a digital platform that allows people to create, share, and interact with content and other user.",
          "Social media is interactive apps that feature videos, images, and other content posted by individuals and creators. Viewers and users are able to connect, like, and comment on content.",
          "its a digital platforms and applications that enable users to create, share, and interact with content in real-time.",
          "Social Media refers to any online platform that people use as a means connecting and doing many other things.",
          "A platform that allows others to interact and post content for the viewing of friends and family.",
          "online platforms that enable users to create, share, and consume content",
          "Social media is an online platform for connecting, sharing, and communicating, but also requires responsible use to stay safe.",
          "social media is like a distraction for young ones to focus on the important things",
          "Apps that allow you to be in contact with people you know or follow.",
          "social media is a platform used to talk and share things with other people. it's a way to share media with people you do and do not know.",
          "Social media is a way people communicate with each other online. It is also used commercially and professionally by businesses and individuals to push, advertise, endorse products and services. It is a way to share thoughts, ideas, opinions, and keep up with the latest trends.",
          "Apps or online communication that allows them to communicate with other people outside of friendship or family circles.",
          "Social media is a digital platform that enables users to create, share and interact with content, fostering communications, collaboration, and community engagement worldwide.",
          "Social media refers to online platforms and applications that enable users to create, share, and interact with content in real time. It facilitates communication, networking, and engagement among individuals, communities, and organizations. Examples include platforms like Facebook, Twitter, Instagram, and LinkedIn.",
          "Social media forms of electronic communication through which users create online communities to share information, ideas, personal messages, and other content(as videos).",
          "Its a browsing space where people interact with one another.  Its a browsing space where people find a lot of different informtion",
          "Social Media is an online community where people can go to connect, and bond between similar interests. It is a place where long distance friends and family can stay closely together.",
          "It is a digital platform that allows users to create, share and interact with content ideas with people. It is a platform where users share updates, images, videos and messages and can also be used for communication and business.",
          "Social media refers to digital platforms and applications that enable users to interact with content in real-time.",
          "Social media forms of electronic communication through which users create online communities to share information, ideas, personal messages, and other content.",
          "social media is medium where you interact with family and frends",
          "It's a double-edged sword: great for staying connected but also a huge time-waster if you're not careful.",
          "If  it use for good things its a good platform but it has equal bad things. It depends on what we use.",
          "Social media is your personal stage, newsfeed, and community board all rolled into one.",
          "Social media is the communication tool to connect people with each other for sharing and chatting online. For example Facebook, Instagram, TikTok, and so on where you can upload pictures, videos, and messages",
          "An online platform that allows you to communicate with others.",
          "Social media is actually a good place, you can learn a lot and can also affect you if you mismanage it",
          "Social media can be a good and a bad place depending on how you use it",
          "Social media is a way for people to connect, share, and communicate online. It includes websites and apps where users can post pictures, videos, messages, and news. Popular examples are Facebook, Instagram, Twitter, and TikTok.",
          "Social media is a platform where millions of people are signed up for to post about their lives and keep in touch with friends and family.",
          "Tik Tok, Instagram, Facebook, X, etc. And to some extent, YouTube. Essentially, it is a platform where content creators can post content, and others can like or dislike that content as well as comment on it.",
          "I would define social media as a means to communicate with others.",
          "Anything social in the internet. That can be youtube tiktok or twitter.",
          "I define social media as going online on the internet. It includes browsing websites, watching videos, messaging, and using platforms designed to engage with the video/material.",
          "any app or website that allows you to interact with other people",
          "Social media is basically anything like a website or app that allows you to share posts with others. Images, texts, video, etc. it's a way to be social with others who are much further away from you.",
          "I would define social media as an online platform that allows people to stay connected with one another. It's something people use to find new connections as well.",
          "I would define social media as any app that has social interaction whether it be sites like tiktok, youtube, or roblox. Anything that has interaction with anyone outside of himself.",
          "any source of online interaction with people that shares words, pics, songs, etc.",
          "It's a place to connect, share pictures, videos, thoughts, articles, and talk with friends and family. It's a space to follow celebrities, keep up to date on whats going on with the world, join communities, play games, and shop.",
          "These are aps that let you connect with other people online.",
          "Online apps that allow contact between people through messaging and profile content sharing.",
          "Sites where the main component is sharing pictures/videos and gathering likes. Technically, YouTube would fall under this description but I still do not classify it as social media. Social media would be sites like Twitter, Instagram, Facebook, Reddit.",
          "I would define \"Social Media\" as the following: anything that enables people to communicate with other people online. So anything that enables you to post content online i.e. Youtube, Tiktok, Facebook, etc. Pretty much everything we do online that lets you leave a comment to me is considered \"Socila Media\".",
          "Social Media is any online presence where you can interact with people.",
          "online groups that people enjoy",
          "I think social media is anything that you use to stay connected with people online. Twitter, Facebook, Instagram, Reddit etc.",
          "Social media is an online site or app where people can micro blog and interact with other users. It tends to be addictive unregulated and harmful for adults and children.",
          "Social Media refers to online programs, apps, or websites that allow one to sign up to that service. These are virtual online places where one can communicate with others, even those you may have never met in person. These are places where one can share common interests. Common Social Media apps are Facebook, Instagram, Gaming sight apps, or Twitter/x.",
          "Applications like Instagram and TikTok where people share about their lives online.",
          "A social app where people meet new people",
          "Social media encompasses online platforms and technologies that facilitate the creation and sharing of information, ideas, interests, and other forms of expression through virtual communities and networks.     1  It enables users to connect, communicate, and interact with each other in real-time or asynchronously.",
          "Social media is an online platform where users can express themselves through their post and also share contents and information with different people from all walks of life and also build a community online. Social media makes the world a smaller place",
          "apps like instagram",
          "Platforms where the average person posts things about their personal or professional life. This can include photos, video, or simply be text.",
          "Platforms where people can communicate with eachother",
          "Apps or sites where you connect with others. You can message with them and share stuff.",
          "Social media is any electronic form of communication with others",
          "Social media refers to digital platforms and applications that allow individuals and communities to create, share, and exchange content, such as text, images, and videos, in real-time. These platforms enable communication, networking, and collaboration among users globally. Popular examples include Facebook, Instagram, Twitter, and TikTok.",
          "An online platform that connects friends, family & strangers.",
          "I define it as any online platform where users can post text or media. Often, users can also comment on this content.",
          "Social media encompasses online platforms and applications that facilitate communication, content sharing, and the establishment of virtual communities. These platforms allow users to create and interact with various types of content, including text, images, and videos, fostering engagement and collaboration among users.",
          "Social media are avenues on the internet used for communicating with others. These kinds of media allow users to deliver public and/or private messages. They are usually delivered textually, but audio and video are also prevalent methods.",
          "I think it is connecting to a world on the  internet and socializing with strangers you don't know and being exposed to lots of content, lots of media.",
          "Any online activity that allows my child to consume",
          "Any site that allows interaction from others. Strangers being able to connect. That can mean via video, text, and/or voice.",
          "Online presence and communication. A place where you are seen virtually and you see and are \"friends\" with others.",
          "Online arenas where information and photos can be shared publicly.",
          "Can grow knowledge, can meet new friends",
          "online systems to allow communication between people around the globe.",
          "A category of website that allows a user to place content for public viewing and allows back and forth communication/interaction between content creator and the public.",
          "Sites like Youtube, Facebook etc where one can post updates and commentary",
          "Usually an app that lets users share their ideas or post what they are doing and social networking.",
          "FaceTime interacting via phone call and chatting through gaming      l",
          "online platforms that allow interaction and direct communication with others",
          "Social media are online platforms where users can share their thoughts and opinions through texts and images.",
          "facebook instagram,roblox.anywebsite where you can communicate with others.",
          "I would define Social Media as any platform that lets you communicate with others across the internet. There is some cross over with video games or entertainment platforms that both create entertainment  and access to communication with others.",
          "Social media refers to digital platforms and applications that enable users to create, share, and interact with content. These platforms facilitate communication, networking, and community building through text, images, videos, and other multimedia formats. Examples include Facebook, Instagram, Twitter, LinkedIn, and TikTok.",
          "Places where people who typically know each other in-person, or through some sort of community, gather online.",
          "network of people linked via the internet for communication and town square.",
          "Social Media are apps or websites (such as Instagram, TikTok, X, Facebook) where a large number of individuals post aspects of their daily lives, such as photos and videos.  These individuals can view each other's posts and interact with the posts (posting a reaction or making a comment), and can message each other directly through a chat/messaging function.",
          "Social Media includes apps or websites where users can post pictures, videos or thoughts and engage with other users.",
          "It a platform where we get information and socialized to get entertained",
          "A way of interacted online and socializing virtually. getting to know people and express yourself on platforms. meeting like minde people",
          "Social media consists of apps and/or websites that you connect with people on.",
          "Any platform where you can interact with the public instantly. Examples for me are YouTube, tik tok, instagram, twitter, facebook, Snapchat.",
          "a site to share things with other people.",
          "Platform used for socializing with other users or searching for information that are online.",
          "I would define social media as an online platform which hosts a community where people across the world can engage with one another by sharing content and commenting on the content.",
          "Content created and shared for the sole purpose of others viewing and reacting to it",
          "People looking at others pictures online and chatting so they can keep in touch or stay in the loop with eachother.",
          "I would define social media as any platform where you are interacting with other users, such as Facebook, Instagram, etc.",
          "websites and apps that connect users socially for content sharing",
          "Online spaces used to interact with others.",
          "Social media is any online platform where people can connect with other people. This can be via messages or posts.",
          "apps that connect people in superficial ways online",
          "Online apps that let you engage with other people",
          "Social networks that display content and media designed on your personal algorithm of likes and dislikes and preferences.",
          "Social media is a virtual platform for individuals to share and connect with others. People use posts, links, pictures, etc. to upload and share with people he/she may or may not know. It can be used to entertain, engage, and learn.",
          "Anything online that's interactive like games, YouTube,Facebook, robloxetc",
          "Apps and websites like Facebook where people can post thoughts and pictures",
          "It is a helpful tool for learning and gaining access to information.  However, not everything on social media is good or real.",
          "Social media are platforms where you can interact with other people",
          "Facebook, Instagram, X",
          "I would define social media as something where you can look at others content and interact with it.",
          "Any form of app where posts can be made and interactions with other people can be had",
          "Social Media is a site where people post content about their lives, weird stuff, interesting things. It offers a way for people to communicate.",
          "A place where humans electronically gather to post about their lives and interact with other humans.",
          "Facebook, instagram, TikTok, YouTube",
          "websites that allow for interaction with other humans by posting, commenting, liking, sharing, chatting, etc",
          "Any type of media on a platform online or in physical form where people discuss various topics, personal, professional, entertainment purposes etc.",
          "A platform for people to communicate or share information and have conversations either with an inner circle or the world at large.",
          "A place to connect with other people and family",
          "Social media is something that came about in the early 2000s to mid 2000s. It is a online platform that enables users to be able to connect to other users by simply clicking a few buttons.",
          "I would describe social media as the use and space to share ideas and materials digitally.",
          "I define it as any place that you can communicate inline with other people.",
          "Any app or program that allows you to interact/communicate with other people",
          "I would define it as any type of online space in which users primarily create and post content with the aim of sharing it with others.",
          "Social media refers to online platforms that enable users to create, share, and interact with content like text, images, and videos, allowing people to connect and communicate with others within virtual communities, often through websites and apps like Facebook, Twitter, and Instagram. ",
          "Any interaction online with others, whether it is a message board or immediate is social media.  Sharing comments, ideas and pictures are all parts of it.",
          "Any internet platform designed to interact with other human users.",
          "Social media refers to digital platforms that enable users to create and share content, and to connect with others online.",
          "I'd define social media as any type of online platform where one has a profile and engages via posts and comments.",
          "It is a place where people can interact online with each other and share their lives.",
          "It is a tool that allows us to share information about our day-to-day lives. It has made day-to-day activities easy to do with just a click but it also has its faults since if used the wrong way it can cause harm not just to yourself but to those around you",
          "It is when you communicate online through media.",
          "where people watch or read content. a place where people can socialize over content.",
          "Websites and apps that allow people to interact with each other through text, video, and music/audio.",
          "It is an online website where you post pictures, tell your stories or advertise your business. Also any followers can comment on whatever you post, and it can be good or bad.",
          "anything online that links you with other people where you can share opinions and or chat",
          "I would define social media as an online outlet used for social purposes. This includes watching material other people have made, interacting with others, and making your own content for others to watch.",
          "Anything that let's someone interact with others via the internet",
          "A platform where you can interact with people you know or don't know.  A platform where you can share information and exchange messages.  Facebook, messenger, kids messenger, etc.",
          "Online websites where the community and strangers are on the same sites.",
          "Social media refers to online platforms that enable users to create and share content, connect with others, and build virtual communities. It facilitates communication, information sharing, and the development of social networks through digital tools. These platforms often allow for real-time interaction and user-generated content.",
          "Social media is a way to connect with people all around the world. It is a way of communicating and finding entertainment through people's videos and posts. It is tool for quick access to information of all kinds",
          "Social media is anything related to influencers, videos dealing with making money for the influencer and influencing the perspective of the viewer, as well as chatting with friends and strangers on the internet.",
          "any website/app that people can comment/post on. Youtube, facebook, etc.",
          "Social media is content that people consume on platforms like tiktok, YouTube, Facebook and X. It is comprised of videos, written posts and memes. It is designed to please our brains and many find it addictive.",
          "I define social media as a place online where people can post things for others to see and view the things that others have posted.",
          "Online interaction with other people, games, videos.",
          "Social media refers to online platforms and websites that allow users to create, share, and interact with content, such as text, images, and videos, in a virtual community. These platforms enable people to connect, communicate, and engage with others on a global scale. Popular examples include Facebook, Instagram, Twitter, and LinkedIn.",
          "Social media to me is any way in which you interact with others or they interact with you over the internet.",
          "Social media refers to online platforms and apps where individuals can create, share, and interact with content, such as text, images, videos, and more. It allows people to connect with others, communicate, and participate in virtual communities.",
          "I would define \"social media\" as a platform you can talk with people and look at videos.",
          "Social media would be interacting or viewing other people content and you are able to communicate with them in real time.",
          "I would define social media as platforms used for socializing with friends, family and others.",
          "Social media is the online presence of a person with the ability to \"friend\" other people in their immediate community group or strangers.",
          "I define social media as any platform where my child can interact with others like Tik Tok, Instagram and Facebook",
          "It's a network of people on the internet that talk and share things amongst each other.",
          "apps and websites that have many millions of users who post their own content. users are individuals and companies or organizations.",
          "Platforms that are solely designed to be interactions with others (so not video games where you might talk to other people but it isn't the ONLY purpose of the platform.)",
          "Any platform used for social interaction or engagement with a group of people",
          "Online platforms where you share information about yourself. Communicate with friends and others.  Keep up to date with what is going on either others via posts.",
          "Social Media consists of online sites where people can interact with each other and view posts and images without having to be physically with that person",
          "An online platform that has played several reasons in the life of  many people eg. helped a lot in doing research  Also this platform is used for learning as well as to entertain",
          "Social Media is an app where you can communicate with others, make posts, and comment on things.",
          "Social media is for people to interact with and show others personal likes, dislikes and more. show their skills in certain fields. it can be fun, scary and multiple things at any time.",
          "Social media represents a huge interconnective web of information sharing between individuals around the world whether it be data, video, audio, ideas, etc.",
          "Social Media is a type of community online.  it is a way for people who don't regular have person to person contact to connect and to find old friends and make new ones.  it's also a platform for people to express themselves in many different ways.",
          "To me social media is a place where people share personal information with each other and the internet in general.",
          "Connection to the world",
          "An online platform that fosters communication with other people, either through text, picture or video",
          "I would define social media as a place where like-minded people can connect. There's a lot of great stuff on social media, but there's also inappropriate things that aren't good for young kids. That's why I only let my child use social media if I am present so I can keep them safe and make sure they're having a positive experience.",
          "Its where you watch other peoples vidoes, skits , information all around the world.",
          "Social Media is anything that gives them access to people and the lives they live. It's the ability to communicate with others.",
          "Any place that interactions with other real people can occur including talking or sharing items.",
          "Any media that supports sharing of information from other users.",
          "Social media refers to online platforms and applications that allow users to create, share, and interact with content, as well as connect with others. These platforms enable communication, collaboration, and the exchange of information in real-time. Examples include Facebook, Twitter, Instagram, and LinkedIn.",
          "Any platform that shares content from one person with large groups of people",
          "Social media is any platform where users are free to make their own content and engage in conversation with other users.",
          "sites like facebook, twitter, truth social etc..",
          "Social media is an online platform where people can interact with each other and learn new things. You can see the latest trends and information about certain people and things. It can also be a place of learning bad things or bullying from others. It can be a nice thing but can be twisted very fast.",
          "Its a way for people to connect with others online. There are different ways to communicate including text, pictures and memes",
          "online usage in order to keep up to date with others. its proactive posting.",
          "Social media is a collection of online platforms where people can connect, share content, and interact with others. It includes sites like Facebook, Instagram, and TikTok, where users post updates, photos, and videos. Social media is used for communication, entertainment, and staying informed. Much like a digital playground.",
          "Social media is a form of media where people can connect to other people via online applications such as TikTok and Twitter. It provides instant communication tools that people can converse in real time no matter the distance.",
          "Social media is any platform that allows people to connect with others online and communicate or share with them",
          "Social media is a series of online platforms where you can communicate with others, whether you know them or not. You can also watch media such as videos of these platforms for your learning or entertainment.",
          "apps that keep people interconnected without being physically near each other",
          "Online website where you have a profile and can meet and talk with others.",
          "Social media are online space where people can share information, pictures, videos, and other types of content. They can be addictive and users can obsess over their social media accounts.",
          "Social media is a platform to get to learn, be socialize and have fun",
          "used for good purposes it can be very useful, but for children of a certain age it is completely unnecessary",
          "Internet platforms where people interact and communicate on a global scale",
          "Social media refers to a broad array of digital platforms and applications that facilitate the creation, sharing, and exchange of content such as text, images, and videos, enabling individuals to engage in social interactions and build virtual communities. These platforms, including but not limited to maybe Facebook, Twitter, Instagram, and LinkedIn, allow users to interact, connect, communicate, and participate in online networks, influencing both personal and professional spheres of life. The proliferation of social media has fundamentally transformed the dynamics of communication, information dissemination, and social interaction in this our digital age. social media has come to stay!!!!",
          "Social media has to do with all digital platforms where people can create, type and share media content.",
          "Websites that entertain and want to gain followers",
          "Social media is a platform in which people share posts, content, or ideas to other people. It is a platform in which people can engage or peruse content posted by others.",
          "A way to communicate online that lets people share information, create content, and connect with others.   It's also a platform for interaction and creating friends.",
          "A network/platform where people of like minds meets and discuss online.",
          "These are online platforms that allow interaction with content. Examples are Youtube, Tik tok, Facebook, X, Instagram, and LinkedIn.",
          "anything that allows you to interact with others online that hosts a profile",
          "An online platform for interacting and chatting with people",
          "Social media refers to digital platforms and applications that enable users to create, share, and interact with content in real-time. These platforms facilitate communication, networking, and information exchange across individuals, groups, and organizations. Examples include Facebook, X (formerly Twitter), Instagram, and LinkedIn.",
          "social media is any platform which can be used to share information,media or messages.",
          "a place of information and entertainment that can be both good and bad",
          "Platform that connects group of people",
          "Socially connetion and bonding apps liek fb, x, snapcaht whatsapp etc.",
          "instagram tiktok fb anything online or on the phone that you can connect with others",
          "It's anything that lets you virtually connect with other people.",
          "Social media is socializing with others on the internet.",
          "Sites where someone can have a site and contribute to a discussion. A forum board.",
          "A place where people can share about their lives and interact with other virtually",
          "I define social media a tool to connect with others. It can also be used as a platform for good and bad. I do not believe it is something children should have access to.",
          "apps where you can see other people's posts and potentially interact with them.  You can see comments that others have made on posts",
          "Social Media is the network of websites and apps that allow users to share their thoughts and feelings. Videos and pictures are commonly shared on Social Media. Apps like Facebook and Instagram allow users to interact with people they know and don't know online.",
          "A disgusting hell hole that will only warp and ruin your child's mind. Social Media should only be allowed to be used by adults, (18yrs old) and even then it is a cesspool of trash. It turns people into pathetic losers that spend all their time idolizing a bunch of douche bags. Obviously I highly dislike social media and do not use any form of it myself.",
          "Social networks are a means of communication where people can publish content about anything, for example what they are thinking, the music they like or any other information relevant to the person.",
          "An app or software on which people can interact with each other.  Usually it involves people trying to create a certain impression -- through their interactions and posts --  to their audience or their online connections.",
          "Online platforms on the internet that enable sharing content such as pictures and videos. People are also able to share ideas and dialogue.",
          "Anything that my son is watching on platforms that are sending messages or discussing topics other than his family. Even TV is social media.",
          "any internet based activity where there is the possiblity of interacting with another person or another person's comments",
          "websites and applications that allow users to create their own content and share it with other users.",
          "Social media comprises the websites and apps that are designed to connect people and allow them to express themselves.",
          "Social media refers to online platforms and applications that enable users to create, share, and engage with content while interacting with others. These platforms facilitate communication, networking, and information sharing through various formats such as text, images, videos, and live streams.",
          "A platform where people can interact with people they both know and dont know, create and share content, stay informed and connect globally.",
          "The various apps and platforms intended to connect and engage with others. For our kids this is exclusively for entertainment purposes",
          "Social media connects people to the outside world. It can be a positive experience. It can also be extremely dangerous.",
          "applications where media, whether it be photos, videos, personal statements or advertisements are shared on platforms",
          "social media is a great place to stay connected with long distance family members. it helps build long distance family relationships. and it is a good way to meet like minded people.",
          "Apps and websites that allow you to connect with friends and to post about your life and comment about other people's posts.",
          "Social media is online platforms that let users create, share and interact with content and connect with others.",
          "I would define social media as websites such as facebook and youtube where users share their content with each other. Whether it be, ideas  concepts ,pictures, videos or other media such as gaming.  They interact with it and with each other and sometimes socialize though it, like via online gaming or virtual spaces like meta horizons for example.",
          "Content you or others view or create that has a social aspect to it",
          "Online, scrolling, more-ish.  Includes Facebook, Instagram, TickTock, Reddit, X, Bluesky, etc. Content created by users, platform decides what to show any individual person.",
          "social media is platforms that individuals use to talk to and show friends things.",
          "Any platform where kids or adults can like or leave comments so everyone can see. Online community that posts pictures or updates for the world to see/read.",
          "Any websites that have the purpose of interacting with others online. Some may be less about interaction with others and more about interaction with content that people put on the website.",
          "most of times social media help in learning lit of thinks",
          "Another life that is digital from the world",
          "Social media is an online platform that allow user to create, interact and share content with each other.",
          "A space where many people gather on the Internet to exchange information, form relationships, and interact",
          "I would define social media as any app that allows conversation with known and/or unknown people online, such as Substack, Facebook, Discord, etc.",
          "Social media just as it is a a technological concern that people joining to share different ideas in the name of knowledge, fun or entertainment, creating content for money and also to market businesses",
          "social media encompasses online platforms that enable users to create, share, and exchange information, ideas, and content within virtual communities and networks.",
          "Social media is a tool to be used for easy educational,social and intellectual improvement  for once bitterness' and to better the society.  social media is an open space with a lot of information that needs to be controlled hence it turns to time waster.  social media is also a tool to making money via the online space",
          "I would define it as an interconnected system of virtual interaction that can be accessed across digital devices from anywhere in the world. It is not restricted by geography and it is accessed via the internet.",
          "Social media is a platform used for communication between people we know and we don't. It can also be used to send pictures, video and be current about what is going on in the world. Social media make News to travel faster worldwide, it provide easy access to a lot of things, it enhances learning, it can help people with depression. Social media can be harmful at the same time helpful. People needs to be careful and caution about the kind of information they passes online.",
          "Social Media consists of various platforms that allow users to watch videos, read content, make comments, etc. One can be both a creator and user. It's supposed to connect people, but I feel it's more of a place where people compete to see who has more likes and/or followers as it is a popularity contest.",
          "Any sort of online platform that enables interaction between two people.",
          "Applications that allow you access to different people across the globe",
          "Social Media is like using technology to communicate or share information.",
          "Social media is an online space or platform that permits people to have access to stuffs and people on the internet, it allows people to connect and share content with others and also build communities.",
          "websites or apps that allow you to connect to other people",
          "I would define it as online platforms or applications that allow people to create and exchange contents ,ideas and information. It also allows people to stay in touch with one another.",
          "Social media is a medium for information both positive and negative. It is a place to socialize and make friends, one can also advertise his products and services there. It is also a place for education and research",
          "Social media are interactive computer mediated technologies that facilitate the creation and sharing information, ideas, career interests, and other forms of expression via virtual communities and networks.",
          "Digital access to other people via the internet. It would include being in contact with friends as well as access to people they don't know in real life.",
          "Online communications with others.",
          "Social media is the democratic publishing of images and ideas.  Anyone can post anything with minimal policing, if any.  Used by some to keep in touch, it has become mostly a platform to sell things.",
          "Social Media is connection to everyone in the outside world, via the internet.",
          "It can be troubling with the lanuage and things that are on social media.  Social Media is website used to share information, view videos etc.",
          "Virtual platforms oriented towards sharing information or social communication. Generally revolving around a list of contacts that allow you to make contact with one another.",
          "Social Media, I would say is the means of communication in the year of 2025. Almost all relationships, no matter what type, require engagement with social media.",
          "Any platform where you can interact with strangers.  Social media is a toxic environment for children to be exposed to but feel left out if they do not post.",
          "Social Media is an outlet in which you are able to interact with others online and share information with others.",
          "A way to view and communicate with other people.",
          "Social Media to me is communicating with other people using modern day apps that simplify the ability to share your activities and thoughts in real time with others.",
          "Social media are apps on a device that connects to the world at large. We don't let our child have any social media apps. We believe them to be dangerous weapons, and not worth it.",
          "A place/App online to interact, visit, share with others.",
          "Social media is a social network site where people are connected with each other.",
          "I would define social media as a online place where you can share moments of your life with your online friends.",
          "Social media to me is different avenues available to keep up with friends and the world. Also a good way to loose time if not used correctly.",
          "Anything online that involves contact with otehrs.",
          "Social media is a way for people to connect and share information online. It includes websites and apps like Facebook, Instagram, and Twitter, where users can post pictures, videos, and messages to interact with friends, family, and others. It's a place where people can also follow their favorite celebrities, brands, and stay updated on news and trends.",
          "I would define social media as as interconnected hub world where many people across the world can connect with each other from the comfort of your home",
          "Online platform that provides communication and/or entertainment options.",
          "Social media to me is TikTok, Snapchat, Facebook, instagram, Reddit, etc, etc.",
          "a platform that you and your peers are a part. a place to share about yourself for all to see",
          "I define social media as platforms that allow people to socialize with others on the internet or create/post content that can be viewed by others on the internet.",
          "Social media refers to online platforms or tools that allow users to create, share, and interact with content, information, or other users in a virtual environment. These platforms facilitate social networking, communication, and community-building, and can include websites, applications, or services like Facebook, Twitter, Instagram, and YouTube.",
          "Social media is a platform where users can interact, meet others with similar interests, and update one another on their life events.",
          "I define social media as online communication with other people.",
          "on-line instrgram type accounts where you can communicate with friends and check out what is happening such as current events",
          "Social media shows how the society interact with one another through the internet",
          "Using twitter, TikTok,facebook, insta etc. using online sites to socialize",
          "Any online platform that involves being able to share and connect with others (excluding chat services).  Being able to post and read what others are posting, including online blogs.",
          "Social media is large communication and entertainment source. It can used also for getting information and news.",
          "Digital spaces called social media applications give users instant capabilities to create post and exchange content among themselves. People use the platform as a communication tool while building social networks and engaging with multimedia content including text and images and video. The most recognizable social media platforms comprise Facebook together with Instagram along with Twitter while LinkedIn and TikTok complete the list.",
          "Any type of online site where information, visual or literary, can be seen or information can be shared with others (usually via apps)",
          "various platforms for people to use for networking and connecting with friends and family.",
          "Social media is a form of entertainment be it blog posts, pictures, or videos, in any capacity, made by fellow civilians as opposed to a network entity.",
          "Online platforms with a primary purpose of connecting with other humans (and bots) via text, video, or images.",
          "online platforms to socialize with strangers. chatting and sharing your views with others.",
          "Social media is a great tool and it also can be very destructive without proper supervision and controls. I like social media for the good and bad that it provides because I try to use the good and bad for teaching moments with my child.",
          "good for gathering information",
          "Social media is different outlets where you can connect with others. That can include pictures, videos and writing. There is different social media outlets.",
          "Different platforms like Instagram, TikTok, Facebook, some gaming interactions.",
          "platforms (websites and apps) that allow users to post content (text, photos or videos) publicly or privately.",
          "Social media consists of all the communication apps available online. Social media is anything anyone uses to share information",
          "Social media is basically sharing stories, photos and details of your life online with an audience. I think social media is out of hand and a terrible source of information.",
          "Social media include any online apps or online programs that allow people to share and communicate media (e.g., pictures, videos) or thoughts (i.e., opinions) of any kind.",
          "Social media are platforms on the internet that lets you build your internet presence and be in connection with others around the world, whether you know them in real life or not. There are all types of content on social media. Social media can be used for good and used for very bad.",
          "Social media is where people can interact with other people online.  Some of those people they know in real life and some they do not.",
          "Interacting with people online. I would consider games played online social media \"light.\"",
          "Instagram, Facebook or Snapchat and TikTok. I feel it is not appropriate for teenagers. Social media can brainwash children and should be monitored.",
          "They are organizational structures dedicated to entertaining and informing a global community.",
          "Social media refers to online platforms and applications that enable users to create, share, and interact with content in real time. These platforms facilitate communication, networking, and engagement through text, images, videos, and other media formats. Examples include Facebook, Twitter, Instagram, and TikTok, which connect individuals, businesses, and communities globally.",
          "Social media is a place where you can stay connected with friends and family. It helps when you have family you don't see often and helps you stay in touch with friends you don't see much.",
          "social media in compasses any platform that involves any interaction between you and other people. social media can be a good thing as long as there is moderation in children",
          "It interacting and use of social platform for education or for entertainment purpose",
          "Social Media is socializing through internet. It has an advantage and disadvantages in people's lives.",
          "Toxic, online place where kids can go to convince themselves of things they probally shouldn't know about. I time suck for all who participate and cant regulate themselves. social media is named as a lie as it infers greater social conncection but in reality seems to take us away from actually being with our peers and our families.",
          "Platforms where you can communicate online with people you know and with strangers.",
          "Social media is channel to connect with a lot of my friends and contacts to adapt to posting, and growing as friends on Facebook and Instagram sharing pictures and stories",
          "anything that can be seen or watched that people can see and discuss things. it could be videos on youtube or instragram seeing pictures but it could also be discussion forums such as reddit.",
          "A global network used to interact with friends and family .Also  a means of sharing information with others.I think that is how i personally describe Social Media.",
          "its a great influence to our children both positively and negatively",
          "Social media is where you communicate with friends and family on apps or websites",
          "Typically an application where people meet online.",
          "Using the phone, computer to contact friends and relatives. Playing games with other children. Using media to shop.",
          "a dark place that has negatively effected the world . We explore together to eliminate the wonder and feeling of need tom discover .essentially a hub for peoiple to connect and act",
          "mindless showing off",
          "in her case she's on private roblox and minecraft games with her friends. sometimes on youtube too",
          "media that is relative to people one knows",
          "A variety of platforms where people can socialize and view content from different people. Sometimes the content is posted by strangers and sometimes by people you know. Some platforms are easier to stay within your private circle than others.",
          "Online platforms where people share things, post, and chat. Lots of angst, arguing, bickering and fighting. Also, some news.",
          "Apps on the internet that allow interaction between the user and other people. Apps that allow commenting after videos or reels. Web browser pages that allow exchanging emails, messages, views, etc with other internet users.",
          "I would define social media as a platform that provides a way for people to share content, and connect digitally.",
          "a gathering of unpredictable sites filled with gossip and misinformation that anyone can access at anytime.",
          "Its a place where you learn more about what's going on in other places and people lives.",
          "A website or app where people share news, lives, photos and videos.",
          "apps used for online communication",
          "I would define it as a cancerous entity that drains the souls of humanity.",
          "Social media are technologies that allow people to build communities and network amongst themselves. Usually they have large user bases that interact with each other.",
          "A site with people trying to impress other people.",
          "Social media are Online platforms where you interact with other people.",
          "Social media is the sharing and receipt of information or experiences on the internet",
          "Digital apps and websites where people can communicate and share media. Some examples are Facebook, Instagram, Roblox, Fortnite and others. Social media are really popular ways of communicating these days.",
          "Social media are site lie snapchat instagram tiktok and others where people can socialize with each other. Sites like Fortnight roblox and Minecraft are similar to Social Media because they have chat rooms but a parent can disable the chat.  For my eldest child I allow some use of social media unsupervised.",
          "Apps that allow you to post text, or images of yourself to a broader community of followers.",
          "Social Media is anything online that connects one person to another. It can be a social media website or even an online game.",
          "Social media is a place for the public to share opinions. It's an online space for people to try and get attention.",
          "Any online medium where they is the opportunity to interaction with others in a text, visual, or verbal format that closely resembles an interaction that could happen in person.  This could be applications like Facebook, Tik Tok, Instagram, but also could be a chat interface for some online multi-player games (ex: World of Warcraft).  All of these mediums allow a user to interact in complex dialogue with other users that can be construed as a form of communication that can resembles face to face interactions.",
          "Any website or app that allows someone to connect with other people to share status, photos, other media.    Sites like Instagram, Facebook, X,",
          "Apps like tick tock or facebook. watching videos on youtube or other platforms like youtube.",
          "Entertaining at times but also some negativity",
          "Using Apps and websites to view content and interact with creators, friends and others in the online community",
          "Social media is a platform that people use on a fairly regularly basis to communicate and share ideas with their social circle. Some people choose to open their social media up outside of their social circles and engage with the general public.",
          "Anything online where interaction with others is possible",
          "I would define it as a website or app that you can communicateand share stories and life.",
          "Social media is primarily a false sense of reality, everyone shows their very best and most glamorous parts of their life, most people give off a false version of themselves. Social media has some positive aspects but its primarily negative",
          "A form of online exchanges and information typically shared by individual users with the world or with one another.",
          "Online platforms used to talk to others and share information about yourself, like Facebook or Snapchat",
          "Social media is any kind of media that connects people to others.",
          "Websites and apps that are designed to communicate with other people.",
          "social media is how people interact nowadays. Online presence has a huge impact on day to day agendas.",
          "Social media is a combination of platforms like websites, apps, etc, that allow people to interact by sharing ideas and information through text, videos, images...",
          "Social media allows people to express their interest. It reaches many people to share interests. It can be a good and bad influence.",
          "Social Media is an app or website that allows the user to interact with other people. Those people might be local or could be on the other side of the world.",
          "Social Media is an online platform to interact with others virtually.  It's socializing, but over the internet. It's a way to share things that you are interested in and wind down to relax.",
          "I would define social media as apps in which my childs peers are also on. These would be apps where my child can interact with others.",
          "Apps like Facebook, Instagram, and Twitter where the child is communicating with and sharing pictures with other people.",
          "Any internet based platform that allows someone to interact with other people, and may include posting photos, text-based communication, emojis, etc.",
          "websites to keep people and information connected",
          "I would define Social Media as a means to keep in touch with people you don't see often. I also think it's a way for people to express their views and their likes or dislikes. It's also a useful tool to communicate with others.",
          "Social media is an interactive platform that allows communication. It can be used in connecting with friends and family. It has advantages and disadvantages.",
          "communicate with other pepole, such as facebook, wechat",
          "A platform to communicate and interact with friends as well as the rest of the world as well as a source of entertainment.",
          "social media, I think is a platform originally meant for educating, sensitizing, spreading News and connecting people.",
          "Anything like Facebook or Instagram. Snapchat or the like.",
          "Social media would involve a profile and some access to messaging or communicating with friends and others. I would consider Instagram, facebook, Snapchat and even YouTube a little like social media.",
          "social media is \"media\" (e.g. videos) that you can comment and share for social reasons.",
          "Most anything online that is interacting with content that others put out in a community based platform. Examples include Facebook, Reddit, TikTok, Instagram. Games like Roblox might or might not be social media.",
          "Social media refers to digital platforms and applications that enable users to create, share, and interact with content in real time. It facilitates communication, networking, and community building across various formats, including text, images, videos, and live streaming. Examples include Facebook, Instagram, LinkedIn, and TikTok.",
          "An app or website that connects peer to peer.",
          "Social media is the use of apps to bring the reality of our lives to the digital world. Sometimes this reality becomes distorted or downright untruthful.",
          "I would define social media as apps and websites that allow people to communicate with each other.",
          "social media is a way for people to interact with each other without having to be present. its also a way for people to tell people what going on in their lives. its also a way t connect with people you normally wouldnt",
          "I define Social Media as any platform that you can socialize with other people and interact with them.",
          "websites or apps that people use to connect and share",
          "Social media is a digital space where people can stay in touch, share ideas, and keep up with what's happening in the world.",
          "Social media refers to digital platforms and applications that enable users to create, share, and interact with content in real time. These platforms facilitate communication, networking, and community-building through various formats, including text, images, videos, and live streams. Examples include Facebook, Instagram, Twitter, TikTok, and LinkedIn.",
          "An online platform to keep u with friends and family",
          "As a platform where different people from all over the world get to interact , socialize, have fun, learn new things from all over the world",
          "Internet-based communication applications that involve social interactions. They can include personal accounts and professional accounts.",
          "Any sort of app where someone could view content and potentially interact with others. This content could be videos, or pictures, or posts. The keyword is social here, in my opinion.",
          "Social media is a social platform.",
          "A platform where people view/post messages, images, and videos. It also allows users to learn from others and teach as well about different things.",
          "I would define it as any of the social media, like twitter, FB, etc.",
          "I would define Social Media as a way to connect to people all over the world.",
          "any type of communication platform through the internet, like apps (instagram, tik tok) websites (facebook, reddit, discord) or gaming plattforms, like twitch, etc.",
          "Social media to me is sites like YouTube, Facebook, Instagram, etc. My son doesn't have a Facebook or Instagram account, but does watch YouTube and also plays XBox with his friends online over the internet.",
          "Any app that allows sharing between people. If you have friends and can share anything on it, it's social media.",
          "generally user generated content focused on the user, typically in the scroll or app format.",
          "Online platforms used for social networking.",
          "online platforms or apps that enable communication and networking",
          "Anything that is online that you can view media and communicate with other people on.",
          "Devices, apps and platforms that allow someone to engage with people that they do not know across a broad range of topics.   It can include taking, posting and viewing videos, chatting, joining social groups or just scrolling through content. It can be used for educational and personal reasons.",
          "I would define social media as a platform to engage socially with other individuals.",
          "Apps that can be used to socialize.",
          "Facebook, TikTok, anything app wise on a smart device.",
          "I define social media as something that she can share videos and talk to people.",
          "A way to connect people remotely tgrough an app",
          "Social media is a group of platforms where people can stay in touch, post information, and read/learn information from each other.",
          "Social media is the online version of hanging out, sharing, and staying connected.",
          "Social media are the digital platforms that enable us to create, share, and interact with content online.",
          "Online platform that allows the public to post any photo, message or content that they choose to share with the world.",
          "Social media is an online world where people can \"friend\" others and stay caught up with their lives. Sometimes it can be a good tool, and others it can be full of negativity; however, it is never appropriate for children.",
          "Being open on the internet with pictures while friending and interacting with strangers. Being able to message and be friends by others they do not know.",
          "This study is taking way longer than a single minute.    Online forms of being social in the internet 2.0 and 3.0 eras that can typically be viewed by and interacted with by complete strangers.",
          "any online or digital platform where you communicate with others in any way",
          "Online websites/apps that you can talk and interact to other people and share parts of your life.",
          "a way to interact with others",
          "Online platforms where individuals engage with each other such as Facebook, Instagram and Tik Tok.",
          "A way to view media socially and online",
          "Social media is where people can share their experiences online with friends, family and old coworkers and old military friends. There are a bunch of companies but the major ones are Facebook, instagram, Tik tok. I don't consider linked in social media, but a lot of people do. I consider it more a job posting board.",
          "Any platform that allows for someone to create posts (either text, image, or video) with the goal of sharing with others. Also, any platform that allows for chatting and messaging either through direct messages or chat boards.",
          "Social media to me if any kind of networking where you have access to other people in online profile",
          "A platform where users can share thoughts, posts, ideas, pictures and media with other people.",
          "Most of the garbage online. A place to chat and share. Meta, facebook, Pinterest, Insta, etc.",
          "an online community where people get together and share their opinions and pictures. place where is not always positive.",
          "for one it can be bad for the kid if she is on to long. two bad things can be learned. it doesnt teach the kid nothing.",
          "A place where you can connect to the world and what is going on around us.  Keeping up with friend and family and consuming content put out.",
          "Social media is a place online where you share the best moments of your life. You also connect with others.",
          "social media is made up website, apps and others that allow users to share information",
          "Social media is a place where you can connect with others, see their posts and talk to people",
          "A platform that allows for users to post text, images or videos which can be followed by other users who can view and comment on those posts.",
          "Social media is a way to connect online digitally with friends and family. A way to express yourself and meet like minded people.",
          "Social media refers to online platforms that enable people to create, share, and intereract with content and connect with others. social media is a powerful tool for communication, it also play a role in shaping public opinion",
          "its an interactive technology place for receiving and sharing ideas",
          "Social media is various online platforms and applications that enable users to create, share, and interact with content, as well as connect with others in virtual communities. These platforms facilitate communication, networking, entertainment, and the sharing of information through text, images, videos, and other digital media.",
          "An online platform where people can take place in any form of social interaction with family, friends, or strangers.",
          "Social Media is any access to others in a free space online. Social Media is an online tool that allows communication between two or more people.",
          "A platform where you can easily communicate or share information with people not in your household",
          "I define it as facebook, instagram, Youtube etc. There are apps or websites that you use to interact with others online.",
          "Social media is an online platform where you can access other people's profile and see what they are doing. We can post what is in our mind and thoughts as well. It is a place to be social but not in real world.",
          "Apps and websites to communicate with other people",
          "Websites/apps that allow someone to interact with other people, including people that are strangers, by posting images, videos or text.",
          "Social media consists of online platforms that allow users to share content, interact with others, and engage in virtual communities. These platforms enable communication through posts, messages, videos, and live streams, often fostering global connections. Examples include YouTube, Snapchat, Reddit, and WhatsAp",
          "Well, social media is a software or app that allows people to connect and interact",
          "It is the sharing of content you or someone else created. It all allows you to express yourself.",
          "websites and apps that you can create or network between people",
          "Apps that allow people to connect with others that are far away, and allows for effortless communication and monitoring of how those other people are doing in their lives based on what they share.",
          "Online interfaces that allow people to communicate with one other, sharing messages, photos, etc.",
          "I would define it as things where they interact with others directly or in a forum, such as facebook, Snapchat, YouTube, Instagram.",
          "Media that is interactive and pushes content to you base on an algorithm",
          "Social Media to me is a huge distraction and actually divides people.  I do not allow ANY social media in my family.",
          "I would define social media as a place that people go to either meet new people. Or they keep up with their friends and family there.",
          "Social media is websites and applications that allow people to connect or share information.",
          "Social media is a platform where people connect, share content, and interact online. Examples include Facebook, Instagram, and Twitter.",
          "any website or application that allows people to communicate in any form, even as simple as just sending emojis.",
          "On-line apps that allow quick or instantaneous access to online materials like photos, videos, games, chats, and other posts and advertisements.  They are a sort of online community, but  with misinformation, stupid/dangerous challenges, porn, and predators.",
          "Any app or website that allows people to talk to one other and be social",
          "Social media consists of websites & apps that allow our kids to share information whether it be through texts,photos,or videos. It is social media with platforms such as Facebook, instagram, or twitter which is popular among kids.so to sum it up is a firm of electronic communication.",
          "Social media is using the different apps available, such as tictok, facebook, youtube, instagram.",
          "Social media is a place where you can connect with people, friends and family. It can be a wonderful place if used correctly",
          "A online forum that brings together people from different backgrounds to one place.",
          "An application or website that connects you to peers.",
          "Any app or site with a large amount of users that can interact with one another.",
          "Social media is defined by me as the sites like YouTube, Facebook, Twitter, Instagram, and dnsapchat. The kids are all connected to one another all the time.",
          "Social Media is a forum where people have access to eachother and communicate. Social Media can be unsafe and misleading.",
          "Any online platforms and tools that allow for people to communicate. This includes the obvious modern platforms like Facebook, BlueSky, and reddit, as well as older tools such as USENET (although USENET has not been used much for social communication for nearly 30 years).",
          "Social media refers to digital platforms and applications that enable users to create, share, and interact with content in real time",
          "An online platform where people can engage with friends, either known in person, or not, and advertising.",
          "Social media refers to online platforms and applications that enable users to create, share, and interact with content in real-time.",
          "The various platforms that allow different people in different locations to communicate and share content with one another",
          "Social media is a digital platform that allows users to create, share, and engage with content while connecting with others online.",
          "Social media is basically online platforms where people share stuff, chat, and connect with others. It includes apps like Instagram, TikTok, and Facebook, where you can post, comment, and stay updated. It's a big part of how people communicate and keep up with trends.",
          "platforms that allow personal interactions or information sharing with groups of people who are either strangers or not personal contacts",
          "Social Media is the better way to know more about the world when it is used wisely in a right way. When it is used in a wrong way, the child's entire life will be get ruined. so, as a parents we must be aware of how our child is using the social media in a good way.",
          "Social media is an online space where people typically interact with each other and share ideas. It include apps and websites that let users post updates, videos and messages to connect with others.",
          "Various online platforms that allow people to communicate and share information. This information can be shared via text, videos, or photos. At its best, social media allows people to stay connected, increases collaboration, and enhances communication opportunities. At its worst, social media can spread negative content and has the potential to be harmful.",
          "the is a platform where we comunicate with people we know physically or meet online ,it is also a platform where know whats is going on like new, watch movies etc",
          "Social media is an online source for people to socialize.  It keeps people constantly connected through apps like Facebook, Snapchat and Instagram.",
          "Social media are online platforms where people go to give or receive information about different topics",
          "social media is an online platform which people interact with the world. here, people can make friends and interact through sharing posts, liking and calling. you can engage with friends and strangers without actually meeting them.",
          "Social media to me represents conversations, opinions, news, entertainment etc posted on an internet platform vs. on the TV or in person. Youtube, Twitter, Tik Tok, reddit and even news media site are what I consider to be social media, particularly if there is a forum attached for people or bots to leave a message or post a picture.",
          "Social media is like a buzzing café where people gather to share stories, celebrate moments, and voice their thoughts. It can feel like a warm hug from an old friend or a crowded room where everyone talks at once. It connects, entertains, and sometimes overwhelms us, but at its core, it's about bringing people together.",
          "Social media is a place online where people can create, share, and talk about content, as well as connect with others in communities. These platforms help people communicate and engage using different formats like text, pictures, videos, and live chats.",
          "social media is a digital platforms where people can create , interact and share content. They can share messages and comment on people videos or post. You can also get ideas on recipes and other infomation.",
          "Social media refers to online platforms and applications that enable users to create, share, and interact with content in real-time. It facilitates communication, and engagement through text, images, videos, and other digital media. Popular examples include Facebook, Instagram, Twitter, and TikTok.",
          "Social networks are mass media that have become a very important part of our daily lives. Knowing how to use them is fundamental because all kinds of information and content can be found on social media. It is very important to know how to protect your privacy and that of your acquaintances when using them.",
          "Any online platform/website that is used socially and the platforms include the abiltity to share media.",
          "This is an internet enabled platform where people form networks to exchange information, ideas, news or stories.",
          "Online platforms that allow people to socially connect and interact through posts, messages, and images. Provides online interaction and information.",
          "An app that lets you interact with other users of the app. This interaction can be liking posts, commenting, and via private messaging.",
          "Online platforms and applications that let users create, share, and interact with content as well as network with others are referred to as social media",
          "I would define Social Media as an online platform where people interact with many other people.  You can come across all kinds of posts from people you know and don't know.  Social Media is like an online community.",
          "Social media requires discipline and for a child you need to always give guidance and make sure he or she visits specific sites that are beneficial to her education until they are of age. For me i give myself an hour for doing a thing on social media and i  make sure i only use that specific time",
          "Social Media are sites like Facebook,  twitter and you tube.    People use them to see new things and stay in touch with eachother.",
          "Apps and websites where you connect with friends and public personas.",
          "Social media is a platform where people can create and then share their own content, communicate with others. People use it for entertainment, learning, and staying connected. Some people create, while others simply follow and engage with it.",
          "Websites or applications used to communicate with others online.  This includes sharing experiences, opinions, photos, and videos.",
          "a place on the internet where people soci",
          "Social Media is an online platforms where users can share information, connect with others, and interact with communities through various forms of content like text, photos, and videos, allowing them to build relationships and engage with topics of interest, all accessible through websites and applications.",
          "A platform where you can share photos, videos, and opinions with others.",
          "social media is a place where you can interact with others. you can send videos, pictures, and have personal or public chats.",
          "Social media can be define as an online platforms and applications that enable users to create, share, and engage with content, as well as connect and interact with others in real time. These platforms facilitate communication, networking, entertainment, and information sharing through various formats such as text, images, videos, and live streams.",
          "Social Media is something we do not let our daughter access.  Her phone is only for communication with family and friends and listening to music.",
          "It's a channel which we can communicate and connect with others.",
          "Social media is a website or app that allows open communication between people on your friends list.",
          "a place where people share there life's to each other",
          "Social media is a platform or tool that allows users to communicate, share and interact with content and information",
          "I would define social media as online sites or apps that are used on a platform to bring strangers and non-strangers together. Algorithms are used to show content based on preferences and how the app designs it.",
          "Social media are internet platforms that allow individuals to connect and engage on diverse topics enhancing communication and increasing opportunities for the population. The digital space that comes with the same makes individuals develop interpersonal relationships and focus on trending issues.",
          "Apps like Youtube, instagram, Tiktok.",
          "Great place to fellowship, to get to know people, to inspire each other.  Very interesting dynamic we live in these days.  We just need to very careful about the predators and teach our kids to be safe.",
          "SOCIAL MEDIA TO ME FEELS LIKE THE WHO'S WHO OF THE ONLINE COMMUNITY. IT MEASURES POPULARITY, SETS TRENDS, STANDARDS AND HAS REWRITTEN THE WAY PEOPLE IDENTIFY WITH THEMSELVES AND WITH OTHERS. SOCIAL MEDIA HAS THE ABILITY TO DO VERY GOOD AND LIKE ALL PARADOXES IT HAS THE POTENTIAL TO DO GREAT HARM, THIS HAS BEEN PROVEN OVER AND OVER AGAIN.",
          "Social Media to me are apps that peers and others communicate on. For instance Snapchat, tiktok and Instagram  etc.",
          "online platforms that everyone can participate in.  A place where people can post their life events for the entire world to see",
          "I would define social media as apps or websites that people use to communicate with others as a form of entertainment",
          "I define social media as a way for people of all ages to socialize nationally and internationally.  I define social media as a way of communicating with each other, but I also see social media as a way for people to lie about who they are or how they truly feel about their own lives. I define social media as an online way of life for people to hide behind a screen.",
          "Social media is a place where people can stay connected with friends and family. It can also be a negative as some post their whole lives making others feel left out, especially with teenagers. It can also be a place where people go and ask others for advice.",
          "I consider social media to be an app used to interact with each other. A place you can have conversations or post info about yourself.",
          "Any online forum that allows sharing of ideas and content amongst its users.  Any site where users benefit from having increased subscribers or likes for their activity/posts",
          "A place where individuals virtually connect. It enhances communication and self promotion. It can cause stress when overused.",
          "Social media has a big effect on kids now in day. They're always comparing themselves to what other kids have and how big their house is",
          "It is a way to socialize with others online. This includes text-based and video-based platforms.",
          "platforms that people share content on, including x, youtube, tiktok, etc",
          "Social Media is an online platform where people share photos and videos and communicate directly and indirectly with others.",
          "apps and websites that allow users to post their own content and see content from others online. they also can communicate with others right publicly or via private messages.",
          "I would say this is any online activity where they are able to interact with others. Or it can also just mean that they are exposed to others online and have an online presence of their own.",
          "An online site that involves seeing other's \"profiles\" and posts/comments, as well as having the ability to reply, comment and communicate with them.  The \"others\" could be anyone from a family member to a friend, to a complete stranger or organization.",
          "Social media is any online platform.These platforms allow my daughter and her peers to connect by chat, or by gaming online. Also platforms like YouTube are used to self-educate her about a variety of interesting topics.",
          "Social Media is website and application that allow users to communicate and share information with one another.",
          "any online platform used for people to connect with each other and conversate",
          "websites that allow you to post pictures and videos of your life.",
          "Social media is recreational but often a great learning tool.",
          "Social media is a platform or website where people can create, share, and interact with content, like photos, videos, and messages. It helps people stay connected, share ideas, and follow news or trends. Examples include Facebook, Instagram, and Twitter.",
          "Any form of contact/connection with acquaintances and strangers digitally or electronically",
          "A place where you can communicate with other people about various topics on different platforms.   A place to make creative content to share with others.",
          "Instagramm, til toc, youtube, message boards",
          "social media is a way to communicate online using websites and apps.",
          "i think that it is a platform that allow people to share, create and interacts with other people on the platform. it also a source of entertainment for many of us. in some way release stress as well",
          "Social media refers to digital platforms and applications that enable users to create, share, and engage with content in real-time. These platforms facilitate communication, networking, and community building through various formats such as text, images, videos, and live interactions. Examples include Facebook, X (formerly Twitter), Instagram, and LinkedIn.",
          "social media is a virtual world where people interact",
          "I would define social media as a way for people to connect.   On some social media that means reconnecting with old friends,  on some that means reaching out to make new friends or connections.  As in real life, some of these connections are healthy and some are not.",
          "I define social media as anything that allows content uploads from individuals and allows comments/viewing from others.",
          "Social applications where people connect/socialize, earn money, and act ridiculous.",
          "Social media are programs online that connect people via posts, videos, music, etc. They include Reddit, Instagram, TikTok, Facebook, Twitter, and others. Social media, because they are online and mostly anonymous can be helpful in accessing lots of different viewpoints, experiences, etc. but can be problematic because people sometimes act poorly and people are not always aware and experienced in using critical thinking to use them.",
          "Instagram, Facebook, Tiktok, Youtube",
          "Applications that people can use to connect with friends online.  Also used to share interesting content with their friends and family",
          "Social media is a platform where you can post about your life, whether it is video or photos, and others can do the same. You can decide who sees your items, choosing either public or personal, on some platforms.",
          "I think of social media as the modes of entertainment that surround the world we live in.  From the apps and live videos that we watch throughout the week, to the constant being inundated with messages and alerts to the various areas in our lives that we allow on a regular basis, it is what keeps us involved.",
          "Any app where you can communicate with other people.",
          "A platform where the public or groups of private individuals share entertaining content for others to engage in outside of private messaging and group messaging. The other members of the social groups can often see who is connected with whom.",
          "Using apps such as tictok, X, etc. Interacting with friends on devices, and using smart phone to track friends activity.",
          "Online platforms or apps where people can communicate and interact with each other in various ways, either through text information, photos, videos or a mix of all of those.",
          "Social Media is a downfall for our society. The lasting impacts on our youth mental health will be studied for decades.",
          "A pox on humanity. An out of control virus that is irreparably harming generations of children.",
          "Any online platform where someone has the ability to post and interact with other platform users.",
          "Social media is any cellphone app or website that promotes their product via social interaction such as games or personal pages to share with friends, family, or the general public.",
          "Social media to me refers to the various apps or websites that people commonly use to communicate with each other and share information about themselves.",
          "Online content that is curated and distributed by society",
          "A platform in which people can communicate with each other, view other peoples profiles and share stuff.",
          "Apps like snap chat and instagram",
          "Social media is a way for kids nowadays to stay in touch with and communicate with their friends. It is a necessary evil.",
          "Social media are digital platforms that allow individuals and companies to advertise (share) directly to an individual or groups of individuals.",
          "define is a platform is where we all go to meet new people,keeps us updated about whats happening around us,inshort it the best thing that has ever happened to mankind but also the worst thig that has ever happened to mankind",
          "Social media refers to online platforms and applications that enable users to create, share, and interact with content, as well as connect with others in real-time. These platforms facilitate communication, networking, and community building across various formats, including text, images, video, and live streaming. Examples include Facebook, X (formerly Twitter), Instagram, LinkedIn, and TikTok.",
          "Social media is a way for people to interact and communicate. I often see my child's activities because I can access his social media from his devices when he's not home.",
          "Social media refers to digital platforms and applications that enable users to create, share and exchange content, as well as to interact with one another in virtual communities.",
          "Programs/apps that allow people to share ideas and information",
          "A platform where a multitude of person display a version of their lives they want others to see.",
          "I fond social media toxic, addictive and a time waste.  We are all so obsessed is sad.",
          "Social media is any digital communication technology that involves mass communication beyond what simple messaging allows.",
          "I would define Social Media as apps that connect people to others through posts which are updated often.  The posts can contain pictures or words.  The ability to comment on a post is a defining feature of social media.",
          "Website or app where you can interact with friends and family",
          "Any sort of platform where one can comment and see what friends are doing",
          "Social media are online platforms that allow consumers to share information and consume information shared by others.",
          "Online space with life connections such as friends and family. Like a public  or private journal.  Facebook, Twitter are examples.",
          "Any online platform that has engagement with others. Social media are platforms like instagram, tik tok, Facebook",
          "Social media is an online platform where people connect, share, and interact through posts, photos, videos, and messages. For teenagers, it's a space for socializing, learning, and self-expression, but it also comes with risks like exposure to inappropriate content, cyberbullying, and pressure to fit in. As a parent, it's important to guide our teens on using social media responsibly while maintaining open communication and setting healthy boundaries.",
          "Any type of electronic interactive media that permits the interaction between people.",
          "Online platform used for engaging with other people either through written text, photos, or videos.",
          "internet entertainment",
          "Media that encourages postings and sharing from a personal perspective. Tracks behavior via algorithms and feeds information. Eg tiktok, Facebook, instagram, x etc.",
          "social media is part of the internet that has to do with social interactions between internet users.",
          "Platform for online entertainment and networking.",
          "An online space when strangers and friends post images or text.",
          "Social Media is a broad term associated with various applications and websites used for communication, social engagement, content sharing, and gaming.",
          "mostly a waste of time I just can't stand all the drama but as far as for friends and family it can be important to stay in touch and to know what's going on",
          "It's overrated, controls kids too much, alot of negativity!! I plan on getting her out of house and off phone soon! ENOUGH is enough",
          "An online social network where people can engage digitally with other people and companies and interest groups.",
          "social media is different sites and apps that allows people to communicate with each other, as well as share content.",
          "Any online communication platforms where people can post photos or comments.",
          "I think social media includes all the phone apps that allow communication or posts. Too many to enumerate.",
          "As a parent, social media can be seen as a digital platform where people, including kids and teens, connect, share, and communicate through text, images, and videos. It's a space for creativity and interaction but also requires guidance to navigate its opportunities and challenges responsibly. For families, it can be a tool for connection or a concern depending on its use.",
          "tick-tock, instagram, facebook, linkedin, reddit, that's what I can think of for now",
          "I would define social media by using snapchat, tiktok, instagram, and twitter. These platforms allow for communication and expression of self and is helpful to meet people.",
          "Any app or website that allows users to post personal pictures, stories, updates. etc.  The public may have the ability to interact with the posts. Likes and Friends and Thumbs Up are inportant.",
          "Social media poses risks to children's mental health, as exposure to curated images can lead to feelings of inadequacy and low self-esteem. Cyberbullying and negative online interactions may further increase anxiety and depression. Parents need to monitor social media use and foster open conversations about online experiences to mitigate these harms.",
          "A distraction from beneficial things. Gossip, leading to resentment.. potential damage relationships",
          "Online platforms where people and businesses share media (content), respond and react to one another's shared posted media, and communicate with one another.",
          "Easily accessible 24/7 online platforms where one can socialize, meet new people, learn, showcase content and receive entertainment.",
          "Platforms that let one put out videos or photos, that the public can see.",
          "online platforms used to socialize. also to study content they find of interest.",
          "Apps/websites designed for connections to others where anything can be posted/said.",
          "Apps to read or post content on the internet.",
          "Social media connects you to others in many ways.  Instagram, snapchat, facebook, are typical ways. However, they will even use Pintrest, youtube, running apps, to connect.",
          "any platform that allows you to connect with people",
          "Social media is generally internet communities where users can connect with friends and strangers, share news, opinions, photos, videos, and look at what other users have posted and shared.",
          "Apps or website that allow people to share about their lives or interact with friends.",
          "Websites and applications that allow you to interact with others. You can share ideas, likes, hates with people from all over the world. Allows you to engage with communities of people that have same interests as well.",
          "It is connecting with others via an electronic device.",
          "any online form used to communicate with others",
          "social media  is any online communications.  it is a way for people  especially distant family  and friends to interact  when they're apart. this allows closeness in long distance relationship",
          "Access to an outside world without limits",
          "An internet platform which main purpose is to enable communication with peers.",
          "Anything that allows my child to interact with others. Snapchat. Instagram. Texting",
          "online platforms with users who make choices to connect to one another sharing different aspects of their lives",
          "Being online and sharing whatever is on your mind or what you're doing, or watching videos. Almost anything online now is social media. aside from gaming",
          "a place where my child can be creative and express themselves and also find communities with the same interest and hobbies like them but keep up with and update family with what is going on in their lives",
          "Online entertainment and ways that people communicate",
          "Any type of online format where you can engage with others. A platform that contains posts, videos, etc., that can be interacted with and viewed by others.",
          "Twitter, tiktok, facebook, pinterest, instagram, snapchat",
          "I define social media as websites and apps people post videos, pictures and life updates of themselves?",
          "Online social apps/websites like Reddit or Tumblr",
          "Social media can be good or bad, It can help with problems and questions about different things. It can alos be bad because everything you can think of is on there.",
          "Apps that promote propaganda in various topics with people commenting/posting about personal stuff",
          "Any online platform that allows people to communicate.  It encompasses a wide variety of platforms, including social networking sites, video-sharing platforms, and professional networking sites. The content shared can range from text, photos, and videos to live streams and interactive posts.",
          "Crap and brain rot",
          "Media where people can go to connect online with other people, through posts, messages, or videos.",
          "YouTube, tik tok instagram",
          "Junk, mostly. And I say that as an avid user of several platforms. Seriously, it is any app or site that allows an agglomeration of people to communicate in some way and share information (and be propagandized and advertised to).",
          "Online pages with communication between users.",
          "Media that is online and it has news or other types of online information but through individual influencers.",
          "I define social media as a way to manipulate the people that use it. I think people cant think for theirselves these days with out the use of social media.",
          "ONline forums for sharing engaging in shared interests and ideas.",
          "It refers to online platform or tools that allows users to create, share, and interact with content or information. The platform enables users to connect, communicate and collaborate with others globally, facilitating the exchange of ideas, experiences, and information.",
          "a platform able to connect with friends and family you dint see often",
          "Social Media includes many platforms that can be used to make connections, keep in contact with friends and family, and showcase talents or express ideas and share knowledge.",
          "Social media is a bunch of online platforms where people can share stuff like photos, videos, and messages with friends and followers. It's a way to stay connected, see what's happening in the world, and interact with others. Examples include apps like Instagram, Snapchat, and TikTok.",
          "It can be a great learning tool. It can also cause a lot of problems.",
          "I would define social media as any media with a social aspect such as the ability to post and share things with others.",
          "These are applicatons - mostly on cell phones - that facilitate communication by way of text or images among friends and strangers.  This can be information sharing or just simple conversation.",
          "It is a place to have fun, share your life, have discussions, find out about the world and each other.",
          "The various platforms that allow people to interact, engage and publish content comprise the social media.",
          "Social media are platforms that people use to \"connect.\" Social media is all fake, and basically poison.",
          "social media is any information provided by sources other than news outlets. can be a single person or an entity",
          "Social media refers to the means of interactions among people in which they create, share, and/or exchange information and ideas in virtual communities and networks. The Office of Communications and Marketing manages the main Facebook, Twitter, Instagram, LinkedIn and YouTube accounts.",
          "I would define it as online communication where people post about their lives.",
          "Any media that is controlled by the users.  I count youtube, snapchat, instagram, facebook, discord, etc.  My child has access to all of these but we constantly discuss what goes on on the apps.",
          "sites that you are able to talk to other people including family friends and even people you dont know on an app or web site",
          "commonly used online platforms which allow for people to interact with each other in various ways such as live chat, messaging, and in comment sections",
          "Social media refers to digital platforms and applications that enable users to create, share, and interact with content in real time. These platforms facilitate communication, networking, and community-building through text, images, videos, and other multimedia formats. Examples include Facebook, Instagram, Twitter, LinkedIn, and TikTok",
          "Sites where ppl can communicate/socialize in real time. Sites where you can post pics, share links, send private messages. A place that can be bad for self esteem as ppl compete for likes, retweets, and followers",
          "this means any website where there are other people sharing things about themselves. it also means any website or app with open communication with others. I also think this means uploading videos and pictures of yourself on a website. anyplace that teens get together and share aspects of their lives and make friends.",
          "I define social media as a connection to friends and family.",
          "I define social media as having access to apps like Facebook, Instagram, SnapChat and TikTok. My son also looks at Youtube a lot.",
          "social media is a platform where people connects with loved ones and also a place where people share ideas and innovatioons . it also enhance the rate at which people broadens their scope in the acquisition of knowledge as there arwe platforms to learn and unlearn from",
          "It is a medium through which individuals interact with the world and get information through communication.",
          "social media are apps where users are allowed to create share and post social contents for entertainments, and information purposes",
          "Social media refers to online platforms and applications that allow individuals to create, share, and interact with content, as well as connect with others through digital communication and networking.",
          "It is an online platform for social interactions and entertainment purposes.",
          "ALLOWING ON APPS SUCH AS FACEBOOK, SNAPCHAT AND INSTAGRAM.",
          "Any type of social website/app such as facebook, discord, snapchat, X (Twitter), instagram,",
          "Connecting via internet or phone with people you know. Watching what other people are sharing via a website.",
          "Facebook, TikTok, all the dating apps, twitter (X), Intagram, WhatsApp, etc.",
          "applications that allow users to create, share, and interact with content, such as text, images, videos, and links. These platforms facilitate communication and social networking, enabling individuals and organizations to connect, collaborate, and engage with a wide audience. Examples include Facebook, Instagram, Twitter, and LinkedIn",
          "Social media enhances communication between current relationships and making new ones. If used properly, you can also gain knowledge about new topics, and even have new experiences. But, it can also manifest crimes, such as identity theft, so it's always important to be aware of what my child's involvement, and at the same time, keep communication open to talk to both us. It's a blessing that we never had any issues on social media over the years, and he's usually very open with us.",
          "Platforms where you interact with others online.",
          "Social media platforms such as Facebook, Twitter, YouTube, etc., that allow people to freely communicate and exchange information and content.",
          "its an online gathering place where people can connect, share ideas and communicate with each other.",
          "Apps used to connect with friends.",
          "social media are websites programs that allow people to communicates and share opinions among themselves",
          "exploring the world through social media",
          "i think social media can be great if only monitored by parents for minors",
          "Anything that they can have conversations in real-time with others",
          "A platform where people in society share their opinions, beliefs, and ordinary everyday happenings.",
          "educating platform",
          "Social media are apps that allow people to interact with other individuals online.",
          "Instagram, Facebook, Snapchar, YouTube, etc.",
          "Online interactions with other peers or influencers.",
          "I define social media as a place people can show their creativity or share their thoughts",
          "Social media refers to digital platforms and tools that allow individuals and organizations to create, share, and interact with content in real time. These platforms enable users to connect, communicate, and build online communities, often through text, images, videos, and other multimedia formats. Social media has become a key aspect of personal expression, business marketing, and global communication.",
          "A tool to interact with people and find out whats happening around the world",
          "communicating with people online, seeing what othes are doing in their lives and talking to them and stayiong in touch with others on the internet",
          "apps online like facebook, Instagram, and snapchat",
          "Social media is a way for people to stay connected with friends and family and share content that's important to you. It's also an outlet to find information on topics that interest you.",
          "forms of electronic communication with other people or entities.",
          "Social media is a method to things about others and ideas online.",
          "An app or platform that allows for the exchange of information and communication among those using the platform.",
          "Part of the internet. people usually follow each other, Collab on videos, make video on life experience",
          "Social media refers to online platforms or tools that allow users to create, share, and interact with content, information, or other users in a virtual environment.",
          "Social media refers to online platforms and applications that enable users to create, share, and engage with content, as well as connect with others in virtual communities. These platforms allow for communication, interaction, and the exchange of information through text, images, videos, and other multimedia. Examples include Facebook, Instagram, X, Snapchat, Thread andd LinkedIn.",
          "Is a medium of communication on the internet where people can communicate with each other using text, photos and videos",
          "A digital hangout where my kids get together and play games with their friends. it is also a different means of communication and entertainment with short videos about any subject you can think of.",
          "it is a space that can be accessed with internet and contains almost everything that can be thought of",
          "Social media refers to digital platforms and applications that enable users to create, share, and engage with content in real time. These platforms, such as Facebook, Instagram, Twitter, and LinkedIn, facilitate communication, networking, and community building among individuals and organizations worldwide. Social media plays a crucial role in information dissemination, brand promotion, and social interactions, shaping modern digital culture and engagement.",
          "this refers to the online community where people engage through various applications designed to enable interactions between people wirelessly either through virtual calls,video calls,instant messaging etc",
          "A place to keep in touch with friends and family, to be entertained, to learn about new topics, to get news, to goof off with friends. I think it can be good and bad depending on how the algorithm is for each individual.",
          "Social media refers to online platforms that allow users to create and share content, connect with others, and build communities. These platforms foster communication, collaboration, and information sharing, influencing how we interact and engage with the world.",
          "I would define social media as anything with online social interactions, which can be something like Facebook, X, Snapchat, TikTok, or watching and commenting on Youtube videos.",
          "a online forum.to post videos and interact with strangers.",
          "an app or website where you use to socialize",
          "Social media refers to an interractive  online platforms and applications that allow users to create, share, and interact with content, as well as connect with others. It includes websites and apps like Facebook, Twitter, Instagram, and LinkedIn, enabling communication, entertainment, and networking on a global scale.",
          "Social media is a digital platform enabling user interaction, content sharing, data exchange, and network analysis.",
          "social media is a communication platform and also a content sharing platfrom.",
          "Social Media includes a wide assortment of websites and apps. Social Media can be apps like facebook where you can be friends with people you know in real life and follow their life updates but it can also be apps like Reddit which are usually anonymous discussion forums.",
          "Social media is an echo chamber for kids and adults to post things hoping to get attention. They care very much about how many likes and comments their posts get, which is the modern version of social popularity.",
          "Social media is online platforms where people share photos, videos, and messages to connect with others. It's a space for communication, entertainment, and staying updated, but it also requires careful monitoring for kids to ensure safety and balance.",
          "Social media encompasses online platforms that allow users to connect, communicate, and share content in real time. Examples include Facebook, Instagram, Twitter, and TikTok",
          "Social media is any platform that allows for people to communicate thoughts, ideas, or anything really.  It's usually a group setting, where their friends can join, and they can also meet people online even if never in reality.",
          "Any online platform used for social engagement",
          "Social media can be defined as activities on the internet such as making friends (social) on the internet platform.",
          "Social media is basically online platforms that enable people to communicate and interact with one another in the digital world. They can create communities where they share messages, photos, videos and other relevant information.",
          "Social media are platforms that allow communication between people and groups.",
          "Social media is any site or app that has a \"social\" purpose, such as Instagram, Be Real, Locket, Facebook, etc.",
          "educating platform",
          "Social media consists of online tools and sites that let people interact by producing and distributing information instantly. These platforms allow for communication, building connections, and sharing various types of content like text, pictures, and videos, as seen on sites like Facebook, Instagram, Twitter, and TikTok",
          "Facebook",
          "any site that has peer to peer socializing",
          "going on facebook,x,or any other social media apps.",
          "services that allow you to connect with other people. usually open to anyone on the internet. sometimes orchestrated by the service's algorithms.",
          "Social media are websites or applications that people share content, information, images for socializing. It can be Facebook, Instagram, SnapChat, Youtube that the kids generally will use.",
          "Apps like facebook , X, Meta etc.",
          "social media refers to online platforms and applications that enable users to connect, interact, and share information with each other through the creation and distribution of content like text, photos, videos, and more , facilitating communication and community building across the internet",
          "Online apps and sites that connect people in various ways and for various reasons:  texting apps,  workout apps, photo sharing, friendship, influence and entertainment, and much more",
          "As a parent, I would define \"Social Media\" as digital platforms where people, including children and teenagers, can connect and communicate with friends, family, and like-minded individuals through sharing posts, photos, videos, and messages. These platforms, such as Facebook, Instagram, and Twitter, have become an integral part of our daily lives, shaping how we interact and stay informed. Social media can be a powerful tool for staying connected but also requires mindful use to ensure a positive and safe experience for our children.",
          "Social media is has both good and bad sides. It can be beneficial and educational. And it can also have a negative impact on a child's self esteem as well as giving them a false sense of reality.",
          "Various on line platforms that allow for vague social connections to occur through a variety of communication devices.",
          "I define social media as entertainment.  Social media effects different people in different ways.  It may be hard for some to differentiate reality from true life based on posts.",
          "Social media use involves using platforms like Facebook, Instagram, and X to share information and ideas, and to interact with others.",
          "Social media refers to digital platforms and tools that allow users to create, share, and interact with content in virtual communities and networks. These platforms enable users to connect, communicate, and engage with others by posting text, images, videos, and other media. Some of the most popular social media platforms include Facebook, Instagram, and Tik Tok.",
          "Online platforms that enable users to create and share content and interact with each other.",
          "An online connection to information about people, places, and things.",
          "controlling and evil",
          "Online connections. Use of apps to communicate with friends. Online sources of news",
          "Watching influencers, funny videos, getting contact with people like you, get in contact with friends/ family. Play video games with other people, join groups and talk to like people about things you like are are interested in like them.",
          "Somewhere to go and see what everyone is doing in their lives and to keep up to date on family and friends",
          "Social Media is websites and apps that allow people from across the world to communicate with each other. Communication happens in both public and private sppaces.",
          "i think it is something that has started to destroy us...it is not necessary for any reason other than to compare cut down and spread lies...it is beyond us as humans to use it wisely",
          "Its an online platform that helps you keep in touch with friends and family",
          "Discussion forums where people can post thoughts, memes, etc. Or chat.",
          "Being able to access Instagram, Tik Tok, Snapchat, Facebook, movies, videos,",
          "Social media would be any online social hub in which a person can interact with their friends and family. It can also be a source of entertainment when reading and watching some content.",
          "Apps where anyone can post almost whatever they want to in terms of comments, thoughts, videos, and/or share what other people have posted. Social media is a communal space so there is a wide range of topics, attitudes, and beliefs being shared.",
          "Social Media is the use of the internet to browse, and interact with people that you may or may not know. Social media has little restrictions and is not heavily monitored.",
          "Any app or website where people can see each other, connect with each other and communicate. Can include communities and groups as well as images, videos, content.",
          "It's a place where you can make friends, see what others are doing, and learn new things",
          "TikTok, Twitter, Facebook, Instagram, Reddit, Omegle, etc. Anywhere where you can interact with others online that can be people you know or people you have never met.",
          "group communications allowed and enhanced by web technology",
          "An outlet to stay in touch with old friends, new friends. Allows you the freedom to speak what's on your mind and post pictures, video's etc.",
          "Online sites where people share posts about their life, interests, family and more. It is a good way to see lots of fun stuff, like puppies.",
          "Digital places where people can share what they like and see what other people share whether it is through messages, pictures, videos, memes or any other form of communication.",
          "Online platforms that foster interaction and engagement with other people, typically with text, pictures, and videos.",
          "Applications like Facebook, Instagram, and TikTok that allow people to converse online, not in real-time.",
          "Social media is an open information. Just any kind of information, events, news, trends, etc. Social media is the kind of information that you can get practically online.",
          "Media that is used by society. It can be used to gather information. It can be used to keep up with friends.",
          "social media is a tool for keeping track of friends and loved ones. it started that way at least. i'm not so sure I like it much anymore. there are far too many opportunities for kids too be bullied, lose their self esteem and possibly be even physically hurt do to an interaction. there is a lot of negativity on there.",
          "online apps including tik-tok, instagram, snapchat, etc. It could maybe be extended to include video game chatrooms.",
          "Apps or websites that let people interact with people. Examples would be Facebook, Twitter, Instagram, etc.",
          "Applications on smartphones and laptops that allow people to communicate with pother people without actually being in the same place. A place to share ideas, opinions and interests with other likeminded people.",
          "A website where people communicate with each other and have access to world news and media",
          "Social media to me means apps that you can connect with other people. You can also watch videos & learn new things. You can also watch & listen to other peoples views on current events.",
          "This form of media aims to connect individuals from various cultures and locations across the globe.  This media allows said individuals to communicate and share information without being in the same room or nearby.",
          "Social media is where people go online to share their thoughts, photos, and videos, and stay connected with friends, family, and communities",
          "I believe in this day and age it is a necessary evil. We need it to stay connected but we have to stay vigilant and watch out for predator's. Educate yourself (and your children) on the toxicity that is social media.",
          "Social media are platforms people go on when they want to socialize and meet new people, or catch up",
          "online platforms that used for communication, and sharing of data like photos, videos and comments.",
          "Social Media can be both: good and bad, depending on how it's used. In now days we are so addictive we almost can not survive without SM. i am happy and same time not happy that we have it. Happy that I can find anything I want, not happy because I see so much tragedies, bad news and it makes me depressed.",
          "Content created by peers and influencers to express some sort of pop culture expressions or opinions about life.",
          "Social Media is online content from various applications that connect people to information created by people and companies. The content contains company advertisements, news, and personal stories posted online to different platforms.",
          "Online interaction with others.",
          "Tic tok  Instagram  Snap chat",
          "Social media are apps or websites that connect the user with the greater society and friends.",
          "Online platforms where you connect with others, and can message others directly, but also post more broadly to your community of selected friends or the public at large.",
          "anything my child can connect with other individuals on, so instagram, Facebook twitter, YouTube, Tik Tok, reddit, forums, etc.",
          "Ways to create content, keep in touch with people, and learn about things that are happening",
          "communication with the outside world where you would have never seen before. Ability to keep up with the latest trends with just click of a few buttons",
          "I would define it as a way to digitally communicate and engage with people and groups.",
          "A platform that allows posts, and grading of pictures or events with a thumbs up or down",
          "a platform for communication and sharing of common themes",
          "Social media is a digital space where people connect, share content, and engage in conversations across various platforms. It serves as a tool for communication, networking, and marketing., shaping the way individuals and businesses interact with the world. While it offers opportunities for connection and exposure, it also comes with challenges like misinformation, privacy concerns, and the impact of constant online engagement.",
          "A place where people can connect over shared ideas and interests. However, it has been watered down with fake profiles and dishonesty.",
          "any web site they can chat with friends on.",
          "Social media is a way for people to communicate with others. It can also be a learning tool if you are on a social media platform and learn about something that someone may have posted. When I think about social media and how many hours a day people spend on it, I often wish that social media never existed. I think the world was better off without it. People actually used the landline telephone to contact a friend or family member. They also weren't afraid to communicate face to face unlike so many people are today.",
          "I think it has negative influences. I think kids shouldn't spend so much time on social media. I think it takes away real life human interaction a lot of times.",
          "I'm 50-50 on this some social media is good. It helps them create dialogue and interaction with each other and that's just the way it is because of the new technology that we have these days for our youth. So it's good for them to get acquainted and to get involved in communicating with each other, and I think that it sets a good stage for the rest of their future. Now having said that do I wish it was this way no, I do not. I'm from the time where you worked every day with your hands you got up you went to work and these days it's not like that anymore. But I'm not going to deny my child a good future just because I don't like something.",
          "The ability to share personalized content and memories to the world. The ability to see other people you may know or that are famous, content and memories as well.",
          "Social media is a platform where you can learn, and meet people on",
          "online site for viewing",
          "social media is very addictive. Sometimes people are cruel to other people on Social media. But there is also alot of good with Social media because you can keep up with friends and family.",
          "Phone apps such as TikTok, Snapchat, Instagram, Facebook and X",
          "Social Media includes various platforms where individuals can interact through various means of communication.",
          "A place where people from all over the world meet to interact or keep each other updated on what's going on in their lives and where people are kept up to date with different happenings worldwide.",
          "I would define it as a website where people can join and create accounts to form a connection they may not have in person.",
          "A platform where they can connect with others online and can share content about themselves.",
          "Social media is online interaction and platforms that exposes my child to any kind of life experiences thru a social network they can interact with,",
          "apps or sites on which people connect with others via posts, photos, and comments. may connect with people they know in real life or strangers, often with similar interests.",
          "Social media is comprised of websites and apps that allow for electronic interfacing between individuals and audiences.",
          "Social media are online platforms designed to virtually connect people and share experiences.",
          "Social media is away for people to connect through shared interests. It provides a means of communication and exploration.",
          "Engaging various websites either through computer or apps on a smartphone/tablet for the purpose of connecting with others in a social environment.  The most commonly used apps would be;  youtube, facebook, snapchat, instagram, tiktok.",
          "Apps that you can share things about yourself and read things about others and connect. Apps where you can develop and maintain long distance friendships",
          "Social media are those web based or app based programs used to connect with friends and family, other organizations, celebrities, and topics of interest.",
          "Web sites where a community of people talk to each other through words or videos.",
          "Social Media is a way that people can connect and communicate with each other virtually. There is no need to meet up in person when you can meet up with friends on social media. It is a way for people to be entertained when they are bored.",
          "a place online where people from all over can interact and communicate",
          "application where anyone can write anything",
          "Applications where you interact with other people based on a variety of interests or commonalities",
          "a online forum that lets you engage with other people.",
          "platforms on your phone and computer that are for socializing with family and friends.",
          "Any of the online platforms where you can interact with other people and directly or indirectly communicate.",
          "A platform where you can talk with or work with different people throughout the community and gain access to and or learn new information",
          "Any app or website where you have a username and a list of contacts that you communicate with through the app or website",
          "Social media is any online platform where information and ideas are freely shared between users",
          "Social media is online platforms like Facebook and Twitter. Members share and create content to share with others.",
          "A place on the internet where you keep up with friends, family, loved ones, and co-workers. Sometimes look for relationships/ love.",
          "Anything posted by another person.  Examples include SnapChat, Facebook TikTok, Lemon8",
          "Social Media is the usage of app such as Snapchat, Instagram, FB, and Tik Tok. These apps allow people to socialize and have a glimpse into others' lives. It is also a means of communicating with \"friends.\"",
          "An ever growing cesspool of soft porn, political theater and distractions from reality.",
          "Social media are the different platforms now a days available yo keep in touch with friends and others .they can be access via cell phone, or computers",
          "Social media includes engaging with people in online platforms. Engagement ranges from viewing content, commenting/liking/saving/sharing content, and posting/creating content. While it's \"social\" it is not constrained to just people who you know in real life but can be ANYONE.",
          "Social Media is a lot of different things. It is a big online meeting place. It is a place where thoughts and ideas can be shared. People can share products and teach others things. Social media can be a not so positive place as well. There are people who will prey on others or bully others.",
          "Social Media is a great opportunity to help children grow, only if it is used in the right way. This can be a great advancement to children that have special needs,only if it is used responsible.  This is an opportunity to let some children feel like they are involved in things that other children are able to do, makes children feel accepted and this is great.",
          "technology that allows you to stay in touch with friends and family. it allows you to communicate and share what is going on in your life, and she what is going on in others.",
          "Facebook, instagram, X.  All are social media apps.",
          "Commercial websites that allow users to connect with other users (that they may or may not know in real life) and share images, text updates, and other information with each other. These can also be online communities of like-minded individuals who may not know each other in real life.",
          "Apps that are used to communicate in some way to other people through viewing, liking other people's content.",
          "Social Media is application  such as: Instagram, Facebook, and  Snapchat",
          "Any kind of application or platform where people can share photos, ideas, etc. and has messaging capabilities or comment features.",
          "Media platform where others can provide content and interact.",
          "Media that is meant to socially connect with other users on an online platform.",
          "I would define social media as places online that encourage and promote and allow people to leave comments or engage with what someone else has to say. This would include places where people can comment on something, as well as places that allow people to contact each other directly or interact with someone's posting directly online.",
          "Apps such as SnapChat, Tiktok, IG, YouTube, facebook and Twitter",
          "Social media is Facebook, snap, Instagram, etc.",
          "social media is any online social platform",
          "I would define social media as a fantasy land.",
          "Social media is very addictive and a bad influence for the younger generation.  It can be predatory.  It should be primarily used for business purposes.",
          "Media that allows other people into your lives via the internet",
          "Social media are apps such as instagram, facebook, tiktok where you follow content creators.",
          "Accessing any of the apps that include: Facebook, Instagram, Snapchat, Twitter, and I'm sure there are more platforms I am unaware of. It's a platform to communicate with others, sharing info, and viewing news and other interests.",
          "Facebook, tic tock snapchat. things for people to share thier life online",
          "Any type of site that connects the user to other users. Sites that either have you observe others or communicate with others and share photos and information.",
          "being online interacting with others whether words pictures or calls",
          "Platform for people to interact. Many families, people and groups.",
          "Media that is peer based",
          "Sites where personal activities, accomplishments and events are posted and available for others to view.",
          "a place to connect socially",
          "It can be good sometimes when you are chatting with family and friends. It can be bad sometimes because of bad content being put out there that is not good.",
          "Social media, from my perspective, would be defined by anything being media content (usually online) that is meant to be shared with people that you socialize with, or even do not regularly socialize with.",
          "Something that was meant to connect us, but has only driven a wedge further and further into society.  It was a great idea till politics got involved.",
          "Facebook, Instagram, Tik-Tok, Snap chat.  Any media or app that involves communication with other individuals.",
          "Social media is a platform that allows for interaction with others.  It can include people you know. It can also include people you do not know.",
          "Social media refers to interactive technologies that enable the creation, sharing, and exchange of information, ideas, and interests among virtual communities and networks.",
          "social media is being able to interact with other people in an online platform. whether it be through text messaging video call phone calls it is also a place to post kind of like a daily journal or just random things that are happening to you pictures also stories or videos.",
          "People posting mostly only highlights of their lives which gives a very biased perception of their lives to others which may lead to others feeling less than.",
          "Social media is online individual and group visibility with commentary.",
          "social media is a platform to connect with people you know and have known throughout your life. You can also meet new people here.",
          "Social media would be a method of communicating through apps and websites. Snap, instagram, facebook, tiktok, etc...  So websites and apps that are mostly used for social engagment.",
          "Social media is online platforms where people connect, share content, and interact in real time. Facebook, Instagram, and TikTok, where people post photos, videos, and messages. Basically, it's how people stay in touch, express themselves, and keep up with what's happening.",
          "Online app or website that allows for interaction and data sharing.",
          "It's a way for kids to communicate with one another.  It also keeps them up on what they're doing and when they're doing it and with whom they're spending time.",
          "it's where people connect and talk online. that could be by messaging,video, or voice. anywhere online from Facebook, Twitter, reddit, YouTube.",
          "A way to connect with other people online. A form of online entertainment or news.",
          "Apps of websites that keep people in touch with others, advertise something or someone, a platform to tell about ones self, to keep photos or timelines of certain things.",
          "I would define it as access to modern online entertainment, libraries, and communication through the internet.",
          "A platform to communicate with other people.",
          "Social media is a place that has the audience and the influence both negatively and positively, dependent on how it is used",
          "Any app or website that allows you to communicate with others socially or professionally.",
          "I don't like it at all. I think it can be a brag board for some people and can make other people feel bad as though they have less or are doing less.  It can let people know all the activities they are doing and you or your kids aren't included - resulting in your kids feeling left out or that their life is less interesting. I honestly see more negatives than positives.  Everyone is on their phones all of the time. No one talks to each other.  No one calls anyone. Text or not talk at all. It's a quieter world",
          "I define social media as any application that allows online interaction between people, such as facebook, instagram, snapchat, etc.",
          "A platform where you can interact with friends online.",
          "Instagram, Facebook, Discord, Snapchat, TikTok, Youtube",
          "It can be a good thing and bad thing. There are some educational and informative things on there. But there are also things on there you don't want your children to see.",
          "websites and apps where people are social and communicate with one another",
          "Social media refers to digital platforms and websites that allow individuals to create, share, and exchange content, ideas, and information with others in virtual communities. These platforms enable users to interact with one another through posts, comments, messages, and multimedia like photos and videos. Popular examples include Facebook, Instagram, Twitter, LinkedIn, and TikTok.",
          "Anything that allows the user to post something online where others can see it.",
          "Online environments that people utilize that expand your social interactions with others, virtually.",
          "Media that is primarily delivered by non-official media sources.  Mainly people posting and interacting with other people.  There are companies who are legit news sources that operate on social media platforms.",
          "tick tock messenger Facebook social apps like that I let them use but I do monitor it regularly",
          "Any type of app that allows communication or connecting with other people.  This could be communicating directly or posting about activities.",
          "It is a hinderance. A thorn in the side of society, yet has become a necessary evil.",
          "An online environment where you can go to interact with other people, businesses, celebrities, and family and friends. You can use it to share pictures and videos and also type stories and news as well to let others know what is going on in the world around you. You can also use it to shop and sell things and entertain yourselves and learn too",
          "It's a way to connect with friends and family",
          "social media betrays what people want you to know! it gives the image that everyone is living a wonderful life, but behind the scenes it's very different. social media is fake and has kept us from visiting our friends and family because we see a post we feel we are connected. social media is damaging to our mental health.",
          "Social Media is anything online that a person wants to look up or find information on anything",
          "Social media is access to more information than possibly needed for people.  It has changed the direction of the world.",
          "Social media is a digital platform that allows people to create and share content with others. Its purpose is to facilitate communication through text, videos, photos or images, and live, real-time videos.",
          "Online networking",
          "Social media is a place we learn and get to see some people who have different kinds of lifestyles,",
          "It's a online platform  that allows people to  communicate with family and friends and to share opinions and ideas. To receive and share information through online networks and communities.",
          "a learning venue able to research interesting items , relaxation listening to music and watching videos, ability to socialize with people from all over the world",
          "Social media refers to online platforms and applications that enable users to create, share, and engage with content while interacting with others. These platforms facilitate communication, networking, and community building through various formats such as text, images, videos, and live streams. Examples include Facebook, Instagram, Twitter, and TikTok.",
          "Any platform where someone is interacting with others they may or may not know.",
          "Social media allows one to connect with family and friends. It also is entertaining and can be educational depending on one's interests",
          "an online platform of a massive amount of information most of which is not even accurate",
          "websites like tiktok and instagram",
          "Social Media is any online platform. It is comprised of YouTube, Instagram, TikTok, Twitter, Facebook, and any other site where you can talk to people. Basically to me Social Media is the internet.",
          "A terrible invention. It is the downfall of human civilization.",
          "Social media is a way for people to interact with others whether for promoting jobs, getting to know people, people getting to know you, promoting themselves. to sell or purchase items, it is a form of being you whether it's the real you or not.",
          "i would define social media as an open forum for everyone in the world to connect and share thoughts feelings and communication to everyone who wishes to listen.",
          "Sites that are focused on social interactions.  For our family this would NOT include youtube because we all watch longform content on there, for my son its mostly gardening and history.  Reddit falls in the middle, my son is mostly on native plant redit and gardening redit.",
          "social media is an addictive application that is designed to keep people scrolling endlessly. social media can also be used to keep in touch with family and friends and keep updated on each other's lives.",
          "Electronic websites that allow people to interact with one another, play games, and connect with one another.",
          "facebook and instagram and snapchat",
          "To me social media mean any type of platform like facebook or ticktok snap chat where they meet and chat with friends or just scroll for videos to watch or search for how to do thngs like on utube.",
          "Social media is any online platform where people can engage with others. Whether this is with posts, pictures or live videos, it's all social media.",
          "An online platform for interacting with others. Where one can socialize with others via many different ways that they choose.",
          "I way to interact with more people over any distance",
          "I would define social media as somewhat positive, but also somewhat negative. It is good for my quiet son to interact with friends, but it also leads to comparisons and feelings of missing out.",
          "It is instant messaging system, like twitter, facebook.",
          "apps that allow them to see other people and vice-versa",
          "It is a way to connect and interact with other people with technology.",
          "Having friendships online instead of in person.",
          "Social media can be a great experience to keep in touch with family friends, Social media can be detrimental to sell esteem. Social media can be dangerous.",
          "Social media encompasses various platforms. The platforms enable people to connect online to share ideas, meet, and discover new trends and products. Social media can be a great tool for keeping people connected when using appropriately.",
          "Social media has its positives and negatives. If it it used right it can be helpful.",
          "I enjoy social media but I think it has consumed many lives.",
          "It is the use of apps and websites that you post photos and other posts. You can look at others posts and interact with them",
          "Media accounts that show personal posts of people. It can range from life experiences, to products, to opinions.  It is a camera into other people's lives. It is also a comparison trap. It can be used for good and friendly communication, but also used for hate. It is a two-edge sword.",
          "I would explain social media as any online platform where you can contact and interact with other people virtually.",
          "Usually Facebook, but later expanded to Discord, Line, Instagram, Snapchat as well as others.  He was very responsible at first, so we eased off a bit.  He slowely took advantage and destroyed any trust we had in his behaviour.",
          "Online sharing of knowledge and opinions is the useful part. I also understand fun and meme culture we are in so also this.  Overall the shared opinions and or information true or not online.",
          "Social media refers to digital platforms and applications that allow users to create, share, and interact with content and each other in real-time. It enables communication, networking, and the exchange of ideas, images, videos, and other forms of media. Examples include platforms like Facebook, Instagram, X (formerly Twitter), and LinkedIn.",
          "it is a means of communications and making new friends .",
          "It is a site where you get to socialize and learn new things about the world, get entertained and communicate effectively with other people across the globe",
          "Various digital platforms that allow people with access to communicate and share their lives and ideas.",
          "any online or non online place that people get news or information from that is not fact checked and not a reconized media..",
          "Social media refers to online platforms and applications that enable users to create, share, and interact with content in real time. These platforms facilitate communication, networking, and community building through text, images, videos, and other media. Examples include Facebook, Instagram, X (formerly Twitter), TikTok, and LinkedIn.",
          "Social media refers to online platforms that enable users to create and share content, connect with others, and build virtual communities. These platforms facilitate communication through various forms of media, including text, images, and videos!",
          "Social media is where people connect, share, and interact online through posts, photos, videos, and messages. It's a way to stay in touch, express yourself, and keep up with what's happening in the world. Popular platforms include Facebook, Instagram, TikTok, and Twitter.        Social media is where people connect, share, and interact online through posts, photos, videos, and messages. It's a way to stay in touch, express yourself, and keep up with what's happening in the world. Popular platforms include Facebook, Instagram, TikTok, and Twitter.        Social media is where people connect, share, and interact online through posts, photos, videos, and messages. It's a way to stay in touch, express yourself, and keep up with what's happening in the world. Popular platforms include Facebook, Instagram, TikTok, and Twitter.",
          "Social media are digital platforms that allow users to create profiles, share content, interact and communicate with other people or online communities. They facilitate connection, exchange of information and participation in social, professional or entertainment activities.",
          "Apps that have videos and ways to communicate with each other.  Online platforms for being social.",
          "Digital technology that facilities the social connection between it's users, either through one sided forms of media like movies and television or peer to peer forms like SMS.",
          "To me, social media is a technological space in which people can interact and do almost anything they want, granted they have access. It is a space that facilitates the creation and sharing of content amongst peers or strangers via communities and networks.",
          "It is good to have if used in the right way. It is an essential part of life. Communication has decreased since technology had evolved.",
          "Different applications or websites that people can share posts , make posts or like or dislike post from others. They can follow other people and others can follow them, therefor eit is a social site.",
          "Social media is one of the many modern ways people communicate. It has become extremely prevalent with younger people.",
          "It is apps like snapchat, instagram, etc where they can post and comment on others posts.",
          "social media is any app or online platform used to share creative content and/or personal insights or opinions.",
          "My definition of social media includes applications such as Instagram, TikTok, X (Twitter), Facebook, Redditt, etc.",
          "Social media is about a way to communicate online with other people.",
          "Social media refers to online platforms or tools that allow users to create, share, and interact with content, information, or other users in a virtual environment. These platforms enable users to connect, communicate, and collaborate with others globally, facilitating the exchange of ideas, experiences, and information.",
          "I think of Facebook, TikTok, Instagram, and whatever else the kids use these days. I think now just about everything is encompassed like YouTube, SnapChat, stuff like that.",
          "Any of the apps, facebook, instagram, tik tok snap chat etc. basically anything on a phone",
          "Social media is where friends can connect and share similar interests. A person can also communicate with friends and find out what they are doing. One can also use social media to post thing about their activities to share with friends and family so that they can share the experience."
         ],
         "type": "scatter",
         "x": [
          8.705779075622559,
          17.81195831298828,
          -40.48792266845703,
          -25.89679718017578,
          -24.340679168701172,
          18.063486099243164,
          -29.18167495727539,
          15.080121994018555,
          -39.13568878173828,
          14.671966552734375,
          33.58833312988281,
          8.976451873779297,
          26.753015518188477,
          4.231913089752197,
          -41.65502166748047,
          0.30576789379119873,
          0.6224465370178223,
          -23.650794982910156,
          26.09065818786621,
          20.21236801147461,
          24.934539794921875,
          -13.110199928283691,
          42.85966873168945,
          -35.40951919555664,
          -18.054956436157227,
          13.776147842407227,
          22.692434310913086,
          39.72607421875,
          27.518131256103516,
          -39.88152313232422,
          -6.311404705047607,
          14.389540672302246,
          6.9487080574035645,
          17.21651268005371,
          24.648021697998047,
          17.42928695678711,
          -13.744547843933105,
          -5.0399169921875,
          14.159624099731445,
          -34.26752471923828,
          24.786865234375,
          -46.22418212890625,
          31.411767959594727,
          -36.18769073486328,
          20.95760726928711,
          -15.67778491973877,
          -12.299209594726562,
          24.961660385131836,
          -14.740543365478516,
          -25.435529708862305,
          7.27389669418335,
          -37.160247802734375,
          26.031583786010742,
          -36.82122802734375,
          -24.300329208374023,
          21.80168914794922,
          -43.496070861816406,
          -30.608606338500977,
          33.64997863769531,
          40.35821533203125,
          24.327312469482422,
          -46.95492172241211,
          22.17987060546875,
          -31.516183853149414,
          -36.769432067871094,
          39.09136962890625,
          24.49504280090332,
          -4.603925704956055,
          22.16825294494629,
          32.692955017089844,
          27.619340896606445,
          31.628822326660156,
          50.05699157714844,
          25.834972381591797,
          -21.008960723876953,
          -11.516541481018066,
          -13.812259674072266,
          -16.34326934814453,
          -7.518009662628174,
          10.437260627746582,
          17.937578201293945,
          -11.72900390625,
          27.775468826293945,
          42.715423583984375,
          38.38822937011719,
          -46.733848571777344,
          2.290497064590454,
          -19.312240600585938,
          50.06686782836914,
          38.38597869873047,
          -1.165036678314209,
          -30.10036277770996,
          -9.031460762023926,
          17.360210418701172,
          33.60546112060547,
          -27.50867462158203,
          -6.9255475997924805,
          -8.145162582397461,
          33.92533493041992,
          14.119012832641602,
          7.408491611480713,
          9.890954971313477,
          25.901275634765625,
          10.44245433807373,
          -3.1083128452301025,
          35.38892364501953,
          7.137157440185547,
          15.925382614135742,
          -17.128782272338867,
          -33.64012145996094,
          -7.212134838104248,
          -8.403700828552246,
          10.67742919921875,
          12.321260452270508,
          17.388662338256836,
          -40.8380126953125,
          19.786203384399414,
          -14.869735717773438,
          39.578765869140625,
          17.704866409301758,
          -3.251988410949707,
          38.663814544677734,
          20.1390323638916,
          29.59163475036621,
          -5.046989917755127,
          -25.93324851989746,
          -5.165829658508301,
          20.923477172851562,
          42.14785385131836,
          -31.749122619628906,
          -13.474898338317871,
          35.571041107177734,
          33.62705612182617,
          -37.8962516784668,
          -17.671615600585938,
          -10.121129989624023,
          -31.202857971191406,
          -8.163463592529297,
          -38.75880432128906,
          -22.788232803344727,
          -3.024163246154785,
          -1.7450833320617676,
          3.700531244277954,
          -18.05573844909668,
          -22.61536979675293,
          24.94469451904297,
          -0.3692285120487213,
          13.55881118774414,
          41.56568908691406,
          -34.58920669555664,
          -44.72925567626953,
          29.154788970947266,
          33.02680206298828,
          -32.22121810913086,
          -30.312114715576172,
          36.05408477783203,
          16.750080108642578,
          -39.55770492553711,
          -23.743141174316406,
          8.704028129577637,
          -0.010241753421723843,
          -27.444223403930664,
          13.603285789489746,
          -2.8152153491973877,
          -23.119970321655273,
          19.92512321472168,
          -7.984111309051514,
          -7.420588970184326,
          9.175402641296387,
          8.26862621307373,
          10.567778587341309,
          -1.125944972038269,
          -5.667398929595947,
          16.18697166442871,
          34.22031021118164,
          8.784804344177246,
          3.7212915420532227,
          8.179920196533203,
          -42.00337600708008,
          33.0994758605957,
          -9.736210823059082,
          -8.661450386047363,
          -25.85451889038086,
          -33.543968200683594,
          31.79977035522461,
          20.63915252685547,
          -11.90405559539795,
          0.7245904207229614,
          -13.478841781616211,
          37.84818649291992,
          14.0936861038208,
          -23.053462982177734,
          30.95304298400879,
          12.077991485595703,
          -41.672706604003906,
          -30.676406860351562,
          -6.470242023468018,
          -38.56321716308594,
          -9.076353073120117,
          -15.885040283203125,
          -36.394744873046875,
          9.745312690734863,
          -20.17873764038086,
          -28.223289489746094,
          -13.536849021911621,
          35.658775329589844,
          2.971630811691284,
          17.1907901763916,
          -1.4943416118621826,
          11.909147262573242,
          8.96333122253418,
          9.365345001220703,
          38.46467208862305,
          17.805566787719727,
          37.57215118408203,
          6.338434219360352,
          51.381351470947266,
          7.8232340812683105,
          16.020540237426758,
          -15.146347045898438,
          -43.48328399658203,
          -1.186461329460144,
          -25.703271865844727,
          -24.938316345214844,
          -13.121223449707031,
          11.139654159545898,
          -33.71125411987305,
          31.512802124023438,
          4.458841323852539,
          37.57940673828125,
          9.343814849853516,
          19.863080978393555,
          -42.474422454833984,
          -20.29348373413086,
          -17.566190719604492,
          -41.75774002075195,
          19.02301597595215,
          -19.201940536499023,
          -2.769580841064453,
          41.61819839477539,
          -11.875579833984375,
          22.97295379638672,
          31.201860427856445,
          -4.571630954742432,
          -26.52672004699707,
          -12.13390064239502,
          37.161251068115234,
          45.127140045166016,
          20.183387756347656,
          19.390108108520508,
          -9.078531265258789,
          -11.430157661437988,
          -12.919586181640625,
          5.722227096557617,
          -24.846879959106445,
          -22.968278884887695,
          44.159507751464844,
          28.49828338623047,
          23.38978385925293,
          24.89539337158203,
          -26.294158935546875,
          -35.91322708129883,
          16.788816452026367,
          -19.551469802856445,
          -28.055139541625977,
          46.239410400390625,
          21.559547424316406,
          -33.293575286865234,
          -32.93514633178711,
          -5.5829548835754395,
          20.25288200378418,
          -20.76350975036621,
          17.27880859375,
          -41.900535583496094,
          -41.53304672241211,
          -18.28522300720215,
          4.642253875732422,
          32.11259841918945,
          -23.830663681030273,
          7.7584381103515625,
          3.298172950744629,
          -13.012879371643066,
          -13.5365629196167,
          -19.79149055480957,
          -2.1097090244293213,
          36.2097282409668,
          33.60136032104492,
          -26.669340133666992,
          -19.754392623901367,
          -11.82991886138916,
          17.206899642944336,
          0.5866363644599915,
          -1.5884196758270264,
          26.00395965576172,
          10.479646682739258,
          0.4359793961048126,
          9.56548023223877,
          16.20877456665039,
          -17.09318733215332,
          -16.321308135986328,
          1.1523641347885132,
          -17.620609283447266,
          26.636268615722656,
          -45.58976364135742,
          18.80674171447754,
          18.45729637145996,
          38.69669723510742,
          -2.325171947479248,
          -13.341109275817871,
          -3.451111316680908,
          23.907278060913086,
          -26.60708236694336,
          -6.271770477294922,
          28.517169952392578,
          21.579967498779297,
          -3.0152676105499268,
          -16.388458251953125,
          -3.3035545349121094,
          40.371639251708984,
          -25.5263671875,
          -25.539485931396484,
          20.69369888305664,
          1.6543842554092407,
          -5.68430757522583,
          -28.71912384033203,
          13.564138412475586,
          -17.06776237487793,
          14.128433227539062,
          -23.324623107910156,
          27.44822883605957,
          -19.937599182128906,
          -6.1926751136779785,
          24.241174697875977,
          8.32482624053955,
          -4.231439590454102,
          -21.09642219543457,
          33.9968376159668,
          4.130415439605713,
          -31.33721160888672,
          28.410015106201172,
          -23.164011001586914,
          9.383767127990723,
          39.02849578857422,
          19.987768173217773,
          10.588523864746094,
          13.091842651367188,
          16.820755004882812,
          20.602609634399414,
          -16.083675384521484,
          1.423048734664917,
          40.82200622558594,
          -11.368122100830078,
          -29.487138748168945,
          23.1672306060791,
          -20.411800384521484,
          -34.54237365722656,
          -19.035226821899414,
          -46.774959564208984,
          39.51694869995117,
          14.813490867614746,
          -4.651590824127197,
          28.486406326293945,
          -11.478227615356445,
          29.238452911376953,
          -5.787375450134277,
          10.997146606445312,
          9.592436790466309,
          -20.458993911743164,
          -32.9532470703125,
          43.8759765625,
          0.9923458695411682,
          -15.728184700012207,
          -33.42367935180664,
          -6.318429470062256,
          -24.76116371154785,
          -27.258129119873047,
          5.006991863250732,
          -7.9371161460876465,
          3.9681897163391113,
          -25.641368865966797,
          37.90049743652344,
          -3.558316946029663,
          -17.37283706665039,
          -44.820228576660156,
          -51.84180450439453,
          11.655406951904297,
          -2.402825355529785,
          -8.02767276763916,
          -38.87868118286133,
          2.490072727203369,
          7.888302326202393,
          -36.50223922729492,
          -41.03175354003906,
          -3.794343948364258,
          -4.238138198852539,
          -30.745267868041992,
          22.383264541625977,
          -50.8383674621582,
          16.196624755859375,
          29.155000686645508,
          31.886659622192383,
          -11.64103889465332,
          -0.06995229423046112,
          20.61625862121582,
          24.55619239807129,
          -19.557708740234375,
          -3.0611932277679443,
          28.174766540527344,
          -23.51632308959961,
          7.749963283538818,
          15.166147232055664,
          -19.7585506439209,
          -5.020826816558838,
          -12.940638542175293,
          -23.34121322631836,
          -13.728193283081055,
          20.101608276367188,
          -2.0963382720947266,
          15.115983963012695,
          34.173545837402344,
          -9.427497863769531,
          34.02135467529297,
          13.139467239379883,
          -15.411377906799316,
          -15.254776954650879,
          -18.369386672973633,
          -0.8765583634376526,
          8.6732759475708,
          -6.267095565795898,
          1.0849575996398926,
          -31.46718406677246,
          10.000911712646484,
          30.37172508239746,
          31.023706436157227,
          1.1453580856323242,
          13.371745109558105,
          43.01479721069336,
          0.19442874193191528,
          -13.556406021118164,
          21.914690017700195,
          8.509244918823242,
          13.245750427246094,
          -2.845292568206787,
          18.99273109436035,
          42.90699768066406,
          -31.355257034301758,
          -36.585880279541016,
          -9.335437774658203,
          2.4505746364593506,
          16.831707000732422,
          -19.5467586517334,
          14.655732154846191,
          4.332293510437012,
          16.57613754272461,
          -12.75455093383789,
          31.318866729736328,
          1.0722514390945435,
          -18.74357795715332,
          -18.21967124938965,
          -6.224202632904053,
          8.234539031982422,
          9.605026245117188,
          -3.120826244354248,
          24.90776824951172,
          5.96997594833374,
          -7.479448318481445,
          18.051485061645508,
          4.119423866271973,
          27.07246971130371,
          -15.472288131713867,
          -19.2653865814209,
          -24.140810012817383,
          -21.713037490844727,
          -22.19115447998047,
          -7.123274803161621,
          -22.91928482055664,
          16.017261505126953,
          -1.4211825132369995,
          35.939300537109375,
          -17.269624710083008,
          17.10748291015625,
          -20.02842903137207,
          -39.74533462524414,
          -47.391109466552734,
          -26.555749893188477,
          -36.92998123168945,
          8.415304183959961,
          37.46842575073242,
          11.922877311706543,
          -18.4312686920166,
          2.7594778537750244,
          33.318939208984375,
          -45.58909606933594,
          34.973880767822266,
          -31.596698760986328,
          19.124380111694336,
          -25.0651912689209,
          15.479722023010254,
          7.463883876800537,
          -1.433767557144165,
          -9.009387016296387,
          36.61197280883789,
          32.80937194824219,
          -1.217464566230774,
          -2.017094612121582,
          -9.672369003295898,
          -21.87390899658203,
          14.675291061401367,
          8.446839332580566,
          -16.31547737121582,
          7.591606140136719,
          38.370357513427734,
          33.516849517822266,
          2.052420139312744,
          -11.267655372619629,
          -2.949829578399658,
          -12.98649787902832,
          25.940168380737305,
          -5.439604759216309,
          -38.666107177734375,
          -0.1904987096786499,
          -3.9024739265441895,
          -12.840154647827148,
          -11.26357364654541,
          -20.331729888916016,
          48.99842071533203,
          -30.740232467651367,
          49.539337158203125,
          -8.985527038574219,
          26.830787658691406,
          35.78337860107422,
          -28.187236785888672,
          -18.29502296447754,
          33.51894760131836,
          -3.8922128677368164,
          -28.80028533935547,
          29.267473220825195,
          28.078142166137695,
          10.684981346130371,
          19.055410385131836,
          3.8836562633514404,
          22.233558654785156,
          30.188230514526367,
          43.03096008300781,
          17.71811294555664,
          -12.194456100463867,
          -26.906116485595703,
          -18.816917419433594,
          4.900345325469971,
          18.355579376220703,
          10.341320991516113,
          -17.889623641967773,
          11.0814208984375,
          -1.4160041809082031,
          23.74472999572754,
          -8.392398834228516,
          -41.57301712036133,
          21.323728561401367,
          -20.204137802124023,
          10.873228073120117,
          33.485198974609375,
          -19.989477157592773,
          -25.05477523803711,
          38.263362884521484,
          -40.93022918701172,
          27.314573287963867,
          21.787317276000977,
          20.308202743530273,
          28.307048797607422,
          -23.87837028503418,
          -8.427703857421875,
          28.582721710205078,
          -6.2338972091674805,
          22.504779815673828,
          10.167478561401367,
          -7.000800609588623,
          29.756933212280273,
          -39.179603576660156,
          -32.12714767456055,
          -18.33148193359375,
          -26.13587188720703,
          7.060830116271973,
          21.328092575073242,
          -2.42568039894104,
          -8.083394050598145,
          -13.623971939086914,
          -14.850417137145996,
          38.59636306762695,
          -27.629484176635742,
          -2.6417713165283203,
          0.3496831953525543,
          33.503273010253906,
          -22.329940795898438,
          -22.460315704345703,
          35.09194564819336,
          38.0235710144043,
          -30.52393341064453,
          45.814109802246094,
          13.155141830444336,
          6.221065521240234,
          8.775694847106934,
          -2.3686060905456543,
          41.844173431396484,
          33.059410095214844,
          -8.470946311950684,
          10.200907707214355,
          24.238666534423828,
          0.37057724595069885,
          -12.825758934020996,
          23.129703521728516,
          -18.10870933532715,
          -18.078126907348633,
          -30.1795711517334,
          -17.405048370361328,
          33.36140060424805,
          27.445755004882812,
          -0.6208823323249817,
          -22.52036476135254,
          29.435108184814453,
          -21.52959442138672,
          30.517526626586914,
          -28.819408416748047,
          44.79789352416992,
          -16.113828659057617,
          37.63114547729492,
          3.8021159172058105,
          -22.673147201538086,
          -19.490238189697266,
          21.948030471801758,
          20.90033721923828,
          -4.8676018714904785,
          -18.032094955444336,
          28.480735778808594,
          -11.633024215698242,
          15.861854553222656,
          -14.8703031539917,
          7.360609531402588,
          -20.086082458496094,
          -30.349863052368164,
          9.650130271911621,
          18.329898834228516,
          -31.21393585205078,
          -18.157468795776367,
          32.47461700439453,
          -30.109798431396484,
          -23.323089599609375,
          -24.060665130615234,
          38.84499740600586,
          -16.10025978088379,
          27.447765350341797,
          -15.64709758758545,
          31.10340690612793,
          30.221485137939453,
          2.072659730911255,
          -17.30080795288086,
          -32.089725494384766,
          -11.031510353088379,
          -30.185636520385742,
          -4.969262599945068,
          -13.587833404541016,
          -4.746195316314697,
          -0.7067246437072754,
          26.36361312866211,
          -28.030004501342773,
          6.020869255065918,
          -3.0116961002349854,
          -9.020694732666016,
          -24.201595306396484,
          -26.490081787109375,
          1.6922500133514404,
          -42.67192077636719,
          -26.016475677490234,
          -17.193496704101562,
          -11.669191360473633,
          4.8091230392456055,
          -18.72042465209961,
          -29.87022590637207,
          -16.697465896606445,
          32.489585876464844,
          20.010555267333984,
          14.456904411315918,
          -9.347932815551758,
          0.511776328086853,
          -9.848689079284668,
          -29.66777229309082,
          -5.369324207305908,
          33.54038619995117,
          -15.547889709472656,
          -16.263750076293945,
          3.039137363433838,
          10.591724395751953,
          -39.69538497924805,
          -16.71027183532715,
          -30.562650680541992,
          12.00827407836914,
          35.09843444824219,
          -27.36433982849121,
          11.850695610046387,
          -10.559158325195312,
          -39.92594528198242,
          -6.708406448364258,
          -11.088872909545898,
          4.567380428314209,
          40.711463928222656,
          -13.206716537475586,
          -14.468753814697266,
          -5.597987651824951,
          -21.45524787902832,
          42.59299087524414,
          -48.24116516113281,
          -7.39927864074707,
          6.249087810516357,
          -13.898181915283203,
          9.539156913757324,
          -23.350706100463867,
          35.867794036865234,
          32.08472442626953,
          -32.211849212646484,
          28.00471305847168,
          32.454742431640625,
          -24.822200775146484,
          32.851043701171875,
          17.18964385986328,
          -16.22740364074707,
          -25.483369827270508,
          -7.736500263214111,
          -43.9362678527832,
          -6.604568958282471,
          40.14973449707031,
          5.110607624053955,
          -19.984525680541992,
          4.7434515953063965,
          -24.776222229003906,
          -35.711944580078125,
          33.76498031616211,
          32.36355972290039,
          -23.917095184326172,
          7.297325611114502,
          35.33955383300781,
          -45.05373764038086,
          -26.656583786010742,
          29.654985427856445,
          2.9428536891937256,
          -25.931133270263672,
          23.64835548400879,
          -16.542583465576172,
          12.16217041015625,
          38.52700424194336,
          39.4776496887207,
          -20.315580368041992,
          -20.280637741088867,
          -47.82211685180664,
          43.90898513793945,
          -8.91736888885498,
          -32.272586822509766,
          34.37609100341797,
          13.68887710571289,
          -36.950321197509766,
          -3.274517774581909,
          41.585750579833984,
          28.321374893188477,
          26.227903366088867,
          41.285865783691406,
          -17.855785369873047,
          -14.954668998718262,
          43.561309814453125,
          19.16325569152832,
          -24.422264099121094,
          19.967716217041016,
          22.34437370300293,
          17.474029541015625,
          33.26611328125,
          -35.712860107421875,
          42.480384826660156,
          35.522239685058594,
          1.028765082359314,
          34.49592971801758,
          -21.517879486083984,
          -13.113293647766113,
          31.280324935913086,
          34.704349517822266,
          -10.477355003356934,
          -16.072460174560547,
          -19.118438720703125,
          -30.854969024658203,
          22.537302017211914,
          44.23283767700195,
          39.99940490722656,
          -11.827080726623535,
          -29.0996036529541,
          -27.1619873046875,
          -7.359391689300537,
          10.900300025939941,
          -36.139095306396484,
          38.73019027709961,
          -30.98659896850586,
          -31.298002243041992,
          -41.147762298583984,
          27.777793884277344,
          16.05350685119629,
          2.2212674617767334,
          11.137852668762207,
          -3.9916813373565674,
          -39.850582122802734,
          20.219392776489258,
          -26.806583404541016,
          -30.5667667388916,
          -3.7877800464630127,
          -13.7910795211792,
          -19.673446655273438,
          17.202247619628906,
          23.927690505981445,
          0.5540372729301453,
          -20.422271728515625,
          16.601703643798828,
          0.015216611325740814,
          -10.758166313171387,
          -44.39353942871094,
          26.37262535095215,
          -5.605496406555176,
          4.430138111114502,
          -22.962474822998047,
          15.629981994628906,
          -13.993375778198242,
          -10.802877426147461,
          1.2308295965194702,
          6.681473731994629,
          -24.64120864868164,
          33.282100677490234,
          35.93100357055664,
          -12.711461067199707,
          -17.013219833374023,
          -36.08222579956055,
          -42.7642822265625,
          -13.038256645202637,
          -17.136816024780273,
          -35.64120864868164,
          19.067054748535156,
          -43.56063461303711,
          -14.182758331298828,
          -1.5469475984573364,
          -22.1528377532959,
          -21.667766571044922,
          -12.171627044677734,
          7.16402006149292,
          4.840790748596191,
          -11.585156440734863,
          27.056041717529297,
          25.409818649291992,
          -43.7520751953125,
          -16.45677947998047,
          -22.349102020263672,
          -15.910470008850098,
          -6.354372978210449,
          35.686302185058594,
          13.377325057983398,
          4.81613302230835,
          18.38552474975586,
          -9.492792129516602,
          35.8546028137207,
          -11.836880683898926,
          7.632423400878906,
          -44.203983306884766,
          1.2597570419311523,
          -3.7718605995178223,
          -38.319122314453125,
          -28.989715576171875,
          -22.492324829101562,
          -26.830135345458984,
          -1.3732004165649414,
          22.416259765625,
          26.938310623168945,
          -36.0895881652832,
          8.21568489074707,
          28.981550216674805,
          -37.32411575317383,
          12.543380737304688,
          12.465248107910156,
          -4.327268600463867,
          -17.510787963867188,
          -23.960241317749023,
          33.736080169677734,
          -11.878913879394531,
          2.9192919731140137,
          29.926259994506836,
          -15.998061180114746,
          -20.167659759521484,
          -4.487488746643066,
          10.880661964416504,
          27.077442169189453,
          30.111295700073242,
          21.147876739501953,
          4.418759346008301,
          -14.931278228759766,
          -3.5413362979888916,
          26.650135040283203,
          24.39594078063965,
          18.312198638916016,
          -12.256376266479492,
          -25.583276748657227,
          -32.92802429199219,
          -1.9554088115692139,
          -6.45416784286499,
          -33.48558807373047,
          -23.944141387939453,
          15.798489570617676,
          -31.815391540527344,
          23.925724029541016,
          10.844063758850098,
          39.797542572021484,
          10.204419136047363,
          -13.545843124389648,
          18.240324020385742,
          8.23340892791748,
          23.685832977294922,
          35.96828842163086,
          -7.195388317108154,
          -28.49907112121582,
          -7.382297039031982,
          -28.3223876953125,
          -2.0113730430603027,
          -13.860133171081543,
          -26.284677505493164,
          -8.238761901855469,
          -1.8164011240005493,
          -21.91689682006836,
          16.315486907958984,
          -29.106491088867188,
          33.77730178833008,
          -24.67644500732422,
          -2.6294872760772705,
          39.34043884277344,
          -7.868765354156494,
          -23.531776428222656,
          3.448955774307251,
          28.482023239135742,
          1.5638818740844727,
          -29.147174835205078,
          -33.52671813964844,
          -29.579769134521484,
          -12.610804557800293,
          22.498685836791992,
          2.475895881652832,
          28.772249221801758,
          -18.778688430786133,
          6.634535789489746,
          -26.682268142700195,
          -37.52750778198242,
          41.440975189208984,
          -26.314163208007812,
          1.7320423126220703,
          -34.50139236450195,
          24.159420013427734,
          19.842817306518555,
          -30.481969833374023,
          8.500679016113281,
          3.6650726795196533,
          -11.795442581176758,
          -12.050137519836426,
          6.866606712341309,
          30.595212936401367,
          20.911945343017578,
          19.365507125854492,
          -28.98337173461914,
          -21.88086700439453,
          -20.027917861938477,
          30.49891471862793,
          -10.125045776367188,
          -24.8447208404541,
          -33.859169006347656,
          -12.289789199829102,
          11.960927963256836,
          -8.152507781982422,
          -19.35279655456543,
          5.807955265045166,
          4.501983165740967,
          14.439617156982422,
          35.00989532470703,
          -4.365837097167969,
          45.7950439453125,
          -29.01242446899414,
          -36.7792854309082,
          -9.109638214111328,
          -34.06008529663086,
          44.21179962158203,
          35.5240364074707,
          35.577415466308594,
          23.574172973632812,
          -2.7199270725250244,
          -22.07278060913086,
          21.19451332092285,
          -25.022005081176758,
          5.720763206481934,
          13.695968627929688,
          6.200405597686768,
          30.474470138549805,
          16.598072052001953,
          16.3718318939209,
          38.20020294189453,
          26.89095115661621,
          25.8748779296875,
          4.054149150848389
         ],
         "y": [
          1.6218267679214478,
          2.062504768371582,
          9.824786186218262,
          43.719947814941406,
          12.208541870117188,
          25.541790008544922,
          15.446309089660645,
          35.93780517578125,
          2.4391555786132812,
          -0.35160359740257263,
          -4.059251308441162,
          44.49817657470703,
          18.915746688842773,
          31.784086227416992,
          10.644168853759766,
          48.32435607910156,
          -21.094539642333984,
          5.465088367462158,
          -27.35828971862793,
          22.618770599365234,
          -29.030176162719727,
          19.19113540649414,
          -24.91204071044922,
          10.252737998962402,
          -34.509742736816406,
          -24.522478103637695,
          -21.188236236572266,
          -22.156307220458984,
          -18.26435661315918,
          25.315019607543945,
          51.931514739990234,
          -0.7435553073883057,
          -6.723981857299805,
          -36.676673889160156,
          31.668371200561523,
          -3.5469837188720703,
          -27.179431915283203,
          51.95647430419922,
          -9.892619132995605,
          -2.7399301528930664,
          -27.859329223632812,
          9.77617359161377,
          4.6930623054504395,
          4.185265064239502,
          -17.405733108520508,
          38.578983306884766,
          19.26651382446289,
          -38.19768142700195,
          40.201473236083984,
          25.504487991333008,
          -40.638450622558594,
          20.846975326538086,
          -38.80915832519531,
          20.167572021484375,
          27.39471435546875,
          19.222684860229492,
          -4.263191223144531,
          -28.249996185302734,
          -24.872669219970703,
          -20.191802978515625,
          -15.399110794067383,
          -2.888108730316162,
          -15.184374809265137,
          -10.518266677856445,
          -13.648859024047852,
          -19.713136672973633,
          8.370770454406738,
          34.86441421508789,
          -25.649738311767578,
          31.7436466217041,
          -29.95486068725586,
          -3.6446726322174072,
          -17.60296630859375,
          -17.951650619506836,
          13.47240161895752,
          18.046262741088867,
          -30.547542572021484,
          -38.99177551269531,
          50.65060806274414,
          -34.44207000732422,
          -40.4589958190918,
          52.4364013671875,
          -31.025249481201172,
          -20.633283615112305,
          -36.98431396484375,
          8.547425270080566,
          -27.316070556640625,
          9.019379615783691,
          -19.152894973754883,
          -36.98031997680664,
          -25.980628967285156,
          -27.325366973876953,
          -36.904544830322266,
          -34.42350769042969,
          -12.411014556884766,
          19.314556121826172,
          -38.59926223754883,
          -38.80988311767578,
          -11.184024810791016,
          -37.62359619140625,
          17.097517013549805,
          -7.12783145904541,
          28.820838928222656,
          1.2657182216644287,
          42.013092041015625,
          -6.3846659660339355,
          -8.536981582641602,
          -1.3809783458709717,
          24.539966583251953,
          -0.3578677177429199,
          45.804935455322266,
          43.90724182128906,
          4.4300150871276855,
          -0.9030812382698059,
          -15.446695327758789,
          22.25756072998047,
          -9.75448226928711,
          -35.46367263793945,
          -23.64936637878418,
          29.57232666015625,
          45.04920196533203,
          -31.384531021118164,
          -32.16350555419922,
          26.94063949584961,
          22.509662628173828,
          25.90836524963379,
          36.16130065917969,
          -13.141117095947266,
          -16.55257225036621,
          17.044137954711914,
          3.9605023860931396,
          -21.318031311035156,
          -29.80087661743164,
          -7.376976490020752,
          -20.67716407775879,
          38.84908676147461,
          31.908174514770508,
          25.53143310546875,
          1.61995267868042,
          31.688146591186523,
          20.359241485595703,
          26.841039657592773,
          26.592378616333008,
          50.90818405151367,
          27.242843627929688,
          -39.06621170043945,
          41.411712646484375,
          -5.565004825592041,
          -17.642847061157227,
          32.27821350097656,
          12.999845504760742,
          8.925702095031738,
          -3.8852298259735107,
          6.0603179931640625,
          20.407896041870117,
          -0.04011857137084007,
          20.773263931274414,
          10.702460289001465,
          18.980775833129883,
          -4.6473517417907715,
          15.298723220825195,
          41.188663482666016,
          -3.103512763977051,
          36.643394470214844,
          34.75022888183594,
          -15.629610061645508,
          52.80076217651367,
          44.413814544677734,
          11.50124454498291,
          -33.76261901855469,
          48.29307174682617,
          30.099960327148438,
          -37.059364318847656,
          -27.526912689208984,
          28.16864013671875,
          0.20408806204795837,
          33.5624885559082,
          -25.429012298583984,
          6.736184120178223,
          30.957088470458984,
          36.8576545715332,
          10.355020523071289,
          14.717803955078125,
          -3.532061815261841,
          -33.10111618041992,
          -37.77970504760742,
          0.005770188756287098,
          43.942569732666016,
          3.819647789001465,
          -23.314558029174805,
          -22.892175674438477,
          23.760555267333984,
          -24.676246643066406,
          -3.9057705402374268,
          7.674319744110107,
          -28.623008728027344,
          2.2220592498779297,
          -5.146271705627441,
          38.58708572387695,
          12.988853454589844,
          23.039459228515625,
          1.0416373014450073,
          41.70564651489258,
          17.048982620239258,
          37.83857345581055,
          -26.102741241455078,
          -34.06755065917969,
          -9.362977981567383,
          26.961013793945312,
          12.120336532592773,
          -2.1705734729766846,
          45.140350341796875,
          -22.046470642089844,
          -10.865752220153809,
          -23.829959869384766,
          -0.28419357538223267,
          -20.030447006225586,
          -6.877148628234863,
          -19.617950439453125,
          -20.871990203857422,
          12.463031768798828,
          21.043195724487305,
          28.01561737060547,
          22.523151397705078,
          26.3680419921875,
          -30.90424919128418,
          7.198549270629883,
          -0.951659619808197,
          -40.11592102050781,
          -32.822940826416016,
          -28.85500144958496,
          -35.70856475830078,
          -10.35414981842041,
          21.569271087646484,
          -29.429689407348633,
          2.3139846324920654,
          -12.533882141113281,
          37.5669059753418,
          7.563581943511963,
          -21.182662963867188,
          13.099061012268066,
          -18.025177001953125,
          20.096498489379883,
          -39.98038864135742,
          0.17241506278514862,
          27.490554809570312,
          -11.97553539276123,
          -15.514333724975586,
          -15.28042221069336,
          -27.63129425048828,
          52.797645568847656,
          41.41036605834961,
          -34.99246597290039,
          -37.406150817871094,
          -39.3771858215332,
          29.06019401550293,
          -22.87596893310547,
          -27.64600944519043,
          33.10025405883789,
          -30.98582649230957,
          5.8825531005859375,
          19.761362075805664,
          16.724811553955078,
          41.74208450317383,
          20.000471115112305,
          -19.904584884643555,
          -16.48851203918457,
          -10.78696060180664,
          20.835493087768555,
          49.89601516723633,
          24.327789306640625,
          42.076866149902344,
          -24.296018600463867,
          25.287466049194336,
          7.610145092010498,
          -29.94121551513672,
          32.08903121948242,
          -6.210076332092285,
          -32.8879508972168,
          -24.014690399169922,
          43.3772087097168,
          17.801761627197266,
          -21.470216751098633,
          39.305259704589844,
          18.551795959472656,
          -0.5967186093330383,
          -23.877559661865234,
          12.505494117736816,
          -14.295524597167969,
          -41.16025924682617,
          14.062164306640625,
          -28.093799591064453,
          31.02945327758789,
          -29.08207893371582,
          3.4181859493255615,
          14.979024887084961,
          13.694435119628906,
          -31.80326271057129,
          15.55874252319336,
          38.98504638671875,
          -39.135581970214844,
          -3.5030155181884766,
          -30.330167770385742,
          8.119894981384277,
          -0.3972662687301636,
          -41.810577392578125,
          -31.2752685546875,
          -38.19597244262695,
          -1.8297392129898071,
          -41.4390754699707,
          -33.80232620239258,
          21.419132232666016,
          52.82665252685547,
          -34.18060302734375,
          -33.56578063964844,
          38.43793487548828,
          4.48302698135376,
          -38.873382568359375,
          -31.448850631713867,
          43.60218811035156,
          37.37615966796875,
          -18.96078109741211,
          -7.749995231628418,
          -42.774967193603516,
          27.705291748046875,
          -10.44743537902832,
          -22.908987045288086,
          -24.098661422729492,
          1.52638578414917,
          0.4239460825920105,
          -25.76720428466797,
          40.02589797973633,
          -23.458152770996094,
          -13.389939308166504,
          -34.18213653564453,
          39.23659133911133,
          -10.438335418701172,
          -7.336096286773682,
          9.80245590209961,
          14.374800682067871,
          11.752204895019531,
          -2.4901909828186035,
          -26.71866798400879,
          -30.204896926879883,
          -6.998391151428223,
          28.98575210571289,
          -23.621915817260742,
          25.528539657592773,
          21.695852279663086,
          -33.92702865600586,
          -15.462406158447266,
          31.101776123046875,
          23.54599952697754,
          -2.882232666015625,
          24.105327606201172,
          24.326255798339844,
          -31.438753128051758,
          4.236563682556152,
          -6.810861587524414,
          21.67579460144043,
          21.491609573364258,
          3.258850574493408,
          -44.08556365966797,
          3.468322515487671,
          -40.389530181884766,
          -33.333866119384766,
          46.09860610961914,
          -28.80901336669922,
          4.840435981750488,
          -17.277692794799805,
          -28.384443283081055,
          -31.264257431030273,
          8.493844985961914,
          -46.00535202026367,
          -33.08584213256836,
          26.205074310302734,
          -29.547182083129883,
          9.414836883544922,
          -9.297658920288086,
          -36.037261962890625,
          1.2304738759994507,
          55.676151275634766,
          49.8457145690918,
          -0.4432271122932434,
          -1.4416444301605225,
          48.250038146972656,
          5.2484002113342285,
          17.774978637695312,
          18.775941848754883,
          38.06596755981445,
          -4.914558410644531,
          -14.604004859924316,
          3.0180699825286865,
          33.03520584106445,
          47.87017059326172,
          -33.77967834472656,
          -28.593244552612305,
          -1.173753261566162,
          -27.403268814086914,
          -35.36212158203125,
          -10.871179580688477,
          -18.264781951904297,
          31.53598976135254,
          -11.418983459472656,
          -40.37296676635742,
          35.37052536010742,
          35.35676956176758,
          30.086898803710938,
          -42.56789016723633,
          33.5787467956543,
          -34.10889434814453,
          38.224639892578125,
          32.87736511230469,
          -47.08015823364258,
          17.6264591217041,
          26.412004470825195,
          -12.60245132446289,
          40.21760559082031,
          -17.099958419799805,
          -5.65207052230835,
          -39.983116149902344,
          1.2543728351593018,
          -27.662702560424805,
          -20.44708251953125,
          -16.53348159790039,
          22.331592559814453,
          37.04093933105469,
          -8.393893241882324,
          -46.02226638793945,
          45.60615539550781,
          6.290417194366455,
          -39.04328918457031,
          23.709531784057617,
          14.59953784942627,
          1.6698651313781738,
          19.652416229248047,
          -18.05173110961914,
          55.00969314575195,
          -46.60028076171875,
          1.38438880443573,
          -30.3930721282959,
          -3.546984910964966,
          37.4124870300293,
          -38.6607551574707,
          -18.862335205078125,
          14.684171676635742,
          5.588868618011475,
          33.0534553527832,
          16.562864303588867,
          -33.69447326660156,
          12.338102340698242,
          1.2409754991531372,
          -6.962230682373047,
          24.440576553344727,
          -19.962602615356445,
          5.9179840087890625,
          19.11350440979004,
          29.248046875,
          27.8000545501709,
          3.126079797744751,
          33.72615051269531,
          -5.923590660095215,
          48.57780456542969,
          25.351375579833984,
          -0.17114046216011047,
          54.47873306274414,
          -30.664960861206055,
          -25.28768539428711,
          -28.261659622192383,
          15.650927543640137,
          -32.723934173583984,
          43.93309783935547,
          37.27016067504883,
          25.699045181274414,
          39.32597351074219,
          1.141845464706421,
          21.328351974487305,
          3.147797107696533,
          -9.901145935058594,
          20.23670768737793,
          -12.142865180969238,
          11.173138618469238,
          17.974411010742188,
          -2.4402313232421875,
          -40.11695861816406,
          -5.852447986602783,
          -13.925759315490723,
          -3.92952823638916,
          -21.01103973388672,
          12.248869895935059,
          -28.354463577270508,
          -26.780527114868164,
          10.438806533813477,
          -21.600406646728516,
          17.648395538330078,
          -13.792296409606934,
          14.884428977966309,
          4.398082733154297,
          -40.87548065185547,
          40.790016174316406,
          37.88428497314453,
          -20.45167350769043,
          1.1128698587417603,
          16.048507690429688,
          38.38256072998047,
          52.326904296875,
          31.20493507385254,
          2.985440492630005,
          11.675246238708496,
          -39.243263244628906,
          -9.400803565979004,
          -3.104186534881592,
          -14.890384674072266,
          40.794803619384766,
          45.362037658691406,
          42.81332778930664,
          -15.96548080444336,
          27.037450790405273,
          -34.20527267456055,
          25.022855758666992,
          54.885398864746094,
          41.66789245605469,
          -17.21147346496582,
          -42.13901138305664,
          28.01799774169922,
          -19.047677993774414,
          17.829240798950195,
          -18.75162124633789,
          14.702211380004883,
          -29.50575065612793,
          -11.751317977905273,
          27.26981544494629,
          -31.62948226928711,
          -6.527017116546631,
          -41.880126953125,
          12.346035957336426,
          11.540923118591309,
          -38.05943298339844,
          -31.498172760009766,
          -6.5724101066589355,
          -24.614744186401367,
          -32.1375732421875,
          -30.437255859375,
          -16.510480880737305,
          -44.32673263549805,
          16.426227569580078,
          8.826066970825195,
          25.056556701660156,
          33.535736083984375,
          10.396895408630371,
          -4.335341453552246,
          -27.726877212524414,
          -25.915754318237305,
          34.38632583618164,
          -32.86223602294922,
          33.898406982421875,
          -2.291459560394287,
          -30.73979377746582,
          11.158802032470703,
          -21.11009979248047,
          -22.822330474853516,
          -25.272064208984375,
          3.204576015472412,
          2.1094040870666504,
          8.746923446655273,
          -32.791786193847656,
          2.627871513366699,
          -40.872581481933594,
          28.668781280517578,
          -29.243854522705078,
          -41.414302825927734,
          13.615625381469727,
          24.97706413269043,
          0.8588346242904663,
          -8.998153686523438,
          -34.42076873779297,
          0.5051411390304565,
          21.33390235900879,
          -21.29931640625,
          -43.05593490600586,
          0.09428069740533829,
          17.125547409057617,
          -26.367904663085938,
          21.464061737060547,
          -3.171457529067993,
          34.36366653442383,
          -22.606178283691406,
          -3.131913423538208,
          20.586767196655273,
          29.54241180419922,
          -38.51274108886719,
          -14.823629379272461,
          -2.8062846660614014,
          8.713898658752441,
          31.941587448120117,
          -0.1305616796016693,
          5.547818183898926,
          -19.51811981201172,
          -29.9324951171875,
          -9.156051635742188,
          -1.0070029497146606,
          49.91535186767578,
          -1.719344973564148,
          30.733600616455078,
          49.08781433105469,
          -20.108810424804688,
          0.4114132225513458,
          44.14738082885742,
          13.149405479431152,
          27.2044620513916,
          27.182037353515625,
          -36.106201171875,
          -33.755340576171875,
          21.730756759643555,
          3.401096820831299,
          0.8686948418617249,
          13.053023338317871,
          13.601530075073242,
          26.195287704467773,
          -31.708372116088867,
          -26.586917877197266,
          11.56013011932373,
          -18.93158721923828,
          -24.955385208129883,
          -24.874422073364258,
          26.620302200317383,
          11.168063163757324,
          -39.19043731689453,
          -13.031511306762695,
          1.077454924583435,
          43.475589752197266,
          14.890603065490723,
          -36.54410934448242,
          24.493389129638672,
          21.319698333740234,
          -29.155832290649414,
          40.01535415649414,
          22.191158294677734,
          37.82249450683594,
          12.598699569702148,
          -22.817880630493164,
          8.913122177124023,
          17.589309692382812,
          -21.41461944580078,
          -6.354528427124023,
          -36.08602523803711,
          20.82107162475586,
          -5.875322341918945,
          16.607908248901367,
          3.841094493865967,
          -28.987215042114258,
          32.38029479980469,
          13.855993270874023,
          30.839107513427734,
          -34.15504837036133,
          -25.83431625366211,
          19.324918746948242,
          8.349721908569336,
          21.2449893951416,
          21.30111312866211,
          28.780105590820312,
          23.64746856689453,
          17.774015426635742,
          22.577547073364258,
          -27.05842399597168,
          33.04206848144531,
          35.80839538574219,
          -2.058194875717163,
          32.381465911865234,
          -26.263999938964844,
          -10.37317180633545,
          17.159252166748047,
          -18.63605308532715,
          21.52923011779785,
          -21.78384017944336,
          -17.153409957885742,
          37.64872741699219,
          22.474449157714844,
          32.41935729980469,
          2.286741256713867,
          35.735252380371094,
          -38.65513610839844,
          28.9549617767334,
          15.549505233764648,
          -35.768646240234375,
          5.0582709312438965,
          32.53863525390625,
          29.437198638916016,
          36.96098327636719,
          -15.542182922363281,
          -9.696367263793945,
          22.27773666381836,
          4.939281940460205,
          15.325519561767578,
          -41.44850158691406,
          -10.840132713317871,
          -39.9442253112793,
          -2.6502397060394287,
          48.5510139465332,
          4.643207550048828,
          13.316572189331055,
          -47.167396545410156,
          -15.918485641479492,
          -25.1197566986084,
          0.8787341117858887,
          -19.059141159057617,
          42.61516189575195,
          27.684906005859375,
          -17.780637741088867,
          -2.1183290481567383,
          32.93729782104492,
          -7.402267932891846,
          -20.047569274902344,
          -40.066062927246094,
          3.9555163383483887,
          -3.900315284729004,
          -24.449007034301758,
          7.960531234741211,
          24.96316909790039,
          24.26298713684082,
          46.56669616699219,
          27.007598876953125,
          14.973639488220215,
          -26.32160758972168,
          26.547176361083984,
          15.253274917602539,
          10.347943305969238,
          50.436920166015625,
          -2.8857603073120117,
          -32.52100372314453,
          -29.454181671142578,
          48.656211853027344,
          10.846917152404785,
          12.310420036315918,
          1.3306331634521484,
          29.514307022094727,
          37.92027282714844,
          -2.6818149089813232,
          -27.951562881469727,
          4.054959774017334,
          40.87581253051758,
          25.2246150970459,
          -29.82884407043457,
          36.09727096557617,
          -37.21955108642578,
          28.444690704345703,
          42.64457321166992,
          -27.489402770996094,
          -21.703685760498047,
          20.287513732910156,
          -14.193116188049316,
          8.23105525970459,
          -21.413494110107422,
          4.901424884796143,
          -9.711445808410645,
          -26.173643112182617,
          -0.40698176622390747,
          25.874801635742188,
          43.60190963745117,
          -22.656463623046875,
          -31.559463500976562,
          -33.67427062988281,
          0.02468833327293396,
          -43.413673400878906,
          -30.105356216430664,
          -14.953069686889648,
          -15.123618125915527,
          22.111915588378906,
          -22.244836807250977,
          -30.00615882873535,
          -30.673423767089844,
          7.1925153732299805,
          12.3109712600708,
          -13.973295211791992,
          29.095849990844727,
          55.370086669921875,
          26.228137969970703,
          44.826629638671875,
          -16.24574089050293,
          27.3602294921875,
          -24.206296920776367,
          46.06084442138672,
          -28.82210350036621,
          -34.563350677490234,
          24.528226852416992,
          -1.270248532295227,
          -28.079744338989258,
          -16.86650848388672,
          18.4097843170166,
          2.6459596157073975,
          -35.569732666015625,
          48.43737030029297,
          43.752952575683594,
          -4.653203010559082,
          -0.5137410759925842,
          -31.506248474121094,
          14.145559310913086,
          25.120012283325195,
          27.413875579833984,
          -14.419440269470215,
          25.521135330200195,
          -35.4528923034668,
          39.80118179321289,
          3.1543052196502686,
          24.141937255859375,
          37.47239303588867,
          -4.10601282119751,
          31.010175704956055,
          9.573052406311035,
          23.798053741455078,
          28.132930755615234,
          -11.572036743164062,
          -32.9974365234375,
          -32.819091796875,
          27.137699127197266,
          39.285037994384766,
          50.68480682373047,
          5.8617262840271,
          0.5552186369895935,
          6.819193363189697,
          -27.411287307739258,
          -30.132545471191406,
          -29.24985122680664,
          17.4823055267334,
          -38.18095016479492,
          14.202690124511719,
          -17.806411743164062,
          37.891841888427734,
          33.91392135620117,
          1.4106310606002808,
          24.597034454345703,
          -18.4097900390625,
          -6.8150553703308105,
          -11.037286758422852,
          -0.08093966543674469,
          10.894354820251465,
          16.420202255249023,
          -40.65714645385742,
          -4.335100173950195,
          41.30400085449219,
          -42.63495635986328,
          -35.984378814697266,
          -33.615150451660156,
          9.313820838928223,
          -36.89295196533203,
          52.77808380126953,
          -36.019283294677734,
          25.807621002197266,
          -15.624471664428711,
          4.788832664489746,
          2.589869260787964,
          12.9218168258667,
          -22.228628158569336,
          36.40243911743164,
          -1.378479242324829,
          -29.009666442871094,
          -31.615690231323242,
          25.803491592407227,
          51.622032165527344,
          2.6006438732147217,
          38.405391693115234,
          -29.809783935546875,
          7.776271820068359,
          24.821521759033203,
          54.93109893798828,
          25.036685943603516,
          24.867435455322266,
          26.722881317138672,
          14.477436065673828,
          44.079532623291016,
          -17.37175941467285,
          -25.865812301635742,
          -3.777125835418701,
          30.184799194335938,
          12.66921329498291,
          -15.692917823791504,
          -42.759639739990234,
          -33.8458366394043,
          -39.53379440307617,
          -31.860525131225586,
          -6.246494293212891,
          27.146076202392578,
          35.15557861328125,
          36.86824035644531,
          18.79579734802246,
          17.685190200805664,
          15.569067001342773,
          5.0898847579956055,
          -1.174572229385376,
          26.42072296142578,
          19.407224655151367,
          -14.857312202453613,
          -4.534142971038818,
          -36.65838623046875,
          4.597141742706299,
          12.674112319946289,
          22.59634017944336,
          30.23756980895996,
          34.50834274291992,
          39.74029541015625,
          20.80201530456543,
          6.476912975311279,
          25.382305145263672,
          -3.817462205886841,
          -41.53250503540039,
          -7.344553470611572,
          -30.217594146728516,
          23.477210998535156,
          -34.100433349609375,
          -30.875211715698242,
          -22.044485092163086,
          -48.603660583496094,
          -24.944120407104492,
          -36.04515075683594,
          3.5656254291534424,
          -12.46502685546875,
          41.30628967285156,
          -4.977688312530518,
          5.204392433166504,
          3.4378089904785156,
          32.68463134765625,
          -1.8918225765228271,
          15.819376945495605,
          -39.76909637451172,
          43.14719009399414,
          -36.48868179321289,
          0.16206778585910797,
          17.325889587402344,
          30.644508361816406,
          -40.587432861328125,
          40.00282287597656,
          -17.477434158325195,
          22.123992919921875,
          34.52479553222656,
          -15.74390697479248,
          31.212533950805664,
          43.440486907958984,
          -31.298885345458984,
          -0.08192469924688339,
          -4.20711088180542,
          -47.17965316772461,
          -11.174245834350586,
          -35.61293411254883,
          -29.52960968017578,
          30.779680252075195,
          -39.32975769042969,
          6.813399791717529,
          6.110079288482666,
          -18.410335540771484,
          23.620168685913086,
          -30.889705657958984,
          -15.627036094665527,
          32.177032470703125,
          -6.989556789398193,
          -32.05855178833008,
          -31.33559226989746,
          -6.305765151977539,
          -21.088376998901367,
          -35.441162109375,
          40.077064514160156,
          25.000276565551758,
          -6.093579292297363,
          -16.836013793945312,
          19.78680992126465,
          0.7542749643325806,
          -35.02744674682617,
          22.582883834838867,
          53.785194396972656,
          -1.7689324617385864,
          33.087886810302734,
          -40.993995666503906,
          -41.3038444519043,
          -37.94156265258789,
          -39.22689437866211,
          31.945035934448242,
          -41.40370559692383,
          -3.9640767574310303,
          22.81398582458496,
          -30.517427444458008,
          -20.256811141967773,
          -3.1270201206207275,
          4.652102947235107,
          14.285269737243652,
          -15.80897045135498,
          -19.22748565673828,
          -25.776832580566406,
          -12.949383735656738,
          -29.90766716003418,
          48.122310638427734,
          -6.287304401397705,
          -35.117340087890625,
          -4.212160587310791,
          28.27338218688965,
          -17.66288948059082,
          31.160961151123047,
          4.103906154632568,
          0.6744851469993591,
          -25.941133499145508,
          -27.570388793945312,
          22.370946884155273,
          24.529041290283203,
          -29.34416389465332
         ]
        }
       ],
       "layout": {
        "height": 850,
        "template": {
         "data": {
          "bar": [
           {
            "error_x": {
             "color": "#2a3f5f"
            },
            "error_y": {
             "color": "#2a3f5f"
            },
            "marker": {
             "line": {
              "color": "#E5ECF6",
              "width": 0.5
             },
             "pattern": {
              "fillmode": "overlay",
              "size": 10,
              "solidity": 0.2
             }
            },
            "type": "bar"
           }
          ],
          "barpolar": [
           {
            "marker": {
             "line": {
              "color": "#E5ECF6",
              "width": 0.5
             },
             "pattern": {
              "fillmode": "overlay",
              "size": 10,
              "solidity": 0.2
             }
            },
            "type": "barpolar"
           }
          ],
          "carpet": [
           {
            "aaxis": {
             "endlinecolor": "#2a3f5f",
             "gridcolor": "white",
             "linecolor": "white",
             "minorgridcolor": "white",
             "startlinecolor": "#2a3f5f"
            },
            "baxis": {
             "endlinecolor": "#2a3f5f",
             "gridcolor": "white",
             "linecolor": "white",
             "minorgridcolor": "white",
             "startlinecolor": "#2a3f5f"
            },
            "type": "carpet"
           }
          ],
          "choropleth": [
           {
            "colorbar": {
             "outlinewidth": 0,
             "ticks": ""
            },
            "type": "choropleth"
           }
          ],
          "contour": [
           {
            "colorbar": {
             "outlinewidth": 0,
             "ticks": ""
            },
            "colorscale": [
             [
              0,
              "#0d0887"
             ],
             [
              0.1111111111111111,
              "#46039f"
             ],
             [
              0.2222222222222222,
              "#7201a8"
             ],
             [
              0.3333333333333333,
              "#9c179e"
             ],
             [
              0.4444444444444444,
              "#bd3786"
             ],
             [
              0.5555555555555556,
              "#d8576b"
             ],
             [
              0.6666666666666666,
              "#ed7953"
             ],
             [
              0.7777777777777778,
              "#fb9f3a"
             ],
             [
              0.8888888888888888,
              "#fdca26"
             ],
             [
              1,
              "#f0f921"
             ]
            ],
            "type": "contour"
           }
          ],
          "contourcarpet": [
           {
            "colorbar": {
             "outlinewidth": 0,
             "ticks": ""
            },
            "type": "contourcarpet"
           }
          ],
          "heatmap": [
           {
            "colorbar": {
             "outlinewidth": 0,
             "ticks": ""
            },
            "colorscale": [
             [
              0,
              "#0d0887"
             ],
             [
              0.1111111111111111,
              "#46039f"
             ],
             [
              0.2222222222222222,
              "#7201a8"
             ],
             [
              0.3333333333333333,
              "#9c179e"
             ],
             [
              0.4444444444444444,
              "#bd3786"
             ],
             [
              0.5555555555555556,
              "#d8576b"
             ],
             [
              0.6666666666666666,
              "#ed7953"
             ],
             [
              0.7777777777777778,
              "#fb9f3a"
             ],
             [
              0.8888888888888888,
              "#fdca26"
             ],
             [
              1,
              "#f0f921"
             ]
            ],
            "type": "heatmap"
           }
          ],
          "histogram": [
           {
            "marker": {
             "pattern": {
              "fillmode": "overlay",
              "size": 10,
              "solidity": 0.2
             }
            },
            "type": "histogram"
           }
          ],
          "histogram2d": [
           {
            "colorbar": {
             "outlinewidth": 0,
             "ticks": ""
            },
            "colorscale": [
             [
              0,
              "#0d0887"
             ],
             [
              0.1111111111111111,
              "#46039f"
             ],
             [
              0.2222222222222222,
              "#7201a8"
             ],
             [
              0.3333333333333333,
              "#9c179e"
             ],
             [
              0.4444444444444444,
              "#bd3786"
             ],
             [
              0.5555555555555556,
              "#d8576b"
             ],
             [
              0.6666666666666666,
              "#ed7953"
             ],
             [
              0.7777777777777778,
              "#fb9f3a"
             ],
             [
              0.8888888888888888,
              "#fdca26"
             ],
             [
              1,
              "#f0f921"
             ]
            ],
            "type": "histogram2d"
           }
          ],
          "histogram2dcontour": [
           {
            "colorbar": {
             "outlinewidth": 0,
             "ticks": ""
            },
            "colorscale": [
             [
              0,
              "#0d0887"
             ],
             [
              0.1111111111111111,
              "#46039f"
             ],
             [
              0.2222222222222222,
              "#7201a8"
             ],
             [
              0.3333333333333333,
              "#9c179e"
             ],
             [
              0.4444444444444444,
              "#bd3786"
             ],
             [
              0.5555555555555556,
              "#d8576b"
             ],
             [
              0.6666666666666666,
              "#ed7953"
             ],
             [
              0.7777777777777778,
              "#fb9f3a"
             ],
             [
              0.8888888888888888,
              "#fdca26"
             ],
             [
              1,
              "#f0f921"
             ]
            ],
            "type": "histogram2dcontour"
           }
          ],
          "mesh3d": [
           {
            "colorbar": {
             "outlinewidth": 0,
             "ticks": ""
            },
            "type": "mesh3d"
           }
          ],
          "parcoords": [
           {
            "line": {
             "colorbar": {
              "outlinewidth": 0,
              "ticks": ""
             }
            },
            "type": "parcoords"
           }
          ],
          "pie": [
           {
            "automargin": true,
            "type": "pie"
           }
          ],
          "scatter": [
           {
            "fillpattern": {
             "fillmode": "overlay",
             "size": 10,
             "solidity": 0.2
            },
            "type": "scatter"
           }
          ],
          "scatter3d": [
           {
            "line": {
             "colorbar": {
              "outlinewidth": 0,
              "ticks": ""
             }
            },
            "marker": {
             "colorbar": {
              "outlinewidth": 0,
              "ticks": ""
             }
            },
            "type": "scatter3d"
           }
          ],
          "scattercarpet": [
           {
            "marker": {
             "colorbar": {
              "outlinewidth": 0,
              "ticks": ""
             }
            },
            "type": "scattercarpet"
           }
          ],
          "scattergeo": [
           {
            "marker": {
             "colorbar": {
              "outlinewidth": 0,
              "ticks": ""
             }
            },
            "type": "scattergeo"
           }
          ],
          "scattergl": [
           {
            "marker": {
             "colorbar": {
              "outlinewidth": 0,
              "ticks": ""
             }
            },
            "type": "scattergl"
           }
          ],
          "scattermap": [
           {
            "marker": {
             "colorbar": {
              "outlinewidth": 0,
              "ticks": ""
             }
            },
            "type": "scattermap"
           }
          ],
          "scattermapbox": [
           {
            "marker": {
             "colorbar": {
              "outlinewidth": 0,
              "ticks": ""
             }
            },
            "type": "scattermapbox"
           }
          ],
          "scatterpolar": [
           {
            "marker": {
             "colorbar": {
              "outlinewidth": 0,
              "ticks": ""
             }
            },
            "type": "scatterpolar"
           }
          ],
          "scatterpolargl": [
           {
            "marker": {
             "colorbar": {
              "outlinewidth": 0,
              "ticks": ""
             }
            },
            "type": "scatterpolargl"
           }
          ],
          "scatterternary": [
           {
            "marker": {
             "colorbar": {
              "outlinewidth": 0,
              "ticks": ""
             }
            },
            "type": "scatterternary"
           }
          ],
          "surface": [
           {
            "colorbar": {
             "outlinewidth": 0,
             "ticks": ""
            },
            "colorscale": [
             [
              0,
              "#0d0887"
             ],
             [
              0.1111111111111111,
              "#46039f"
             ],
             [
              0.2222222222222222,
              "#7201a8"
             ],
             [
              0.3333333333333333,
              "#9c179e"
             ],
             [
              0.4444444444444444,
              "#bd3786"
             ],
             [
              0.5555555555555556,
              "#d8576b"
             ],
             [
              0.6666666666666666,
              "#ed7953"
             ],
             [
              0.7777777777777778,
              "#fb9f3a"
             ],
             [
              0.8888888888888888,
              "#fdca26"
             ],
             [
              1,
              "#f0f921"
             ]
            ],
            "type": "surface"
           }
          ],
          "table": [
           {
            "cells": {
             "fill": {
              "color": "#EBF0F8"
             },
             "line": {
              "color": "white"
             }
            },
            "header": {
             "fill": {
              "color": "#C8D4E3"
             },
             "line": {
              "color": "white"
             }
            },
            "type": "table"
           }
          ]
         },
         "layout": {
          "annotationdefaults": {
           "arrowcolor": "#2a3f5f",
           "arrowhead": 0,
           "arrowwidth": 1
          },
          "autotypenumbers": "strict",
          "coloraxis": {
           "colorbar": {
            "outlinewidth": 0,
            "ticks": ""
           }
          },
          "colorscale": {
           "diverging": [
            [
             0,
             "#8e0152"
            ],
            [
             0.1,
             "#c51b7d"
            ],
            [
             0.2,
             "#de77ae"
            ],
            [
             0.3,
             "#f1b6da"
            ],
            [
             0.4,
             "#fde0ef"
            ],
            [
             0.5,
             "#f7f7f7"
            ],
            [
             0.6,
             "#e6f5d0"
            ],
            [
             0.7,
             "#b8e186"
            ],
            [
             0.8,
             "#7fbc41"
            ],
            [
             0.9,
             "#4d9221"
            ],
            [
             1,
             "#276419"
            ]
           ],
           "sequential": [
            [
             0,
             "#0d0887"
            ],
            [
             0.1111111111111111,
             "#46039f"
            ],
            [
             0.2222222222222222,
             "#7201a8"
            ],
            [
             0.3333333333333333,
             "#9c179e"
            ],
            [
             0.4444444444444444,
             "#bd3786"
            ],
            [
             0.5555555555555556,
             "#d8576b"
            ],
            [
             0.6666666666666666,
             "#ed7953"
            ],
            [
             0.7777777777777778,
             "#fb9f3a"
            ],
            [
             0.8888888888888888,
             "#fdca26"
            ],
            [
             1,
             "#f0f921"
            ]
           ],
           "sequentialminus": [
            [
             0,
             "#0d0887"
            ],
            [
             0.1111111111111111,
             "#46039f"
            ],
            [
             0.2222222222222222,
             "#7201a8"
            ],
            [
             0.3333333333333333,
             "#9c179e"
            ],
            [
             0.4444444444444444,
             "#bd3786"
            ],
            [
             0.5555555555555556,
             "#d8576b"
            ],
            [
             0.6666666666666666,
             "#ed7953"
            ],
            [
             0.7777777777777778,
             "#fb9f3a"
            ],
            [
             0.8888888888888888,
             "#fdca26"
            ],
            [
             1,
             "#f0f921"
            ]
           ]
          },
          "colorway": [
           "#636efa",
           "#EF553B",
           "#00cc96",
           "#ab63fa",
           "#FFA15A",
           "#19d3f3",
           "#FF6692",
           "#B6E880",
           "#FF97FF",
           "#FECB52"
          ],
          "font": {
           "color": "#2a3f5f"
          },
          "geo": {
           "bgcolor": "white",
           "lakecolor": "white",
           "landcolor": "#E5ECF6",
           "showlakes": true,
           "showland": true,
           "subunitcolor": "white"
          },
          "hoverlabel": {
           "align": "left"
          },
          "hovermode": "closest",
          "mapbox": {
           "style": "light"
          },
          "paper_bgcolor": "white",
          "plot_bgcolor": "#E5ECF6",
          "polar": {
           "angularaxis": {
            "gridcolor": "white",
            "linecolor": "white",
            "ticks": ""
           },
           "bgcolor": "#E5ECF6",
           "radialaxis": {
            "gridcolor": "white",
            "linecolor": "white",
            "ticks": ""
           }
          },
          "scene": {
           "xaxis": {
            "backgroundcolor": "#E5ECF6",
            "gridcolor": "white",
            "gridwidth": 2,
            "linecolor": "white",
            "showbackground": true,
            "ticks": "",
            "zerolinecolor": "white"
           },
           "yaxis": {
            "backgroundcolor": "#E5ECF6",
            "gridcolor": "white",
            "gridwidth": 2,
            "linecolor": "white",
            "showbackground": true,
            "ticks": "",
            "zerolinecolor": "white"
           },
           "zaxis": {
            "backgroundcolor": "#E5ECF6",
            "gridcolor": "white",
            "gridwidth": 2,
            "linecolor": "white",
            "showbackground": true,
            "ticks": "",
            "zerolinecolor": "white"
           }
          },
          "shapedefaults": {
           "line": {
            "color": "#2a3f5f"
           }
          },
          "ternary": {
           "aaxis": {
            "gridcolor": "white",
            "linecolor": "white",
            "ticks": ""
           },
           "baxis": {
            "gridcolor": "white",
            "linecolor": "white",
            "ticks": ""
           },
           "bgcolor": "#E5ECF6",
           "caxis": {
            "gridcolor": "white",
            "linecolor": "white",
            "ticks": ""
           }
          },
          "title": {
           "x": 0.05
          },
          "xaxis": {
           "automargin": true,
           "gridcolor": "white",
           "linecolor": "white",
           "ticks": "",
           "title": {
            "standoff": 15
           },
           "zerolinecolor": "white",
           "zerolinewidth": 2
          },
          "yaxis": {
           "automargin": true,
           "gridcolor": "white",
           "linecolor": "white",
           "ticks": "",
           "title": {
            "standoff": 15
           },
           "zerolinecolor": "white",
           "zerolinewidth": 2
          }
         }
        },
        "title": {
         "text": "t-SNE of Embeddings of Parents' Social Media Definitions"
        },
        "width": 900
       }
      }
     },
     "metadata": {},
     "output_type": "display_data"
    }
   ],
   "source": [
    "\n",
    "tsne = TSNE(n_components=2, perplexity=15, random_state=42, init='random', learning_rate=200)\n",
    "vis_dims = tsne.fit_transform(X)\n",
    "tsne_x = [x for x, y in vis_dims]\n",
    "tsne_y = [y for x,y in vis_dims]\n",
    "\n",
    "# colors = [str(x) for x in df['survey_num'].to_list()]\n",
    "# color_map = {1: 'coral', 2: 'mediumseagreen', 3: 'cornflowerblue', 4: 'orchid'}\n",
    "\n",
    "fig = go.Figure()\n",
    "fig.add_trace(go.Scatter(\n",
    "    x=tsne_x,\n",
    "    y=tsne_y,\n",
    "    mode='markers',\n",
    "    hoverinfo='all',\n",
    "    text=df['sm_def'].to_list(),\n",
    "    marker=dict(\n",
    "        size=5,\n",
    "        color=\"cornflowerblue\",\n",
    "        line=dict(width=2),\n",
    "\n",
    "    ),\n",
    "))\n",
    "\n",
    "fig.update_layout(\n",
    "    title='t-SNE of Embeddings of Parents\\' Social Media Definitions',\n",
    "    width=900,\n",
    "    height=850,\n",
    ")\n",
    "\n",
    "\n",
    "fig.write_html('../../figures/q1_tsne.html')\n",
    "\n",
    "fig.write_image('../../figures/q1_tsne.png')\n",
    "\n",
    "fig.show()\n"
   ]
  },
  {
   "cell_type": "markdown",
   "metadata": {},
   "source": [
    "### PCA"
   ]
  },
  {
   "cell_type": "code",
   "execution_count": 60,
   "metadata": {},
   "outputs": [
    {
     "data": {
      "text/plain": [
       "(1002, 1536)"
      ]
     },
     "execution_count": 60,
     "metadata": {},
     "output_type": "execute_result"
    }
   ],
   "source": [
    "np.array(q1_embeddings).shape"
   ]
  },
  {
   "cell_type": "code",
   "execution_count": 61,
   "metadata": {},
   "outputs": [],
   "source": [
    "X = np.array(q1_embeddings)\n",
    "pca = PCA(n_components=3)\n",
    "components = pca.fit_transform(X)\n",
    "exp_var = pca.explained_variance_ratio_.sum()\n",
    "\n",
    "df[['c1', 'c2', 'c3']] = components"
   ]
  },
  {
   "cell_type": "code",
   "execution_count": 62,
   "metadata": {},
   "outputs": [
    {
     "data": {
      "application/vnd.plotly.v1+json": {
       "config": {
        "plotlyServerURL": "https://plot.ly"
       },
       "data": [
        {
         "marker": {
          "color": [
           "mediumblue",
           "mediumblue",
           "cornflowerblue",
           "cornflowerblue",
           "cornflowerblue",
           "cornflowerblue",
           "cornflowerblue",
           "cornflowerblue",
           "cornflowerblue",
           "mediumblue",
           "mediumblue",
           "cornflowerblue",
           "mediumblue",
           "cornflowerblue",
           "cornflowerblue",
           "cornflowerblue",
           "mediumblue",
           "cornflowerblue",
           "mediumblue",
           "cornflowerblue",
           "mediumblue",
           "cornflowerblue",
           "mediumblue",
           "cornflowerblue",
           "khaki",
           "mediumblue",
           "mediumblue",
           "mediumblue",
           "mediumblue",
           "cornflowerblue",
           "cornflowerblue",
           "mediumblue",
           "mediumblue",
           "mediumblue",
           "cornflowerblue",
           "mediumblue",
           "cornflowerblue",
           "cornflowerblue",
           "mediumblue",
           "cornflowerblue",
           "mediumblue",
           "cornflowerblue",
           "mediumblue",
           "cornflowerblue",
           "mediumblue",
           "cornflowerblue",
           "cornflowerblue",
           "mediumblue",
           "cornflowerblue",
           "cornflowerblue",
           "mediumblue",
           "cornflowerblue",
           "mediumblue",
           "cornflowerblue",
           "cornflowerblue",
           "cornflowerblue",
           "cornflowerblue",
           "khaki",
           "mediumblue",
           "mediumblue",
           "mediumblue",
           "cornflowerblue",
           "mediumblue",
           "cornflowerblue",
           "cornflowerblue",
           "mediumblue",
           "mediumblue",
           "cornflowerblue",
           "mediumblue",
           "lightgreen",
           "mediumblue",
           "mediumblue",
           "cornflowerblue",
           "mediumblue",
           "cornflowerblue",
           "cornflowerblue",
           "mediumblue",
           "khaki",
           "cornflowerblue",
           "mediumblue",
           "mediumblue",
           "cornflowerblue",
           "mediumblue",
           "mediumblue",
           "mediumblue",
           "cornflowerblue",
           "mediumblue",
           "mediumblue",
           "mediumblue",
           "mediumblue",
           "mediumblue",
           "khaki",
           "cornflowerblue",
           "mediumblue",
           "mediumblue",
           "cornflowerblue",
           "mediumblue",
           "mediumblue",
           "mediumblue",
           "mediumblue",
           "cornflowerblue",
           "mediumblue",
           "cornflowerblue",
           "mediumblue",
           "cornflowerblue",
           "mediumblue",
           "mediumblue",
           "mediumblue",
           "cornflowerblue",
           "cornflowerblue",
           "cornflowerblue",
           "cornflowerblue",
           "mediumblue",
           "mediumblue",
           "mediumblue",
           "cornflowerblue",
           "mediumblue",
           "mediumblue",
           "mediumblue",
           "cornflowerblue",
           "cornflowerblue",
           "mediumblue",
           "mediumblue",
           "lightgreen",
           "cornflowerblue",
           "cornflowerblue",
           "cornflowerblue",
           "mediumblue",
           "mediumblue",
           "cornflowerblue",
           "mediumblue",
           "mediumblue",
           "mediumblue",
           "cornflowerblue",
           "cornflowerblue",
           "cornflowerblue",
           "cornflowerblue",
           "cornflowerblue",
           "cornflowerblue",
           "cornflowerblue",
           "cornflowerblue",
           "cornflowerblue",
           "cornflowerblue",
           "cornflowerblue",
           "cornflowerblue",
           "mediumblue",
           "cornflowerblue",
           "mediumblue",
           "mediumblue",
           "cornflowerblue",
           "cornflowerblue",
           "mediumblue",
           "mediumblue",
           "cornflowerblue",
           "cornflowerblue",
           "mediumblue",
           "cornflowerblue",
           "cornflowerblue",
           "cornflowerblue",
           "mediumblue",
           "cornflowerblue",
           "cornflowerblue",
           "mediumblue",
           "cornflowerblue",
           "cornflowerblue",
           "mediumblue",
           "cornflowerblue",
           "cornflowerblue",
           "cornflowerblue",
           "mediumblue",
           "cornflowerblue",
           "cornflowerblue",
           "mediumblue",
           "mediumblue",
           "lightgreen",
           "mediumblue",
           "cornflowerblue",
           "mediumblue",
           "cornflowerblue",
           "lightgreen",
           "cornflowerblue",
           "cornflowerblue",
           "cornflowerblue",
           "cornflowerblue",
           "mediumblue",
           "mediumblue",
           "cornflowerblue",
           "cornflowerblue",
           "mediumblue",
           "mediumblue",
           "mediumblue",
           "cornflowerblue",
           "mediumblue",
           "mediumblue",
           "cornflowerblue",
           "cornflowerblue",
           "mediumblue",
           "cornflowerblue",
           "cornflowerblue",
           "cornflowerblue",
           "cornflowerblue",
           "mediumblue",
           "cornflowerblue",
           "cornflowerblue",
           "cornflowerblue",
           "mediumblue",
           "mediumblue",
           "mediumblue",
           "cornflowerblue",
           "mediumblue",
           "mediumblue",
           "cornflowerblue",
           "mediumblue",
           "mediumblue",
           "mediumblue",
           "mediumblue",
           "mediumblue",
           "mediumblue",
           "mediumblue",
           "mediumblue",
           "cornflowerblue",
           "cornflowerblue",
           "cornflowerblue",
           "cornflowerblue",
           "cornflowerblue",
           "mediumblue",
           "cornflowerblue",
           "mediumblue",
           "mediumblue",
           "mediumblue",
           "mediumblue",
           "mediumblue",
           "cornflowerblue",
           "cornflowerblue",
           "mediumblue",
           "cornflowerblue",
           "mediumblue",
           "cornflowerblue",
           "cornflowerblue",
           "mediumblue",
           "cornflowerblue",
           "mediumblue",
           "cornflowerblue",
           "mediumblue",
           "cornflowerblue",
           "cornflowerblue",
           "mediumblue",
           "mediumblue",
           "mediumblue",
           "mediumblue",
           "cornflowerblue",
           "cornflowerblue",
           "mediumblue",
           "mediumblue",
           "khaki",
           "cornflowerblue",
           "mediumblue",
           "mediumblue",
           "cornflowerblue",
           "mediumblue",
           "cornflowerblue",
           "cornflowerblue",
           "cornflowerblue",
           "cornflowerblue",
           "cornflowerblue",
           "mediumblue",
           "mediumblue",
           "cornflowerblue",
           "cornflowerblue",
           "cornflowerblue",
           "cornflowerblue",
           "cornflowerblue",
           "mediumblue",
           "cornflowerblue",
           "cornflowerblue",
           "mediumblue",
           "cornflowerblue",
           "mediumblue",
           "khaki",
           "mediumblue",
           "cornflowerblue",
           "cornflowerblue",
           "mediumblue",
           "cornflowerblue",
           "cornflowerblue",
           "mediumblue",
           "mediumblue",
           "cornflowerblue",
           "cornflowerblue",
           "mediumblue",
           "mediumblue",
           "mediumblue",
           "cornflowerblue",
           "mediumblue",
           "mediumblue",
           "cornflowerblue",
           "cornflowerblue",
           "mediumblue",
           "cornflowerblue",
           "cornflowerblue",
           "mediumblue",
           "cornflowerblue",
           "mediumblue",
           "cornflowerblue",
           "mediumblue",
           "mediumblue",
           "mediumblue",
           "mediumblue",
           "cornflowerblue",
           "mediumblue",
           "mediumblue",
           "cornflowerblue",
           "cornflowerblue",
           "mediumblue",
           "mediumblue",
           "cornflowerblue",
           "mediumblue",
           "mediumblue",
           "mediumblue",
           "cornflowerblue",
           "cornflowerblue",
           "mediumblue",
           "mediumblue",
           "mediumblue",
           "cornflowerblue",
           "mediumblue",
           "cornflowerblue",
           "mediumblue",
           "cornflowerblue",
           "mediumblue",
           "mediumblue",
           "cornflowerblue",
           "mediumblue",
           "mediumblue",
           "mediumblue",
           "cornflowerblue",
           "mediumblue",
           "mediumblue",
           "cornflowerblue",
           "mediumblue",
           "cornflowerblue",
           "mediumblue",
           "mediumblue",
           "mediumblue",
           "mediumblue",
           "cornflowerblue",
           "mediumblue",
           "cornflowerblue",
           "cornflowerblue",
           "mediumblue",
           "mediumblue",
           "cornflowerblue",
           "cornflowerblue",
           "mediumblue",
           "cornflowerblue",
           "cornflowerblue",
           "khaki",
           "cornflowerblue",
           "mediumblue",
           "cornflowerblue",
           "cornflowerblue",
           "mediumblue",
           "mediumblue",
           "mediumblue",
           "mediumblue",
           "mediumblue",
           "cornflowerblue",
           "mediumblue",
           "cornflowerblue",
           "mediumblue",
           "mediumblue",
           "mediumblue",
           "cornflowerblue",
           "mediumblue",
           "cornflowerblue",
           "cornflowerblue",
           "mediumblue",
           "cornflowerblue",
           "mediumblue",
           "khaki",
           "mediumblue",
           "cornflowerblue",
           "cornflowerblue",
           "cornflowerblue",
           "cornflowerblue",
           "cornflowerblue",
           "cornflowerblue",
           "cornflowerblue",
           "cornflowerblue",
           "cornflowerblue",
           "mediumblue",
           "cornflowerblue",
           "cornflowerblue",
           "cornflowerblue",
           "cornflowerblue",
           "cornflowerblue",
           "mediumblue",
           "cornflowerblue",
           "mediumblue",
           "mediumblue",
           "mediumblue",
           "mediumblue",
           "cornflowerblue",
           "mediumblue",
           "mediumblue",
           "cornflowerblue",
           "cornflowerblue",
           "lightgreen",
           "khaki",
           "cornflowerblue",
           "mediumblue",
           "cornflowerblue",
           "cornflowerblue",
           "mediumblue",
           "cornflowerblue",
           "cornflowerblue",
           "mediumblue",
           "cornflowerblue",
           "mediumblue",
           "mediumblue",
           "mediumblue",
           "mediumblue",
           "mediumblue",
           "mediumblue",
           "cornflowerblue",
           "cornflowerblue",
           "cornflowerblue",
           "mediumblue",
           "mediumblue",
           "cornflowerblue",
           "cornflowerblue",
           "mediumblue",
           "lightgreen",
           "mediumblue",
           "mediumblue",
           "mediumblue",
           "mediumblue",
           "cornflowerblue",
           "mediumblue",
           "mediumblue",
           "mediumblue",
           "mediumblue",
           "cornflowerblue",
           "mediumblue",
           "mediumblue",
           "cornflowerblue",
           "cornflowerblue",
           "cornflowerblue",
           "cornflowerblue",
           "mediumblue",
           "cornflowerblue",
           "mediumblue",
           "mediumblue",
           "cornflowerblue",
           "mediumblue",
           "cornflowerblue",
           "cornflowerblue",
           "cornflowerblue",
           "cornflowerblue",
           "cornflowerblue",
           "cornflowerblue",
           "mediumblue",
           "cornflowerblue",
           "lightgreen",
           "mediumblue",
           "cornflowerblue",
           "mediumblue",
           "mediumblue",
           "mediumblue",
           "cornflowerblue",
           "khaki",
           "cornflowerblue",
           "cornflowerblue",
           "cornflowerblue",
           "cornflowerblue",
           "cornflowerblue",
           "cornflowerblue",
           "mediumblue",
           "mediumblue",
           "cornflowerblue",
           "mediumblue",
           "cornflowerblue",
           "cornflowerblue",
           "cornflowerblue",
           "khaki",
           "cornflowerblue",
           "mediumblue",
           "mediumblue",
           "mediumblue",
           "cornflowerblue",
           "mediumblue",
           "mediumblue",
           "cornflowerblue",
           "mediumblue",
           "cornflowerblue",
           "mediumblue",
           "cornflowerblue",
           "cornflowerblue",
           "mediumblue",
           "cornflowerblue",
           "cornflowerblue",
           "mediumblue",
           "mediumblue",
           "cornflowerblue",
           "cornflowerblue",
           "cornflowerblue",
           "cornflowerblue",
           "cornflowerblue",
           "cornflowerblue",
           "mediumblue",
           "mediumblue",
           "mediumblue",
           "mediumblue",
           "cornflowerblue",
           "cornflowerblue",
           "cornflowerblue",
           "mediumblue",
           "lightgreen",
           "mediumblue",
           "cornflowerblue",
           "cornflowerblue",
           "cornflowerblue",
           "mediumblue",
           "mediumblue",
           "cornflowerblue",
           "mediumblue",
           "cornflowerblue",
           "mediumblue",
           "cornflowerblue",
           "mediumblue",
           "mediumblue",
           "cornflowerblue",
           "khaki",
           "mediumblue",
           "mediumblue",
           "cornflowerblue",
           "mediumblue",
           "mediumblue",
           "mediumblue",
           "mediumblue",
           "mediumblue",
           "mediumblue",
           "mediumblue",
           "mediumblue",
           "mediumblue",
           "mediumblue",
           "cornflowerblue",
           "cornflowerblue",
           "cornflowerblue",
           "mediumblue",
           "mediumblue",
           "khaki",
           "mediumblue",
           "cornflowerblue",
           "mediumblue",
           "cornflowerblue",
           "cornflowerblue",
           "mediumblue",
           "cornflowerblue",
           "mediumblue",
           "mediumblue",
           "mediumblue",
           "cornflowerblue",
           "mediumblue",
           "cornflowerblue",
           "mediumblue",
           "mediumblue",
           "mediumblue",
           "lightgreen",
           "cornflowerblue",
           "mediumblue",
           "mediumblue",
           "cornflowerblue",
           "mediumblue",
           "mediumblue",
           "mediumblue",
           "mediumblue",
           "cornflowerblue",
           "cornflowerblue",
           "mediumblue",
           "cornflowerblue",
           "cornflowerblue",
           "mediumblue",
           "cornflowerblue",
           "cornflowerblue",
           "cornflowerblue",
           "mediumblue",
           "mediumblue",
           "cornflowerblue",
           "cornflowerblue",
           "mediumblue",
           "mediumblue",
           "cornflowerblue",
           "cornflowerblue",
           "cornflowerblue",
           "mediumblue",
           "cornflowerblue",
           "mediumblue",
           "mediumblue",
           "mediumblue",
           "mediumblue",
           "cornflowerblue",
           "mediumblue",
           "lightgreen",
           "cornflowerblue",
           "mediumblue",
           "mediumblue",
           "cornflowerblue",
           "cornflowerblue",
           "cornflowerblue",
           "cornflowerblue",
           "khaki",
           "khaki",
           "cornflowerblue",
           "mediumblue",
           "mediumblue",
           "cornflowerblue",
           "cornflowerblue",
           "lightgreen",
           "mediumblue",
           "mediumblue",
           "cornflowerblue",
           "mediumblue",
           "mediumblue",
           "mediumblue",
           "cornflowerblue",
           "cornflowerblue",
           "khaki",
           "mediumblue",
           "mediumblue",
           "cornflowerblue",
           "cornflowerblue",
           "mediumblue",
           "cornflowerblue",
           "mediumblue",
           "mediumblue",
           "cornflowerblue",
           "cornflowerblue",
           "cornflowerblue",
           "mediumblue",
           "mediumblue",
           "cornflowerblue",
           "cornflowerblue",
           "mediumblue",
           "khaki",
           "khaki",
           "cornflowerblue",
           "mediumblue",
           "cornflowerblue",
           "mediumblue",
           "mediumblue",
           "cornflowerblue",
           "mediumblue",
           "cornflowerblue",
           "khaki",
           "khaki",
           "cornflowerblue",
           "cornflowerblue",
           "cornflowerblue",
           "cornflowerblue",
           "cornflowerblue",
           "cornflowerblue",
           "mediumblue",
           "cornflowerblue",
           "mediumblue",
           "cornflowerblue",
           "cornflowerblue",
           "cornflowerblue",
           "cornflowerblue",
           "mediumblue",
           "cornflowerblue",
           "cornflowerblue",
           "cornflowerblue",
           "cornflowerblue",
           "mediumblue",
           "cornflowerblue",
           "cornflowerblue",
           "cornflowerblue",
           "lightgreen",
           "mediumblue",
           "cornflowerblue",
           "mediumblue",
           "cornflowerblue",
           "cornflowerblue",
           "cornflowerblue",
           "cornflowerblue",
           "lightgreen",
           "cornflowerblue",
           "cornflowerblue",
           "mediumblue",
           "mediumblue",
           "cornflowerblue",
           "cornflowerblue",
           "cornflowerblue",
           "mediumblue",
           "mediumblue",
           "khaki",
           "mediumblue",
           "cornflowerblue",
           "cornflowerblue",
           "mediumblue",
           "mediumblue",
           "mediumblue",
           "mediumblue",
           "cornflowerblue",
           "cornflowerblue",
           "cornflowerblue",
           "cornflowerblue",
           "mediumblue",
           "cornflowerblue",
           "cornflowerblue",
           "mediumblue",
           "mediumblue",
           "mediumblue",
           "cornflowerblue",
           "mediumblue",
           "mediumblue",
           "cornflowerblue",
           "lightgreen",
           "lightgreen",
           "cornflowerblue",
           "lightgreen",
           "mediumblue",
           "mediumblue",
           "cornflowerblue",
           "mediumblue",
           "cornflowerblue",
           "cornflowerblue",
           "mediumblue",
           "mediumblue",
           "khaki",
           "cornflowerblue",
           "cornflowerblue",
           "cornflowerblue",
           "mediumblue",
           "lightgreen",
           "cornflowerblue",
           "mediumblue",
           "mediumblue",
           "cornflowerblue",
           "cornflowerblue",
           "lightgreen",
           "mediumblue",
           "cornflowerblue",
           "mediumblue",
           "cornflowerblue",
           "cornflowerblue",
           "mediumblue",
           "mediumblue",
           "cornflowerblue",
           "cornflowerblue",
           "cornflowerblue",
           "mediumblue",
           "cornflowerblue",
           "cornflowerblue",
           "mediumblue",
           "mediumblue",
           "cornflowerblue",
           "cornflowerblue",
           "mediumblue",
           "mediumblue",
           "mediumblue",
           "mediumblue",
           "mediumblue",
           "mediumblue",
           "mediumblue",
           "mediumblue",
           "cornflowerblue",
           "mediumblue",
           "mediumblue",
           "mediumblue",
           "mediumblue",
           "cornflowerblue",
           "mediumblue",
           "cornflowerblue",
           "cornflowerblue",
           "cornflowerblue",
           "cornflowerblue",
           "mediumblue",
           "lightgreen",
           "mediumblue",
           "cornflowerblue",
           "mediumblue",
           "khaki",
           "cornflowerblue",
           "mediumblue",
           "mediumblue",
           "mediumblue",
           "cornflowerblue",
           "cornflowerblue",
           "khaki",
           "cornflowerblue",
           "cornflowerblue",
           "cornflowerblue",
           "mediumblue",
           "khaki",
           "cornflowerblue",
           "cornflowerblue",
           "lightgreen",
           "mediumblue",
           "cornflowerblue",
           "mediumblue",
           "cornflowerblue",
           "cornflowerblue",
           "cornflowerblue",
           "cornflowerblue",
           "cornflowerblue",
           "cornflowerblue",
           "cornflowerblue",
           "cornflowerblue",
           "cornflowerblue",
           "mediumblue",
           "mediumblue",
           "khaki",
           "cornflowerblue",
           "cornflowerblue",
           "cornflowerblue",
           "cornflowerblue",
           "mediumblue",
           "cornflowerblue",
           "mediumblue",
           "khaki",
           "mediumblue",
           "cornflowerblue",
           "khaki",
           "cornflowerblue",
           "mediumblue",
           "cornflowerblue",
           "cornflowerblue",
           "mediumblue",
           "cornflowerblue",
           "cornflowerblue",
           "cornflowerblue",
           "cornflowerblue",
           "mediumblue",
           "cornflowerblue",
           "cornflowerblue",
           "mediumblue",
           "cornflowerblue",
           "cornflowerblue",
           "mediumblue",
           "khaki",
           "khaki",
           "cornflowerblue",
           "mediumblue",
           "cornflowerblue",
           "mediumblue",
           "lightgreen",
           "mediumblue",
           "cornflowerblue",
           "cornflowerblue",
           "cornflowerblue",
           "mediumblue",
           "cornflowerblue",
           "mediumblue",
           "mediumblue",
           "mediumblue",
           "cornflowerblue",
           "cornflowerblue",
           "mediumblue",
           "cornflowerblue",
           "mediumblue",
           "cornflowerblue",
           "cornflowerblue",
           "cornflowerblue",
           "cornflowerblue",
           "cornflowerblue",
           "cornflowerblue",
           "cornflowerblue",
           "cornflowerblue",
           "mediumblue",
           "mediumblue",
           "cornflowerblue",
           "cornflowerblue",
           "mediumblue",
           "cornflowerblue",
           "mediumblue",
           "mediumblue",
           "mediumblue",
           "mediumblue",
           "cornflowerblue",
           "lightgreen",
           "cornflowerblue",
           "cornflowerblue",
           "mediumblue",
           "cornflowerblue",
           "cornflowerblue",
           "mediumblue",
           "mediumblue",
           "lightgreen",
           "mediumblue",
           "mediumblue",
           "mediumblue",
           "khaki",
           "cornflowerblue",
           "mediumblue",
           "cornflowerblue",
           "cornflowerblue",
           "cornflowerblue",
           "cornflowerblue",
           "cornflowerblue",
           "cornflowerblue",
           "cornflowerblue",
           "cornflowerblue",
           "khaki",
           "mediumblue",
           "cornflowerblue",
           "cornflowerblue",
           "mediumblue",
           "mediumblue",
           "mediumblue",
           "cornflowerblue",
           "mediumblue",
           "mediumblue",
           "mediumblue",
           "mediumblue",
           "cornflowerblue",
           "cornflowerblue",
           "cornflowerblue",
           "cornflowerblue",
           "cornflowerblue",
           "cornflowerblue",
           "cornflowerblue",
           "mediumblue",
           "cornflowerblue",
           "khaki",
           "mediumblue",
           "cornflowerblue",
           "lightgreen",
           "khaki",
           "cornflowerblue",
           "mediumblue",
           "cornflowerblue",
           "cornflowerblue",
           "mediumblue",
           "cornflowerblue",
           "cornflowerblue",
           "khaki",
           "cornflowerblue",
           "cornflowerblue",
           "mediumblue",
           "mediumblue",
           "mediumblue",
           "mediumblue",
           "cornflowerblue",
           "mediumblue",
           "cornflowerblue",
           "cornflowerblue",
           "mediumblue",
           "cornflowerblue",
           "mediumblue",
           "cornflowerblue",
           "lightgreen",
           "mediumblue",
           "khaki",
           "mediumblue",
           "mediumblue",
           "cornflowerblue",
           "mediumblue",
           "cornflowerblue",
           "lightgreen",
           "mediumblue",
           "mediumblue",
           "cornflowerblue",
           "cornflowerblue",
           "khaki",
           "cornflowerblue",
           "cornflowerblue",
           "cornflowerblue",
           "cornflowerblue",
           "mediumblue",
           "mediumblue",
           "mediumblue",
           "mediumblue",
           "cornflowerblue",
           "mediumblue",
           "mediumblue",
           "cornflowerblue",
           "cornflowerblue",
           "mediumblue",
           "cornflowerblue",
           "cornflowerblue",
           "cornflowerblue",
           "cornflowerblue",
           "mediumblue",
           "mediumblue",
           "mediumblue",
           "mediumblue",
           "cornflowerblue",
           "cornflowerblue",
           "mediumblue",
           "cornflowerblue",
           "cornflowerblue",
           "mediumblue",
           "cornflowerblue",
           "mediumblue",
           "mediumblue",
           "mediumblue",
           "mediumblue",
           "mediumblue",
           "lightgreen",
           "mediumblue"
          ],
          "line": {
           "width": 1
          },
          "opacity": 0.85,
          "size": 3
         },
         "mode": "markers",
         "showlegend": false,
         "type": "scatter3d",
         "x": {
          "bdata": "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",
          "dtype": "f8"
         },
         "y": {
          "bdata": "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",
          "dtype": "f8"
         },
         "z": {
          "bdata": "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",
          "dtype": "f8"
         }
        },
        {
         "marker": {
          "color": "midnightblue",
          "size": 10
         },
         "mode": "markers",
         "name": "Formal definition",
         "type": "scatter3d",
         "x": [
          null
         ],
         "y": [
          null
         ],
         "z": [
          null
         ]
        },
        {
         "marker": {
          "color": "cornflowerblue",
          "size": 10
         },
         "mode": "markers",
         "name": "Informal definition",
         "type": "scatter3d",
         "x": [
          null
         ],
         "y": [
          null
         ],
         "z": [
          null
         ]
        },
        {
         "marker": {
          "color": "khaki",
          "size": 10
         },
         "mode": "markers",
         "name": "Pros and cons",
         "type": "scatter3d",
         "x": [
          null
         ],
         "y": [
          null
         ],
         "z": [
          null
         ]
        },
        {
         "marker": {
          "color": "lightgreen",
          "size": 10
         },
         "mode": "markers",
         "name": "List of platforms",
         "type": "scatter3d",
         "x": [
          null
         ],
         "y": [
          null
         ],
         "z": [
          null
         ]
        }
       ],
       "layout": {
        "annotations": [
         {
          "font": {
           "color": "black",
           "size": 14
          },
          "showarrow": false,
          "text": "Visually identified clusters",
          "x": 0.5,
          "xref": "paper",
          "y": 1.05,
          "yref": "paper"
         }
        ],
        "height": 800,
        "legend": {
         "entrywidth": 110,
         "orientation": "h",
         "y": 1.02
        },
        "scene": {
         "aspectmode": "cube",
         "xaxis": {
          "title": {
           "text": "PC1"
          }
         },
         "yaxis": {
          "title": {
           "text": "PC2"
          }
         },
         "zaxis": {
          "title": {
           "text": "PC3"
          }
         }
        },
        "template": {
         "data": {
          "bar": [
           {
            "error_x": {
             "color": "#2a3f5f"
            },
            "error_y": {
             "color": "#2a3f5f"
            },
            "marker": {
             "line": {
              "color": "#E5ECF6",
              "width": 0.5
             },
             "pattern": {
              "fillmode": "overlay",
              "size": 10,
              "solidity": 0.2
             }
            },
            "type": "bar"
           }
          ],
          "barpolar": [
           {
            "marker": {
             "line": {
              "color": "#E5ECF6",
              "width": 0.5
             },
             "pattern": {
              "fillmode": "overlay",
              "size": 10,
              "solidity": 0.2
             }
            },
            "type": "barpolar"
           }
          ],
          "carpet": [
           {
            "aaxis": {
             "endlinecolor": "#2a3f5f",
             "gridcolor": "white",
             "linecolor": "white",
             "minorgridcolor": "white",
             "startlinecolor": "#2a3f5f"
            },
            "baxis": {
             "endlinecolor": "#2a3f5f",
             "gridcolor": "white",
             "linecolor": "white",
             "minorgridcolor": "white",
             "startlinecolor": "#2a3f5f"
            },
            "type": "carpet"
           }
          ],
          "choropleth": [
           {
            "colorbar": {
             "outlinewidth": 0,
             "ticks": ""
            },
            "type": "choropleth"
           }
          ],
          "contour": [
           {
            "colorbar": {
             "outlinewidth": 0,
             "ticks": ""
            },
            "colorscale": [
             [
              0,
              "#0d0887"
             ],
             [
              0.1111111111111111,
              "#46039f"
             ],
             [
              0.2222222222222222,
              "#7201a8"
             ],
             [
              0.3333333333333333,
              "#9c179e"
             ],
             [
              0.4444444444444444,
              "#bd3786"
             ],
             [
              0.5555555555555556,
              "#d8576b"
             ],
             [
              0.6666666666666666,
              "#ed7953"
             ],
             [
              0.7777777777777778,
              "#fb9f3a"
             ],
             [
              0.8888888888888888,
              "#fdca26"
             ],
             [
              1,
              "#f0f921"
             ]
            ],
            "type": "contour"
           }
          ],
          "contourcarpet": [
           {
            "colorbar": {
             "outlinewidth": 0,
             "ticks": ""
            },
            "type": "contourcarpet"
           }
          ],
          "heatmap": [
           {
            "colorbar": {
             "outlinewidth": 0,
             "ticks": ""
            },
            "colorscale": [
             [
              0,
              "#0d0887"
             ],
             [
              0.1111111111111111,
              "#46039f"
             ],
             [
              0.2222222222222222,
              "#7201a8"
             ],
             [
              0.3333333333333333,
              "#9c179e"
             ],
             [
              0.4444444444444444,
              "#bd3786"
             ],
             [
              0.5555555555555556,
              "#d8576b"
             ],
             [
              0.6666666666666666,
              "#ed7953"
             ],
             [
              0.7777777777777778,
              "#fb9f3a"
             ],
             [
              0.8888888888888888,
              "#fdca26"
             ],
             [
              1,
              "#f0f921"
             ]
            ],
            "type": "heatmap"
           }
          ],
          "histogram": [
           {
            "marker": {
             "pattern": {
              "fillmode": "overlay",
              "size": 10,
              "solidity": 0.2
             }
            },
            "type": "histogram"
           }
          ],
          "histogram2d": [
           {
            "colorbar": {
             "outlinewidth": 0,
             "ticks": ""
            },
            "colorscale": [
             [
              0,
              "#0d0887"
             ],
             [
              0.1111111111111111,
              "#46039f"
             ],
             [
              0.2222222222222222,
              "#7201a8"
             ],
             [
              0.3333333333333333,
              "#9c179e"
             ],
             [
              0.4444444444444444,
              "#bd3786"
             ],
             [
              0.5555555555555556,
              "#d8576b"
             ],
             [
              0.6666666666666666,
              "#ed7953"
             ],
             [
              0.7777777777777778,
              "#fb9f3a"
             ],
             [
              0.8888888888888888,
              "#fdca26"
             ],
             [
              1,
              "#f0f921"
             ]
            ],
            "type": "histogram2d"
           }
          ],
          "histogram2dcontour": [
           {
            "colorbar": {
             "outlinewidth": 0,
             "ticks": ""
            },
            "colorscale": [
             [
              0,
              "#0d0887"
             ],
             [
              0.1111111111111111,
              "#46039f"
             ],
             [
              0.2222222222222222,
              "#7201a8"
             ],
             [
              0.3333333333333333,
              "#9c179e"
             ],
             [
              0.4444444444444444,
              "#bd3786"
             ],
             [
              0.5555555555555556,
              "#d8576b"
             ],
             [
              0.6666666666666666,
              "#ed7953"
             ],
             [
              0.7777777777777778,
              "#fb9f3a"
             ],
             [
              0.8888888888888888,
              "#fdca26"
             ],
             [
              1,
              "#f0f921"
             ]
            ],
            "type": "histogram2dcontour"
           }
          ],
          "mesh3d": [
           {
            "colorbar": {
             "outlinewidth": 0,
             "ticks": ""
            },
            "type": "mesh3d"
           }
          ],
          "parcoords": [
           {
            "line": {
             "colorbar": {
              "outlinewidth": 0,
              "ticks": ""
             }
            },
            "type": "parcoords"
           }
          ],
          "pie": [
           {
            "automargin": true,
            "type": "pie"
           }
          ],
          "scatter": [
           {
            "fillpattern": {
             "fillmode": "overlay",
             "size": 10,
             "solidity": 0.2
            },
            "type": "scatter"
           }
          ],
          "scatter3d": [
           {
            "line": {
             "colorbar": {
              "outlinewidth": 0,
              "ticks": ""
             }
            },
            "marker": {
             "colorbar": {
              "outlinewidth": 0,
              "ticks": ""
             }
            },
            "type": "scatter3d"
           }
          ],
          "scattercarpet": [
           {
            "marker": {
             "colorbar": {
              "outlinewidth": 0,
              "ticks": ""
             }
            },
            "type": "scattercarpet"
           }
          ],
          "scattergeo": [
           {
            "marker": {
             "colorbar": {
              "outlinewidth": 0,
              "ticks": ""
             }
            },
            "type": "scattergeo"
           }
          ],
          "scattergl": [
           {
            "marker": {
             "colorbar": {
              "outlinewidth": 0,
              "ticks": ""
             }
            },
            "type": "scattergl"
           }
          ],
          "scattermap": [
           {
            "marker": {
             "colorbar": {
              "outlinewidth": 0,
              "ticks": ""
             }
            },
            "type": "scattermap"
           }
          ],
          "scattermapbox": [
           {
            "marker": {
             "colorbar": {
              "outlinewidth": 0,
              "ticks": ""
             }
            },
            "type": "scattermapbox"
           }
          ],
          "scatterpolar": [
           {
            "marker": {
             "colorbar": {
              "outlinewidth": 0,
              "ticks": ""
             }
            },
            "type": "scatterpolar"
           }
          ],
          "scatterpolargl": [
           {
            "marker": {
             "colorbar": {
              "outlinewidth": 0,
              "ticks": ""
             }
            },
            "type": "scatterpolargl"
           }
          ],
          "scatterternary": [
           {
            "marker": {
             "colorbar": {
              "outlinewidth": 0,
              "ticks": ""
             }
            },
            "type": "scatterternary"
           }
          ],
          "surface": [
           {
            "colorbar": {
             "outlinewidth": 0,
             "ticks": ""
            },
            "colorscale": [
             [
              0,
              "#0d0887"
             ],
             [
              0.1111111111111111,
              "#46039f"
             ],
             [
              0.2222222222222222,
              "#7201a8"
             ],
             [
              0.3333333333333333,
              "#9c179e"
             ],
             [
              0.4444444444444444,
              "#bd3786"
             ],
             [
              0.5555555555555556,
              "#d8576b"
             ],
             [
              0.6666666666666666,
              "#ed7953"
             ],
             [
              0.7777777777777778,
              "#fb9f3a"
             ],
             [
              0.8888888888888888,
              "#fdca26"
             ],
             [
              1,
              "#f0f921"
             ]
            ],
            "type": "surface"
           }
          ],
          "table": [
           {
            "cells": {
             "fill": {
              "color": "#EBF0F8"
             },
             "line": {
              "color": "white"
             }
            },
            "header": {
             "fill": {
              "color": "#C8D4E3"
             },
             "line": {
              "color": "white"
             }
            },
            "type": "table"
           }
          ]
         },
         "layout": {
          "annotationdefaults": {
           "arrowcolor": "#2a3f5f",
           "arrowhead": 0,
           "arrowwidth": 1
          },
          "autotypenumbers": "strict",
          "coloraxis": {
           "colorbar": {
            "outlinewidth": 0,
            "ticks": ""
           }
          },
          "colorscale": {
           "diverging": [
            [
             0,
             "#8e0152"
            ],
            [
             0.1,
             "#c51b7d"
            ],
            [
             0.2,
             "#de77ae"
            ],
            [
             0.3,
             "#f1b6da"
            ],
            [
             0.4,
             "#fde0ef"
            ],
            [
             0.5,
             "#f7f7f7"
            ],
            [
             0.6,
             "#e6f5d0"
            ],
            [
             0.7,
             "#b8e186"
            ],
            [
             0.8,
             "#7fbc41"
            ],
            [
             0.9,
             "#4d9221"
            ],
            [
             1,
             "#276419"
            ]
           ],
           "sequential": [
            [
             0,
             "#0d0887"
            ],
            [
             0.1111111111111111,
             "#46039f"
            ],
            [
             0.2222222222222222,
             "#7201a8"
            ],
            [
             0.3333333333333333,
             "#9c179e"
            ],
            [
             0.4444444444444444,
             "#bd3786"
            ],
            [
             0.5555555555555556,
             "#d8576b"
            ],
            [
             0.6666666666666666,
             "#ed7953"
            ],
            [
             0.7777777777777778,
             "#fb9f3a"
            ],
            [
             0.8888888888888888,
             "#fdca26"
            ],
            [
             1,
             "#f0f921"
            ]
           ],
           "sequentialminus": [
            [
             0,
             "#0d0887"
            ],
            [
             0.1111111111111111,
             "#46039f"
            ],
            [
             0.2222222222222222,
             "#7201a8"
            ],
            [
             0.3333333333333333,
             "#9c179e"
            ],
            [
             0.4444444444444444,
             "#bd3786"
            ],
            [
             0.5555555555555556,
             "#d8576b"
            ],
            [
             0.6666666666666666,
             "#ed7953"
            ],
            [
             0.7777777777777778,
             "#fb9f3a"
            ],
            [
             0.8888888888888888,
             "#fdca26"
            ],
            [
             1,
             "#f0f921"
            ]
           ]
          },
          "colorway": [
           "#636efa",
           "#EF553B",
           "#00cc96",
           "#ab63fa",
           "#FFA15A",
           "#19d3f3",
           "#FF6692",
           "#B6E880",
           "#FF97FF",
           "#FECB52"
          ],
          "font": {
           "color": "#2a3f5f"
          },
          "geo": {
           "bgcolor": "white",
           "lakecolor": "white",
           "landcolor": "#E5ECF6",
           "showlakes": true,
           "showland": true,
           "subunitcolor": "white"
          },
          "hoverlabel": {
           "align": "left"
          },
          "hovermode": "closest",
          "mapbox": {
           "style": "light"
          },
          "paper_bgcolor": "white",
          "plot_bgcolor": "#E5ECF6",
          "polar": {
           "angularaxis": {
            "gridcolor": "white",
            "linecolor": "white",
            "ticks": ""
           },
           "bgcolor": "#E5ECF6",
           "radialaxis": {
            "gridcolor": "white",
            "linecolor": "white",
            "ticks": ""
           }
          },
          "scene": {
           "xaxis": {
            "backgroundcolor": "#E5ECF6",
            "gridcolor": "white",
            "gridwidth": 2,
            "linecolor": "white",
            "showbackground": true,
            "ticks": "",
            "zerolinecolor": "white"
           },
           "yaxis": {
            "backgroundcolor": "#E5ECF6",
            "gridcolor": "white",
            "gridwidth": 2,
            "linecolor": "white",
            "showbackground": true,
            "ticks": "",
            "zerolinecolor": "white"
           },
           "zaxis": {
            "backgroundcolor": "#E5ECF6",
            "gridcolor": "white",
            "gridwidth": 2,
            "linecolor": "white",
            "showbackground": true,
            "ticks": "",
            "zerolinecolor": "white"
           }
          },
          "shapedefaults": {
           "line": {
            "color": "#2a3f5f"
           }
          },
          "ternary": {
           "aaxis": {
            "gridcolor": "white",
            "linecolor": "white",
            "ticks": ""
           },
           "baxis": {
            "gridcolor": "white",
            "linecolor": "white",
            "ticks": ""
           },
           "bgcolor": "#E5ECF6",
           "caxis": {
            "gridcolor": "white",
            "linecolor": "white",
            "ticks": ""
           }
          },
          "title": {
           "x": 0.05
          },
          "xaxis": {
           "automargin": true,
           "gridcolor": "white",
           "linecolor": "white",
           "ticks": "",
           "title": {
            "standoff": 15
           },
           "zerolinecolor": "white",
           "zerolinewidth": 2
          },
          "yaxis": {
           "automargin": true,
           "gridcolor": "white",
           "linecolor": "white",
           "ticks": "",
           "title": {
            "standoff": 15
           },
           "zerolinecolor": "white",
           "zerolinewidth": 2
          }
         }
        },
        "title": {
         "text": "3D PCA of Embeddings of Parents' Social Media Definitions"
        },
        "width": 800
       }
      }
     },
     "metadata": {},
     "output_type": "display_data"
    }
   ],
   "source": [
    "df['scatter_color'] = np.where((df['c2']>.4), 'khaki', np.where(df['c3']<-0.4, 'lightgreen',np.where(df['c1']>0, 'cornflowerblue','mediumblue')))\n",
    "\n",
    "fig = go.Figure()\n",
    "fig.add_trace(go.Scatter3d(\n",
    "    x=components[:, 0],\n",
    "    y=components[:, 1],\n",
    "    z=components[:, 2],\n",
    "    mode='markers',\n",
    "    marker_color = df['scatter_color'],\n",
    "    showlegend=False,\n",
    "))\n",
    "\n",
    "fig.update_traces(\n",
    "    marker=dict(\n",
    "        size=3,\n",
    "        line=dict(width=1),\n",
    "        opacity=0.85))\n",
    "\n",
    "# fig.add_trace(go.Scatter3d(\n",
    "#     x = [-.05], y = [.55], z = [-.05],\n",
    "#     text = 'test',\n",
    "#     mode = 'text',\n",
    "#     textfont=dict(\n",
    "#         size=20,\n",
    "#         color='goldenrod',\n",
    "#         weight='bold'),\n",
    "# ))\n",
    "\n",
    "# fig.add_trace(go.Scatter3d(\n",
    "#     x = [-.2], y = [0], z = [-.1],\n",
    "#     text = f'formal <br>definition',\n",
    "#     mode = 'text',\n",
    "#     textfont=dict(\n",
    "#         size=20,\n",
    "#         color='midnightblue',\n",
    "#         weight='bold'),\n",
    "# ))\n",
    "\n",
    "fig.add_trace(go.Scatter3d(\n",
    "    x=[None], y=[None], z=[None],\n",
    "    name = 'Formal definition',\n",
    "    mode='markers',\n",
    "    marker=dict(size=10, color=\"midnightblue\",)\n",
    "))\n",
    "\n",
    "fig.add_trace(go.Scatter3d(\n",
    "    x=[None], y=[None], z=[None],\n",
    "    name = 'Informal definition',\n",
    "    mode='markers',\n",
    "    marker=dict(size=10, color=\"cornflowerblue\",)\n",
    "))\n",
    "\n",
    "fig.add_trace(go.Scatter3d(\n",
    "    x=[None], y=[None], z=[None],\n",
    "    name = 'Pros and cons',\n",
    "    mode='markers',\n",
    "    marker=dict(size=10, color=\"khaki\",)\n",
    "))\n",
    "\n",
    "fig.add_trace(go.Scatter3d(\n",
    "    x=[None], y=[None], z=[None],\n",
    "    name = 'List of platforms',\n",
    "    mode='markers',\n",
    "    marker=dict(size=10, color=\"lightgreen\",)\n",
    "))\n",
    "\n",
    "fig.update_layout(\n",
    "    title=\"3D PCA of Embeddings of Parents' Social Media Definitions\",\n",
    "    scene=dict(\n",
    "        xaxis_title='PC1',\n",
    "        yaxis_title='PC2',\n",
    "        zaxis_title='PC3',\n",
    "        aspectmode='cube'\n",
    "    ),\n",
    "    width=800,\n",
    "    height=800,\n",
    "    legend=dict(\n",
    "        orientation='h',\n",
    "        y=1.02,\n",
    "        entrywidth=110,\n",
    "    ),\n",
    ")\n",
    "\n",
    "fig.add_annotation(\n",
    "    xref='paper',\n",
    "    yref='paper',\n",
    "    showarrow=False,\n",
    "    x=0.5,\n",
    "    y=1.05,\n",
    "    text='Visually identified clusters',\n",
    "    font=dict(size=14, color='black'),\n",
    ")\n",
    "fig.show()\n",
    "\n",
    "fig.write_html('../../figures/q1_PCA.html')\n",
    "\n",
    "fig.write_image('../../figures/q1_PCA.png')\n"
   ]
  },
  {
   "cell_type": "code",
   "execution_count": 63,
   "metadata": {},
   "outputs": [
    {
     "data": {
      "text/plain": [
       "array([], dtype=object)"
      ]
     },
     "execution_count": 63,
     "metadata": {},
     "output_type": "execute_result"
    }
   ],
   "source": [
    "df.query('scatter_color ==\"darkblue\"')['sm_def'].values"
   ]
  },
  {
   "cell_type": "code",
   "execution_count": 64,
   "metadata": {},
   "outputs": [
    {
     "data": {
      "text/plain": [
       "array(['A place for people to share and communicate everyday things',\n",
       "       'Online access to friends and sharing with others',\n",
       "       'A platform where one can express their thoughts and about your life with friends and with people you do not know.',\n",
       "       'Any number of apps or sites that allow people to connect online. Either through personal accounts (i.e. Facebook/Instagram) or through videos and gaming platforms (i.e. TikTok).',\n",
       "       'A platform people use to connect with friends and popular people they like.',\n",
       "       'Just using online social networks like X or Reddit.',\n",
       "       'A PLACE WHERE YOU MEET NEW PERSON AND EDUCATIVE',\n",
       "       'online abilities where you can interact with other people or react to videos of other people.',\n",
       "       \"Any app that you can post on or view other people's posts.\",\n",
       "       'A place to exchange of information, ideas, and personal experiences.',\n",
       "       'Programs where you can communicate with others. You can also watch videos and learn new subjects and play games.',\n",
       "       'I would say that it is a mode of communication that is out in the open and allows people worldwide to discuss, and share information publicly or privately. It is a gateway to express yourself online or to be influenced by others.',\n",
       "       'Places people go online to connect with friends and family like Facebook, Instagram, TikTok, Pinterest, Reddit, Rumble, YouTube, etc.',\n",
       "       \"It's online platforms that allows users to interact, share content including text.\",\n",
       "       'its agood platform where our children gain knowlegde from.it also helps our children to know things that they do not know',\n",
       "       'online forum for people to speak their minds',\n",
       "       'apps used to connect people around the world',\n",
       "       'online websites like Facebook and Instagram end etc',\n",
       "       'we use it to see what friends of our child post. it lets our child stay in treding moments. set examples of good and bad post.',\n",
       "       'apps for people to connect and share memories around the world',\n",
       "       'A place to connect with friends and family. An online site that shows pics or videos.',\n",
       "       'is a interactive space for information sharing and receiving among people of likely interest',\n",
       "       'Are interactive online sites to socialize, get entertained, get educated, share information among other things.',\n",
       "       'online sites that interact with others',\n",
       "       'Online platforms where people interact and share content with other people.',\n",
       "       'Online sites or games where people can socialize / chat',\n",
       "       'Platforms used to engage and communicate with other people.',\n",
       "       'Online platforms where people can converse and share topics and ideas with each other.',\n",
       "       'An online platform where people interact and share ideas',\n",
       "       'interactive platforms where you can message, chat or otherwise interact with others rather than just consume or create content.',\n",
       "       'anything like tiktok, reddit, Facebook etc. Roblox, fortnight when I allow them to talk to friends. that feature is usually locked down.',\n",
       "       \"a place on the Internet that people socialize. a group setting of friends and people of the same preferences. it's all just too much and fake.\",\n",
       "       'A online community that is not safe. A place to shop and see recent trends.',\n",
       "       \"A place where you can waste time, entertain yourself or document yourself and learn things, depending on what platform you use ad how you use them. Social Media nowadays is a mix of different things: there are a lot of fake news, but there is also entertaining and ways to unwind by reading news and comments from people from all over the world. It's a place to connect but also a place that will suck you in and make you waste a lot of time if you are not able to manage it well.\",\n",
       "       \"it's like a social or online gathering where people meet and have access to a lot information regarding societal, cultural, religion, education and as well as other forms of bad behaviors\",\n",
       "       'Online app that lets you communicate with friends and like-minded people to share messages, stories, and photos.',\n",
       "       'its a digital platforms and applications that enable users to create, share, and interact with content in real-time.',\n",
       "       'A platform that allows others to interact and post content for the viewing of friends and family.',\n",
       "       'online platforms that enable users to create, share, and consume content',\n",
       "       'Apps that allow you to be in contact with people you know or follow.',\n",
       "       'Apps or online communication that allows them to communicate with other people outside of friendship or family circles.',\n",
       "       'Its a browsing space where people interact with one another.  Its a browsing space where people find a lot of different informtion',\n",
       "       'If  it use for good things its a good platform but it has equal bad things. It depends on what we use.',\n",
       "       'An online platform that allows you to communicate with others.',\n",
       "       'Tik Tok, Instagram, Facebook, X, etc. And to some extent, YouTube. Essentially, it is a platform where content creators can post content, and others can like or dislike that content as well as comment on it.',\n",
       "       'Anything social in the internet. That can be youtube tiktok or twitter.',\n",
       "       'any app or website that allows you to interact with other people',\n",
       "       'any source of online interaction with people that shares words, pics, songs, etc.',\n",
       "       \"It's a place to connect, share pictures, videos, thoughts, articles, and talk with friends and family. It's a space to follow celebrities, keep up to date on whats going on with the world, join communities, play games, and shop.\",\n",
       "       'These are aps that let you connect with other people online.',\n",
       "       'Online apps that allow contact between people through messaging and profile content sharing.',\n",
       "       'online groups that people enjoy',\n",
       "       'Applications like Instagram and TikTok where people share about their lives online.',\n",
       "       'A social app where people meet new people',\n",
       "       'Platforms where the average person posts things about their personal or professional life. This can include photos, video, or simply be text.',\n",
       "       'Platforms where people can communicate with eachother',\n",
       "       'Apps or sites where you connect with others. You can message with them and share stuff.',\n",
       "       'An online platform that connects friends, family & strangers.',\n",
       "       \"I think it is connecting to a world on the  internet and socializing with strangers you don't know and being exposed to lots of content, lots of media.\",\n",
       "       'Any online activity that allows my child to consume',\n",
       "       'Any site that allows interaction from others. Strangers being able to connect. That can mean via video, text, and/or voice.',\n",
       "       'Online presence and communication. A place where you are seen virtually and you see and are \"friends\" with others.',\n",
       "       'Online arenas where information and photos can be shared publicly.',\n",
       "       'Can grow knowledge, can meet new friends',\n",
       "       'online systems to allow communication between people around the globe.',\n",
       "       'A category of website that allows a user to place content for public viewing and allows back and forth communication/interaction between content creator and the public.',\n",
       "       'Sites like Youtube, Facebook etc where one can post updates and commentary',\n",
       "       'Usually an app that lets users share their ideas or post what they are doing and social networking.',\n",
       "       'FaceTime interacting via phone call and chatting through gaming      l',\n",
       "       'online platforms that allow interaction and direct communication with others',\n",
       "       'facebook instagram,roblox.anywebsite where you can communicate with others.',\n",
       "       'Places where people who typically know each other in-person, or through some sort of community, gather online.',\n",
       "       'network of people linked via the internet for communication and town square.',\n",
       "       'It a platform where we get information and socialized to get entertained',\n",
       "       'A way of interacted online and socializing virtually. getting to know people and express yourself on platforms. meeting like minde people',\n",
       "       'Any platform where you can interact with the public instantly. Examples for me are YouTube, tik tok, instagram, twitter, facebook, Snapchat.',\n",
       "       'a site to share things with other people.',\n",
       "       'Platform used for socializing with other users or searching for information that are online.',\n",
       "       'Content created and shared for the sole purpose of others viewing and reacting to it',\n",
       "       'People looking at others pictures online and chatting so they can keep in touch or stay in the loop with eachother.',\n",
       "       'websites and apps that connect users socially for content sharing',\n",
       "       'Online spaces used to interact with others.',\n",
       "       'apps that connect people in superficial ways online',\n",
       "       'Online apps that let you engage with other people',\n",
       "       'Social networks that display content and media designed on your personal algorithm of likes and dislikes and preferences.',\n",
       "       \"Anything online that's interactive like games, YouTube,Facebook, robloxetc\",\n",
       "       'Apps and websites like Facebook where people can post thoughts and pictures',\n",
       "       'Any form of app where posts can be made and interactions with other people can be had',\n",
       "       'A place where humans electronically gather to post about their lives and interact with other humans.',\n",
       "       'websites that allow for interaction with other humans by posting, commenting, liking, sharing, chatting, etc',\n",
       "       'Any type of media on a platform online or in physical form where people discuss various topics, personal, professional, entertainment purposes etc.',\n",
       "       'A platform for people to communicate or share information and have conversations either with an inner circle or the world at large.',\n",
       "       'A place to connect with other people and family',\n",
       "       'I define it as any place that you can communicate inline with other people.',\n",
       "       'Any app or program that allows you to interact/communicate with other people',\n",
       "       'Any internet platform designed to interact with other human users.',\n",
       "       'It is a place where people can interact online with each other and share their lives.',\n",
       "       'It is a tool that allows us to share information about our day-to-day lives. It has made day-to-day activities easy to do with just a click but it also has its faults since if used the wrong way it can cause harm not just to yourself but to those around you',\n",
       "       'where people watch or read content. a place where people can socialize over content.',\n",
       "       'Websites and apps that allow people to interact with each other through text, video, and music/audio.',\n",
       "       'It is an online website where you post pictures, tell your stories or advertise your business. Also any followers can comment on whatever you post, and it can be good or bad.',\n",
       "       'anything online that links you with other people where you can share opinions and or chat',\n",
       "       \"Anything that let's someone interact with others via the internet\",\n",
       "       \"A platform where you can interact with people you know or don't know.  A platform where you can share information and exchange messages.  Facebook, messenger, kids messenger, etc.\",\n",
       "       'Online websites where the community and strangers are on the same sites.',\n",
       "       'any website/app that people can comment/post on. Youtube, facebook, etc.',\n",
       "       'Online interaction with other people, games, videos.',\n",
       "       \"It's a network of people on the internet that talk and share things amongst each other.\",\n",
       "       'apps and websites that have many millions of users who post their own content. users are individuals and companies or organizations.',\n",
       "       \"Platforms that are solely designed to be interactions with others (so not video games where you might talk to other people but it isn't the ONLY purpose of the platform.)\",\n",
       "       'Any platform used for social interaction or engagement with a group of people',\n",
       "       'Online platforms where you share information about yourself. Communicate with friends and others.  Keep up to date with what is going on either others via posts.',\n",
       "       'An online platform that has played several reasons in the life of  many people eg. helped a lot in doing research  Also this platform is used for learning as well as to entertain',\n",
       "       'Connection to the world',\n",
       "       'An online platform that fosters communication with other people, either through text, picture or video',\n",
       "       'Its where you watch other peoples vidoes, skits , information all around the world.',\n",
       "       'Any place that interactions with other real people can occur including talking or sharing items.',\n",
       "       'Any media that supports sharing of information from other users.',\n",
       "       'Any platform that shares content from one person with large groups of people',\n",
       "       'sites like facebook, twitter, truth social etc..',\n",
       "       'Its a way for people to connect with others online. There are different ways to communicate including text, pictures and memes',\n",
       "       'online usage in order to keep up to date with others. its proactive posting.',\n",
       "       'apps that keep people interconnected without being physically near each other',\n",
       "       'Online website where you have a profile and can meet and talk with others.',\n",
       "       'Internet platforms where people interact and communicate on a global scale',\n",
       "       'Websites that entertain and want to gain followers',\n",
       "       \"A way to communicate online that lets people share information, create content, and connect with others.   It's also a platform for interaction and creating friends.\",\n",
       "       'A network/platform where people of like minds meets and discuss online.',\n",
       "       'These are online platforms that allow interaction with content. Examples are Youtube, Tik tok, Facebook, X, Instagram, and LinkedIn.',\n",
       "       'anything that allows you to interact with others online that hosts a profile',\n",
       "       'An online platform for interacting and chatting with people',\n",
       "       'a place of information and entertainment that can be both good and bad',\n",
       "       'Platform that connects group of people',\n",
       "       'Socially connetion and bonding apps liek fb, x, snapcaht whatsapp etc.',\n",
       "       'instagram tiktok fb anything online or on the phone that you can connect with others',\n",
       "       \"It's anything that lets you virtually connect with other people.\",\n",
       "       'Sites where someone can have a site and contribute to a discussion. A forum board.',\n",
       "       'A place where people can share about their lives and interact with other virtually',\n",
       "       \"apps where you can see other people's posts and potentially interact with them.  You can see comments that others have made on posts\",\n",
       "       'An app or software on which people can interact with each other.  Usually it involves people trying to create a certain impression -- through their interactions and posts --  to their audience or their online connections.',\n",
       "       'Online platforms on the internet that enable sharing content such as pictures and videos. People are also able to share ideas and dialogue.',\n",
       "       \"any internet based activity where there is the possiblity of interacting with another person or another person's comments\",\n",
       "       'websites and applications that allow users to create their own content and share it with other users.',\n",
       "       'A platform where people can interact with people they both know and dont know, create and share content, stay informed and connect globally.',\n",
       "       'The various apps and platforms intended to connect and engage with others. For our kids this is exclusively for entertainment purposes',\n",
       "       \"Apps and websites that allow you to connect with friends and to post about your life and comment about other people's posts.\",\n",
       "       'Content you or others view or create that has a social aspect to it',\n",
       "       'Online, scrolling, more-ish.  Includes Facebook, Instagram, TickTock, Reddit, X, Bluesky, etc. Content created by users, platform decides what to show any individual person.',\n",
       "       'Any platform where kids or adults can like or leave comments so everyone can see. Online community that posts pictures or updates for the world to see/read.',\n",
       "       'Any websites that have the purpose of interacting with others online. Some may be less about interaction with others and more about interaction with content that people put on the website.',\n",
       "       'Another life that is digital from the world',\n",
       "       'A space where many people gather on the Internet to exchange information, form relationships, and interact',\n",
       "       'I would define it as an interconnected system of virtual interaction that can be accessed across digital devices from anywhere in the world. It is not restricted by geography and it is accessed via the internet.',\n",
       "       'Any sort of online platform that enables interaction between two people.',\n",
       "       'Applications that allow you access to different people across the globe',\n",
       "       'websites or apps that allow you to connect to other people',\n",
       "       \"Digital access to other people via the internet. It would include being in contact with friends as well as access to people they don't know in real life.\",\n",
       "       'Online communications with others.',\n",
       "       'Virtual platforms oriented towards sharing information or social communication. Generally revolving around a list of contacts that allow you to make contact with one another.',\n",
       "       'Any platform where you can interact with strangers.  Social media is a toxic environment for children to be exposed to but feel left out if they do not post.',\n",
       "       'A way to view and communicate with other people.',\n",
       "       'A place/App online to interact, visit, share with others.',\n",
       "       'Anything online that involves contact with otehrs.',\n",
       "       'Online platform that provides communication and/or entertainment options.',\n",
       "       'a platform that you and your peers are a part. a place to share about yourself for all to see',\n",
       "       'on-line instrgram type accounts where you can communicate with friends and check out what is happening such as current events',\n",
       "       'Using twitter, TikTok,facebook, insta etc. using online sites to socialize',\n",
       "       'Any online platform that involves being able to share and connect with others (excluding chat services).  Being able to post and read what others are posting, including online blogs.',\n",
       "       'Any type of online site where information, visual or literary, can be seen or information can be shared with others (usually via apps)',\n",
       "       'various platforms for people to use for networking and connecting with friends and family.',\n",
       "       'Online platforms with a primary purpose of connecting with other humans (and bots) via text, video, or images.',\n",
       "       'online platforms to socialize with strangers. chatting and sharing your views with others.',\n",
       "       'good for gathering information',\n",
       "       'Different platforms like Instagram, TikTok, Facebook, some gaming interactions.',\n",
       "       'platforms (websites and apps) that allow users to post content (text, photos or videos) publicly or privately.',\n",
       "       'Interacting with people online. I would consider games played online social media \"light.\"',\n",
       "       'They are organizational structures dedicated to entertaining and informing a global community.',\n",
       "       'It interacting and use of social platform for education or for entertainment purpose',\n",
       "       \"Toxic, online place where kids can go to convince themselves of things they probally shouldn't know about. I time suck for all who participate and cant regulate themselves. social media is named as a lie as it infers greater social conncection but in reality seems to take us away from actually being with our peers and our families.\",\n",
       "       'Platforms where you can communicate online with people you know and with strangers.',\n",
       "       'anything that can be seen or watched that people can see and discuss things. it could be videos on youtube or instragram seeing pictures but it could also be discussion forums such as reddit.',\n",
       "       'Typically an application where people meet online.',\n",
       "       'Using the phone, computer to contact friends and relatives. Playing games with other children. Using media to shop.',\n",
       "       'a dark place that has negatively effected the world . We explore together to eliminate the wonder and feeling of need tom discover .essentially a hub for peoiple to connect and act',\n",
       "       'mindless showing off',\n",
       "       \"in her case she's on private roblox and minecraft games with her friends. sometimes on youtube too\",\n",
       "       'media that is relative to people one knows',\n",
       "       'A variety of platforms where people can socialize and view content from different people. Sometimes the content is posted by strangers and sometimes by people you know. Some platforms are easier to stay within your private circle than others.',\n",
       "       'Online platforms where people share things, post, and chat. Lots of angst, arguing, bickering and fighting. Also, some news.',\n",
       "       'Apps on the internet that allow interaction between the user and other people. Apps that allow commenting after videos or reels. Web browser pages that allow exchanging emails, messages, views, etc with other internet users.',\n",
       "       'a gathering of unpredictable sites filled with gossip and misinformation that anyone can access at anytime.',\n",
       "       \"Its a place where you learn more about what's going on in other places and people lives.\",\n",
       "       'A website or app where people share news, lives, photos and videos.',\n",
       "       'apps used for online communication',\n",
       "       'I would define it as a cancerous entity that drains the souls of humanity.',\n",
       "       'A site with people trying to impress other people.',\n",
       "       'Apps that allow you to post text, or images of yourself to a broader community of followers.',\n",
       "       'Any online medium where they is the opportunity to interaction with others in a text, visual, or verbal format that closely resembles an interaction that could happen in person.  This could be applications like Facebook, Tik Tok, Instagram, but also could be a chat interface for some online multi-player games (ex: World of Warcraft).  All of these mediums allow a user to interact in complex dialogue with other users that can be construed as a form of communication that can resembles face to face interactions.',\n",
       "       'Any website or app that allows someone to connect with other people to share status, photos, other media.    Sites like Instagram, Facebook, X,',\n",
       "       'Using Apps and websites to view content and interact with creators, friends and others in the online community',\n",
       "       'Anything online where interaction with others is possible',\n",
       "       'I would define it as a website or app that you can communicateand share stories and life.',\n",
       "       'A form of online exchanges and information typically shared by individual users with the world or with one another.',\n",
       "       'Online platforms used to talk to others and share information about yourself, like Facebook or Snapchat',\n",
       "       'Websites and apps that are designed to communicate with other people.',\n",
       "       'Apps like Facebook, Instagram, and Twitter where the child is communicating with and sharing pictures with other people.',\n",
       "       'Any internet based platform that allows someone to interact with other people, and may include posting photos, text-based communication, emojis, etc.',\n",
       "       'websites to keep people and information connected',\n",
       "       'communicate with other pepole, such as facebook, wechat',\n",
       "       'A platform to communicate and interact with friends as well as the rest of the world as well as a source of entertainment.',\n",
       "       'An app or website that connects peer to peer.',\n",
       "       'websites or apps that people use to connect and share',\n",
       "       'An online platform to keep u with friends and family',\n",
       "       'As a platform where different people from all over the world get to interact , socialize, have fun, learn new things from all over the world',\n",
       "       'Internet-based communication applications that involve social interactions. They can include personal accounts and professional accounts.',\n",
       "       'Any sort of app where someone could view content and potentially interact with others. This content could be videos, or pictures, or posts. The keyword is social here, in my opinion.',\n",
       "       'A platform where people view/post messages, images, and videos. It also allows users to learn from others and teach as well about different things.',\n",
       "       'any type of communication platform through the internet, like apps (instagram, tik tok) websites (facebook, reddit, discord) or gaming plattforms, like twitch, etc.',\n",
       "       \"Any app that allows sharing between people. If you have friends and can share anything on it, it's social media.\",\n",
       "       'generally user generated content focused on the user, typically in the scroll or app format.',\n",
       "       'Online platforms used for social networking.',\n",
       "       'online platforms or apps that enable communication and networking',\n",
       "       'Anything that is online that you can view media and communicate with other people on.',\n",
       "       'Devices, apps and platforms that allow someone to engage with people that they do not know across a broad range of topics.   It can include taking, posting and viewing videos, chatting, joining social groups or just scrolling through content. It can be used for educational and personal reasons.',\n",
       "       'Apps that can be used to socialize.',\n",
       "       'A way to connect people remotely tgrough an app',\n",
       "       'Online platform that allows the public to post any photo, message or content that they choose to share with the world.',\n",
       "       'Being open on the internet with pictures while friending and interacting with strangers. Being able to message and be friends by others they do not know.',\n",
       "       'This study is taking way longer than a single minute.    Online forms of being social in the internet 2.0 and 3.0 eras that can typically be viewed by and interacted with by complete strangers.',\n",
       "       'any online or digital platform where you communicate with others in any way',\n",
       "       'Online websites/apps that you can talk and interact to other people and share parts of your life.',\n",
       "       'a way to interact with others',\n",
       "       'Online platforms where individuals engage with each other such as Facebook, Instagram and Tik Tok.',\n",
       "       'Any platform that allows for someone to create posts (either text, image, or video) with the goal of sharing with others. Also, any platform that allows for chatting and messaging either through direct messages or chat boards.',\n",
       "       'A platform where users can share thoughts, posts, ideas, pictures and media with other people.',\n",
       "       'Most of the garbage online. A place to chat and share. Meta, facebook, Pinterest, Insta, etc.',\n",
       "       'an online community where people get together and share their opinions and pictures. place where is not always positive.',\n",
       "       'A place where you can connect to the world and what is going on around us.  Keeping up with friend and family and consuming content put out.',\n",
       "       'A platform that allows for users to post text, images or videos which can be followed by other users who can view and comment on those posts.',\n",
       "       'its an interactive technology place for receiving and sharing ideas',\n",
       "       'An online platform where people can take place in any form of social interaction with family, friends, or strangers.',\n",
       "       'A platform where you can easily communicate or share information with people not in your household',\n",
       "       'I define it as facebook, instagram, Youtube etc. There are apps or websites that you use to interact with others online.',\n",
       "       'Apps and websites to communicate with other people',\n",
       "       'Websites/apps that allow someone to interact with other people, including people that are strangers, by posting images, videos or text.',\n",
       "       'It is the sharing of content you or someone else created. It all allows you to express yourself.',\n",
       "       'websites and apps that you can create or network between people',\n",
       "       'Apps that allow people to connect with others that are far away, and allows for effortless communication and monitoring of how those other people are doing in their lives based on what they share.',\n",
       "       'Online interfaces that allow people to communicate with one other, sharing messages, photos, etc.',\n",
       "       'I would define it as things where they interact with others directly or in a forum, such as facebook, Snapchat, YouTube, Instagram.',\n",
       "       'Media that is interactive and pushes content to you base on an algorithm',\n",
       "       'any website or application that allows people to communicate in any form, even as simple as just sending emojis.',\n",
       "       'On-line apps that allow quick or instantaneous access to online materials like photos, videos, games, chats, and other posts and advertisements.  They are a sort of online community, but  with misinformation, stupid/dangerous challenges, porn, and predators.',\n",
       "       'Any app or website that allows people to talk to one other and be social',\n",
       "       'A online forum that brings together people from different backgrounds to one place.',\n",
       "       'An application or website that connects you to peers.',\n",
       "       'Any app or site with a large amount of users that can interact with one another.',\n",
       "       'Any online platforms and tools that allow for people to communicate. This includes the obvious modern platforms like Facebook, BlueSky, and reddit, as well as older tools such as USENET (although USENET has not been used much for social communication for nearly 30 years).',\n",
       "       'An online platform where people can engage with friends, either known in person, or not, and advertising.',\n",
       "       'The various platforms that allow different people in different locations to communicate and share content with one another',\n",
       "       'platforms that allow personal interactions or information sharing with groups of people who are either strangers or not personal contacts',\n",
       "       'the is a platform where we comunicate with people we know physically or meet online ,it is also a platform where know whats is going on like new, watch movies etc',\n",
       "       'This is an internet enabled platform where people form networks to exchange information, ideas, news or stories.',\n",
       "       'Online platforms that allow people to socially connect and interact through posts, messages, and images. Provides online interaction and information.',\n",
       "       'An app that lets you interact with other users of the app. This interaction can be liking posts, commenting, and via private messaging.',\n",
       "       'Apps and websites where you connect with friends and public personas.',\n",
       "       'Websites or applications used to communicate with others online.  This includes sharing experiences, opinions, photos, and videos.',\n",
       "       'a place on the internet where people soci',\n",
       "       'A platform where you can share photos, videos, and opinions with others.',\n",
       "       \"It's a channel which we can communicate and connect with others.\",\n",
       "       \"a place where people share there life's to each other\",\n",
       "       'Great place to fellowship, to get to know people, to inspire each other.  Very interesting dynamic we live in these days.  We just need to very careful about the predators and teach our kids to be safe.',\n",
       "       'online platforms that everyone can participate in.  A place where people can post their life events for the entire world to see',\n",
       "       'Any online forum that allows sharing of ideas and content amongst its users.  Any site where users benefit from having increased subscribers or likes for their activity/posts',\n",
       "       'A place where individuals virtually connect. It enhances communication and self promotion. It can cause stress when overused.',\n",
       "       'It is a way to socialize with others online. This includes text-based and video-based platforms.',\n",
       "       'platforms that people share content on, including x, youtube, tiktok, etc',\n",
       "       'apps and websites that allow users to post their own content and see content from others online. they also can communicate with others right publicly or via private messages.',\n",
       "       'I would say this is any online activity where they are able to interact with others. Or it can also just mean that they are exposed to others online and have an online presence of their own.',\n",
       "       'An online site that involves seeing other\\'s \"profiles\" and posts/comments, as well as having the ability to reply, comment and communicate with them.  The \"others\" could be anyone from a family member to a friend, to a complete stranger or organization.',\n",
       "       'any online platform used for people to connect with each other and conversate',\n",
       "       'websites that allow you to post pictures and videos of your life.',\n",
       "       'Any form of contact/connection with acquaintances and strangers digitally or electronically',\n",
       "       'A place where you can communicate with other people about various topics on different platforms.   A place to make creative content to share with others.',\n",
       "       'Instagramm, til toc, youtube, message boards',\n",
       "       'i think that it is a platform that allow people to share, create and interacts with other people on the platform. it also a source of entertainment for many of us. in some way release stress as well',\n",
       "       'Social applications where people connect/socialize, earn money, and act ridiculous.',\n",
       "       'Applications that people can use to connect with friends online.  Also used to share interesting content with their friends and family',\n",
       "       'Any app where you can communicate with other people.',\n",
       "       'A platform where the public or groups of private individuals share entertaining content for others to engage in outside of private messaging and group messaging. The other members of the social groups can often see who is connected with whom.',\n",
       "       'Using apps such as tictok, X, etc. Interacting with friends on devices, and using smart phone to track friends activity.',\n",
       "       'Online platforms or apps where people can communicate and interact with each other in various ways, either through text information, photos, videos or a mix of all of those.',\n",
       "       'Any online platform where someone has the ability to post and interact with other platform users.',\n",
       "       'Online content that is curated and distributed by society',\n",
       "       'A platform in which people can communicate with each other, view other peoples profiles and share stuff.',\n",
       "       'define is a platform is where we all go to meet new people,keeps us updated about whats happening around us,inshort it the best thing that has ever happened to mankind but also the worst thig that has ever happened to mankind',\n",
       "       'Programs/apps that allow people to share ideas and information',\n",
       "       'A platform where a multitude of person display a version of their lives they want others to see.',\n",
       "       'Website or app where you can interact with friends and family',\n",
       "       'Any sort of platform where one can comment and see what friends are doing',\n",
       "       'Online space with life connections such as friends and family. Like a public  or private journal.  Facebook, Twitter are examples.',\n",
       "       'Any type of electronic interactive media that permits the interaction between people.',\n",
       "       'Online platform used for engaging with other people either through written text, photos, or videos.',\n",
       "       'internet entertainment',\n",
       "       'Platform for online entertainment and networking.',\n",
       "       'An online space when strangers and friends post images or text.',\n",
       "       'An online social network where people can engage digitally with other people and companies and interest groups.',\n",
       "       'Any online communication platforms where people can post photos or comments.',\n",
       "       \"tick-tock, instagram, facebook, linkedin, reddit, that's what I can think of for now\",\n",
       "       'Any app or website that allows users to post personal pictures, stories, updates. etc.  The public may have the ability to interact with the posts. Likes and Friends and Thumbs Up are inportant.',\n",
       "       \"Online platforms where people and businesses share media (content), respond and react to one another's shared posted media, and communicate with one another.\",\n",
       "       'Easily accessible 24/7 online platforms where one can socialize, meet new people, learn, showcase content and receive entertainment.',\n",
       "       'Platforms that let one put out videos or photos, that the public can see.',\n",
       "       'online platforms used to socialize. also to study content they find of interest.',\n",
       "       'Apps/websites designed for connections to others where anything can be posted/said.',\n",
       "       'Apps to read or post content on the internet.',\n",
       "       'any platform that allows you to connect with people',\n",
       "       'Apps or website that allow people to share about their lives or interact with friends.',\n",
       "       'Websites and applications that allow you to interact with others. You can share ideas, likes, hates with people from all over the world. Allows you to engage with communities of people that have same interests as well.',\n",
       "       'It is connecting with others via an electronic device.',\n",
       "       'any online form used to communicate with others',\n",
       "       'Access to an outside world without limits',\n",
       "       'An internet platform which main purpose is to enable communication with peers.',\n",
       "       'Anything that allows my child to interact with others. Snapchat. Instagram. Texting',\n",
       "       'online platforms with users who make choices to connect to one another sharing different aspects of their lives',\n",
       "       'a place where my child can be creative and express themselves and also find communities with the same interest and hobbies like them but keep up with and update family with what is going on in their lives',\n",
       "       'Online entertainment and ways that people communicate',\n",
       "       'Any type of online format where you can engage with others. A platform that contains posts, videos, etc., that can be interacted with and viewed by others.',\n",
       "       'Online social apps/websites like Reddit or Tumblr',\n",
       "       'Apps that promote propaganda in various topics with people commenting/posting about personal stuff',\n",
       "       'Any online platform that allows people to communicate.  It encompasses a wide variety of platforms, including social networking sites, video-sharing platforms, and professional networking sites. The content shared can range from text, photos, and videos to live streams and interactive posts.',\n",
       "       'Crap and brain rot',\n",
       "       'Media where people can go to connect online with other people, through posts, messages, or videos.',\n",
       "       'Junk, mostly. And I say that as an avid user of several platforms. Seriously, it is any app or site that allows an agglomeration of people to communicate in some way and share information (and be propagandized and advertised to).',\n",
       "       'Online pages with communication between users.',\n",
       "       'ONline forums for sharing engaging in shared interests and ideas.',\n",
       "       'It refers to online platform or tools that allows users to create, share, and interact with content or information. The platform enables users to connect, communicate and collaborate with others globally, facilitating the exchange of ideas, experiences, and information.',\n",
       "       'a platform able to connect with friends and family you dint see often',\n",
       "       'These are applicatons - mostly on cell phones - that facilitate communication by way of text or images among friends and strangers.  This can be information sharing or just simple conversation.',\n",
       "       'It is a place to have fun, share your life, have discussions, find out about the world and each other.',\n",
       "       'I would define it as online communication where people post about their lives.',\n",
       "       'Any media that is controlled by the users.  I count youtube, snapchat, instagram, facebook, discord, etc.  My child has access to all of these but we constantly discuss what goes on on the apps.',\n",
       "       'sites that you are able to talk to other people including family friends and even people you dont know on an app or web site',\n",
       "       'commonly used online platforms which allow for people to interact with each other in various ways such as live chat, messaging, and in comment sections',\n",
       "       'Sites where ppl can communicate/socialize in real time. Sites where you can post pics, share links, send private messages. A place that can be bad for self esteem as ppl compete for likes, retweets, and followers',\n",
       "       'this means any website where there are other people sharing things about themselves. it also means any website or app with open communication with others. I also think this means uploading videos and pictures of yourself on a website. anyplace that teens get together and share aspects of their lives and make friends.',\n",
       "       'It is a medium through which individuals interact with the world and get information through communication.',\n",
       "       'It is an online platform for social interactions and entertainment purposes.',\n",
       "       'Connecting via internet or phone with people you know. Watching what other people are sharing via a website.',\n",
       "       'Platforms where you interact with others online.',\n",
       "       'its an online gathering place where people can connect, share ideas and communicate with each other.',\n",
       "       'Apps used to connect with friends.',\n",
       "       'Anything that they can have conversations in real-time with others',\n",
       "       'A platform where people in society share their opinions, beliefs, and ordinary everyday happenings.',\n",
       "       'educating platform',\n",
       "       'Online interactions with other peers or influencers.',\n",
       "       'A tool to interact with people and find out whats happening around the world',\n",
       "       'communicating with people online, seeing what othes are doing in their lives and talking to them and stayiong in touch with others on the internet',\n",
       "       'forms of electronic communication with other people or entities.',\n",
       "       'An app or platform that allows for the exchange of information and communication among those using the platform.',\n",
       "       'Part of the internet. people usually follow each other, Collab on videos, make video on life experience',\n",
       "       'Is a medium of communication on the internet where people can communicate with each other using text, photos and videos',\n",
       "       'A digital hangout where my kids get together and play games with their friends. it is also a different means of communication and entertainment with short videos about any subject you can think of.',\n",
       "       'it is a space that can be accessed with internet and contains almost everything that can be thought of',\n",
       "       'this refers to the online community where people engage through various applications designed to enable interactions between people wirelessly either through virtual calls,video calls,instant messaging etc',\n",
       "       'A place to keep in touch with friends and family, to be entertained, to learn about new topics, to get news, to goof off with friends. I think it can be good and bad depending on how the algorithm is for each individual.',\n",
       "       'a online forum.to post videos and interact with strangers.',\n",
       "       'an app or website where you use to socialize',\n",
       "       'Any online platform used for social engagement',\n",
       "       'educating platform', 'Facebook',\n",
       "       'any site that has peer to peer socializing',\n",
       "       'going on facebook,x,or any other social media apps.',\n",
       "       \"services that allow you to connect with other people. usually open to anyone on the internet. sometimes orchestrated by the service's algorithms.\",\n",
       "       'Online apps and sites that connect people in various ways and for various reasons:  texting apps,  workout apps, photo sharing, friendship, influence and entertainment, and much more',\n",
       "       'Various on line platforms that allow for vague social connections to occur through a variety of communication devices.',\n",
       "       'Online platforms that enable users to create and share content and interact with each other.',\n",
       "       'An online connection to information about people, places, and things.',\n",
       "       'Online connections. Use of apps to communicate with friends. Online sources of news',\n",
       "       'Watching influencers, funny videos, getting contact with people like you, get in contact with friends/ family. Play video games with other people, join groups and talk to like people about things you like are are interested in like them.',\n",
       "       'Somewhere to go and see what everyone is doing in their lives and to keep up to date on family and friends',\n",
       "       'Its an online platform that helps you keep in touch with friends and family',\n",
       "       'Discussion forums where people can post thoughts, memes, etc. Or chat.',\n",
       "       'Apps where anyone can post almost whatever they want to in terms of comments, thoughts, videos, and/or share what other people have posted. Social media is a communal space so there is a wide range of topics, attitudes, and beliefs being shared.',\n",
       "       'Any app or website where people can see each other, connect with each other and communicate. Can include communities and groups as well as images, videos, content.',\n",
       "       \"It's a place where you can make friends, see what others are doing, and learn new things\",\n",
       "       'TikTok, Twitter, Facebook, Instagram, Reddit, Omegle, etc. Anywhere where you can interact with others online that can be people you know or people you have never met.',\n",
       "       'group communications allowed and enhanced by web technology',\n",
       "       \"An outlet to stay in touch with old friends, new friends. Allows you the freedom to speak what's on your mind and post pictures, video's etc.\",\n",
       "       'Online sites where people share posts about their life, interests, family and more. It is a good way to see lots of fun stuff, like puppies.',\n",
       "       'Digital places where people can share what they like and see what other people share whether it is through messages, pictures, videos, memes or any other form of communication.',\n",
       "       'Online platforms that foster interaction and engagement with other people, typically with text, pictures, and videos.',\n",
       "       'Applications like Facebook, Instagram, and TikTok that allow people to converse online, not in real-time.',\n",
       "       'online apps including tik-tok, instagram, snapchat, etc. It could maybe be extended to include video game chatrooms.',\n",
       "       'Apps or websites that let people interact with people. Examples would be Facebook, Twitter, Instagram, etc.',\n",
       "       'Applications on smartphones and laptops that allow people to communicate with pother people without actually being in the same place. A place to share ideas, opinions and interests with other likeminded people.',\n",
       "       'A website where people communicate with each other and have access to world news and media',\n",
       "       'This form of media aims to connect individuals from various cultures and locations across the globe.  This media allows said individuals to communicate and share information without being in the same room or nearby.',\n",
       "       'online platforms that used for communication, and sharing of data like photos, videos and comments.',\n",
       "       'Content created by peers and influencers to express some sort of pop culture expressions or opinions about life.',\n",
       "       'Online interaction with others.', 'Tic tok  Instagram  Snap chat',\n",
       "       'Online platforms where you connect with others, and can message others directly, but also post more broadly to your community of selected friends or the public at large.',\n",
       "       'anything my child can connect with other individuals on, so instagram, Facebook twitter, YouTube, Tik Tok, reddit, forums, etc.',\n",
       "       'Ways to create content, keep in touch with people, and learn about things that are happening',\n",
       "       'communication with the outside world where you would have never seen before. Ability to keep up with the latest trends with just click of a few buttons',\n",
       "       'A platform that allows posts, and grading of pictures or events with a thumbs up or down',\n",
       "       'a platform for communication and sharing of common themes',\n",
       "       'A place where people can connect over shared ideas and interests. However, it has been watered down with fake profiles and dishonesty.',\n",
       "       'any web site they can chat with friends on.',\n",
       "       'The ability to share personalized content and memories to the world. The ability to see other people you may know or that are famous, content and memories as well.',\n",
       "       'online site for viewing',\n",
       "       \"A place where people from all over the world meet to interact or keep each other updated on what's going on in their lives and where people are kept up to date with different happenings worldwide.\",\n",
       "       'I would define it as a website where people can join and create accounts to form a connection they may not have in person.',\n",
       "       'A platform where they can connect with others online and can share content about themselves.',\n",
       "       'apps or sites on which people connect with others via posts, photos, and comments. may connect with people they know in real life or strangers, often with similar interests.',\n",
       "       'Engaging various websites either through computer or apps on a smartphone/tablet for the purpose of connecting with others in a social environment.  The most commonly used apps would be;  youtube, facebook, snapchat, instagram, tiktok.',\n",
       "       'Apps that you can share things about yourself and read things about others and connect. Apps where you can develop and maintain long distance friendships',\n",
       "       'Web sites where a community of people talk to each other through words or videos.',\n",
       "       'a place online where people from all over can interact and communicate',\n",
       "       'application where anyone can write anything',\n",
       "       'Applications where you interact with other people based on a variety of interests or commonalities',\n",
       "       'a online forum that lets you engage with other people.',\n",
       "       'platforms on your phone and computer that are for socializing with family and friends.',\n",
       "       'Any of the online platforms where you can interact with other people and directly or indirectly communicate.',\n",
       "       'A platform where you can talk with or work with different people throughout the community and gain access to and or learn new information',\n",
       "       'Any app or website where you have a username and a list of contacts that you communicate with through the app or website',\n",
       "       'A place on the internet where you keep up with friends, family, loved ones, and co-workers. Sometimes look for relationships/ love.',\n",
       "       'Anything posted by another person.  Examples include SnapChat, Facebook TikTok, Lemon8',\n",
       "       'An ever growing cesspool of soft porn, political theater and distractions from reality.',\n",
       "       'technology that allows you to stay in touch with friends and family. it allows you to communicate and share what is going on in your life, and she what is going on in others.',\n",
       "       'Commercial websites that allow users to connect with other users (that they may or may not know in real life) and share images, text updates, and other information with each other. These can also be online communities of like-minded individuals who may not know each other in real life.',\n",
       "       \"Apps that are used to communicate in some way to other people through viewing, liking other people's content.\",\n",
       "       'Any kind of application or platform where people can share photos, ideas, etc. and has messaging capabilities or comment features.',\n",
       "       'Media platform where others can provide content and interact.',\n",
       "       'Media that allows other people into your lives via the internet',\n",
       "       \"Accessing any of the apps that include: Facebook, Instagram, Snapchat, Twitter, and I'm sure there are more platforms I am unaware of. It's a platform to communicate with others, sharing info, and viewing news and other interests.\",\n",
       "       'Facebook, tic tock snapchat. things for people to share thier life online',\n",
       "       'Any type of site that connects the user to other users. Sites that either have you observe others or communicate with others and share photos and information.',\n",
       "       'being online interacting with others whether words pictures or calls',\n",
       "       'Platform for people to interact. Many families, people and groups.',\n",
       "       'Media that is peer based',\n",
       "       'Sites where personal activities, accomplishments and events are posted and available for others to view.',\n",
       "       'a place to connect socially',\n",
       "       'Something that was meant to connect us, but has only driven a wedge further and further into society.  It was a great idea till politics got involved.',\n",
       "       'Facebook, Instagram, Tik-Tok, Snap chat.  Any media or app that involves communication with other individuals.',\n",
       "       'People posting mostly only highlights of their lives which gives a very biased perception of their lives to others which may lead to others feeling less than.',\n",
       "       'Online app or website that allows for interaction and data sharing.',\n",
       "       \"It's a way for kids to communicate with one another.  It also keeps them up on what they're doing and when they're doing it and with whom they're spending time.\",\n",
       "       \"it's where people connect and talk online. that could be by messaging,video, or voice. anywhere online from Facebook, Twitter, reddit, YouTube.\",\n",
       "       'A way to connect with other people online. A form of online entertainment or news.',\n",
       "       'Apps of websites that keep people in touch with others, advertise something or someone, a platform to tell about ones self, to keep photos or timelines of certain things.',\n",
       "       'I would define it as access to modern online entertainment, libraries, and communication through the internet.',\n",
       "       'A platform to communicate with other people.',\n",
       "       'Any app or website that allows you to communicate with others socially or professionally.',\n",
       "       'A platform where you can interact with friends online.',\n",
       "       'websites and apps where people are social and communicate with one another',\n",
       "       'Anything that allows the user to post something online where others can see it.',\n",
       "       'Online environments that people utilize that expand your social interactions with others, virtually.',\n",
       "       'tick tock messenger Facebook social apps like that I let them use but I do monitor it regularly',\n",
       "       'Any type of app that allows communication or connecting with other people.  This could be communicating directly or posting about activities.',\n",
       "       'An online environment where you can go to interact with other people, businesses, celebrities, and family and friends. You can use it to share pictures and videos and also type stories and news as well to let others know what is going on in the world around you. You can also use it to shop and sell things and entertain yourselves and learn too',\n",
       "       \"It's a way to connect with friends and family\",\n",
       "       'Online networking',\n",
       "       \"It's a online platform  that allows people to  communicate with family and friends and to share opinions and ideas. To receive and share information through online networks and communities.\",\n",
       "       'a learning venue able to research interesting items , relaxation listening to music and watching videos, ability to socialize with people from all over the world',\n",
       "       'Any platform where someone is interacting with others they may or may not know.',\n",
       "       'an online platform of a massive amount of information most of which is not even accurate',\n",
       "       'Sites that are focused on social interactions.  For our family this would NOT include youtube because we all watch longform content on there, for my son its mostly gardening and history.  Reddit falls in the middle, my son is mostly on native plant redit and gardening redit.',\n",
       "       'Electronic websites that allow people to interact with one another, play games, and connect with one another.',\n",
       "       'An online platform for interacting with others. Where one can socialize with others via many different ways that they choose.',\n",
       "       'I way to interact with more people over any distance',\n",
       "       'It is instant messaging system, like twitter, facebook.',\n",
       "       'apps that allow them to see other people and vice-versa',\n",
       "       'It is a way to connect and interact with other people with technology.',\n",
       "       'Having friendships online instead of in person.',\n",
       "       'It is the use of apps and websites that you post photos and other posts. You can look at others posts and interact with them',\n",
       "       'Usually Facebook, but later expanded to Discord, Line, Instagram, Snapchat as well as others.  He was very responsible at first, so we eased off a bit.  He slowely took advantage and destroyed any trust we had in his behaviour.',\n",
       "       'Online sharing of knowledge and opinions is the useful part. I also understand fun and meme culture we are in so also this.  Overall the shared opinions and or information true or not online.',\n",
       "       'it is a means of communications and making new friends .',\n",
       "       'It is a site where you get to socialize and learn new things about the world, get entertained and communicate effectively with other people across the globe',\n",
       "       'Various digital platforms that allow people with access to communicate and share their lives and ideas.',\n",
       "       'any online or non online place that people get news or information from that is not fact checked and not a reconized media..',\n",
       "       'Apps that have videos and ways to communicate with each other.  Online platforms for being social.',\n",
       "       \"Digital technology that facilities the social connection between it's users, either through one sided forms of media like movies and television or peer to peer forms like SMS.\",\n",
       "       'It is good to have if used in the right way. It is an essential part of life. Communication has decreased since technology had evolved.',\n",
       "       'Different applications or websites that people can share posts , make posts or like or dislike post from others. They can follow other people and others can follow them, therefor eit is a social site.',\n",
       "       'It is apps like snapchat, instagram, etc where they can post and comment on others posts.'],\n",
       "      dtype=object)"
      ]
     },
     "execution_count": 64,
     "metadata": {},
     "output_type": "execute_result"
    }
   ],
   "source": [
    "df.query('scatter_color ==\"cornflowerblue\"')['sm_def'].values"
   ]
  },
  {
   "cell_type": "code",
   "execution_count": 65,
   "metadata": {},
   "outputs": [
    {
     "data": {
      "text/plain": [
       "array(['used for good purposes it can be very useful, but for children of a certain age it is completely unnecessary',\n",
       "       'Social media is a great tool and it also can be very destructive without proper supervision and controls. I like social media for the good and bad that it provides because I try to use the good and bad for teaching moments with my child.',\n",
       "       'its a great influence to our children both positively and negatively',\n",
       "       'for one it can be bad for the kid if she is on to long. two bad things can be learned. it doesnt teach the kid nothing.',\n",
       "       'It can be a great learning tool. It can also cause a lot of problems.',\n",
       "       \"Social media is has both good and bad sides. It can be beneficial and educational. And it can also have a negative impact on a child's self esteem as well as giving them a false sense of reality.\",\n",
       "       \"It can be a good thing and bad thing. There are some educational and informative things on there. But there are also things on there you don't want your children to see.\",\n",
       "       'It is a hinderance. A thorn in the side of society, yet has become a necessary evil.'],\n",
       "      dtype=object)"
      ]
     },
     "execution_count": 65,
     "metadata": {},
     "output_type": "execute_result"
    }
   ],
   "source": [
    "df.query('c2>.5 and c3>-0.02')['sm_def'].values"
   ]
  },
  {
   "cell_type": "code",
   "execution_count": 66,
   "metadata": {},
   "outputs": [
    {
     "data": {
      "text/plain": [
       "array(['Facebook, twitter, tiktok', 'apps like instagram',\n",
       "       'Facebook, Instagram, X', 'Facebook, instagram, TikTok, YouTube',\n",
       "       'Apps like tick tock or facebook. watching videos on youtube or other platforms like youtube.',\n",
       "       'Anything like Facebook or Instagram. Snapchat or the like.',\n",
       "       'Facebook, TikTok, anything app wise on a smart device.',\n",
       "       'Social media is using the different apps available, such as tictok, facebook, youtube, instagram.',\n",
       "       'Apps like Youtube, instagram, Tiktok.',\n",
       "       'Instagram, Facebook, Tiktok, Youtube',\n",
       "       'Apps like snap chat and instagram',\n",
       "       'Twitter, tiktok, facebook, pinterest, instagram, snapchat',\n",
       "       'YouTube, tik tok instagram',\n",
       "       'ALLOWING ON APPS SUCH AS FACEBOOK, SNAPCHAT AND INSTAGRAM.',\n",
       "       'Any type of social website/app such as facebook, discord, snapchat, X (Twitter), instagram,',\n",
       "       'Facebook, TikTok, all the dating apps, twitter (X), Intagram, WhatsApp, etc.',\n",
       "       'Instagram, Facebook, Snapchar, YouTube, etc.',\n",
       "       'apps online like facebook, Instagram, and snapchat',\n",
       "       'Apps like facebook , X, Meta etc.',\n",
       "       'Being able to access Instagram, Tik Tok, Snapchat, Facebook, movies, videos,',\n",
       "       'Phone apps such as TikTok, Snapchat, Instagram, Facebook and X',\n",
       "       'Facebook, instagram, X.  All are social media apps.',\n",
       "       'Apps such as SnapChat, Tiktok, IG, YouTube, facebook and Twitter',\n",
       "       'Instagram, Facebook, Discord, Snapchat, TikTok, Youtube',\n",
       "       'websites like tiktok and instagram',\n",
       "       'facebook and instagram and snapchat',\n",
       "       'Any of the apps, facebook, instagram, tik tok snap chat etc. basically anything on a phone'],\n",
       "      dtype=object)"
      ]
     },
     "execution_count": 66,
     "metadata": {},
     "output_type": "execute_result"
    }
   ],
   "source": [
    "df.query('c3<-0.4')['sm_def'].values"
   ]
  },
  {
   "cell_type": "code",
   "execution_count": 67,
   "metadata": {},
   "outputs": [
    {
     "name": "stdout",
     "output_type": "stream",
     "text": [
      "Explained variance: 1.00\n"
     ]
    },
    {
     "data": {
      "application/vnd.plotly.v1+json": {
       "config": {
        "plotlyServerURL": "https://plot.ly"
       },
       "data": [
        {
         "fill": "tozeroy",
         "line": {
          "color": "lightblue",
          "width": 2
         },
         "marker": {
          "color": "blue",
          "size": 4
         },
         "mode": "lines+markers",
         "name": "Explained Variance Ratio",
         "type": "scatter",
         "x": [
          1,
          2,
          3,
          4,
          5,
          6,
          7,
          8,
          9,
          10,
          11,
          12,
          13,
          14,
          15,
          16,
          17,
          18,
          19,
          20,
          21,
          22,
          23,
          24,
          25,
          26,
          27,
          28,
          29,
          30,
          31,
          32,
          33,
          34,
          35,
          36,
          37,
          38,
          39,
          40,
          41,
          42,
          43,
          44,
          45,
          46,
          47,
          48,
          49,
          50,
          51,
          52,
          53,
          54,
          55,
          56,
          57,
          58,
          59,
          60,
          61,
          62,
          63,
          64,
          65,
          66,
          67,
          68,
          69,
          70,
          71,
          72,
          73,
          74,
          75,
          76,
          77,
          78,
          79,
          80,
          81,
          82,
          83,
          84,
          85,
          86,
          87,
          88,
          89,
          90,
          91,
          92,
          93,
          94,
          95,
          96,
          97,
          98,
          99,
          100,
          101,
          102,
          103,
          104,
          105,
          106,
          107,
          108,
          109,
          110,
          111,
          112,
          113,
          114,
          115,
          116,
          117,
          118,
          119,
          120,
          121,
          122,
          123,
          124,
          125,
          126,
          127,
          128,
          129,
          130,
          131,
          132,
          133,
          134,
          135,
          136,
          137,
          138,
          139,
          140,
          141,
          142,
          143,
          144,
          145,
          146,
          147,
          148,
          149,
          150,
          151,
          152,
          153,
          154,
          155,
          156,
          157,
          158,
          159,
          160,
          161,
          162,
          163,
          164,
          165,
          166,
          167,
          168,
          169,
          170,
          171,
          172,
          173,
          174,
          175,
          176,
          177,
          178,
          179,
          180,
          181,
          182,
          183,
          184,
          185,
          186,
          187,
          188,
          189,
          190,
          191,
          192,
          193,
          194,
          195,
          196,
          197,
          198,
          199,
          200,
          201,
          202,
          203,
          204,
          205,
          206,
          207,
          208,
          209,
          210,
          211,
          212,
          213,
          214,
          215,
          216,
          217,
          218,
          219,
          220,
          221,
          222,
          223,
          224,
          225,
          226,
          227,
          228,
          229,
          230,
          231,
          232,
          233,
          234,
          235,
          236,
          237,
          238,
          239,
          240,
          241,
          242,
          243,
          244,
          245,
          246,
          247,
          248,
          249,
          250,
          251,
          252,
          253,
          254,
          255,
          256,
          257,
          258,
          259,
          260,
          261,
          262,
          263,
          264,
          265,
          266,
          267,
          268,
          269,
          270,
          271,
          272,
          273,
          274,
          275,
          276,
          277,
          278,
          279,
          280,
          281,
          282,
          283,
          284,
          285,
          286,
          287,
          288,
          289,
          290,
          291,
          292,
          293,
          294,
          295,
          296,
          297,
          298,
          299,
          300,
          301,
          302,
          303,
          304,
          305,
          306,
          307,
          308,
          309,
          310,
          311,
          312,
          313,
          314,
          315,
          316,
          317,
          318,
          319,
          320,
          321,
          322,
          323,
          324,
          325,
          326,
          327,
          328,
          329,
          330,
          331,
          332,
          333,
          334,
          335,
          336,
          337,
          338,
          339,
          340,
          341,
          342,
          343,
          344,
          345,
          346,
          347,
          348,
          349,
          350,
          351,
          352,
          353,
          354,
          355,
          356,
          357,
          358,
          359,
          360,
          361,
          362,
          363,
          364,
          365,
          366,
          367,
          368,
          369,
          370,
          371,
          372,
          373,
          374,
          375,
          376,
          377,
          378,
          379,
          380,
          381,
          382,
          383,
          384,
          385,
          386,
          387,
          388,
          389,
          390,
          391,
          392,
          393,
          394,
          395,
          396,
          397,
          398,
          399,
          400,
          401,
          402,
          403,
          404,
          405,
          406,
          407,
          408,
          409,
          410,
          411,
          412,
          413,
          414,
          415,
          416,
          417,
          418,
          419,
          420,
          421,
          422,
          423,
          424,
          425,
          426,
          427,
          428,
          429,
          430,
          431,
          432,
          433,
          434,
          435,
          436,
          437,
          438,
          439,
          440,
          441,
          442,
          443,
          444,
          445,
          446,
          447,
          448,
          449,
          450,
          451,
          452,
          453,
          454,
          455,
          456,
          457,
          458,
          459,
          460,
          461,
          462,
          463,
          464,
          465,
          466,
          467,
          468,
          469,
          470,
          471,
          472,
          473,
          474,
          475,
          476,
          477,
          478,
          479,
          480,
          481,
          482,
          483,
          484,
          485,
          486,
          487,
          488,
          489,
          490,
          491,
          492,
          493,
          494,
          495,
          496,
          497,
          498,
          499,
          500,
          501,
          502,
          503,
          504,
          505,
          506,
          507,
          508,
          509,
          510,
          511,
          512,
          513,
          514,
          515,
          516,
          517,
          518,
          519,
          520,
          521,
          522,
          523,
          524,
          525,
          526,
          527,
          528,
          529,
          530,
          531,
          532,
          533,
          534,
          535,
          536,
          537,
          538,
          539,
          540,
          541,
          542,
          543,
          544,
          545,
          546,
          547,
          548,
          549,
          550,
          551,
          552,
          553,
          554,
          555,
          556,
          557,
          558,
          559,
          560,
          561,
          562,
          563,
          564,
          565,
          566,
          567,
          568,
          569,
          570,
          571,
          572,
          573,
          574,
          575,
          576,
          577,
          578,
          579,
          580,
          581,
          582,
          583,
          584,
          585,
          586,
          587,
          588,
          589,
          590,
          591,
          592,
          593,
          594,
          595,
          596,
          597,
          598,
          599,
          600,
          601,
          602,
          603,
          604,
          605,
          606,
          607,
          608,
          609,
          610,
          611,
          612,
          613,
          614,
          615,
          616,
          617,
          618,
          619,
          620,
          621,
          622,
          623,
          624,
          625,
          626,
          627,
          628,
          629,
          630,
          631,
          632,
          633,
          634,
          635,
          636,
          637,
          638,
          639,
          640,
          641,
          642,
          643,
          644,
          645,
          646,
          647,
          648,
          649,
          650,
          651,
          652,
          653,
          654,
          655,
          656,
          657,
          658,
          659,
          660,
          661,
          662,
          663,
          664,
          665,
          666,
          667,
          668,
          669,
          670,
          671,
          672,
          673,
          674,
          675,
          676,
          677,
          678,
          679,
          680,
          681,
          682,
          683,
          684,
          685,
          686,
          687,
          688,
          689,
          690,
          691,
          692,
          693,
          694,
          695,
          696,
          697,
          698,
          699,
          700,
          701,
          702,
          703,
          704,
          705,
          706,
          707,
          708,
          709,
          710,
          711,
          712,
          713,
          714,
          715,
          716,
          717,
          718,
          719,
          720,
          721,
          722,
          723,
          724,
          725,
          726,
          727,
          728,
          729,
          730,
          731,
          732,
          733,
          734,
          735,
          736,
          737,
          738,
          739,
          740,
          741,
          742,
          743,
          744,
          745,
          746,
          747,
          748,
          749,
          750,
          751,
          752,
          753,
          754,
          755,
          756,
          757,
          758,
          759,
          760,
          761,
          762,
          763,
          764,
          765,
          766,
          767,
          768,
          769,
          770,
          771,
          772,
          773,
          774,
          775,
          776,
          777,
          778,
          779,
          780,
          781,
          782,
          783,
          784,
          785,
          786,
          787,
          788,
          789,
          790,
          791,
          792,
          793,
          794,
          795,
          796,
          797,
          798,
          799,
          800,
          801,
          802,
          803,
          804,
          805,
          806,
          807,
          808,
          809,
          810,
          811,
          812,
          813,
          814,
          815,
          816,
          817,
          818,
          819,
          820,
          821,
          822,
          823,
          824,
          825,
          826,
          827,
          828,
          829,
          830,
          831,
          832,
          833,
          834,
          835,
          836,
          837,
          838,
          839,
          840,
          841,
          842,
          843,
          844,
          845,
          846,
          847,
          848,
          849,
          850,
          851,
          852,
          853,
          854,
          855,
          856,
          857,
          858,
          859,
          860,
          861,
          862,
          863,
          864,
          865,
          866,
          867,
          868,
          869,
          870,
          871,
          872,
          873,
          874,
          875,
          876,
          877,
          878,
          879,
          880,
          881,
          882,
          883,
          884,
          885,
          886,
          887,
          888,
          889,
          890,
          891,
          892,
          893,
          894,
          895,
          896,
          897,
          898,
          899,
          900,
          901,
          902,
          903,
          904,
          905,
          906,
          907,
          908,
          909,
          910,
          911,
          912,
          913,
          914,
          915,
          916,
          917,
          918,
          919,
          920,
          921,
          922,
          923,
          924,
          925,
          926,
          927,
          928,
          929,
          930,
          931,
          932,
          933,
          934,
          935,
          936,
          937,
          938,
          939,
          940,
          941,
          942,
          943,
          944,
          945,
          946,
          947,
          948,
          949,
          950,
          951,
          952,
          953,
          954,
          955,
          956,
          957,
          958,
          959,
          960,
          961,
          962,
          963,
          964,
          965,
          966,
          967,
          968,
          969,
          970,
          971,
          972,
          973,
          974,
          975,
          976,
          977,
          978,
          979,
          980,
          981,
          982,
          983,
          984,
          985,
          986,
          987,
          988,
          989,
          990,
          991,
          992,
          993,
          994,
          995,
          996,
          997,
          998,
          999,
          1000,
          1001,
          1002
         ],
         "y": {
          "bdata": "2K3gJjrltz947T2zr4rDPyGqEbjA1ck/lGddXDRpzj86P9k1pv7QP+rgghhakdI//aEOan/x0z8ZZV6dBy/VP/rX8GGQY9Y/9EEUt7Zy1z+WzRV8AW3YPxRTey/tX9k/xXQ+iltD2j+SPL4lTx7bPzHJu2+24ts/Qd2ceaeW3D+DrOpywDjdP2YATjUn190/EIKhCU9v3j88cmJUkADfPyGm+tdcjN8/3s2qJ4kK4D98hSREX0vgP3vxFZMai+A/ipp4IhDH4D86elsOgAHhPylJju4IOuE/88ia9E1y4T87+A4KsKbhPwduoAeO2uE/3HKK9acL4j9x+yyRFTviPxxMWnanZ+I/YNrP44KT4j+WbRvxV73iP2uBgY9O5uI/7u/81bYN4z+cP/P0NzTjPxchXieqWeM/MICORR9+4z/iCfd73qHjP0J+1FqXxOM/WDQfICHn4z91a2qVfQjkP2+x8vGLKeQ/Yw+Deu1J5D8ieU1Y5WjkP3uEpV26h+Q/f97TXbil5D+l2YffFMPkP8018wQV4OQ/fUFluSv85D9ZQeiSOhjlP8euxQ6rM+U/z3mDf05O5T80zGC+b2jlP9bQfktsguU/prfWuSyc5T9BlXiSZ7XlP0qYcP9mzuU/nui+1vLm5T8qlrYT4f7lP7RmL7CMFuY/nwEE58st5j+3Ue67nETmP9IJYOA4W+Y/9T8alGpx5j9Flcl2f4fmP/S72U48neY/lIs6QqOy5j+sKNoHp8fmP4+K0FdS3OY/fRWwU9Tw5j9ycBb//gTnP8tQwFW6GOc/wRd+TVUs5z+I927xkz/nPxMHuRPBUuc/G2beBrll5z/mR/HHPXjnP+aLOUKRiuc/IecTwNKc5z9Ad47noK7nP9SR0dBcwOc/zxLJq7zR5z8fxCfR/uLnP09GdI/n8+c/dgWBWawE6D/UNEYbRhXoPwVOv1KPJeg/oVsVps016D81RcxHt0XoP5zRqnKCVeg/xMThcSFl6D/LqezOkHToP0LtJRnyg+g/ZQ8WWhqT6D8UNIsgKqLoP/Yuk0n0sOg/av0v5n+/6D88Iv6T3c3oP21wrkTm2+g/PV/VuNPp6D+Bpt1znvfoP1qfs7Q8Bek/U2DLEq8S6T8gNV6A+B/pPxuItVsjLek/JTLlJSo66T/JUrv6+kbpP6z0OC29U+k/rCiBr1Jg6T/V25UIz2zpP90ooyQbeek/B2qi+iOF6T8c5Z8OKJHpP0+BPTMVnek/ZR3fyO2o6T9APa31tbTpP35jahdXwOk/5C8fad3L6T9fduj1L9fpPxiMPy5j4uk/TV0ha3rt6T9JmIsOffjpP23POZlPA+o/TVzSWxUO6j9KP+cwvBjqP/rbQjxUI+o/nE9Na9Qt6j/zhAc6OjjqP15nJlubQuo/JWw+ldJM6j+uxF11A1fqP5nE4voTYeo/IuyRFABr6j9EStpM3HTqP2HZ+5Ohfuo/eHhjxUOI6j/SwcyEzZHqPxvaOuVQm+o/wse9IcWk6j/zf+kX/q3qP+f7nYInt+o/CwKvC0bA6j/ErWwsWsnqPzHOAAxg0uo/UXNFI0fb6j8jvqAPJeTqP99YBarx7Oo/gsr4mqj16j/OoWjjW/7qPzM6OMbnBus/ngfQK2sP6z+8nFh0xRfrP2EboOb/H+s/lMYBZjIo6z8+jDSWWjDrP3Xdvxp6OOs/hVGNApJA6z9R825Zn0jrP2nHI1OLUOs/yvjYAXFY6z8LofEwRWDrP5+Et/oLaOs/CainG6Nv6z+E4IpTM3frP6b5Hq65fus/OqM/yTSG6z+XuraCmY3rPylHdnv7lOs/+FJXeE6c6z9POfv7kKPrP6C2N/u+qus/JzeHCuKx6z91xMy77rjrPwqsddTyv+s/RFYIlOvG6z+oKBOj2M3rP58GuNqz1Os/oEdfEH7b6z+ysu28QuLrP94s+Jz06Os/nlYRPp/v6z+BY1GiP/brP/5uh8zH/Os/2XLOIUMD7D9Oq5GHswnsP1Ht5xUbEOw/3eY1lmwW7D+VNZCTtRzsP7tBd5frIuw/wA1j9Rsp7D+qrTUCQS/sP+w/GFpaNew/i9kZS2877D8qpkYXbUHsP1c75txiR+w/HtMke0dN7D8MSbz/J1PsP2tXTdPxWOw/1Qe+srVe7D+7yUf0cGTsP6hg8EAVauw/JrBOLLVv7D/PMZ6oTnXsP29DN97Xeuw/TFXAIViA7D/d8MFtyYXsPwQoAtY0i+w/cLluYpeQ7D/RXVm49JXsP1xT9N1Cm+w/78z1aIeg7D9MD6wXvaXsPwRTdwnqquw/Fe1P2Qqw7D8o3E5uJbXsP/mNVJw6uuw/CnykbUi/7D+2JmckS8TsP0ax1VtEyew/Qd3AozTO7D9+1HYNGtPsP3yr5NH31+w/EdOtA83c7D93gIw1meHsP3U9m2NZ5uw/rgu9MBPr7D+a+U6+yu/sPx1hYUN39Ow/SxvVZx357D9lTsVivf3sPwNU4edVAu0/P5PB/uQG7T8jboGhagvtP125JyXkD+0/pywUnFcU7T9IBjHkvhjtP9genAkhHe0/8VLj738h7T+PZpI12SXtP73X01YrKu0/nF2a7W8u7T/mkfTPsTLtP2dd8q/sNu0/zT4x0h077T9xEIxeTD/tP8lQwI92Q+0/Vql1qZlH7T+2Zioxr0vtPzfLjBK+T+0/APq4jcRT7T/Aealwx1ftP9Md1YTCW+0/8GpmQLhf7T/I2JnTqGPtP8/2ETmTZ+0/QDbIU3lr7T+aP85lVW/tP6mFdr4uc+0/GOsGVgR37T+E1RFV0HrtPxNc4UyYfu0/dmMkl1CC7T+njoHjBYbtPw490qi1ie0/+V6eXluN7T+EPBZT/pDtP2uok0OalO0/9EUBADSY7T/PY83EyZvtP818BbJcn+0/R5qp6eWi7T+pTuhnZ6btPxdn+m/mqe0/qnmB/F+t7T/FLnGz0rDtP8BilIlCtO0/Q77F2ai37T8kb3cZDbvtP0BEFaZtvu0/aGCYR8nB7T95GRPXHcXtP54NMmtsyO0/Ax1nkrnL7T+VzDIX/87tP1dTm2VB0u0/TvwbK3zV7T8exmHCsdjtP/LTY5Dg2+0/4zBDYQzf7T+zqZ52L+LtP5hzYtdN5e0/rpCcPmro7T8Iy9sEfuvtP+iBksuN7u0/GVv4c5rx7T/9j0dnpfTtP1bx/Z6o9+0/GOgCXqT67T/oRpa0nP3tP+Qx366RAO4/7mcGNoMD7j8ekki3bgbuP8yFdIhZCe4/wRFm3TsM7j/1jM44Gw/uP+OrbUX1Ee4/Vy9kZsoU7j82KM9unBfuP83FtAxqGu4/8bO0tTMd7j+jLQmu+x/uP++aF1S+Iu4/EO2gBn8l7j85tbsMOyjuP96ewG7zKu4/6LKvTqgt7j+gVKRpWDDuP5tMtyEEM+4/B8CA3K017j/udl0xVDjuPyeneD73Ou4/TPopv5I97j8vQK+NK0DuP9Nvhma+Qu4/8KvAm0tF7j+Bv3JG1UfuP88vQspaSu4/D4lzLd5M7j8xpid5XU/uP20TH97XUe4/OPh+Jk9U7j+4D5tGxVbuPz/+Z903We4/20aYHqdb7j+xwyUQDV7uP+sZC9VvYO4/xHkXetBi7j+4PnzRKmXuP9pnWi6EZ+4/QyHC29hp7j/c4XY5KWzuP8gcdxN3bu4/qN/L2sFw7j9QLKefCnPuP4lPoytPde4/9JI7WpF37j+8V7Lx0HnuPyLdbXwNfO4/0mnQz0N+7j+YhgY1d4DuP++JoIGpgu4/ZDuQZ9eE7j8EVDPOA4fuP5DAw2kuie4/bucv61OL7j/4YjtSeI3uP5NK2GKbj+4/U5paDLiR7j+vomoO0pPuP3HkZZvqle4/So/lNQGY7j905RrzFJruPyDjk74lnO4/OpUpdTOe7j8I2PdQPKDuP3sP5D0/ou4/guvM7D+k7j+v0ZRTP6buP18/PMQ9qO4/Qc7r4zmq7j8F4sRrMqzuPwU0Yxcmru4/+9Md1haw7j9mJZREBrLuP4BIFYjzs+4/oP3rGt+17j8bHMszyLfuP+hDBAmuue4/pJi8kJC77j8zQDeDcL3uP4cPy9ZOv+4/osT98yjB7j/5CYN5AMPuP72SyPTUxO4/30SVo6jG7j+mkyNJesjuP4YTlnFGyu4/qB1+ig/M7j9lN0qc1s3uP+CsSeOcz+4/ZkoJAmHR7j/t/8ZPJNPuP29XxxLm1O4/utGkdaHW7j8dME0/W9juP9xMkcUS2u4/50gSbcfb7j+E56VLed3uP1yHz20q3+4/O+0cC9rg7j8FP6enhuLuP4isAyox5O4/IdHIYdjl7j8fbBtHfefuP5VAYzYg6e4/4XCy/r7q7j96jycwW+zuP0Ry8sX07e4/M7Emg4vv7j+YMiplIfHuP/oXGZ618u4/YN6Mykj07j8PIcxl2/XuP6Iq7SZo9+4/DE0WDvT47j+Gux4WffruP4LTjqkE/O4/t+qthor97j9+aQuJDv/uP1Rff2mQAO8/sPx2Nw4C7z+na6driwPvP1yozycHBe8/tvWng38G7z9JAr4z9gfvP+dx++RrCe8/SprkUt4K7z+3vaKHTAzvP9aQnZS4De8/mAUsESMP7z9SJMkpjBDvP5jNXzf0Ee8/828xdFkT7z8mEOaKvRTvP4+nueoeFu8/NGZO+X0X7z/xkymf2hjvP6w+HL02Gu8/pK1LSZIb7z98qKsU7BzvP17ihNpEHu8/FZMy8Zof7z9dq/8R7yDvP6/h3oFAIu8/qHpINZEj7z805hak3STvPwaiDXsoJu8/uT0A5nEn7z+hbWxxuCjvP+4tJvD+Ke8/+N++xUEr7z9dy3QFgizvP1Em0dHALe8/Tt/LO/4u7z+pbMnBOTDvP6QxHLd0Me8/wvkC964y7z9RlMaO5jPvPxOcpQodNe8/omIKjFE27z/9W5ShhDfvPy7pqQS3OO8/yPvLhug57z9zxelbGDvvP7RquVdGPO8/CoRWx3M97z/rlDcbnz7vP48gqLbJP+8/XsygjPJA7z/8Iq/ZGkLvP/29PkxAQ+8/zvA1t2RE7z/ZVQvKh0XvP6IwOh2oRu8/x4bZW8VH7z+7irSZ4UjvP0UOtUf7Se8/b0S4WBNL7z8v32SrKUzvPzTyQbA+Te8/Ut4NklFO7z/1WduEY0/vPyrtQIJzUO8/FXGgvIJR7z+vCknBj1LvP+t9Co2cU+8/svEoJKdU7z9g7Mzcr1XvP0uKOUm3Vu8/L7L3jL1X7z89f5sLwljvPwhEbR7GWe8/iDWOEcha7z+E/IBHyFvvP8wg6KDGXO8/t+gaYMRd7z/9meu/wV7vP2t0JUS9X+8/icqN4Ldg7z+JeON9sWHvPzPLGeSpYu8/LwF4NaBj7z8nzM1ulWTvP8Jf4EuKZe8/F9LFOX1m7z+/6dz9bmfvP3j8dSZfaO8/ZPizh01p7z/QhJoSO2rvP0N+GlUna+8/O0l8ZRJs7z+lrRl2/GzvP7hZf6Lkbe8/+X+ozMtu7z/xYI2bsW/vP9w8fuOWcO8/E1CjeXpx7z/Mmx+wXXLvPx3uVZw+c+8/OqQFBh907z+pWbQD/XTvP3d4nSfade8/njVUeLV27z9/vIJnkHfvP//d4oRqeO8/AocxPER57z83Swy9G3rvP86nFxXzeu8/lRrL6Md77z+KBCrcmnzvPxH6UU1tfe8/OqOdJT9+7z8lOUwrEH/vP/r844ref+8/tZ05MKyA7z8Y988yeYHvP6xrNp1Fgu8/Xd8BxhCD7z/KCUmc2oPvP6iUSSejhO8/EYVIPGuF7z+/RJQrMobvP+S1BTD4hu8/Klyel72H7z/DRdSwgojvP2thlGlGie8/At+BPQiK7z8RcyKQyYrvPzJex9KJi+8/LbuQKEmM7z/T5PWtB43vP9fgVKfFje8/tWX4kYKO7z8lbH61Po/vP4sJRo/5j+8/YtAmQrKQ7z/Byl0iapHvPwOA2IAgku8/BgmfodaS7z9s5ChKipPvP1SJM1o9lO8/ZNz3gu+U7z/UNOjyoJXvP9mlO4ZRlu8/3hRK+ACX7z9J4DHOr5fvP2lOrWFemO8/RKMafQuZ7z9Bxzk0uJnvP9Xw2zBjmu8/Fp7XUAyb7z9vJ8zltJvvPz/pxgNdnO8/cznxJASd7z8btZviqZ3vPzO13uxOnu8/XVB2KfOe7z+lwkftlZ/vP+yOK2Y4oO8/F6hbDNqg7z+blXFpeqHvP9JnFwYaou8/SRGf+bei7z9JaHR3VaPvP4rnF7zxo+8/+BREzY2k7z8Y1X4fKaXvP+utmA7Dpe8/iN8KHlym7z+285Hw9KbvP/COYO6Mp+8/l1z4FSSo7z9Hk+dYuqjvP8ybOWxPqe8/Ny8jM+Op7z/NKcmtdqrvP89diiAJq+8/vB5J9pqr7z/fwuoTLKzvP9gZ4me8rO8/+0obFUyt7z8JsjIZ263vP+u03ZZpru8/IarzzPeu7z996SshhK/vPz5be/cPsO8/GX2V5Jqw7z/hIzpQJbHvP8Kau5ause8/wc6tXjey7z8oAoFsv7LvP/T+50pHs+8/HvEPBc6z7z8Dd4znU7TvPwKQ9jvZtO8/3TNzP1217z/hRtoF4bXvP31mIqNjtu8/Jp6Ai+W27z+zn9LeZrfvP1e9rXLnt+8//ou6PWe47z+CC2nN5rjvP6kkhhplue8/st8cV+O57z+MaYFJYLrvP1hFj8/cuu8/EIpIOVm77z/B467U1LvvP67/pvBPvO8/f+KsWcq87z/vTF7gQ73vPzwz3Gu8ve8/JtwvpjS+7z9b5WYwrL7vP8s4U4Ujv+8/94jCSJq/7z+9mRy4D8DvP5UwQe6EwO8/Bwdg1PnA7z9+RnsGbcHvP33POqrfwe8/gkra01HC7z8wJk0Ew8LvP9+tAtczw+8/HfK56KPD7z8vyJmME8TvP6HuE86CxO8/Mp9Z7PHE7z+woeIYYMXvPxK2tCXNxe8/Vh1axznG7z+zYQ+LpcbvP1IJLDkRx+8/5CgdxnzH7z9VeqA958fvPx7oKSdRyO8/NBSmabrI7z/jh+NYI8nvP4XXXZyLye8/ls8lzfLJ7z8pYAIiWcrvP1kWAmu/yu8/zqhqoiTL7z/i+Y4picvvP7U6cjvty+8/sgwe7lDM7z8SlDv1s8zvP/B+9i8Wze8/wawvKXjN7z9v7D832c3vP2Us6BI6zu8/c3WLbJrO7z+V3hit+s7vPzQeVxRaz+8/y4XXCLnP7z8qPq5aF9DvP3NsNaN00O8/sR3NiNHQ7z/+AcRbLtHvP+U7RBqK0e8/AKP/euXR7z/1plLBQNLvPysrR7Sb0u8/9MzYzfXS7z9dlwSNT9PvP0WPyjao0+8//chmUADU7z+AKPDsV9TvP0rhztOu1O8/avgNEwXV7z+X50EOW9XvP4wDKaGw1e8//16XjgXW7z8pvhyrWdbvP2IVnK+t1u8/A4dsngHX7z/IlHL3VNfvP6wdUvem1+8/FQypu/jX7z/1OPcXStjvP9rQ9e6a2O8/IVaO0OrY7z8P+klMOtnvP+YgRJSJ2e8/lEDyp9jZ7z99NHSTJ9rvP9ADFtx12u8/in6yQMPa7z+lgfQ2ENvvP+lTxfxc2+8/LR3Sc6nb7z+JsDdr9dvvP1Etbr9A3O8/FEJqoovc7z96oPBb1tzvP8XSrpIg3e8/jT2ASGrd7z9hmJx3s93vPwIBXXL83e8/x+eTk0Te7z9w7magjN7vPxVMaIzU3u8/CQ8Oqxvf7z+nuSaVYt/vP+ZhEiKp3+8/+RhqJu/f7z+XOz11NODvP2QD1p954O8/I7PgTL7g7z/D9L3YAuHvP5mYseFG4e8/ZQI03Ynh7z/MqtirzOHvPzarEh0P4u8/eEVBMlHi7z90wBmpkuLvPyS1eQ/U4u8/9NeC5BTj7z/J6sVnVePvPwSl8p2V4+8/ez4iLtXj7z8a5Y6lFOTvPzfiG5hT5O8//jA0QZLk7z9yyum40OTvP8XNQxoP5e8/BGbJkUzl7z+O1prmieXvP9f57pHG5e8/twUd2ALm7z9fv7Z1PubvP6aqodl55u8/H8sgv7Tm7z+3rQV/7+bvPyijCPgp5+8/Bz5nuWPn7z+3YjNRnefvP5V/l9vW5+8/fATaGhDo7z/TlrYJSejvP3lNBxCB6O8/HpJh4bjo7z9HxyBG8OjvP8efWHkn6e8/I84BHl7p7z96E1OllOnvPzdU3rnK6e8/z4pdbADq7z9uMt3FNervP4orrfdq6u8/aAWWwp/q7z/YUzsv1OrvP+w+SVcI6+8/1crFFTzr7z+GgOiCb+vvP6KOy5Oi6+8/2V7RbNXr7z8WuFmZB+zvP+nIEXg57O8/KYa49Grs7z8KXdYSnOzvPxyzgQDN7O8/Fb5ZiP3s7z8xB+HaLe3vP3rV+JVd7e8/cduRK43t7z+Ga6yovO3vPxQ1Wrbr7e8/STuOfxru7z9sd9fOSO7vP0VBbr927u8/+iIvX6Tu7z/Ifsez0e7vPzeKrM7+7u8/FBOCeyvv7z9RsaIGWO/vP9B3pGSE7+8/kUyvdbDv7z/OXh8Z3O/vP8pF4CEH8O8/0fie0THw7z8RLqxuXPDvP0i1r+2G8O8/bGg74LDw7z+zPpWO2vDvPxC/oA0E8e8/N3GZKS3x7z+eOIUwVvHvP6e7iQp/8e8/P9LHp6fx7z8edW7Pz/HvP0GykMP38e8/JtQv8x7y7z/xJ9H1RfLvP9xaKbJs8u8/a6jgX5Py7z8D2javufLvPz1pHZjf8u8/K3UsVgXz7z+9PjryKvPvP0Pa+kJQ8+8/525+LnXz7z84im3smfPvP5qmvEK+8+8/hoMHD+Lz7z8P7vd8BfTvPyshWbwo9O8/v2YhtEv07z+xbth9bvTvPxyrCfmQ9O8/hkmyObP07z+McydT1fTvP1YT1yX39O8/iTEIuhj17z/JoBYrOvXvP24SKG9b9e8/EKxBXHz17z9MZX8lnfXvPwMPi6C99e8/+KcPs9317z/7bQOv/fXvP9osMFYd9u8/xiBCdTz27z9lKh1wW/bvP2QCQDB69u8/gWvLu5j27z+77sQBt/bvP2Xhd0TV9u8/wH/I/fL27z9j5g+VEPfvP3fbwgYu9+8/H3/mTEv37z8uIOlWaPfvP8//zB6F9+8/XQL/s6H37z9eBIP2vffvP7ItOPbZ9+8/f/xFufX37z8E39JaEfjvPyJ2jcQs+O8/SHUW/Ef47z/vMfEPY/jvPwJji+p9+O8/ACcYZZj47z+u9vqosvjvPxwi3sbM+O8/9C1Mveb47z9FD4BAAPnvPzA2pXoZ+e8/ftktoDL57z82vdKNS/nvP2gta0hk+e8/KqjQvHz57z9GXgjqlPnvP7PmZvis+e8/hQUI18T57z9G4NiU3PnvPyH5vOjz+e8/pfeQJAv67z+b8GstIvrvPzo9xwQ5+u8/QFrGlk/67z+rkvYNZvrvP5YbBz98+u8/aOWaTJL67z8oVNgfqPrvP7Rdhtm9+u8/q9rYQdP67z+jyOmJ6PrvP5u9WLr9+u8/K87XthL77z8qEzCIJ/vvP0X2ej08++8/D4jpflD77z/3u0ekZPvvP8fcUbl4++8/w539bYz77z/SmSQKoPvvPxC/7XOz++8/U4wGqsb77z9LfNd92fvvP6YyyE3s++8/Fk2CDf/77z/tFW9/EfzvP8OUidEj/O8/FqQQATb87z/xvdscSPzvP1xB9QFa/O8/AULR1Wv87z9hFtBoffzvP+NwlNyO/O8/3YOfGqD87z9zWNUpsfzvPxBB1A3C/O8/JyW7uNL87z84wARG4/zvP8MBn8Pz/O8/R7JG3wP97z96O6DhE/3vP0ryj6wj/e8/VTPmPTP97z/FUgaRQv3vP8hG6NpR/e8/UAQwvWD97z/JfVOVb/3vP2wQOyh+/e8/5sppi4z97z+2KlHfmv3vP0xLaAqp/e8/kJ1+9Lb97z+TjV7ZxP3vP8HLz5TS/e8/zFj4EuD97z88LAx27f3vP4SrsrL6/e8/DaRg4Af+7z+tjZTOFP7vP+5fO6Eh/u8/YYNvZS7+7z/2tT7uOv7vP2PC7FpH/u8/FQxOlVP+7z9doMmgX/7vP/nBXJFr/u8/p8GyZnf+7z/HXzMXg/7vP3EzK52O/u8/c75PA5r+7z9prB5Qpf7vP+ZQqliw/u8/q6zqILv+7z+khhvOxf7vP0uvilXQ/u8/sMMMs9r+7z/QVkQC5f7vP02JwQvv/u8/qp2s9fj+7z/zqMCtAv/vP2WOq0UM/+8/+dXxwhX/7z/y45waH//vP+5zoTco/+8/cAtJRjH/7z/dnbwuOv/vP+gK/f9C/+8/XCTnn0v/7z/N2eIkVP/vPxL+I2Bc/+8/yNskj2T/7z9Lx72TbP/vPzdvVW10/+8/hN0yN3z/7z8qio3Dg//vP7onQRmL/+8/Xgr+UJL/7z+5T2Femf/vP/eMd06g/+8/0NlfKKf/7z+ufSLfrf/vP88zWn60/+8/TeqGybr/7z9YIUsEwf/vP/vyJx3H/+8/0WS5Es3/7z/nrFLp0v/vP44xIJ/Y/+8/wjsIMN7/7z8Qr+aB4//vPw1YBIjo/+8/SQv7dO3/7z+73LcB8v/vP5I6ADP2/+8/erSBmPn/7z9MIsGY/P/vP3fxDKH+/+8/AgAAAAAA8D8CAAAAAADwPwIAAAAAAPA/",
          "dtype": "f8"
         }
        }
       ],
       "layout": {
        "template": {
         "data": {
          "bar": [
           {
            "error_x": {
             "color": "#2a3f5f"
            },
            "error_y": {
             "color": "#2a3f5f"
            },
            "marker": {
             "line": {
              "color": "#E5ECF6",
              "width": 0.5
             },
             "pattern": {
              "fillmode": "overlay",
              "size": 10,
              "solidity": 0.2
             }
            },
            "type": "bar"
           }
          ],
          "barpolar": [
           {
            "marker": {
             "line": {
              "color": "#E5ECF6",
              "width": 0.5
             },
             "pattern": {
              "fillmode": "overlay",
              "size": 10,
              "solidity": 0.2
             }
            },
            "type": "barpolar"
           }
          ],
          "carpet": [
           {
            "aaxis": {
             "endlinecolor": "#2a3f5f",
             "gridcolor": "white",
             "linecolor": "white",
             "minorgridcolor": "white",
             "startlinecolor": "#2a3f5f"
            },
            "baxis": {
             "endlinecolor": "#2a3f5f",
             "gridcolor": "white",
             "linecolor": "white",
             "minorgridcolor": "white",
             "startlinecolor": "#2a3f5f"
            },
            "type": "carpet"
           }
          ],
          "choropleth": [
           {
            "colorbar": {
             "outlinewidth": 0,
             "ticks": ""
            },
            "type": "choropleth"
           }
          ],
          "contour": [
           {
            "colorbar": {
             "outlinewidth": 0,
             "ticks": ""
            },
            "colorscale": [
             [
              0,
              "#0d0887"
             ],
             [
              0.1111111111111111,
              "#46039f"
             ],
             [
              0.2222222222222222,
              "#7201a8"
             ],
             [
              0.3333333333333333,
              "#9c179e"
             ],
             [
              0.4444444444444444,
              "#bd3786"
             ],
             [
              0.5555555555555556,
              "#d8576b"
             ],
             [
              0.6666666666666666,
              "#ed7953"
             ],
             [
              0.7777777777777778,
              "#fb9f3a"
             ],
             [
              0.8888888888888888,
              "#fdca26"
             ],
             [
              1,
              "#f0f921"
             ]
            ],
            "type": "contour"
           }
          ],
          "contourcarpet": [
           {
            "colorbar": {
             "outlinewidth": 0,
             "ticks": ""
            },
            "type": "contourcarpet"
           }
          ],
          "heatmap": [
           {
            "colorbar": {
             "outlinewidth": 0,
             "ticks": ""
            },
            "colorscale": [
             [
              0,
              "#0d0887"
             ],
             [
              0.1111111111111111,
              "#46039f"
             ],
             [
              0.2222222222222222,
              "#7201a8"
             ],
             [
              0.3333333333333333,
              "#9c179e"
             ],
             [
              0.4444444444444444,
              "#bd3786"
             ],
             [
              0.5555555555555556,
              "#d8576b"
             ],
             [
              0.6666666666666666,
              "#ed7953"
             ],
             [
              0.7777777777777778,
              "#fb9f3a"
             ],
             [
              0.8888888888888888,
              "#fdca26"
             ],
             [
              1,
              "#f0f921"
             ]
            ],
            "type": "heatmap"
           }
          ],
          "histogram": [
           {
            "marker": {
             "pattern": {
              "fillmode": "overlay",
              "size": 10,
              "solidity": 0.2
             }
            },
            "type": "histogram"
           }
          ],
          "histogram2d": [
           {
            "colorbar": {
             "outlinewidth": 0,
             "ticks": ""
            },
            "colorscale": [
             [
              0,
              "#0d0887"
             ],
             [
              0.1111111111111111,
              "#46039f"
             ],
             [
              0.2222222222222222,
              "#7201a8"
             ],
             [
              0.3333333333333333,
              "#9c179e"
             ],
             [
              0.4444444444444444,
              "#bd3786"
             ],
             [
              0.5555555555555556,
              "#d8576b"
             ],
             [
              0.6666666666666666,
              "#ed7953"
             ],
             [
              0.7777777777777778,
              "#fb9f3a"
             ],
             [
              0.8888888888888888,
              "#fdca26"
             ],
             [
              1,
              "#f0f921"
             ]
            ],
            "type": "histogram2d"
           }
          ],
          "histogram2dcontour": [
           {
            "colorbar": {
             "outlinewidth": 0,
             "ticks": ""
            },
            "colorscale": [
             [
              0,
              "#0d0887"
             ],
             [
              0.1111111111111111,
              "#46039f"
             ],
             [
              0.2222222222222222,
              "#7201a8"
             ],
             [
              0.3333333333333333,
              "#9c179e"
             ],
             [
              0.4444444444444444,
              "#bd3786"
             ],
             [
              0.5555555555555556,
              "#d8576b"
             ],
             [
              0.6666666666666666,
              "#ed7953"
             ],
             [
              0.7777777777777778,
              "#fb9f3a"
             ],
             [
              0.8888888888888888,
              "#fdca26"
             ],
             [
              1,
              "#f0f921"
             ]
            ],
            "type": "histogram2dcontour"
           }
          ],
          "mesh3d": [
           {
            "colorbar": {
             "outlinewidth": 0,
             "ticks": ""
            },
            "type": "mesh3d"
           }
          ],
          "parcoords": [
           {
            "line": {
             "colorbar": {
              "outlinewidth": 0,
              "ticks": ""
             }
            },
            "type": "parcoords"
           }
          ],
          "pie": [
           {
            "automargin": true,
            "type": "pie"
           }
          ],
          "scatter": [
           {
            "fillpattern": {
             "fillmode": "overlay",
             "size": 10,
             "solidity": 0.2
            },
            "type": "scatter"
           }
          ],
          "scatter3d": [
           {
            "line": {
             "colorbar": {
              "outlinewidth": 0,
              "ticks": ""
             }
            },
            "marker": {
             "colorbar": {
              "outlinewidth": 0,
              "ticks": ""
             }
            },
            "type": "scatter3d"
           }
          ],
          "scattercarpet": [
           {
            "marker": {
             "colorbar": {
              "outlinewidth": 0,
              "ticks": ""
             }
            },
            "type": "scattercarpet"
           }
          ],
          "scattergeo": [
           {
            "marker": {
             "colorbar": {
              "outlinewidth": 0,
              "ticks": ""
             }
            },
            "type": "scattergeo"
           }
          ],
          "scattergl": [
           {
            "marker": {
             "colorbar": {
              "outlinewidth": 0,
              "ticks": ""
             }
            },
            "type": "scattergl"
           }
          ],
          "scattermap": [
           {
            "marker": {
             "colorbar": {
              "outlinewidth": 0,
              "ticks": ""
             }
            },
            "type": "scattermap"
           }
          ],
          "scattermapbox": [
           {
            "marker": {
             "colorbar": {
              "outlinewidth": 0,
              "ticks": ""
             }
            },
            "type": "scattermapbox"
           }
          ],
          "scatterpolar": [
           {
            "marker": {
             "colorbar": {
              "outlinewidth": 0,
              "ticks": ""
             }
            },
            "type": "scatterpolar"
           }
          ],
          "scatterpolargl": [
           {
            "marker": {
             "colorbar": {
              "outlinewidth": 0,
              "ticks": ""
             }
            },
            "type": "scatterpolargl"
           }
          ],
          "scatterternary": [
           {
            "marker": {
             "colorbar": {
              "outlinewidth": 0,
              "ticks": ""
             }
            },
            "type": "scatterternary"
           }
          ],
          "surface": [
           {
            "colorbar": {
             "outlinewidth": 0,
             "ticks": ""
            },
            "colorscale": [
             [
              0,
              "#0d0887"
             ],
             [
              0.1111111111111111,
              "#46039f"
             ],
             [
              0.2222222222222222,
              "#7201a8"
             ],
             [
              0.3333333333333333,
              "#9c179e"
             ],
             [
              0.4444444444444444,
              "#bd3786"
             ],
             [
              0.5555555555555556,
              "#d8576b"
             ],
             [
              0.6666666666666666,
              "#ed7953"
             ],
             [
              0.7777777777777778,
              "#fb9f3a"
             ],
             [
              0.8888888888888888,
              "#fdca26"
             ],
             [
              1,
              "#f0f921"
             ]
            ],
            "type": "surface"
           }
          ],
          "table": [
           {
            "cells": {
             "fill": {
              "color": "#EBF0F8"
             },
             "line": {
              "color": "white"
             }
            },
            "header": {
             "fill": {
              "color": "#C8D4E3"
             },
             "line": {
              "color": "white"
             }
            },
            "type": "table"
           }
          ]
         },
         "layout": {
          "annotationdefaults": {
           "arrowcolor": "#2a3f5f",
           "arrowhead": 0,
           "arrowwidth": 1
          },
          "autotypenumbers": "strict",
          "coloraxis": {
           "colorbar": {
            "outlinewidth": 0,
            "ticks": ""
           }
          },
          "colorscale": {
           "diverging": [
            [
             0,
             "#8e0152"
            ],
            [
             0.1,
             "#c51b7d"
            ],
            [
             0.2,
             "#de77ae"
            ],
            [
             0.3,
             "#f1b6da"
            ],
            [
             0.4,
             "#fde0ef"
            ],
            [
             0.5,
             "#f7f7f7"
            ],
            [
             0.6,
             "#e6f5d0"
            ],
            [
             0.7,
             "#b8e186"
            ],
            [
             0.8,
             "#7fbc41"
            ],
            [
             0.9,
             "#4d9221"
            ],
            [
             1,
             "#276419"
            ]
           ],
           "sequential": [
            [
             0,
             "#0d0887"
            ],
            [
             0.1111111111111111,
             "#46039f"
            ],
            [
             0.2222222222222222,
             "#7201a8"
            ],
            [
             0.3333333333333333,
             "#9c179e"
            ],
            [
             0.4444444444444444,
             "#bd3786"
            ],
            [
             0.5555555555555556,
             "#d8576b"
            ],
            [
             0.6666666666666666,
             "#ed7953"
            ],
            [
             0.7777777777777778,
             "#fb9f3a"
            ],
            [
             0.8888888888888888,
             "#fdca26"
            ],
            [
             1,
             "#f0f921"
            ]
           ],
           "sequentialminus": [
            [
             0,
             "#0d0887"
            ],
            [
             0.1111111111111111,
             "#46039f"
            ],
            [
             0.2222222222222222,
             "#7201a8"
            ],
            [
             0.3333333333333333,
             "#9c179e"
            ],
            [
             0.4444444444444444,
             "#bd3786"
            ],
            [
             0.5555555555555556,
             "#d8576b"
            ],
            [
             0.6666666666666666,
             "#ed7953"
            ],
            [
             0.7777777777777778,
             "#fb9f3a"
            ],
            [
             0.8888888888888888,
             "#fdca26"
            ],
            [
             1,
             "#f0f921"
            ]
           ]
          },
          "colorway": [
           "#636efa",
           "#EF553B",
           "#00cc96",
           "#ab63fa",
           "#FFA15A",
           "#19d3f3",
           "#FF6692",
           "#B6E880",
           "#FF97FF",
           "#FECB52"
          ],
          "font": {
           "color": "#2a3f5f"
          },
          "geo": {
           "bgcolor": "white",
           "lakecolor": "white",
           "landcolor": "#E5ECF6",
           "showlakes": true,
           "showland": true,
           "subunitcolor": "white"
          },
          "hoverlabel": {
           "align": "left"
          },
          "hovermode": "closest",
          "mapbox": {
           "style": "light"
          },
          "paper_bgcolor": "white",
          "plot_bgcolor": "#E5ECF6",
          "polar": {
           "angularaxis": {
            "gridcolor": "white",
            "linecolor": "white",
            "ticks": ""
           },
           "bgcolor": "#E5ECF6",
           "radialaxis": {
            "gridcolor": "white",
            "linecolor": "white",
            "ticks": ""
           }
          },
          "scene": {
           "xaxis": {
            "backgroundcolor": "#E5ECF6",
            "gridcolor": "white",
            "gridwidth": 2,
            "linecolor": "white",
            "showbackground": true,
            "ticks": "",
            "zerolinecolor": "white"
           },
           "yaxis": {
            "backgroundcolor": "#E5ECF6",
            "gridcolor": "white",
            "gridwidth": 2,
            "linecolor": "white",
            "showbackground": true,
            "ticks": "",
            "zerolinecolor": "white"
           },
           "zaxis": {
            "backgroundcolor": "#E5ECF6",
            "gridcolor": "white",
            "gridwidth": 2,
            "linecolor": "white",
            "showbackground": true,
            "ticks": "",
            "zerolinecolor": "white"
           }
          },
          "shapedefaults": {
           "line": {
            "color": "#2a3f5f"
           }
          },
          "ternary": {
           "aaxis": {
            "gridcolor": "white",
            "linecolor": "white",
            "ticks": ""
           },
           "baxis": {
            "gridcolor": "white",
            "linecolor": "white",
            "ticks": ""
           },
           "bgcolor": "#E5ECF6",
           "caxis": {
            "gridcolor": "white",
            "linecolor": "white",
            "ticks": ""
           }
          },
          "title": {
           "x": 0.05
          },
          "xaxis": {
           "automargin": true,
           "gridcolor": "white",
           "linecolor": "white",
           "ticks": "",
           "title": {
            "standoff": 15
           },
           "zerolinecolor": "white",
           "zerolinewidth": 2
          },
          "yaxis": {
           "automargin": true,
           "gridcolor": "white",
           "linecolor": "white",
           "ticks": "",
           "title": {
            "standoff": 15
           },
           "zerolinecolor": "white",
           "zerolinewidth": 2
          }
         }
        },
        "xaxis": {
         "range": [
          0,
          500
         ]
        }
       }
      }
     },
     "metadata": {},
     "output_type": "display_data"
    }
   ],
   "source": [
    "pca = PCA()\n",
    "pca.fit(X)\n",
    "\n",
    "explained_variance = pca.explained_variance_ratio_.sum()\n",
    "exp_var_cumul = np.cumsum(pca.explained_variance_ratio_)\n",
    "print(f\"Explained variance: {explained_variance:.2f}\")\n",
    "\n",
    "pca.explained_variance_ratio_.shape\n",
    "\n",
    "fig = go.Figure()\n",
    "fig.add_trace(go.Scatter(\n",
    "    x=list(range(1, len(pca.explained_variance_ratio_) + 1)),\n",
    "    y=exp_var_cumul,\n",
    "    mode='lines+markers',\n",
    "    name='Explained Variance Ratio',\n",
    "    marker=dict(size=4, color='blue'),\n",
    "    line=dict(width=2, color='lightblue'),\n",
    "    fill='tozeroy',\n",
    "))\n",
    "\n",
    "fig.update_xaxes(range=[0,500])"
   ]
  }
 ],
 "metadata": {
  "kernelspec": {
   "display_name": ".venv",
   "language": "python",
   "name": "python3"
  },
  "language_info": {
   "codemirror_mode": {
    "name": "ipython",
    "version": 3
   },
   "file_extension": ".py",
   "mimetype": "text/x-python",
   "name": "python",
   "nbconvert_exporter": "python",
   "pygments_lexer": "ipython3",
   "version": "3.12.8"
  }
 },
 "nbformat": 4,
 "nbformat_minor": 2
}
